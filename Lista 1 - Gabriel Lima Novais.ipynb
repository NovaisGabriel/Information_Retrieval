{
 "cells": [
  {
   "cell_type": "markdown",
   "metadata": {},
   "source": [
    "<h1 align=\"center\">Sistema de Recuperação de Informações</h1>\n",
    "\n",
    "<h2 align=\"center\"> Lista de Exercícios 1 </h2>\n",
    "\n",
    "<h3 align=\"center\"> Gabriel Lima Novais</h3>\n",
    "\n",
    "___"
   ]
  },
  {
   "cell_type": "markdown",
   "metadata": {},
   "source": [
    "Todos os exercícios requerem uma implementação funcional do problema, no corpo do notebook. Para cada exercício consultas de teste devem ser propostas para demonstrar que a implementação atende aos requisitos do exercício.\n",
    "As resposta devem ser enviadas como um notebook (.ipynb) para o professor."
   ]
  },
  {
   "cell_type": "markdown",
   "metadata": {},
   "source": [
    "### 1. Importando pacotes"
   ]
  },
  {
   "cell_type": "code",
   "execution_count": 4,
   "metadata": {},
   "outputs": [],
   "source": [
    "import numpy as np\n",
    "import pandas as pd\n",
    "import os\n",
    "import re\n",
    "import whoosh\n",
    "import nltk\n",
    "import string\n",
    "import matplotlib.pyplot as plt\n",
    "import enchant\n",
    "\n",
    "from nltk.corpus import machado, mac_morpho\n",
    "from nltk.tokenize import WordPunctTokenizer\n",
    "from nltk.corpus import stopwords\n",
    "from nltk.stem.snowball import SnowballStemmer\n",
    "from whoosh.index import create_in, open_dir\n",
    "from whoosh.fields import *\n",
    "from whoosh import qparser\n",
    "from whoosh.qparser import QueryParser\n",
    "from collections import defaultdict\n",
    "\n",
    "\n",
    "%matplotlib inline"
   ]
  },
  {
   "cell_type": "markdown",
   "metadata": {},
   "source": [
    "### 2. Configurando Corpus"
   ]
  },
  {
   "cell_type": "code",
   "execution_count": 5,
   "metadata": {},
   "outputs": [
    {
     "data": {
      "text/html": [
       "<div>\n",
       "<style scoped>\n",
       "    .dataframe tbody tr th:only-of-type {\n",
       "        vertical-align: middle;\n",
       "    }\n",
       "\n",
       "    .dataframe tbody tr th {\n",
       "        vertical-align: top;\n",
       "    }\n",
       "\n",
       "    .dataframe thead th {\n",
       "        text-align: right;\n",
       "    }\n",
       "</style>\n",
       "<table border=\"1\" class=\"dataframe\">\n",
       "  <thead>\n",
       "    <tr style=\"text-align: right;\">\n",
       "      <th></th>\n",
       "      <th>id</th>\n",
       "      <th>content</th>\n",
       "    </tr>\n",
       "  </thead>\n",
       "  <tbody>\n",
       "    <tr>\n",
       "      <th>0</th>\n",
       "      <td>3016425</td>\n",
       "      <td>Asia Series  The Asia Series is an internatio...</td>\n",
       "    </tr>\n",
       "    <tr>\n",
       "      <th>1</th>\n",
       "      <td>3210816</td>\n",
       "      <td>HAT medium  HAT Medium (hypoxanthine-aminopte...</td>\n",
       "    </tr>\n",
       "    <tr>\n",
       "      <th>2</th>\n",
       "      <td>3800929</td>\n",
       "      <td>Flavor of the Weak  \"Flavor of the Weak\" is a...</td>\n",
       "    </tr>\n",
       "    <tr>\n",
       "      <th>3</th>\n",
       "      <td>5184327</td>\n",
       "      <td>Thrill Seeker  Thrill Seeker is the debut ful...</td>\n",
       "    </tr>\n",
       "    <tr>\n",
       "      <th>4</th>\n",
       "      <td>1115482</td>\n",
       "      <td>Streetcar suburb  A streetcar suburb is a res...</td>\n",
       "    </tr>\n",
       "  </tbody>\n",
       "</table>\n",
       "</div>"
      ],
      "text/plain": [
       "        id                                            content\n",
       "0  3016425   Asia Series  The Asia Series is an internatio...\n",
       "1  3210816   HAT medium  HAT Medium (hypoxanthine-aminopte...\n",
       "2  3800929   Flavor of the Weak  \"Flavor of the Weak\" is a...\n",
       "3  5184327   Thrill Seeker  Thrill Seeker is the debut ful...\n",
       "4  1115482   Streetcar suburb  A streetcar suburb is a res..."
      ]
     },
     "execution_count": 5,
     "metadata": {},
     "output_type": "execute_result"
    }
   ],
   "source": [
    "#Colocando o diretório:\n",
    "corpus = \"/home/novais/Desktop/Mestrado/3_trim_2019/SRI/corpusEx.csv\"\n",
    "\n",
    "#Importando os dados da Wikipedia em formato csv:\n",
    "df = pd.read_table(corpus, sep=\",\", nrows=50000,header=None)\n",
    "\n",
    "#Tratando a base de dados:\n",
    "df.columns = ['id','content']\n",
    "df.id = df.id.apply(lambda x: int(x[10:]))\n",
    "\n",
    "#Retirando uma amostra pequena para realizar as questões da lista sem demorar muito...\n",
    "#OBS: Toda vez que rodar essa linha abixo o Corpus vai mudar e assim as respostas devem mudar!!!\n",
    "corpus =  df.sample(n=100)\n",
    "corpus = corpus.reset_index().drop(['index'], axis=1)\n",
    "\n",
    "#Visualizando aas primeiras linhas do Corpus:\n",
    "corpus.head()"
   ]
  },
  {
   "cell_type": "code",
   "execution_count": 6,
   "metadata": {},
   "outputs": [
    {
     "name": "stderr",
     "output_type": "stream",
     "text": [
      "[nltk_data] Downloading package stopwords to /home/novais/nltk_data...\n",
      "[nltk_data]   Package stopwords is already up-to-date!\n"
     ]
    }
   ],
   "source": [
    "#Configurações iniciais:\n",
    "nltk.download('stopwords')\n",
    "swu = stopwords.words('english')+ list(string.punctuation)\n",
    "stopwords.words('english')\n",
    "stemmer = SnowballStemmer('english')"
   ]
  },
  {
   "cell_type": "markdown",
   "metadata": {},
   "source": [
    "### 3. Preparando o corpus com e sem *stemming*"
   ]
  },
  {
   "cell_type": "code",
   "execution_count": 8,
   "metadata": {},
   "outputs": [],
   "source": [
    "x = corpus.content\n",
    "\n",
    "Com_Stemming = []\n",
    "Sem_Stemming = []\n",
    "\n",
    "for texto in x:\n",
    "    tlimpo = [stemmer.stem(token.lower()) for token in WordPunctTokenizer().tokenize(texto) if token not in swu]\n",
    "    Com_Stemming.append(tlimpo)\n",
    "    tlimpo1 = [token.lower() for token in WordPunctTokenizer().tokenize(texto) if token not in swu]\n",
    "    Sem_Stemming.append(tlimpo1)"
   ]
  },
  {
   "cell_type": "code",
   "execution_count": 11,
   "metadata": {},
   "outputs": [
    {
     "name": "stdout",
     "output_type": "stream",
     "text": [
      "['kbo', 'korean', 'seri', 'chines', 'profession', 'basebal', 'leagu', 'cpbl', 'taiwan', 'seri']\n",
      "['kbo', 'korean', 'series', 'chinese', 'professional', 'baseball', 'league', 'cpbl', 'taiwan', 'series']\n"
     ]
    }
   ],
   "source": [
    "print(Com_Stemming[0][50:60])\n",
    "print(Sem_Stemming[0][50:60])"
   ]
  },
  {
   "cell_type": "markdown",
   "metadata": {},
   "source": [
    "### Exercício 1: Truncagem e revocação.\n",
    "\n",
    "Baseando-se no indice invertido construído na prática 1, calcule a diferença de revocação com e sem a utilização de \"stemming\", ou truncagem na construção do índice."
   ]
  },
  {
   "cell_type": "code",
   "execution_count": 51,
   "metadata": {},
   "outputs": [],
   "source": [
    "#Função search:\n",
    "def search(word,where):\n",
    "    \n",
    "    #word é a palavra que deseja buscar.\n",
    "    #where é em que coluna, na de stemming ou sem stemming.\n",
    "    \n",
    "    indice = defaultdict(lambda:set([]))\n",
    "    for tid,t in enumerate(where):\n",
    "        for term in t:\n",
    "            indice[term].add(tid)\n",
    "    return indice[(word.lower())]  "
   ]
  },
  {
   "cell_type": "code",
   "execution_count": 52,
   "metadata": {},
   "outputs": [
    {
     "name": "stdout",
     "output_type": "stream",
     "text": [
      "Resultados com stemming: {0, 35, 38, 12, 46, 18, 90, 93}\n",
      "Resultados sem stemming: {0, 12, 46, 90, 93}\n"
     ]
    }
   ],
   "source": [
    "#Exemplo de Funcionamento:\n",
    "print(\"Resultados com stemming: \" + str(search('heat',Com_Stemming)))\n",
    "print(\"Resultados sem stemming: \" + str(search('heat',Sem_Stemming)))"
   ]
  },
  {
   "cell_type": "code",
   "execution_count": 53,
   "metadata": {},
   "outputs": [],
   "source": [
    "def PR(recuperados, relevantes):\n",
    "    \n",
    "    #cálculo da Previsão e da Revocação\n",
    "    \n",
    "    previsao = len(recuperados &  relevantes)/len(recuperados)\n",
    "    revocacao = len(recuperados &  relevantes)/len(relevantes)\n",
    "    \n",
    "    return previsao,revocacao"
   ]
  },
  {
   "cell_type": "code",
   "execution_count": 89,
   "metadata": {},
   "outputs": [],
   "source": [
    "# Palavra a ser consultada\n",
    "word = 'walk'"
   ]
  },
  {
   "cell_type": "code",
   "execution_count": 123,
   "metadata": {},
   "outputs": [
    {
     "name": "stdout",
     "output_type": "stream",
     "text": [
      "Quantidade de Resultados com Stemming: 7\n",
      "Quantidade de Resultados sem Stemming: 3\n"
     ]
    }
   ],
   "source": [
    "# Resultados da busca\n",
    "sem_st = search(word,Sem_Stemming)\n",
    "com_st = search(stemmer.stem(word), Com_Stemming)\n",
    "\n",
    "print('Quantidade de Resultados com Stemming: ' + str(len(com_st)))\n",
    "\n",
    "print('Quantidade de Resultados sem Stemming: ' + str(len(sem_st)))\n"
   ]
  },
  {
   "cell_type": "code",
   "execution_count": 91,
   "metadata": {},
   "outputs": [
    {
     "name": "stdout",
     "output_type": "stream",
     "text": [
      "Precisão: 1.0\n",
      "Revocação: 0.42857142857142855\n"
     ]
    }
   ],
   "source": [
    "# A revocação é calculada como a proporção entre o resultado de stemming com o resultado sem stemming.\n",
    "print('Precisão: ' +  str(PR(sem_st, com_st)[0]))\n",
    "print('Revocação: ' + str(PR(sem_st, com_st)[1]))"
   ]
  },
  {
   "cell_type": "markdown",
   "metadata": {},
   "source": [
    "### Exercício 2: Expansão de consultas\n",
    "Crie grupos de equivalência para alguns termos de busca e calcule a diferença em termos de revocação e, possivelmente precisão, na resposta a consultas expandidas e não expandidas. Dica: use tempos verbais, pluralização, sinônimos, etc."
   ]
  },
  {
   "cell_type": "code",
   "execution_count": 92,
   "metadata": {},
   "outputs": [],
   "source": [
    "words = ['walk', 'walker', 'walkers', 'walking', 'walked']"
   ]
  },
  {
   "cell_type": "code",
   "execution_count": 93,
   "metadata": {},
   "outputs": [
    {
     "name": "stdout",
     "output_type": "stream",
     "text": [
      " Word - Sem Stemming - Com Stemming\n",
      "-----------------------------------\n",
      " walk: 3 - 7\n",
      " walker: 0 - 0\n",
      " walkers: 0 - 0\n",
      " walking: 4 - 0\n",
      " walked: 1 - 0\n",
      "\n",
      "\n",
      "TOTAL: 6 - 7\n"
     ]
    }
   ],
   "source": [
    "res_sem_st = set()\n",
    "res_com_st = set()\n",
    "\n",
    "print(' Word - Sem Stemming - Com Stemming')\n",
    "print('-----------------------------------')\n",
    "for word in words:\n",
    "    res1 = search(word,Sem_Stemming)\n",
    "    res2 = search(word,Com_Stemming)\n",
    "    res_sem_st.update(res1)\n",
    "    res_com_st.update(res2)\n",
    "    print(' {}: {} - {}'.format(word, len(res1),len(res2)))\n",
    "print('\\n')\n",
    "print('TOTAL: {} - {}'.format(len(res_sem_st),len(res_com_st)))"
   ]
  },
  {
   "cell_type": "code",
   "execution_count": 94,
   "metadata": {},
   "outputs": [
    {
     "name": "stdout",
     "output_type": "stream",
     "text": [
      "Precisão: 1.0\n",
      "Revocação: 0.8571428571428571\n"
     ]
    }
   ],
   "source": [
    "print('Precisão: ' +  str(PR(res_sem_st, res_com_st)[0]))\n",
    "print('Revocação: ' + str(PR(res_sem_st, res_com_st)[1]))"
   ]
  },
  {
   "cell_type": "markdown",
   "metadata": {},
   "source": [
    "###  Exercício 3: Verificação ortográfica\n",
    "Implemente uma expansão de consulta por meio da correção ortográfica. Utilize o corretor ortográfico [Pyenchant](http://pythonhosted.org/pyenchant/) para fazer as correções."
   ]
  },
  {
   "cell_type": "code",
   "execution_count": 153,
   "metadata": {},
   "outputs": [],
   "source": [
    "#Contnuando com o exemplo que usamos acima\n",
    "word='wlk'"
   ]
  },
  {
   "cell_type": "code",
   "execution_count": 154,
   "metadata": {},
   "outputs": [],
   "source": [
    "#Função que procura cada uma das palavras que são possíveis de estarem certas, caso não esteja certa.\n",
    "\n",
    "def searchReview(word,ind):\n",
    "    \n",
    "    #selecionando o dicionário na língua inglesa:\n",
    "    d = enchant.Dict(\"en_US\")\n",
    "    \n",
    "    #caso a palavra esteja errada:\n",
    "    if not d.check(word):\n",
    "        print(\"É possível que você tenha escrito errado...\")\n",
    "        print(\"Palavras possíveis: \")\n",
    "        ans = set()\n",
    "        \n",
    "        #percorrendo cada palavra na sugestão:\n",
    "        for i in d.suggest(word):\n",
    "            print(\"- \"+i)\n",
    "            aux = search(i,ind)\n",
    "            #adiciona palavra possível no conjunto resposta\n",
    "            ans.update(aux)\n",
    "            \n",
    "    #caso a palavra esteja correta:\n",
    "    else:\n",
    "        ans = search(word,ind)\n",
    "        \n",
    "    return ans"
   ]
  },
  {
   "cell_type": "code",
   "execution_count": 155,
   "metadata": {},
   "outputs": [
    {
     "name": "stdout",
     "output_type": "stream",
     "text": [
      "É possível que você tenha escrito errado...\n",
      "Palavras possíveis: \n",
      "- elk\n",
      "- wk\n",
      "- walk\n",
      "- ilk\n",
      "- wok\n"
     ]
    },
    {
     "data": {
      "text/plain": [
       "{4, 32, 78}"
      ]
     },
     "execution_count": 155,
     "metadata": {},
     "output_type": "execute_result"
    }
   ],
   "source": [
    "#verificando a função acima:\n",
    "searchReview(word,Sem_Stemming)"
   ]
  },
  {
   "cell_type": "code",
   "execution_count": 156,
   "metadata": {},
   "outputs": [
    {
     "name": "stdout",
     "output_type": "stream",
     "text": [
      "É possível que você tenha escrito errado...\n",
      "Palavras possíveis: \n",
      "- elk\n",
      "- wk\n",
      "- walk\n",
      "- ilk\n",
      "- wok\n"
     ]
    },
    {
     "data": {
      "text/plain": [
       "{4, 12, 32, 78, 86, 96, 99}"
      ]
     },
     "execution_count": 156,
     "metadata": {},
     "output_type": "execute_result"
    }
   ],
   "source": [
    "#verificando a função acima:\n",
    "searchReview(word,Com_Stemming)"
   ]
  },
  {
   "cell_type": "code",
   "execution_count": 159,
   "metadata": {},
   "outputs": [
    {
     "name": "stdout",
     "output_type": "stream",
     "text": [
      "Quantidade de Resultados com Stemming: 0\n",
      "Quantidade de Resultados sem Stemming: 0\n"
     ]
    }
   ],
   "source": [
    "# Resultados da busca simples sem correção ortográfica\n",
    "sem_st = search(word,Sem_Stemming)\n",
    "com_st = search(stemmer.stem(word), Com_Stemming)\n",
    "\n",
    "print('Quantidade de Resultados com Stemming: ' + str(len(com_st)))\n",
    "\n",
    "print('Quantidade de Resultados sem Stemming: ' + str(len(sem_st)))"
   ]
  },
  {
   "cell_type": "code",
   "execution_count": 162,
   "metadata": {},
   "outputs": [
    {
     "name": "stdout",
     "output_type": "stream",
     "text": [
      "É possível que você tenha escrito errado...\n",
      "Palavras possíveis: \n",
      "- elk\n",
      "- wk\n",
      "- walk\n",
      "- ilk\n",
      "- wok\n",
      "É possível que você tenha escrito errado...\n",
      "Palavras possíveis: \n",
      "- elk\n",
      "- wk\n",
      "- walk\n",
      "- ilk\n",
      "- wok\n",
      "Quantidade de Resultados com Stemming: 7\n",
      "Quantidade de Resultados sem Stemming: 3\n"
     ]
    }
   ],
   "source": [
    "# Resultados da busca com correção ortográfica\n",
    "sem_st = searchReview(word,Sem_Stemming)\n",
    "com_st = searchReview(stemmer.stem(word), Com_Stemming)\n",
    "\n",
    "print('Quantidade de Resultados com Stemming: ' + str(len(com_st)))\n",
    "\n",
    "print('Quantidade de Resultados sem Stemming: ' + str(len(sem_st)))"
   ]
  },
  {
   "cell_type": "markdown",
   "metadata": {},
   "source": [
    "###  Exercício 4: Consultas por frases\n",
    "Implemente um indice invertido que permita consulta por frases, conforme definido na aula 2."
   ]
  },
  {
   "cell_type": "code",
   "execution_count": 164,
   "metadata": {},
   "outputs": [],
   "source": [
    "#Criando novo indice para consulta por frases\n",
    "x = corpus.content\n",
    "\n",
    "Com_Stemming = []\n",
    "Sem_Stemming = []\n",
    "\n",
    "for texto in x:\n",
    "    tlimpo = [stemmer.stem(token.lower()) for token in WordPunctTokenizer().tokenize(texto) if token not in swu]\n",
    "    Com_Stemming.append(tlimpo)\n",
    "    tlimpo1 = [token.lower() for token in WordPunctTokenizer().tokenize(texto) if token not in swu]\n",
    "    Sem_Stemming.append(tlimpo1)\n",
    "\n",
    "indice_frase_CS = defaultdict(lambda: defaultdict(list))\n",
    "indice_frase_SS = defaultdict(lambda: defaultdict(list))\n",
    "\n",
    "for texto_id, texto in enumerate(Com_Stemming):\n",
    "    for token_id, token in enumerate(texto):\n",
    "        indice_frase_CS[token][texto_id].append(token_id)\n",
    "for texto_id, texto in enumerate(Sem_Stemming):\n",
    "    for token_id, token in enumerate(texto):\n",
    "        indice_frase_SS[token][texto_id].append(token_id)"
   ]
  },
  {
   "cell_type": "code",
   "execution_count": 170,
   "metadata": {},
   "outputs": [
    {
     "data": {
      "text/plain": [
       "defaultdict(list,\n",
       "            {4: [282, 380, 720, 861, 1215],\n",
       "             12: [703],\n",
       "             32: [51, 422, 917],\n",
       "             78: [1049],\n",
       "             86: [437],\n",
       "             96: [520],\n",
       "             99: [427]})"
      ]
     },
     "execution_count": 170,
     "metadata": {},
     "output_type": "execute_result"
    }
   ],
   "source": [
    "#Testando o índice:\n",
    "indice_frase_CS[stemmer.stem(\"walk\")]"
   ]
  },
  {
   "cell_type": "code",
   "execution_count": 174,
   "metadata": {},
   "outputs": [
    {
     "data": {
      "text/plain": [
       "5"
      ]
     },
     "execution_count": 174,
     "metadata": {},
     "output_type": "execute_result"
    }
   ],
   "source": [
    "len(indice_frase_CS[stemmer.stem(\"Walk\")][4])"
   ]
  },
  {
   "cell_type": "code",
   "execution_count": 233,
   "metadata": {},
   "outputs": [],
   "source": [
    "#Função de busca de frases:\n",
    "def searchPhrase(sentence, ind):\n",
    "    tokens = [stemmer.stem(token.lower()) for token in WordPunctTokenizer().tokenize(sentence) if token not in swu]\n",
    " \n",
    "    matches = defaultdict(lambda:defaultdict(lambda:set([])))\n",
    "    for token in tokens:\n",
    "        matches[token] = ind[token]\n",
    "    \n",
    "    doc_pos = set(matches[tokens[0]])\n",
    "    for tok in tokens:\n",
    "        doc_pos = doc_pos.intersection(set(matches[token]))\n",
    "        \n",
    "    ans = set([]) \n",
    "    for doc in doc_pos:\n",
    "        for pos in matches[tokens[0]][doc]:\n",
    "            if all((pos + token_id + 1 in matches[token][doc]) for token_id, token in enumerate(tokens[1:len(tokens)])):\n",
    "                ans.add(doc) \n",
    "                \n",
    "    return ans"
   ]
  },
  {
   "cell_type": "code",
   "execution_count": 234,
   "metadata": {},
   "outputs": [
    {
     "data": {
      "text/plain": [
       "{4}"
      ]
     },
     "execution_count": 234,
     "metadata": {},
     "output_type": "execute_result"
    }
   ],
   "source": [
    "#Exemplo de utilização:\n",
    "searchPhrase(\"take them to walk two miles\", indice_frase_CS)\n",
    "# Ou seja, o que encontramos foi justamente a linha no qual o corpus possuia \n",
    "# em seu content exatamente a frase acima."
   ]
  },
  {
   "cell_type": "code",
   "execution_count": 235,
   "metadata": {},
   "outputs": [
    {
     "data": {
      "text/plain": [
       "True"
      ]
     },
     "execution_count": 235,
     "metadata": {},
     "output_type": "execute_result"
    }
   ],
   "source": [
    "\"take them to walk two miles\" in corpus.content[4]"
   ]
  },
  {
   "cell_type": "markdown",
   "metadata": {},
   "source": [
    "###  Exercício 5: Consulta híbrida.\n",
    "Modifique a solução acima para permitir respostas alternativas caso a frase não retorne resultados. Por exemplo, retornar, documentos que contenham parte da frase, ou uma busca booleana simples combinando as palavras da frase."
   ]
  },
  {
   "cell_type": "code",
   "execution_count": 451,
   "metadata": {},
   "outputs": [],
   "source": [
    " def whooshSearcher(sentence, ind, book):\n",
    "        \n",
    "    schema = Schema(cont=TEXT(phrase=True, stored=True))\n",
    "    x = book\n",
    "    \n",
    "    if os.path.exists('indexdir'):\n",
    "        ix = open_dir('indexdir')\n",
    "    else:\n",
    "        os.mkdir('indexdir')\n",
    "        ix = create_in(\"indexdir\", schema)\n",
    "        writer = ix.writer()\n",
    "        for txt in x:\n",
    "            writer.add_document(cont=txt)\n",
    "        writer.commit()\n",
    "        \n",
    "    tokens = [stemmer.stem(token.lower()) for token in WordPunctTokenizer().tokenize(sentence) if token not in swu]\n",
    " \n",
    "    ans = searchPhrase(sentence, ind)\n",
    "                \n",
    "    if ans == set([]):\n",
    "        query = QueryParser(\"cont\", schema=ix.schema,group=qparser.OrGroup)\n",
    "        q = query.parse(sentence)\n",
    "        s = ix.searcher()\n",
    "        ans_near = s.search(q)\n",
    "        return ans_near\n",
    "    else:\n",
    "        return ans"
   ]
  },
  {
   "cell_type": "code",
   "execution_count": 452,
   "metadata": {},
   "outputs": [],
   "source": [
    "# Sabemos que a frase \"take them to walk two miles\" existe no corpus.content[4], vamos ver se\n",
    "# a frase similar \"walk four miles\" consegue ser encontrada e se nos resultados o corpus.content[4] aparece...\n",
    "result = whooshSearcher(\"walk four miles\", indice_frase_CS,corpus.content)"
   ]
  },
  {
   "cell_type": "code",
   "execution_count": 454,
   "metadata": {},
   "outputs": [
    {
     "data": {
      "text/plain": [
       "[<Hit {'cont': ' Streetcar suburb  A streetcar suburb is a residential community whose growth and development was strongly shaped by the use of streetcar lines as a primary means of transportation. Early suburbs were served by horsecars, but by the late 19th century cable cars and electric streetcars, or trams, were used, allowing residences to be built further away from the urban core of a city. Streetcar suburbs, usually called additions or extensions at the time, were the forerunner of today\\'s suburbs in the United States and Canada. Although most closely associated with the electric streetcar, the term can be used for any suburb originally built with streetcar-based transit in mind, thus some streetcar suburbs date from the early 19th century. As such, the term is general and one development called a streetcar suburb may vary greatly from others. However, some concepts are generally present in streetcar suburbs, such as straight (often gridiron) street plans and relatively narrow lots. Railroad Suburbs. By 1830, many New York City area commuters were going to work in Manhattan from what is now the boroughs of Brooklyn and Queens, which were not part of New York City at that time. They commuted by ferries. In 1852, architect Alexander Jackson Davis designed Llewellyn Park in New Jersey, a planned suburb served by both ferry and steam railroad. In the 1840s and 1850s, the steam locomotive fostered the development of such New York City suburbs as Tarrytown and New Rochelle. The steam locomotive in the mid 19th century provided the wealthy with the means to live in bucolic surroundings, to socialize in country clubs and still commute to work downtown. These suburbs were what historian Kenneth T. Jackson called the \"\" and historian Robert Fishman called a \"bourgeois utopia\". Outside of Philadelphia, suburbs like Radnor, Swarthmore, and Villanova developed along the Pennsylvania Main Line. As early as 1850, 83 commuter stations had been built within a 15-mile radius of Boston. Chicago saw huge developments, with 11 separate lines serving over 100 communities by 1873. A famous community served was Riverside, Illinois, arguably one of the first planned communities in the United States, designed in 1869 by Frederick Law Olmsted. Horsecar and Cable Car Suburbs. However, the suburbs closest to the city were based on horsecars and eventually cable cars. First introduced to America around 1830, the horse-drawn omnibus was revolutionary because it was the first mass transit system, offering regularly scheduled stops along a fixed route, allowing passengers to travel three miles sitting down in the time it would take them to walk two miles. Later more efficient horse-drawn streetcars allowed cities to expand to areas even more distant. By 1860, they operated in most major American and Canadian cities, including New York, Baltimore, Philadelphia, Chicago, Cincinnati, Saint Louis, Montreal, and Boston. Horsecar suburbs emanated from the city center towards the more distant railroad suburbs. For the first time, transportation began to separate social and economic classes in cities, as the working and middle class continued to live in areas closer to the city center, while the rich could afford to live further out. Development of streetcar suburbs. The introduction of the electrical streetcar in Richmond, Virginia in 1887 by Frank J. Sprague marked the start of a new era of transportation-influenced suburbanization through the birth of the \"streetcar suburb\". The early trolley allowed people to effortlessly travel in 10 minutes what they could walk in 30, and was rapidly introduced in cities like Boston and Los Angeles, and eventually to all larger American and Canadian cities. There were 5,783 miles of streetcar track serving American cities in 1890; this grew to 22,000 by 1902 and 34,404 by 1907. By 1890, electric streetcar lines were replacing horse-drawn ones in cities of all sizes, allowing the lines to be extended and fostering a tremendous amount of suburban development. They were often extended out to formerly rural communities, which experienced an initial surge of development, and then new residential corridors were created along the newly built lines leading to what had sometimes been separate communities. On side streets, the houses closest to the original streetcar line are often as much as ten to twenty years older than houses built further down the street, reflecting the initial surge and slow completion of a development. Because streetcar operators offered low fares and free transfers, commuting was finally affordable to nearly everyone. Combined with the relatively cheap cost of land further from the city, streetcar suburbs were able to attract a broad mix of people from all socioeconomic classes, although they were most popular by far with the middle class. The houses in a streetcar suburb were generally narrow in width compared to later homes, and Arts and Crafts movement styles like the California Bungalow and American Foursquare were most popular. These houses were typically purchased by catalog and many of the materials arrived by railcar, with some local touches added as the house was assembled. The earliest streetcar suburbs sometimes had more ornate styles, including late Victorian and Stick. The houses of streetcar suburbs, whatever the style, tended to have prominent front porches, while driveways and built-in garages were rare, reflecting the pedestrian-focused nature of the streets when the houses were initially built. Setbacks between houses were not nearly as small as in older neighborhoods (where they were sometimes nonexistent), but houses were still typically built on lots no wider than 30 to 40 feet. Shops such as groceries, bakeries and drug stores were usually built near the intersection of streetcar lines or directly along more heavily traveled routes (otherwise, routes would simply be lined with houses similar to those found in the surrounding neighborhoods). These shops would sometimes be multi-story buildings, with apartments on the upper floors. These provided convenient shopping for household supplies for the surrounding neighborhoods, that could potentially be visited on ones way to or from work. While there were stores near houses, they were not quite as close as in older parts of cities, and they were usually confined to specific streets, representing the beginning of a complete separation between residential and commercial areas in cities. Unlike railroad suburbs, which tended to form in pockets around stations along the interurban line, streetcar suburbs formed continuous corridors stretching outwards from city cores. The streetcar lines themselves were either built on roads that conformed to the grid, or on former turnpikes radiating in all directs from the city, sometimes giving such cities a roughly star-like appearance on maps. Along the lines, developers built rectangular \"additions\" with homes, usually on small lots, within a five to ten minute walk of the streetcar. These were essentially built on the grid plan of the older central cities, and typically spread out in between streetcar lines throughout a city. Streetcar use continued to increase until 1923 when patronage reached 15.7 billion, but it declined in every year after that as automobile use increased amongst the middle and upper classes. By the 1930s, the once-profitable streetcar companies were diversifying by adding motorized buses and trackless trolleys to their fleets. By the 1940s, streetcar ridership had dropped dramatically, and few subdivisions were being built with streetcars or mass transit in general in mind. By the 1950s, nearly all streetcar lines had stopped running, and were instead served by buses. Modern streetcar suburbs. Now somewhat urban in appearance, former streetcar suburbs are readily recognizable by the neighborhood structure along and near the route. Every few blocks, or along the entire route in well-preserved neighborhoods, there are small commercial structures, storefronts usually flush with the sidewalk; these were small stores—often groceries—operated by \"mom and pop\" operators who lived in quarters behind or above the establishment. Off-street parking, if it exists at all, is in the rear of the building. Because stores were originally built along streetcar lines, a person could exit the transport near their home, do some light shopping for dinner items, and continue by walking to their residence. These buildings also provided shopping for a non-employed spouse. Very few small groceries remain (outside of New York City), though the space is often now used for non-foodstuff retail, capable of drawing clients from outside of the immediate neighborhood. Modern streetcar suburbs are usually served by buses which run roughly the original streetcar routes, and may offer highly reasonable mass transit commute times to downtowns and other business areas, especially compared to later automobile suburbs. Toronto, Canada is an example of a city in which most streetcar suburbs are still served by streetcars. House prices in streetcar suburbs vary by neighborhood and city. Lots left empty in these areas during initial development, or where the initial houses have burned or been torn down, are usually too narrow for modern residential zoning regulations, meaning that it is difficult to infill housing in well-preserved streetcar suburbs. Occasionally two lots are combined into one for a wide enough lot, or many houses are torn down for a new use as needed. However, in some cases where historic zoning applies, infill housing is encouraged or required to match neighboring housing standards. Features. In a greater sense, the streetcar suburbs of the early 20th century worked well for a variety of reasons. Some examples of streetcar suburbs in North America. Montreal. After the streetcars were built in the late 19th century & expanded in the early 20th century many new areas were developed. http://transit.toronto.on.ca/streetcar/4753.shtml One if these was Park-Extension, which was at the end of a railcar road leading directly from downtown along Park Avenue snd ending at a train station. http://m.flickr.com/#/photos/sashamd/7062975697/ Australasia. Kelburn in New Zealand is served by the iconic Wellington Cable Car, and Karori transport once linked to it. The inner suburbs of many Australian cities were planned around tram lines. Melbourne\\'s existing extensive tram network includes some examples of existing tram suburbs where tram was the dominant form of early transportation and still a major form of transport, including Carlton, Fitzroy, St Kilda, Albert Park, South Melbourne, and Brunswick. Old World. In the Old World, many residential neighbourhoods were developed in the early days of industrial urbanization before electric streetcars/trams were invented. However, in much of Europe tram systems eventually came to play a much larger role in public transportation than in most of the New World. Here, therefore, the term \"streetcar suburb\" is not needed as distinct concept as \"most\" neighbourhoods in many European cities are tram-oriented, especially in those countries which still had a lower rate of private automobile ownership in the 20th century, such as in the ex-communist East. An example is the city of Prague, the capital of the Czech Republic. Prague has built many new suburban roads since the fall of communism and also has an extensive metro and bus system, but because its central core is a UNESCO World Heritage Site, the city authorities do not allow buses into the historic areas and they limit new road construction there. Instead the tram system is the backbone of the transportation system, with many pre-communist and communist-era neighbourhoods featuring brick and plaster walk-up apartment buildings lining roads that are served by several tram routes which run into the centre of the city. This is broadly similar to many mid-sized European cities. '}>,\n",
       " <Hit {'cont': ' 1991 Halloween blizzard  The Halloween Blizzard was a period of heavy snowfall and ice accumulation that affected parts of the Upper Midwest of the United States, from October 31 to November 3, 1991. Over the last week of October 1991 a large storm system over the Atlantic Ocean (1991 Perfect Storm) blocked most of the weather patterns over the eastern half of the United States, and in turn moisture from the Gulf of Mexico was funneled straight northward over the affected region. By the time the precipitation stopped falling many cities in the eastern half of Minnesota and northwestern Wisconsin had witnessed record early-season snowfall accumulations, while parts of southern Minnesota and northern Iowa were crippled by a large ice storm. Arctic air that was pulled southward behind the storm had combined with the heavy snow pack to produce many record low temperatures. Between the blizzard and the ice storm 22\\xa0people were killed and over 100 were injured. Meteorologists studying this event and the concurrent \"Perfect Storm\" have reached a general consensus that both events were actually one immense and unprecedented single weather event. Taken together, they are the largest single weather event of their kind on record.  Meteorological synopsis. The Halloween Blizzard was made possible by a strong arctic cold front that pushed south and east through the central United States several days prior. On October 28 temperatures to the east of the cold front were above normal. High temperatures reached into the 70s from the middle Mississippi River Valley south into northern Texas, and into the 80s across much of central and southern Texas. Meanwhile, high temperatures did not reach 20 degrees across most of Montana and Wyoming. The contrast between the two air masses was stark, and by the morning of October 29 the cold front was about halfway through Texas. At 6\\xa0am CST, the temperature in the western Texas city of Amarillo had dropped to 22 degrees with a strong northerly breeze. Farther east in Texas the temperature was 64 in Dallas – a 42-degree temperature difference over about 300 miles. In the northern United States, morning lows were much colder. Temperatures were in the single digits across Montana and Wyoming and in the teens North Dakota and South Dakota. From October 30 – 31, this low pressure system slowly became better organized over Texas, before it ejected north over the Mississippi River Valley. This meridonal trajectory of a low pressure track (almost due north from the western Gulf) is climatologically favorable to produce very heavy snowfall in the winter months because it allows copious amounts of moisture to flow north where it can interact with colder air. Cooler readings lingered at the very end of October across the Upper Midwest, and a re-enforcing pool of Arctic air was just beginning to push southeast through the western Canadian Provinces. On November 1, the surface low pressure moved north from western Illinois into the Upper Peninsula of Michigan and the minimum pressure fell about 24 millibars in 24 hours, indicative of rapid deepening and strengthening of the cyclone. The low pressure eventually became occluded, weakened, and then continued to dissipate as it pushed east across northern Ontario in subsequent days. Precipitation. The precipitation from this system began falling as snow in Iowa late on October 30, and by the morning of October 31 it had changed over to ice and spread northward across southeast Minnesota. During Halloween day the precipitation spread to the north where it fell mostly as rapidly accumulating snow. The snow continued to develop northward, eventually spreading into the Minnesota Arrowhead. Eventually all of the precipitation changed over to snow, and in some areas it would continue falling until November 3. Snow. The heavy snow began falling across east central Minnesota and northwest Wisconsin during the late afternoon hours of October 31. By midnight, the Twin Cities had already recorded 8.2\\xa0in (20.8\\xa0cm) of snow. This not only set a record for the largest amount of snow on that date, but also for the most snow ever recorded in the Twin Cities during the month of October. As the storm system pushed its way northward, more communities in eastern Minnesota and northwestern Wisconsin began to experience similar conditions. Over the next two days the snow continued to fall, leading to additional snowfall of one to two feet (30\\xa0cm to 60\\xa0cm). By the time the snow ended on November 3 the storm had dropped 36.9\\xa0in (93.7\\xa0cm) on Duluth, the largest single snow storm total in Minnesota history at that time. The Twin Cities received 28.4\\xa0in (72.1\\xa0cm), setting a single-storm record for the metropolitan area. In all, at least one foot (30\\xa0cm) of snow fell in a swath approximately 100\\xa0mi (160\\xa0km) wide from south central Minnesota, northeastward into northwestern Wisconsin and into the Minnesota Arrowhead. A more narrow band of 2+\\xa0ft (60+\\xa0cm) of snow fell from the Twin Cities to Duluth and northward. Ice. Areas of southern Minnesota and Iowa along and south of the I-90 corridor did not see as much snow, but instead saw a major ice storm. Though the precipitation started out as snow in these areas, it changed over to ice during the day on October 31 continued falling over the next day. Ice accumulations as high as 2–3\\xa0in (6\\xa0cm–9\\xa0cm) were recorded in these areas before the precipitation changed to snow. Up to 10\\xa0in (25.4\\xa0cm) of snow proceeded to fall on top of ice accumulations from the previous day, making travel even more treacherous. Up to 1\\xa0inch of ice accumulation was reported as far south as Omaha, Nebraska. Impact. Most of Minnesota, western Wisconsin and northern Iowa were heavily impacted by the storm. $63+\\xa0million in damages was reported from fallen power lines, and $5\\xa0million in crop damages were reported in Iowa. Eleven counties in southern Minnesota were declared federal disaster areas, and 52 counties in Iowa were declared disaster areas. At least 100,000\\xa0people lost power because of the weight of the ice downing power lines, and in some cases it took up to a week for the power to be restored. Many roads were closed both from the snow and ice, including long stretches of I-90, I-35 and I-29 in Iowa, Minnesota and South Dakota. Highway snow removal was hindered by record cold temperatures that followed the storm and transportation was hampered for many days. Nine hundred schools and business were closed in Minnesota alone. Twenty two people died in this storm, twenty in Minnesota and two on the Mississippi River near La Crosse. Records. In eastern Minnesota, the Halloween Blizzard shattered many of the previous October snowfall records. The 8.2\\xa0inches that fell in the Twin Cities on October 31 was more snow than had ever been recorded in any October in its recorded history. November 1 saw similar daily records fall, but with a more wide reaching area from most of central Minnesota eastward to La Crosse and Eau Claire, Wisconsin. Following the storm Arctic air poured southward from Canada to produce many record low temperatures in these same areas. Bismarck, North Dakota, sank to −10\\xa0°F on October 31, breaking their previous record low of by 16\\xa0degrees. Record snow and cold was recorded as far south as Nebraska and Colorado. The Arctic air also spread over Chicago, recording a low of 11 on November 4. Four weeks later on November 29 – 30, another large storm system dropped as much as 18\\xa0inches of snow over these same areas. These two storms combined to set a single-month record for most snowfall in the Twin Cities and Duluth. '}>,\n",
       " <Hit {'cont': ' Keibul Lamjao National Park  The Keibul Lamjao National Park is a national park in the Bishnupur district of the state of Manipur in India. It is in area, the only floating park in the world, located in North East India, and an integral part of Loktak Lake. The national park is characterized by many floating decomposed plant materials locally called phumdis. To preserve the natural refuge of the endangered Manipur Eld\\'s Deer or Brow-antlered Deer (\"Cervus eldi eldi\"), or Sangai also called the Dancing Deer, listed as an endangered species by IUCN, the park which was initially declared as a Sanctuary in 1966, was subsequently declared as National Park in 1977 through a gazette notification. The Act has generated local support and public awareness. History. The Brow-antlered deer, which was first discovered in Manipur in 1839 and named Cervus eldi eldi in 1844 in honour of Lt. Percy Eld – a British officer, was reported an extinct species in 1951. It was re–discovered in the Keibul Lamjao Park area by the environmentalist and photographer E.P.Gee, which necessitated declaring this reserve park area as a national park to protect and conserve the deer now called Eld\\'s Deer\\'s subspecies Brow-antlered Deer (\"Cervus eldi eldi\") or Sangai in Manipuri language (to distinguish it from the other two sub species found in Burma and Thailand that are called \"Cervus eldii thamin\" and \"Cervus eldii siamensis\" and also in Cambodia, China, Laos, Thailand, Vietnam and Hianan island). It has a pride of place in the folklore and culture of the Manipur state and is the state animal of Manipur. From a small herd of 14 deer in 1975, its population was reportedly 155 in 1995. Geography and topography. The park is a swamp established by Mann Sharma with floating mass of vegetation (created by accrual of organic garbage and biomass with soil particles that has been thickened into a solid form called phumdis, at the south–eastern side of the Loktak Lake, which has been declared a Ramsar site. Two third\\'s to three fourth’s of the total park area is formed by phumdis. A water way through the park provides year round access by boats plying through the Loktak Lake, to the Pabot Hill in the north. The reserve area of the park which was in March 1997 was reduced to in April 1988, under pressure from the local villagers. The swamp encompasses three hills, namely, Pabot, Toya and Chingjao that provide a refuge for the large mammals during the monsoon season. The distinctive nature of the park is that it is “too deep to be marsh, too shallow to be a lake”. Ownership rights. While the area on the periphery of the park is privately owned, the park itself is predominantly state owned and the remaining areas are divided between the tribal groups of the Thang, Brel and Maril tribes who claim ownership rights. Hydrologic features. Hydro–meteorological feature of the area is marked by the dominance of the Indian tropical monsoon with an average annual rainfall of with July and August as the wettest months and February and March as the driest. The size of the Park varies with the seasons as it is formed of phumdis (morass of organic matter). The peripheral areas of the lake are grounded to the bed of the lake during the dry season but get almost substantially submerged for a few days during the monsoon season. It emerges and floats to the surface fully a few days later, separating from the ground; the depth of the phumdi varies from to and during this period the animals in the park move to higher hilly areas. About twenty percent of its thickness floats on the lake, above the surface, which supports the weight of large mammals. Temperatures vary from a maximum of in summer to a minimum of in winter. Humidity was a recorded high of 81 per cent in August with a minimum of 49 per cent in March. Flora and fauna. The park, primarily composed of moist semi–evergreen forests, has a rich amalgam of aquatic, wetland and terrestrial ecosystem. The grass land structure of the park is divided into three zones. Aquatic flora. Aquatic flora recorded in the park consisted of \"Zizania latifolia\" (Wild Rice) (\"Ishing kambong\"), \"Saccharum munja (Khoimom),\" \"S. bengalensis,\" \"Eiranthus procerus (Singnang)\", \"Discorea bulbifera (Phumha),\" \"Cynodon dactylon (Tinthou)\", \"Alpinia galangal (pullei)\" and \"Eichhornia crossipes (Kabokang).\" \"Hedychium coronarium (Loklei)\", \"Nelumbo nucifera (Thambal),\" \"Phragmites Karka (Tou)\" & 100 other species have also been reported. Some of the above listed flora had been recorded in two types of phumdis namely, the \"phumdi ataoba\" (floating) and the \"phumdi aruppa\" (sinking); reeds, grasses, and other plants growing on a mat of dead and decaying vegetation floating on the lake surface form the ataoba, while Phumdi aruppa has mats of vegetation which have sunk to the bottom of the lake and support a rich emergent growth of reeds and grasses. In a 1960 estimate, the phumdi vegetation had been structured into 45% \"Phragmites karka\", 25% \"Erianthus ravennae\" \"(elephant grass),\" 15% \"Saccharum munja\", 5% \"S. latifolium\", 5% \"Alpinia allughas\" and 2% \"Saccharum procerum\" and 3% other species, including \"Zizania latifolia\"; \"Zizania latifolia\" is the plant much relished by the Sangai deer. \"Eichhornia crassipes\" was a recent specie in the open water areas of the swamp in the midst of \"Polygonum\" (Buckwheat) and \"Trapa\" (Water caltrop or Boiled water chestnut). The three hills surrounding the Park are now denuded of most of the vegetation. Fauna. Apart from the Brow-antlered deer – the Cervus eldi eldi (Sangai) – the flagship species of the park, other fauna found in the park were the following. The Mammals reported are the Hog deer (\"C. porcinus\"), Wild boar (\"Sus scrofa\")., Large Indian Civets (\"Viverra civetta\", \"Viverricula indica\"), common otter ( \"Lutra lutra\"), fox, jungle cat, golden cat, Bay bamboo rat, musk shrew, common shrew, flying fox and Sambar (\"Cervus unicolor\"). Amongst other vertebrates found in the National Park are fishes including \"Channa\" \"striatus\", \"Channa\" \"punctatus\", \"Cyprinus carpio\", \"Wallago attu\" and \"Puntius sophore\" (Pool barb), Amphibians and Reptiles including Keel back Tortoise, Viper, Krait, Cobra, Water cobra, krait (banded) \"Bungarus fasciatus\", Asian rat snake (Beauty rat snake), \"python\", Russel\\'s viper \"(Daboia\"), checkered garter snake and Common Lizard (\"Viviparous Lizard\"). \"Python molurus\", an endangered species is found in the park. Avifauna. Prominent bird species recorded in the park were both migratory and resident avifauna species. Some of them are East Himalayan pied Kingfisher, Black kite, lesser sky-lark, Northern Hill Myna, Burmese Pied Myna, North Indian black Drongos, Lesser eastern jungle crow, Yellow headed wagtail, Spotbill duck, Blue-winged teal, Ruddy Shell duck, Threatened Hooded crane, Burmese sarus Sarus Crane, Indian White-breasted Waterhen and Crimson-breasted pied wood pecker. Threats. Some of the identified threats to the park are elaborated below. Conservation measures. Conservation measures suggested relate to development and implementation of a management plan giving priority to long term conservation, monitoring the condition of habitat and to take timely corrective measures by enforcing strict protection of core areas, particularly with reference to the water level due to the Loktak Hydro Electric Power Project. Some of the measures suggested and under implementation are elaborated as a) to provide effective protection, b) developing and maintaining high places with adequate protection and food material to provide protection to the animals in case of flash flood, c) increasing area under phumdis in the park, d) preventing theft of phumdis and flow or part of phumdis towards northern side, e)stopping completely the collection of firewood, food and fodder, f) creating an environment in which local people volunteer as natural custodian of Sangai and other animals in the park, g) to encourage ecotourism and nature education, h) to undertake, aid, promote and co–ordinate research works, i) capacity building, training, awareness and extension activities, j) launching packaging and publicity campaign and j) propagating ethnic information, exhibition and soforth. The measures that have been implemented by the Forest Department of the Manipur Government are the following. Visitor information. The park is approachable by road, rail and air through Imphal, the capital of Manipur. By road it is from Imphal and from Guwahati (Assam) on the National Highway No. 53. Public and private transport ply on these roads. The nearest rail head is at Dimapur on the broad gauge line of the North Eastern Railways, which is from Imphal by road. Jiribam is also a railhead on the Manipur border, which is from Imphal Daily air service is available to Imphal from major cities such as Calcutta, Delhi, Guwahati and Mumbai. Basic accommodation of a forest rest house without boarding facilities is available at Phubala and Sendra islands inside the park and at Moirang town away from the park. Staying at Imphal which has better hotel facilities is a preferred option. Visit to the park is ideal between 0600 and 1000 hrs in the morning and 1530 and 1800 hrs in the afternoon, when the Sangai deer comes out to feed in herds. A boat trip along the labyrinthine boat routes passing through colourful water plants would be a good way to see the park. An adventurous trip would be to take a walk through the park but the phumdi is not a firm ground. Manipur Tourism Department arranges conducted day tours to the Loktak Lake and the Keibul Lamjao Park. Manipur is considered a sensitive border state. Foreigners entering Manipur (including foreign citizens born in Manipur) must possess a Restricted Area Permit, which can be obtained from the Foreigners’ Regional Registration Office in the \"metros\" (Delhi, Mumbai, Kolkata, Chennai) or certain other state government offices. Permits are valid for only 10 days, and visitors must travel only on tours arranged by authorised travel agents, in groups of four. Furthermore, visitors may come to Imphal only by air and are not permitted to travel outside the capital. Restricted Area Permits (RAPs) for visiting Manipur are also valid for entry to Keibul Lamjao National Park. Contact Assistant Conservator of Forests, Keibul Lamjao National Park, BPO Kha-Thimungei, Manipur Or The Director of Tourism (Hotel Imphal Complex), Near Raj Bhavan, Imphal (Tel: 0385-224603 / 220802 / 222705) for further information. '}>,\n",
       " <Hit {'cont': ' Hells Angels on Wheels  Hells Angels on Wheels is a 1967 American biker film directed by Richard Rush, and starring Adam Roarke, Jack Nicholson, and Sabrina Scharf. The film tells the story of a gas-station attendant with a bad attitude who finds life more exciting after he is allowed to hang out with a chapter of the Hells Angels outlaw motorcycle club. Plot. The Angels first take note of \"Poet\" (Jack Nicholson) after one of them inadvertently damages his motorcycle and breaks its headlight. Poet, with far more guts than brains, challenges the Angel that hit his motorcycle. This is an act that would traditionally result in every Angel present participating in a group beating of the attacker. \"When a non-Angel hits an Angel, all Angels retaliate.\" But the leader of the Angels, Buddy (Adam Roarke), intervenes and tells Poet that the Angels will replace the headlight. In the meantime, he\\'s welcome to ride with them while they take care of business—which turns out to be going to a bar and beating up the members of another club who previously beat an Angel. Poet is told to wait outside, but ends up helping the Angels. Later that night, the Angels return the favor by hunting down and beating four sailors who beat Poet four-against-one after he parted company with the group. Poet accidentally bumps into one of the sailors and speaks rudely to him before he realizes that the sailor has three other sailors with him. The four sailors then refuse to accept his apology—but the Angels only know that four sailors beat up Poet, and he doesn\\'t tell them how the earlier fight started. One of the sailors pulls a knife on the Angels and is then killed accidentally in the fight that follows.  Poet is allowed to ride with the Angels and is eventually elevated to \"prospect\" status. He is attracted to Buddy\\'s some-time girlfriend (Sabrina Scharf) who toys with him while remaining hopelessly committed to Buddy. Much of the story that follows consists of scenes of the Angels partying or being provoked to violence by \"squares.\" Although the Angels are shown as being loud and generally irreverent, they are never shown starting trouble except when taking revenge on members of other motorcycle clubs. Eventually, Buddy\\'s girlfriend succeeds in provoking a confrontation between Buddy and Poet with only one surviving. Production notes. Adam Roarke, who plays the Angels club President Buddy, starred in several other motorcycle films of the era. Ralph \\'Sonny\\' Barger, the president of the Oakland, California chapter of the Hell\\'s Angels, is seen in an early scene but has no spoken lines in the film. He was also credited as a consultant. Jack Starrett appears as Sgt. Bingham. Sabrina Scharf later played the role of Sara in the film \"Easy Rider\" as one of the girls in the commune. Cast. Adam Roarke ...  Buddy Jack Nicholson ...  Poet Sabrina Scharf ...  Shill Jana Taylor ...  Abigale Richard Anders ...  Bull John Garwood ...  Jocko'}>,\n",
       " <Hit {'cont': ' Assassination of Robert F. Kennedy  The assassination of Robert Francis \"Bobby\" Kennedy, a United States Senator and brother of assassinated President John Fitzgerald \"Jack\" Kennedy, took place shortly after midnight on June 5, 1968, in Los Angeles, California, during the campaign season for the United States Presidential election, 1968. After winning the California and South Dakota primary elections for the Democratic nomination for President of the United States, Kennedy was shot as he walked through the kitchen of the Ambassador Hotel and died in the Good Samaritan Hospital twenty-six hours later. Sirhan Sirhan, a 24-year-old Palestinian/Jordanian immigrant, was convicted of Kennedy\\'s murder and is serving a life sentence for the crime. Sirhan\\'s lawyers have released statements claiming evidence that he was framed. The shooting was recorded on audio tape by a freelance newspaper reporter, and the aftermath was captured on film.  Kennedy\\'s body lay in repose at St. Patrick\\'s Cathedral in New York for two days before a funeral mass was held on June 8. His body was interred near his brother John at Arlington National Cemetery. His death prompted the protection of presidential candidates by the United States Secret Service. Hubert Humphrey went on to win the Democratic nomination for the presidency, but ultimately lost the election to Richard Nixon. As with his brother John\\'s death, Bobby\\'s assassination and the circumstances surrounding it have spawned a variety of conspiracy theories. As of 2013 Kennedy remains one of only two sitting United States Senators to be assassinated, the other being Huey Long. Background. Kennedy visited the British Mandate of Palestine in 1948 and wrote dispatches at the time for the \"Boston Post\" about his trip and the effect it had on him when he was twenty-two years old. During his stay, he wrote that he grew to admire the Jewish inhabitants of the area. As a Senator, he later became a strong supporter and advocate for Israel. Kennedy was United States Attorney General from January 1961 until September 3, 1964, when he resigned to run for election to the United States Senate. He took office as Senator from New York on January 3, 1965. The run up to the 1968 presidential election saw the incumbent president, Lyndon B. Johnson, serving during a period of social unrest. There were riots in the major cities despite Johnson\\'s attempts to introduce anti-poverty and anti-discrimination legislation, and there was significant opposition to the ongoing military action in Vietnam. The assassination of Martin Luther King, Jr. on April 4, 1968 led to further riots across the US. Kennedy entered the race for the Democratic Party\\'s nomination for president on March 16, 1968—four days after Senator Eugene McCarthy received a large percentage of the vote in the New Hampshire primary against the incumbent President (42% to Johnson\\'s 49%). Two weeks later, a demoralized Johnson announced he was no longer seeking re-election. One month later, Vice President Hubert Humphrey announced he would seek the presidency. Humphrey did not participate in any primaries but he did obtain the support of many Democratic Party delegates. Following the California primary, Kennedy was in second place with 393\\xa0delegates compared to Humphrey\\'s 561. Assassination. The 1968 presidential primary elections in California were held on Tuesday, June 4. Four hours after the polls closed in California, Kennedy claimed victory in the state\\'s Democratic presidential primary. At approximately 12:10\\xa0a.m. PDT, he addressed his campaign supporters in the Ambassador Hotel\\'s Embassy Room ballroom, in the Mid-Wilshire district of Los Angeles. At the time, the government provided Secret Service protection for incumbent presidents but not for presidential candidates. Kennedy\\'s only security was provided by former FBI agent William Barry and two unofficial bodyguards, former professional athletes. During the campaign, Kennedy had welcomed contact with the public, and people had often tried to touch him in their excitement. Kennedy had planned to walk through the ballroom when he had finished speaking, on his way to another gathering of supporters elsewhere in the hotel. However, with deadlines fast approaching, reporters wanted a press conference. Campaign aide Fred Dutton decided that Kennedy would forgo the second gathering and instead go through the kitchen and pantry area behind the ballroom to the press area. Kennedy finished speaking and started to exit when William Barry stopped him and said, \"No, it\\'s been changed. We\\'re going this way.\" Barry and Dutton began clearing a way for Kennedy to go left through swinging doors to the kitchen corridor, but Kennedy, hemmed in by the crowd, followed maître d\\'hôtel Karl Uecker through a back exit. Uecker led Kennedy through the kitchen area, holding Kennedy\\'s right wrist but frequently releasing it as Kennedy shook hands with those he encountered. Uecker and Kennedy started down a passageway narrowed by an ice machine against the right wall and a steam table to the left. Kennedy turned to his left and shook hands with busboy Juan Romero as Sirhan Sirhan stepped down from a low tray-stacker beside the ice machine, rushed past Uecker, and repeatedly fired what was later identified as a .22 caliber Iver-Johnson Cadet revolver. After Kennedy had fallen to the floor, Agent Barry saw Sirhan holding a gun and hit him twice in the face while others, including maîtres d\\' Uecker and Edward Minasian, writer George Plimpton, Olympic gold medal decathlete Rafer Johnson and professional football player Rosey Grier, forced Sirhan against the steam table and disarmed him as he continued firing his gun in random directions. Five other people were also wounded: William Weisel of ABC News, Paul Schrade of the United Auto Workers union, Democratic Party activist Elizabeth Evans, Ira Goldstein of the Continental News Service and Kennedy campaign volunteer Irwin Stroll. After a minute, Sirhan wrestled free and grabbed the revolver again, but he had already fired all the bullets and was subdued. Barry went to Kennedy and laid his jacket under the candidate\\'s head, later recalling: \"I knew immediately it was a .22, a small caliber, so I hoped it wouldn\\'t be so bad, but then I saw the hole in the Senator\\'s head, and I knew\". Reporters and photographers rushed into the area from both directions, contributing to the confusion and chaos. As Kennedy lay wounded, Juan Romero cradled the senator\\'s head and placed a rosary in his hand. Kennedy asked Romero, \"Is everybody safe, OK?\" and Romero responded, \"Yes, yes, everything is going to be OK\". Captured by \"Life\" photographer Bill Eppridge and Boris Yaro of the \"Los Angeles Times\", this moment became the iconic image of the assassination. Bobby\\'s wife Ethel stood outside the crush of people at the scene, seeking help. She was soon led to her husband and knelt beside him. He turned his head and seemed to recognize her. After several minutes, medical attendants arrived and lifted Kennedy onto a stretcher, prompting him to whisper, \"Don\\'t lift me\". He lost consciousness shortly thereafter. Kennedy was taken a mile away to Central Receiving Hospital, where he arrived near death. One doctor slapped his face, calling, \"Bob, Bob\", while another massaged Kennedy\\'s heart. After obtaining a good heartbeat, doctors handed a stethoscope to Ethel so she could hear her husband\\'s heart beating, much to her relief. After about 30\\xa0minutes, Kennedy was transferred several blocks to the Hospital of the Good Samaritan for surgery. A gymnasium near the hospital was set up as temporary headquarters for the press and news media to receive updates on the senator\\'s condition. Surgery began at 3:12 a.m. PDT and lasted three hours and 40\\xa0minutes. Ten and a half hours later, at 5:30\\xa0p.m. PDT on Wednesday, spokesman Frank Mankiewicz announced that Kennedy\\'s doctors were \"concerned over his continuing failure to show improvement\"; his condition remained \"extremely critical as to life\". Kennedy had been shot three times. One bullet, fired at a range of about , entered behind his right ear, dispersing fragments throughout his brain. The other two entered at the rear of his right armpit; one exited from his chest and the other lodged in the back of his neck. Despite extensive neurosurgery at the Good Samaritan Hospital to remove the bullet and bone fragments from his brain, Kennedy died at 1:44 A.M. PDT on June 6, nearly 26 hours after the shooting. After receiving word of Senator Kennedy\\'s death, his spokesman Frank Mankiewicz left the hospital and walked to the gymnasium where the press and news media were set up for continuous updates on the situation. At 2:00 AM PDT on June 6, Mankiewicz approached the podium, took a few moments to compose himself and made the official announcement: I have, uh, a short... I have a short announcement to read, which I will read, uh... at this time. Senator Robert Francis Kennedy died at 1:44 AM today, June 6, 1968. With Senator Kennedy at the time of his death were his wife Ethel, his sisters Mrs. Stephen Smith, Mrs. Patricia Lawford, his brother-in-law Mr. Stephen Smith, and his sister-in-law Mrs. John F. Kennedy. He was 42 years old. Thank you. Sirhan Sirhan. Sirhan Sirhan was a Palestinian Arab Christian with Jordanian citizenship, born in Jerusalem, who held strongly anti-Zionist beliefs. A diary found during a search of Sirhan\\'s home stated, \"My determination to eliminate RFK is becoming more and more of an unshakable obsession. RFK must die. RFK must be killed. Robert F. Kennedy must be assassinated... Robert F. Kennedy must be assassinated before 5 June 68.\" It has been suggested that the date of the assassination is significant, because it was the first anniversary of the first day of the Six Day War between Israel and its Arab neighbors. When Sirhan was booked by police, they found in his pocket a newspaper article that discussed Kennedy\\'s support for Israel, and at his trial, Sirhan testified that he began to hate Kennedy after learning of this support. In 1989, he told David Frost, \"My only connection with Robert Kennedy was his sole support of Israel and his deliberate attempt to send those 50 bombers to Israel to obviously do harm to the Palestinians\". Some scholars believe the assassination was one of the first major incidents of political violence stemming from the Arab-Israeli conflict in the Middle East. The interpretation that he was mostly motivated by Middle Eastern politics has been criticized as an oversimplification that ignores Sirhan\\'s deeper psychological problems. During his trial, Sirhan\\'s lawyers attempted to use a defense of diminished responsibility, while their client tried to confess to the crime and change his plea to guilty on several occasions. Sirhan testified that he had killed Kennedy \"with 20 years of malice aforethought\", although he has maintained since being convicted that he has no memory of the crime. The judge did not accept this confession and it was later withdrawn. Sirhan was convicted on April 17, 1969 and six days later was sentenced to death. The sentence was commuted to life in prison in 1972 after the California Supreme Court, in its decision in \"California v. Anderson\", invalidated all pending death sentences imposed in California prior to 1972. In 2011, Sirhan was denied parole for the fourteenth time and is currently confined at the Pleasant Valley State Prison in Coalinga, California. Media coverage. As the shooting took place, ABC News was signing off from its electoral broadcast, while the CBS broadcast was already over. It was not until 21 minutes after the shots that CBS\\'s coverage of the shooting would begin. The reporters who had been present to report on Kennedy\\'s win in the primary ended up crowding into the kitchen where he had been shot and the immediate aftermath was captured only by audio recording and cameras that had no live transmission capability. ABC was able to show scant live footage from the kitchen after Kennedy had been transported but unlike CBS and NBC, all of ABC\\'s coverage from the Ambassador was in black and white. CBS and NBC shot footage in the kitchen of the shooting\\'s aftermath on color film, which could not be broadcast until it was developed two hours after the incident. Reporter Andrew West of KRKD, a Mutual Broadcasting System radio affiliate in Los Angeles, captured on audio tape the sounds of the immediate aftermath of the shooting but not the actual shooting itself. Using his reel-to-reel tape recorder and attached microphone, West had just recorded the senator\\'s victory speech. With the audio still rolling, West asked the Senator the following question... Andrew West: \"Senator, how are you going to counter Mr. Humphrey and his backgrounding you as far as the delegate votes go?\" Senator Kennedy: \"It just goes back to the struggle for it.\" After this brief exchange, West turned off his tape recorder and followed Kennedy and his entourage to the kitchen pantry. Just a few minutes later, seconds after Kennedy was shot, West turned his recorder on again and started reporting the sudden developments... Andrew West: \"Senator Kennedy has been shot! Senator Kennedy has been shot; is that possible? Is that possible? It\\'s...is it possible, ladies and gentlemen? It is possible, he has...not only Senator Kennedy, oh my God. Senator Kennedy has been shot, and another man, a Kennedy campaign manager, and possibly shot in the head.\" Several seconds later, West gave an on-the-spot account of the struggle with Sirhan in the hotel kitchen pantry, shouting at Rafer Johnson to \"Get the gun, Rafer, get the gun!\" and telling others to \"get a hold of thumb and break it, if you have to! Get his thumb!... We don\\'t want another Oswald!\" Over the following week, NBC devoted 55\\xa0hours to the shooting and aftermath, ABC 43, and CBS 42, with all three networks preempting their regular coverage and advertisements to cover the story. Alternative theories. As with the 1963 assassination of his brother, President John F. Kennedy, Robert Kennedy\\'s death has been the subject of widespread analysis. Some individuals involved in the original investigation and some researchers have suggested alternative scenarios for the crime, or have argued that there are serious problems with the official case. CIA involvement theory. In November 2006, the BBC\\'s \"Newsnight\" program presented research by filmmaker Shane O\\'Sullivan alleging that several CIA officers were present on the night of the assassination. Three men who appear in films and photographs from the night of the assassination were positively identified by former colleagues and associates as former senior CIA officers who had worked together in 1963 at JMWAVE, the CIA\\'s main anti-Castro station based in Miami. They were JMWAVE Chief of Operations David Morales, Chief of Maritime Operations Gordon Campbell and Chief of Psychological Warfare Operations George Joannides. The program featured an interview with Morales\\'s former attorney Robert Walton, who quoted him as having said, \"I was in Dallas when we got the son of a bitch and I was in Los Angeles when we got the little bastard.\" O\\'Sullivan reported that the CIA declined to comment on the officers in question. It was also alleged that Morales was known for his deep anger toward the Kennedys for what he saw as their betrayal during the Bay of Pigs Invasion. After further investigation, O\\'Sullivan produced the feature documentary, \"RFK Must Die\". The film casts doubt on the earlier identifications and ultimately reveals that the man previously identified as Gordon Campbell may, in fact, have been Michael D. Roman, a now-deceased Bulova Watch Company employee, who was at the Ambassador Hotel for a company convention. Second gunman theory. The location of Kennedy\\'s wounds suggested that his assailant had stood behind him, but some witnesses said that Sirhan faced west as Kennedy moved through the pantry facing east. This has led to the suggestion that a second gunman actually fired the fatal shot, a possibility supported by coroner Thomas Noguchi who stated that the fatal shot was behind Kennedy\\'s right ear and had been fired at a distance of approximately one inch. Other witnesses, though, said that as Sirhan approached, Kennedy was turning to his left shaking hands, facing north and so exposing his right side. As recently as 2008, eyewitness John Pilger asserted his belief that there must have been a second gunman. During a re-examination of the case in 1975, the Los Angeles Superior Court ordered expert examination of the possibility of a second gun having been used, and the conclusion of the experts was that there was little or no evidence to support this theory. In 2007, analysis of an audio tape recording of the shooting made by freelance reporter Stanislaw Pruszynski appeared to indicate, according to forensic expert Philip Van Praag, that thirteen shots were fired, even though Sirhan\\'s gun held only eight rounds. Van Praag states that the recording also reveals at least two cases where the timing between shots was shorter than physically possible. The presence of more than eight shots on the tape was corroborated by forensic audio specialists Wes Dooley and Paul Pegas of Audio Engineering Associates in Pasadena, California, forensic audio and ballistics expert Eddy B. Brixen in Copenhagen, Denmark, and audio specialist Phil Spencer Whitehead of the Georgia Institute of Technology in Atlanta, Georgia. Some other acoustic experts, however, have stated that no more than eight shots were recorded on the audio tape. On February 22, 2012, Sirhan\\'s lawyers, William Pepper and Laurie Dusek, filed a court brief in U.S. District Court in Los Angeles claiming that a second gunman fired the shots that killed Kennedy. It was the fourth and final in a series of federal briefs filed under the writ of habeas corpus by Pepper and Dusek beginning in October 2010. A ruling is now pending in the Sirhan federal case. Aftermath and legacy. Memorial. Following the autopsy on June 6, Kennedy\\'s body was returned to New York City, where he lay in repose at St. Patrick\\'s Cathedral, viewed by thousands, until a funeral mass on the morning of June 8. Kennedy\\'s younger brother, Edward Moore \"Ted\" Kennedy, eulogized him with the words: Immediately following the mass, Kennedy\\'s body was transported by a slow-moving train to Washington, D.C. and thousands of mourners lined the tracks and stations, paying their respects as the train passed by.  On the way to the cemetery, the funeral procession passed through Resurrection City, a shantytown protest set up as part of the Poor People\\'s Campaign. The procession stopped in front of the Lincoln Memorial, where residents of Resurrection City joined the group and sang \"The Battle Hymn of the Republic\".  Kennedy was buried near his older brother Jack, in Arlington National Cemetery, in the first burial ever to take place there at night; the second was the burial of his younger brother Ted. After Kennedy\\'s assassination, Congress altered the Secret Service\\'s mandate to include protection for presidential candidates. The remaining candidates were immediately protected under an executive order issued by Lyndon Johnson, putting a strain on the poorly resourced Secret Service. 1968 election. At the time of his death, Kennedy was substantially behind Humphrey in convention delegate support, but many believe that Kennedy would have ultimately secured the nomination following his victory in the California primary. Only thirteen states held primaries that year, meaning that most delegates at the Democratic convention could choose a candidate based on their personal preference. Historian Arthur M. Schlesinger, Jr. and others have argued that Kennedy\\'s broad appeal and charisma would have been sufficiently convincing at the 1968 Democratic National Convention to give him the nomination. Historian Michael Beschloss believed, however, that Kennedy would not have secured the nomination. Humphrey, after a National Convention in Chicago marred by violence in the streets, was far behind in opinion polls but gained ground. He ultimately lost the general election to Republican Richard Nixon by a narrow popular vote margin, however the electoral vote which actually decides who is the winner, was a more decisive 301-191. '}>]"
      ]
     },
     "execution_count": 454,
     "metadata": {},
     "output_type": "execute_result"
    }
   ],
   "source": [
    "#Os quatros primeiros resultados da pesquisa acima\n",
    "result[0:5]"
   ]
  },
  {
   "cell_type": "code",
   "execution_count": 246,
   "metadata": {},
   "outputs": [
    {
     "data": {
      "text/plain": [
       "False"
      ]
     },
     "execution_count": 246,
     "metadata": {},
     "output_type": "execute_result"
    }
   ],
   "source": [
    "# Pelo jeito tradicional:\n",
    "\"walk miles\" in corpus.content[4]"
   ]
  },
  {
   "cell_type": "code",
   "execution_count": 455,
   "metadata": {},
   "outputs": [],
   "source": [
    "#Logo concluímos que a busca pelo Whoosh é melhor..."
   ]
  },
  {
   "cell_type": "markdown",
   "metadata": {},
   "source": [
    "#### FIM"
   ]
  }
 ],
 "metadata": {
  "kernelspec": {
   "display_name": "Python 3",
   "language": "python",
   "name": "python3"
  },
  "language_info": {
   "codemirror_mode": {
    "name": "ipython",
    "version": 3
   },
   "file_extension": ".py",
   "mimetype": "text/x-python",
   "name": "python",
   "nbconvert_exporter": "python",
   "pygments_lexer": "ipython3",
   "version": "3.7.3"
  }
 },
 "nbformat": 4,
 "nbformat_minor": 2
}
