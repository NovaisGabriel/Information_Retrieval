{
 "cells": [
  {
   "cell_type": "markdown",
   "metadata": {},
   "source": [
    "<h1 align=\"center\">Projeto Final 2019</h1>\n",
    "\n",
    "<h3 align=\"center\">Gabriel Lima Novais</h3>\n",
    "\n",
    "<p align=\"center\"><b>Objetivo:</b> Neste projeto cada aluno deve eleger um corpus de documentos de tamanho médio (pelo menos milhares de documentos). Todas as tarefas a seguir serao realizadas sobre este corpus.</p>\n",
    "\n",
    "<p align=\"center\"><b>Corpus utililzado:</b> Base de artigos da Wikipedia (3.2GB). Para realizar o entendimento inicial de cada exercício (e até mesmo para a implementação), a estratégia utilizada por mim foi a de considerar um corpus de teste com número extramamente reduzido de artigos (10 artigos) e depois dessa etapa pegar a base de dados composta por 200.000 artigos.</p>"
   ]
  },
  {
   "cell_type": "markdown",
   "metadata": {},
   "source": [
    "#### Importando pacotes:"
   ]
  },
  {
   "cell_type": "code",
   "execution_count": 1,
   "metadata": {},
   "outputs": [],
   "source": [
    "import numpy as np\n",
    "import pandas as pd\n",
    "import seaborn as sns\n",
    "import matplotlib.pyplot as plt\n",
    "import os\n",
    "import re\n",
    "import whoosh\n",
    "import nltk\n",
    "import string\n",
    "import enchant\n",
    "import shutil\n",
    "import gensim\n",
    "import logging\n",
    "#------------------------------------------------------------------------------------\n",
    "from IPython.display import display, Markdown, Latex\n",
    "from collections import defaultdict,Counter,OrderedDict\n",
    "from math import log\n",
    "from sklearn.feature_extraction.text import TfidfVectorizer\n",
    "from numpy.linalg import norm\n",
    "from string import punctuation\n",
    "#____________________________________________________________________________________\n",
    "from gensim import corpora, models, similarities\n",
    "from gensim.utils import simple_preprocess\n",
    "from gensim.models import CoherenceModel,wrappers,FastText\n",
    "#____________________________________________________________________________________\n",
    "from nltk.corpus import machado, mac_morpho,stopwords\n",
    "from nltk.tokenize import WordPunctTokenizer\n",
    "from nltk.stem.snowball import SnowballStemmer\n",
    "#____________________________________________________________________________________\n",
    "import pyLDAvis\n",
    "import pyLDAvis.gensim  # don't skip this\n",
    "import matplotlib.pyplot as plt\n",
    "%matplotlib inline\n",
    "#____________________________________________________________________________________\n",
    "from whoosh import sorting\n",
    "from whoosh.index import create_in, open_dir\n",
    "from whoosh.fields import *\n",
    "from whoosh import qparser\n",
    "from whoosh.qparser import QueryParser"
   ]
  },
  {
   "cell_type": "markdown",
   "metadata": {},
   "source": [
    "#### Configurações iniciais:"
   ]
  },
  {
   "cell_type": "code",
   "execution_count": 2,
   "metadata": {},
   "outputs": [
    {
     "name": "stderr",
     "output_type": "stream",
     "text": [
      "[nltk_data] Downloading package stopwords to /home/novais/nltk_data...\n",
      "[nltk_data]   Package stopwords is already up-to-date!\n"
     ]
    }
   ],
   "source": [
    "#O corpus escolhido está em Inglês, então as devidas configurações são:\n",
    "nltk.download('stopwords')\n",
    "swu = stopwords.words('english')+ list(string.punctuation)\n",
    "stopwords.words('english')\n",
    "stemmer = SnowballStemmer('english')"
   ]
  },
  {
   "cell_type": "markdown",
   "metadata": {},
   "source": [
    "#### Preparando o Corpus"
   ]
  },
  {
   "cell_type": "code",
   "execution_count": 3,
   "metadata": {},
   "outputs": [],
   "source": [
    "def data(file,nr,sample):\n",
    "\n",
    "    #Importando os dados da Wikipedia em formato csv:\n",
    "    df = pd.read_table(file, sep=\",\", nrows=nr,header=None)\n",
    "\n",
    "    #Tratando a base de dados:\n",
    "    df.columns = ['id','content']\n",
    "    df.id = df.id.apply(lambda x: int(x[10:]))\n",
    "\n",
    "    #Retirando uma amostra pequena para realizar as questões da lista sem demorar muito...\n",
    "    #OBS: Toda vez que rodar essa linha abixo o Corpus vai mudar e assim as respostas devem mudar!!!\n",
    "    corpus =  df.sample(n=sample)\n",
    "    corpus = corpus.reset_index().drop(['index'], axis=1)\n",
    "\n",
    "    #Visualizando aas primeiras linhas do Corpus:\n",
    "    return corpus"
   ]
  },
  {
   "cell_type": "code",
   "execution_count": 4,
   "metadata": {},
   "outputs": [],
   "source": [
    "# corpus = data(\"corpusEx.csv\",10000,10000)\n",
    "# corpus.head()"
   ]
  },
  {
   "cell_type": "markdown",
   "metadata": {},
   "source": [
    "<p>Guardando a base de Dados para consultas futuras:</p>"
   ]
  },
  {
   "cell_type": "code",
   "execution_count": 5,
   "metadata": {},
   "outputs": [],
   "source": [
    "# corpus.to_csv('corpus_uso.csv')"
   ]
  },
  {
   "cell_type": "code",
   "execution_count": 6,
   "metadata": {},
   "outputs": [
    {
     "data": {
      "text/html": [
       "<div>\n",
       "<style scoped>\n",
       "    .dataframe tbody tr th:only-of-type {\n",
       "        vertical-align: middle;\n",
       "    }\n",
       "\n",
       "    .dataframe tbody tr th {\n",
       "        vertical-align: top;\n",
       "    }\n",
       "\n",
       "    .dataframe thead th {\n",
       "        text-align: right;\n",
       "    }\n",
       "</style>\n",
       "<table border=\"1\" class=\"dataframe\">\n",
       "  <thead>\n",
       "    <tr style=\"text-align: right;\">\n",
       "      <th></th>\n",
       "      <th>id</th>\n",
       "      <th>content</th>\n",
       "    </tr>\n",
       "  </thead>\n",
       "  <tbody>\n",
       "    <tr>\n",
       "      <th>0</th>\n",
       "      <td>2092031</td>\n",
       "      <td>Military chaplain  A military chaplain minist...</td>\n",
       "    </tr>\n",
       "    <tr>\n",
       "      <th>1</th>\n",
       "      <td>6729501</td>\n",
       "      <td>Scott Adsit  Robert Scott Adsit (born Novembe...</td>\n",
       "    </tr>\n",
       "    <tr>\n",
       "      <th>2</th>\n",
       "      <td>24103697</td>\n",
       "      <td>Option Paralysis  Option Paralysis is the fou...</td>\n",
       "    </tr>\n",
       "    <tr>\n",
       "      <th>3</th>\n",
       "      <td>34957804</td>\n",
       "      <td>Ford F-Series ninth generation  The ninth gen...</td>\n",
       "    </tr>\n",
       "    <tr>\n",
       "      <th>4</th>\n",
       "      <td>2054313</td>\n",
       "      <td>Leaellynasaura  Leaellynasaura (meaning \"Leae...</td>\n",
       "    </tr>\n",
       "  </tbody>\n",
       "</table>\n",
       "</div>"
      ],
      "text/plain": [
       "         id                                            content\n",
       "0   2092031   Military chaplain  A military chaplain minist...\n",
       "1   6729501   Scott Adsit  Robert Scott Adsit (born Novembe...\n",
       "2  24103697   Option Paralysis  Option Paralysis is the fou...\n",
       "3  34957804   Ford F-Series ninth generation  The ninth gen...\n",
       "4   2054313   Leaellynasaura  Leaellynasaura (meaning \"Leae..."
      ]
     },
     "execution_count": 6,
     "metadata": {},
     "output_type": "execute_result"
    }
   ],
   "source": [
    "corpus = pd.read_csv(\"corpus_uso.csv\",index_col=0)\n",
    "corpus.head()"
   ]
  },
  {
   "cell_type": "markdown",
   "metadata": {},
   "source": [
    "### (Questão 1) Indexação\n",
    "\n",
    "<ul>\n",
    "<li>Utilizando o Whoosh, indexar o seu corpus e implementar uma funçao que apresente para os top 10 documentos da resposta a uma consulta, trechos dos documentos contendo os termos da consulta.</li>\n",
    "<li>Contruir uma funçao de busca que aceite consultas frasais e facetaçao dos resultados.</li>\n",
    "</ul>"
   ]
  },
  {
   "cell_type": "code",
   "execution_count": 7,
   "metadata": {},
   "outputs": [
    {
     "name": "stderr",
     "output_type": "stream",
     "text": [
      "<>:37: DeprecationWarning: invalid escape sequence \\.\n",
      "<>:37: DeprecationWarning: invalid escape sequence \\.\n",
      "<>:37: DeprecationWarning: invalid escape sequence \\.\n",
      "<ipython-input-7-3488074e74b8>:37: DeprecationWarning: invalid escape sequence \\.\n",
      "  aux.append(re.split(\"\\.\\.\\.\", hit.highlights(\"cont\")))\n"
     ]
    }
   ],
   "source": [
    " \n",
    "def whooshSearcher(sentence, corpus):\n",
    "    #______________________________________________________________________________________________________   \n",
    "    #Definindo variáveis auxiliares\n",
    "    schema = Schema(cont=TEXT(phrase=True, stored=True))\n",
    "    \n",
    "    #Criando o indexidr:\n",
    "    if os.path.exists('indexdir'):\n",
    "        shutil.rmtree('/home/novais/Desktop/Mestrado/3_trim_2019/SRI/Trabalho Final/indexdir')\n",
    "        os.mkdir('indexdir')\n",
    "        ix = create_in(\"indexdir\", schema)\n",
    "        writer = ix.writer()\n",
    "        for txt in corpus:\n",
    "            writer.add_document(cont=txt)\n",
    "        writer.commit()\n",
    "    else:\n",
    "        os.mkdir('indexdir')\n",
    "        ix = create_in(\"indexdir\", schema)\n",
    "        writer = ix.writer()\n",
    "        for txt in corpus:\n",
    "            writer.add_document(cont=txt)\n",
    "        writer.commit()\n",
    "    #______________________________________________________________________________________________________\n",
    "    \n",
    "    aux=[]\n",
    "    positions=[]\n",
    "\n",
    "\n",
    "    query = QueryParser(\"cont\", schema=ix.schema,group=qparser.OrGroup).parse(sentence)\n",
    "    facets = sorting.Facets()\n",
    "    facets.add_field(\"cont\")\n",
    "    facets.add_field(\"cont\", allow_overlap=True)\n",
    "    answer = ix.searcher().search(query,limit=10, groupedby=facets)\n",
    "    for k in answer:\n",
    "        positions.append(corpus[corpus.isin([k.values()[0]])].index[0])\n",
    "    for hit in answer:\n",
    "        aux.append(re.split(\"\\.\\.\\.\", hit.highlights(\"cont\")))\n",
    "    print(\"Resultados em ordem de similaridade:\")\n",
    "    print(\" \")\n",
    "    for j in range(min(10,len(aux))):\n",
    "        print(\"Trechos do resultado \"+str(j+1)+\", linha \\033[91m\"+str(positions[j])+\"\\033[0m do Corpus\")\n",
    "        for i in range(len(aux[j])):\n",
    "            display(Markdown(\"Trecho \"+str(i)+\":  [...] \"+aux[j][i]+\" [...]\"))\n",
    "        print(\" \")\n",
    "\n",
    "\n",
    "    return positions[:min(10,len(aux))]"
   ]
  },
  {
   "cell_type": "code",
   "execution_count": 8,
   "metadata": {},
   "outputs": [
    {
     "name": "stdout",
     "output_type": "stream",
     "text": [
      "Resultados em ordem de similaridade:\n",
      " \n",
      "Trechos do resultado 1, linha \u001b[91m587\u001b[0m do Corpus\n"
     ]
    },
    {
     "data": {
      "text/markdown": [
       "Trecho 0:  [...] the 1940s when local <b class=\"match term0\">soda</b> fountain workers (<b class=\"match term0\">soda</b> jerks) would upon request [...]"
      ],
      "text/plain": [
       "<IPython.core.display.Markdown object>"
      ]
     },
     "metadata": {},
     "output_type": "display_data"
    },
    {
     "data": {
      "text/markdown": [
       "Trecho 1:  [...] company said Vanilla <b class=\"match term1\">Coke</b> and Diet Vanilla <b class=\"match term1\">Coke</b> would possibly be made [...]"
      ],
      "text/plain": [
       "<IPython.core.display.Markdown object>"
      ]
     },
     "metadata": {},
     "output_type": "display_data"
    },
    {
     "data": {
      "text/markdown": [
       "Trecho 2:  [...] production of Diet <b class=\"match term1\">Coke</b> Vanilla [...]"
      ],
      "text/plain": [
       "<IPython.core.display.Markdown object>"
      ]
     },
     "metadata": {},
     "output_type": "display_data"
    },
    {
     "name": "stdout",
     "output_type": "stream",
     "text": [
      " \n",
      "Trechos do resultado 2, linha \u001b[91m4187\u001b[0m do Corpus\n"
     ]
    },
    {
     "data": {
      "text/markdown": [
       "Trecho 0:  [...] It was one of <b class=\"match term1\">Coke</b>'s largest acquisitions [...]"
      ],
      "text/plain": [
       "<IPython.core.display.Markdown object>"
      ]
     },
     "metadata": {},
     "output_type": "display_data"
    },
    {
     "data": {
      "text/markdown": [
       "Trecho 1:  [...] strategy shift from <b class=\"match term1\">Coke</b>'s long-time practice [...]"
      ],
      "text/plain": [
       "<IPython.core.display.Markdown object>"
      ]
     },
     "metadata": {},
     "output_type": "display_data"
    },
    {
     "data": {
      "text/markdown": [
       "Trecho 2:  [...] strategy. Leveraging <b class=\"match term1\">Coke</b>'s distribution system [...]"
      ],
      "text/plain": [
       "<IPython.core.display.Markdown object>"
      ]
     },
     "metadata": {},
     "output_type": "display_data"
    },
    {
     "name": "stdout",
     "output_type": "stream",
     "text": [
      " \n",
      "Trechos do resultado 3, linha \u001b[91m4411\u001b[0m do Corpus\n"
     ]
    },
    {
     "data": {
      "text/markdown": [
       "Trecho 0:  [...] energy). Marketable <b class=\"match term2\">coke</b>. Marketable <b class=\"match term2\">coke</b> is <b class=\"match term2\">coke</b> that is relatively [...]"
      ],
      "text/plain": [
       "<IPython.core.display.Markdown object>"
      ]
     },
     "metadata": {},
     "output_type": "display_data"
    },
    {
     "data": {
      "text/markdown": [
       "Trecho 1:  [...] i.e., anode grade <b class=\"match term2\">coke</b>). Needle <b class=\"match term2\">coke</b>. Needle <b class=\"match term2\">coke</b>, also called acicular [...]"
      ],
      "text/plain": [
       "<IPython.core.display.Markdown object>"
      ]
     },
     "metadata": {},
     "output_type": "display_data"
    },
    {
     "data": {
      "text/markdown": [
       "Trecho 2:  [...] sponge <b class=\"match term2\">coke</b> or shot <b class=\"match term2\">coke</b> morphology. While oil [...]"
      ],
      "text/plain": [
       "<IPython.core.display.Markdown object>"
      ]
     },
     "metadata": {},
     "output_type": "display_data"
    },
    {
     "name": "stdout",
     "output_type": "stream",
     "text": [
      " \n",
      "Trechos do resultado 4, linha \u001b[91m1218\u001b[0m do Corpus\n"
     ]
    },
    {
     "data": {
      "text/markdown": [
       "Trecho 0:  [...] He introduced the <b class=\"match term1\">Coke</b> slogans \"<b class=\"match term1\">Coke</b> is it!\", \"You Can't Beat the [...]"
      ],
      "text/plain": [
       "<IPython.core.display.Markdown object>"
      ]
     },
     "metadata": {},
     "output_type": "display_data"
    },
    {
     "data": {
      "text/markdown": [
       "Trecho 1:  [...] He launched Diet <b class=\"match term1\">Coke</b>, as well as the ill-fated [...]"
      ],
      "text/plain": [
       "<IPython.core.display.Markdown object>"
      ]
     },
     "metadata": {},
     "output_type": "display_data"
    },
    {
     "data": {
      "text/markdown": [
       "Trecho 2:  [...] tell you that the <b class=\"match term3\">good</b> you do today will be [...]"
      ],
      "text/plain": [
       "<IPython.core.display.Markdown object>"
      ]
     },
     "metadata": {},
     "output_type": "display_data"
    },
    {
     "name": "stdout",
     "output_type": "stream",
     "text": [
      " \n",
      "Trechos do resultado 5, linha \u001b[91m1485\u001b[0m do Corpus\n"
     ]
    },
    {
     "data": {
      "text/markdown": [
       "Trecho 0:  [...] Henkel's Bleich-<b class=\"match term4\">Soda</b> <b class=\"match term4\">Soda</b>, an affordably-priced [...]"
      ],
      "text/plain": [
       "<IPython.core.display.Markdown object>"
      ]
     },
     "metadata": {},
     "output_type": "display_data"
    },
    {
     "data": {
      "text/markdown": [
       "Trecho 1:  [...] from water-glass and <b class=\"match term0\">soda</b>, it was the result of [...]"
      ],
      "text/plain": [
       "<IPython.core.display.Markdown object>"
      ]
     },
     "metadata": {},
     "output_type": "display_data"
    },
    {
     "data": {
      "text/markdown": [
       "Trecho 2:  [...] for the common <b class=\"match term3\">good</b> and emergency aid. Since [...]"
      ],
      "text/plain": [
       "<IPython.core.display.Markdown object>"
      ]
     },
     "metadata": {},
     "output_type": "display_data"
    },
    {
     "name": "stdout",
     "output_type": "stream",
     "text": [
      " \n",
      "Trechos do resultado 6, linha \u001b[91m2695\u001b[0m do Corpus\n"
     ]
    },
    {
     "data": {
      "text/markdown": [
       "Trecho 0:  [...] materials, caustic <b class=\"match term0\">soda</b>, stones and decorative [...]"
      ],
      "text/plain": [
       "<IPython.core.display.Markdown object>"
      ]
     },
     "metadata": {},
     "output_type": "display_data"
    },
    {
     "data": {
      "text/markdown": [
       "Trecho 1:  [...] in Iran are: <b class=\"match term1\">Coke</b>. In 2015 Iran will produce [...]"
      ],
      "text/plain": [
       "<IPython.core.display.Markdown object>"
      ]
     },
     "metadata": {},
     "output_type": "display_data"
    },
    {
     "data": {
      "text/markdown": [
       "Trecho 2:  [...] 1.7 million tons of <b class=\"match term1\">Coke</b>. Zinc and lead. Iran has [...]"
      ],
      "text/plain": [
       "<IPython.core.display.Markdown object>"
      ]
     },
     "metadata": {},
     "output_type": "display_data"
    },
    {
     "name": "stdout",
     "output_type": "stream",
     "text": [
      " \n",
      "Trechos do resultado 7, linha \u001b[91m1654\u001b[0m do Corpus\n"
     ]
    },
    {
     "data": {
      "text/markdown": [
       "Trecho 0:  [...] the characters in <b class=\"match term1\">Coke</b>'s red-and-white colors [...]"
      ],
      "text/plain": [
       "<IPython.core.display.Markdown object>"
      ]
     },
     "metadata": {},
     "output_type": "display_data"
    },
    {
     "data": {
      "text/markdown": [
       "Trecho 1:  [...] billboards with <b class=\"match term1\">Coke</b> branding, <b class=\"match term1\">Coke</b> \"thought bubbles\", <b class=\"match term1\">Coke</b> bottle-shaped golf [...]"
      ],
      "text/plain": [
       "<IPython.core.display.Markdown object>"
      ]
     },
     "metadata": {},
     "output_type": "display_data"
    },
    {
     "data": {
      "text/markdown": [
       "Trecho 2:  [...] designed around the <b class=\"match term1\">Coke</b> theme. This game is rare [...]"
      ],
      "text/plain": [
       "<IPython.core.display.Markdown object>"
      ]
     },
     "metadata": {},
     "output_type": "display_data"
    },
    {
     "name": "stdout",
     "output_type": "stream",
     "text": [
      " \n",
      "Trechos do resultado 8, linha \u001b[91m3088\u001b[0m do Corpus\n"
     ]
    },
    {
     "data": {
      "text/markdown": [
       "Trecho 0:  [...] cereals, and <b class=\"match term0\">soda</b>. Publication details [...]"
      ],
      "text/plain": [
       "<IPython.core.display.Markdown object>"
      ]
     },
     "metadata": {},
     "output_type": "display_data"
    },
    {
     "name": "stdout",
     "output_type": "stream",
     "text": [
      " \n",
      "Trechos do resultado 9, linha \u001b[91m3944\u001b[0m do Corpus\n"
     ]
    },
    {
     "data": {
      "text/markdown": [
       "Trecho 0:  [...] taking part in the <b class=\"match term1\">Coke</b> Studio third season [...]"
      ],
      "text/plain": [
       "<IPython.core.display.Markdown object>"
      ]
     },
     "metadata": {},
     "output_type": "display_data"
    },
    {
     "data": {
      "text/markdown": [
       "Trecho 1:  [...] with Arif Lohar at <b class=\"match term1\">Coke</b> Studio in Karachi. It [...]"
      ],
      "text/plain": [
       "<IPython.core.display.Markdown object>"
      ]
     },
     "metadata": {},
     "output_type": "display_data"
    },
    {
     "data": {
      "text/markdown": [
       "Trecho 2:  [...] Bolo Bolo\" at the <b class=\"match term1\">Coke</b> Studio third season [...]"
      ],
      "text/plain": [
       "<IPython.core.display.Markdown object>"
      ]
     },
     "metadata": {},
     "output_type": "display_data"
    },
    {
     "name": "stdout",
     "output_type": "stream",
     "text": [
      " \n",
      "Trechos do resultado 10, linha \u001b[91m1037\u001b[0m do Corpus\n"
     ]
    },
    {
     "data": {
      "text/markdown": [
       "Trecho 0:  [...] Parade\" and \"Club <b class=\"match term4\">Soda</b>\" respectively [...]"
      ],
      "text/plain": [
       "<IPython.core.display.Markdown object>"
      ]
     },
     "metadata": {},
     "output_type": "display_data"
    },
    {
     "name": "stdout",
     "output_type": "stream",
     "text": [
      " \n"
     ]
    },
    {
     "data": {
      "text/plain": [
       "[587, 4187, 4411, 1218, 1485, 2695, 1654, 3088, 3944, 1037]"
      ]
     },
     "execution_count": 8,
     "metadata": {},
     "output_type": "execute_result"
    }
   ],
   "source": [
    "whooshSearcher(\"Coke soda is good \",corpus.content)"
   ]
  },
  {
   "cell_type": "markdown",
   "metadata": {},
   "source": [
    "### (Questão 2) Modelagem de Assuntos\n",
    "<ul>\n",
    "    <li>Usando a biblioteca Gensim, treine um modelo LSI e LDA para o seu corpus propondo uma metodologia para otimizaçao do numero de assuntos</li>\n",
    "    <li>Construa Uma matriz de similaridade entre os documentos do corpus a partir dos pesos</li>\n",
    "</ul>"
   ]
  },
  {
   "cell_type": "markdown",
   "metadata": {},
   "source": [
    "##### Algumas definições:\n",
    "<b>TF-IDF : </b>In information retrieval, tf–idf or TFIDF, short for term frequency–inverse document frequency, is a numerical statistic that is intended to reflect how important a word is to a document in a collection or corpus. It is often used as a weighting factor in searches of information retrieval, text mining, and user modeling. The tf–idf value increases proportionally to the number of times a word appears in the document and is offset by the number of documents in the corpus that contain the word, which helps to adjust for the fact that some words appear more frequently in general.\n",
    "\n",
    "<b>LSA (LSI) : </b> Latent semantic analysis (LSA) is a technique in natural language processing, in particular distributional semantics, of analyzing relationships between a set of documents and the terms they contain by producing a set of concepts related to the documents and terms. LSA assumes that words that are close in meaning will occur in similar pieces of text (the distributional hypothesis). A matrix containing word counts per document (rows represent unique words and columns represent each document) is constructed from a large piece of text and a mathematical technique called singular value decomposition (SVD) is used to reduce the number of rows while preserving the similarity structure among columns. Documents are then compared by taking the cosine of the angle between the two vectors (or the dot product between the normalizations of the two vectors) formed by any two columns. Values close to 1 represent very similar documents while values close to 0 represent very dissimilar documents."
   ]
  },
  {
   "cell_type": "markdown",
   "metadata": {},
   "source": [
    "<b>Interpretação:</b> Para o TF-IDF, a função abaixo retorna o \"peso\" que cada palavra do dicionário construído a partir de cada texto do Corpus (palavras únicas) possui para aquele texto. Já para o LSI e LDA temos que é retornado para cada texto do Corpus um vetor que fornece o quanto cada tema está relacionado com aquele texto. Além disso podemos verificar também como cada tema é construído, isto é, quais palavras do dicionário construído anteriormente para elaborar o TF-IDF são as mais importantes para aquele tema. Abaixo veja as explicações ilistradas:  "
   ]
  },
  {
   "cell_type": "code",
   "execution_count": 9,
   "metadata": {},
   "outputs": [],
   "source": [
    "def LS(txt,nthemes):\n",
    "    \n",
    "    try:\n",
    "        os.remove(\"corpusWiki.mm\")\n",
    "        os.remove(\"corpusWiki.mm.index\")\n",
    "        os.remove(\"vocabulario.dict\")\n",
    "    except:\n",
    "        print(\" \")\n",
    "    \n",
    "    #________________________________________________________________________________________________________\n",
    "    #Incializando vetores:\n",
    "    txtClean = []\n",
    "    c = Counter([])\n",
    "    \n",
    "    #Loop:\n",
    "    for texto in txt:\n",
    "        aux = [stemmer.stem(token.strip(punctuation).lower()) for token in WordPunctTokenizer().tokenize(texto) if token not in swu]\n",
    "        c.update(aux)\n",
    "        txtClean.append(aux)\n",
    "    txtClean = [[token for token in t if c[token]>1] for t in txtClean]\n",
    "    \n",
    "    #________________________________________________________________________________________________________\n",
    "\n",
    "    #Gerando dicionário:\n",
    "    dicionario = corpora.Dictionary(txtClean)\n",
    "    dicionario.save('vocabulario.dict')\n",
    "    \n",
    "    #________________________________________________________________________________________________________\n",
    "    #Gerando as frequências:\n",
    "    corpus = [dicionario.doc2bow(d) for d in txtClean]\n",
    "    corpora.MmCorpus.serialize('corpusWiki.mm', corpus)\n",
    "    \n",
    "    #________________________________________________________________________________________________________\n",
    "    #TF-IDF:\n",
    "    mod_tfidf = models.TfidfModel(corpus)\n",
    "    corpus_tfidf = mod_tfidf[corpus]\n",
    "    #LSI:\n",
    "    mod_lsi = models.LsiModel(corpus_tfidf, id2word=dicionario, num_topics=nthemes)\n",
    "    corpus_lsi = mod_lsi[corpus_tfidf]\n",
    "    #LDA:\n",
    "#     mod_lda = models.LdaModel(corpus_tfidf, id2word=dicionario, num_topics=nthemes)\n",
    "#     corpus_lda = mod_lda[corpus_tfidf]\n",
    "    mod_lda = models.LdaModel(corpus, id2word=dicionario, num_topics=nthemes)\n",
    "    corpus_lda = mod_lda[corpus]\n",
    "    #________________________________________________________________________________________________________\n",
    "    # Compute Perplexity\n",
    "    perplexity = mod_lda.log_perplexity(corpus)\n",
    "    #print('\\nPerplexity: ', mod_lda.log_perplexity(corpus))  # a measure of how good the model is. lower the better.\n",
    "\n",
    "    # Compute Coherence Score\n",
    "    coherence_model_lda = CoherenceModel(model=mod_lda, texts=txtClean, coherence='c_v')\n",
    "    coherence_lda = coherence_model_lda.get_coherence()\n",
    "    #print('\\nCoherence Score: ', coherence_lda)\n",
    "        \n",
    "    return [mod_lsi,mod_lda,corpus_lsi,corpus_lda,corpus_tfidf,perplexity,coherence_lda,dicionario,txtClean]"
   ]
  },
  {
   "cell_type": "markdown",
   "metadata": {},
   "source": [
    "<p>Exemplo de como está um texto do corpus:</p>"
   ]
  },
  {
   "cell_type": "code",
   "execution_count": 10,
   "metadata": {},
   "outputs": [
    {
     "data": {
      "text/plain": [
       "' Option Paralysis  Option Paralysis is the fourth full-length studio album by American mathcore band The Dillinger Escape Plan, released on March 23, 2010. After having fulfilled their contract with Relapse Records, the band released the album through Party Smasher Inc., their own new imprint in collaboration with French record label Season of Mist. It marks The Dillinger Escape Plan\\'s first release to feature Billy Rymer on drums, since Gil Sharone left the band in September 2008 due to the frequent touring schedule and to focus on his brother\\'s band Stolen Babies. Background. Formation of Party Smasher Inc.. The Dillinger Escape Plan announced their departure from Relapse Records in 2009. They had become dissatisfied with the music industry and music media, and decided to create their own record label to release their fourth studio-album. Commenting on the dissolving \"indie band culture\", guitarist Ben Weinman stated, \"back in the day there were record labels that you trusted, loved and you bought everything on it and you discovered a lot of great new music because of it. You listen to every single song back to front a million times, it\\'d be worn out to death before you moved onto another record. You\\'d read everything in the booklet, you\\'d read all the lyrics, you\\'d read all the notes, you\\'d discover something new.\" Speaking to \"Kerrang!\" about the decision, he said: \"The most important thing was to keep evolving and changing. We didn\\'t want to be stuck in some long contract that won\\'t be relevant in a few years time... Or possibly even tomorrow. So half out of necessity, half out of choice, we decided to do this ourselves. The hard part is figuring out whether you\\'re sacrificing your creative side because you\\'re so busy with the business. That\\'s the challenge and we\\'re figuring it out\". The band created their own imprint Party Smasher Inc. under French label Season of Mist. They stated that Party Smasher (which was originally erroneously reported to be called Photogenic Records) is not technically a record label but a \"creative umbrella\" for all things related to The Dillinger Escape Plan. In an interview with \"Alternative Press\", Weinman stated, \"Well, I should clarify that it\\'s not exactly our attempt to run a record label. That\\'s not something we could be good at, and it\\'s obviously not something \"anybody\\'s\" good at these days. It\\'s more a situation where we now have a name for this umbrella that covers every business and artistic decision we make–whether it\\'s Dillinger, side projects or whatever.\" Recording. In a blog on the band\\'s MySpace profile, vocalist Greg Puciato revealed that they would be entering the studio from September 7 - October 30, 2009 to record the album with longtime collaborator Steve Evetts. Recording was finished on November 12, 2009. The album is the longest one yet at over 41 minutes, and is described by Ben Weinman as \"our most metal record yet.\" Concept. According to \"Kerrang!\", the album \"was not an album that just happened. Rather it was one that was written to address an issue the band feel keenly\". In April 2010 Ben Weinman told \"Kerrang!\" magazine:  Promotion. The band released several demo snippets on their YouTube channel. Furthermore a website for the record was set up, linking to all of the studio update videos and demo snippets. During their North American East Coast tour with Thursday in December 2009, the band sold download cards at their shows that entitled the customer to a download of the 10 song album upon its release with 3 additional exclusive bonus tracks.  \"Farewell, Mona Lisa\", the album\\'s first single, debuted on Liquid Metal SXM on Christmas day, 2009; it became available for download on January 19, 2010. \"Chinese Whispers\" was debuted on Full Metal Jackie’s syndicated radio show broadcast on 29 stations throughout the USA on the March 5, 2010, and was subsequently played on the next two days. On March 9, the blog MetalSucks featured the online debut of the song. In February, the album was made available for pre-orders through the Season of Mist e-shop. It was available in a variety of formats, including a box set, Digipak, black vinyl and transparent vinyl. A white vinyl was later made available through Relapse Records. Artwork. Former frontman Dimitri Minakakis (who also contributed artwork for 2004 album \"Miss Machine\") created the artwork for \"Option Paralysis\". In an interview, Jeff Tuttle revealed that the album cover features photographs and images that the members captured themselves. Reception. \"Option Paralysis\" was released to widespread critical acclaim. The album garnered a rating of 82/100, or universal acclaim, on aggregate review site Metacritic. \"Option Paralysis\" debuted at number 78 on the \"Billboard\" 200 with 7,100 units sold. Exclaim! named \"Option Paralysis\" the No. 2 Metal Album of 2010. \"Option Paralysis\" received the highest percentage of #1 votes in the 2010 Pitchfork Readers\\' Poll. '"
      ]
     },
     "execution_count": 10,
     "metadata": {},
     "output_type": "execute_result"
    }
   ],
   "source": [
    "txt = corpus.content\n",
    "txt[2]"
   ]
  },
  {
   "cell_type": "markdown",
   "metadata": {},
   "source": [
    "<p>Agora vamos verificar de acordo com as métricas de Coeherence Score e Perplexity qual será o número ótimo de assuntos a serem abordados:</p>"
   ]
  },
  {
   "cell_type": "code",
   "execution_count": 11,
   "metadata": {},
   "outputs": [],
   "source": [
    "def coherence_values(txt, limit, start, step):\n",
    "    coherence_values = []\n",
    "    for num_topics in range(start, limit, step):\n",
    "        modelo = LS(txt,num_topics)\n",
    "        coherence_values.append(modelo[6])\n",
    "\n",
    "    return coherence_values\n",
    "\n",
    "def perplexity_values(txt, limit, start, step):\n",
    "    perplexity_values = []\n",
    "    for num_topics in range(start, limit, step):\n",
    "        modelo = LS(txt,num_topics)\n",
    "        perplexity_values.append(modelo[5])\n",
    "\n",
    "    return perplexity_values"
   ]
  },
  {
   "cell_type": "code",
   "execution_count": 12,
   "metadata": {},
   "outputs": [],
   "source": [
    "start = 2\n",
    "step = 3\n",
    "limit=15"
   ]
  },
  {
   "cell_type": "code",
   "execution_count": 13,
   "metadata": {},
   "outputs": [],
   "source": [
    "coherence_values = coherence_values(txt,limit,start, step)\n",
    "perplexity_values = perplexity_values(txt,limit,start, step)\n",
    "perplexity_values_abs = [i/np.sum(perplexity_values) for i in perplexity_values]"
   ]
  },
  {
   "cell_type": "code",
   "execution_count": 14,
   "metadata": {},
   "outputs": [
    {
     "data": {
      "image/png": "[encoded data removed]",
      "text/plain": [
       "<Figure size 1008x360 with 2 Axes>"
      ]
     },
     "metadata": {
      "needs_background": "light"
     },
     "output_type": "display_data"
    }
   ],
   "source": [
    "x = range(start, limit, step)\n",
    "fig, ax1 = plt.subplots(figsize=(14,5))\n",
    "\n",
    "color = 'tab:red'\n",
    "ax1.set_xlabel('Number of Topics')\n",
    "ax1.set_ylabel('Coherence Score', color=color)\n",
    "ax1.plot(x, coherence_values, color=color)\n",
    "ax1.tick_params(axis='y', labelcolor=color)\n",
    "\n",
    "ax2 = ax1.twinx() \n",
    "\n",
    "color = 'tab:blue'\n",
    "ax2.set_ylabel('Perplexity Score', color=color) \n",
    "ax2.plot(x, perplexity_values_abs, color=color)\n",
    "ax2.tick_params(axis='y', labelcolor=color)\n",
    "\n",
    "plt.axvline(x=12,color='#000000',linestyle='-.')\n",
    "fig.tight_layout()\n",
    "plt.show()"
   ]
  },
  {
   "cell_type": "markdown",
   "metadata": {},
   "source": [
    "Veja que a quantidade de tópicos ótima nos parece ser a de valor 12, além disso conforme o tamanho do corpus vai aumentando temos que o limite máximo de assuntos intutitivamente deve ser o tamanho do próprio corpus. Então, dado o tamanho do corpus encontramos o que possui o maior \"CS\". Outro ponto importante seria analisar o \"perplexity\", cujo valor quanto menor melhor (no caso do gráfico seria o maior, devido a normalização e o valor absoluto)."
   ]
  },
  {
   "cell_type": "code",
   "execution_count": 15,
   "metadata": {},
   "outputs": [],
   "source": [
    "number_of_topics = 12"
   ]
  },
  {
   "cell_type": "markdown",
   "metadata": {},
   "source": [
    "O resultado do TF-IDF para este texto é tal que as palavras, cujos indices estão em primeiro lugar nas tuplas abaixo, possuem um nível de importância determinado pelo segundo número da tupla:"
   ]
  },
  {
   "cell_type": "code",
   "execution_count": 16,
   "metadata": {},
   "outputs": [],
   "source": [
    "model = LS(txt,number_of_topics)"
   ]
  },
  {
   "cell_type": "code",
   "execution_count": 38,
   "metadata": {},
   "outputs": [
    {
     "data": {
      "text/plain": [
       "[(1447, 0.35687339324639733),\n",
       " (1369, 0.30133421510862607),\n",
       " (1504, 0.28793247935139044),\n",
       " (1331, 0.2849107760986446),\n",
       " (1474, 0.2644999257191456)]"
      ]
     },
     "execution_count": 38,
     "metadata": {},
     "output_type": "execute_result"
    }
   ],
   "source": [
    "sorted(model[4][2],key=lambda par: par[1],reverse=True)[:5]"
   ]
  },
  {
   "cell_type": "code",
   "execution_count": 51,
   "metadata": {},
   "outputs": [
    {
     "data": {
      "text/plain": [
       "('paralysi', 'dilling', 'weinman', 'album', 'smasher')"
      ]
     },
     "execution_count": 51,
     "metadata": {},
     "output_type": "execute_result"
    }
   ],
   "source": [
    "model[7][1447],model[7][1369],model[7][1504],model[7][1331],model[7][1474]"
   ]
  },
  {
   "cell_type": "markdown",
   "metadata": {},
   "source": [
    "Agora, os tópicos selecionados pelo modelo de LSI e LDA e determinados (cada um) por uma quantidade de 4 palavras estão descritos abaixo pelo seu índice especificado no primeiro termo da tupla:"
   ]
  },
  {
   "cell_type": "code",
   "execution_count": 18,
   "metadata": {},
   "outputs": [
    {
     "data": {
      "text/plain": [
       "[(0, '0.181*\"album\" + 0.116*\"film\" + 0.105*\"song\" + 0.093*\"music\"'),\n",
       " (1, '0.599*\"album\" + 0.264*\"song\" + 0.243*\"band\" + 0.185*\"releas\"'),\n",
       " (2, '0.318*\"game\" + 0.215*\"season\" + 0.204*\"film\" + 0.195*\"team\"'),\n",
       " (3, '-0.445*\"film\" + 0.296*\"game\" + -0.199*\"she\" + 0.168*\"player\"'),\n",
       " (4, '0.226*\"film\" + -0.157*\"elect\" + -0.121*\"senat\" + -0.116*\"album\"'),\n",
       " (5, '0.149*\"game\" + 0.144*\"court\" + 0.132*\"law\" + 0.117*\"univers\"'),\n",
       " (6, '-0.166*\"speci\" + 0.159*\"engin\" + 0.139*\"court\" + 0.124*\"f\"'),\n",
       " (7, '0.300*\"game\" + -0.231*\"student\" + -0.226*\"univers\" + -0.193*\"school\"'),\n",
       " (8, '-0.200*\"court\" + -0.197*\"speci\" + 0.180*\"armi\" + 0.147*\"game\"'),\n",
       " (9, '0.391*\"game\" + -0.164*\"f\" + -0.125*\"ford\" + 0.118*\"player\"'),\n",
       " (10, '0.353*\"film\" + -0.213*\"ford\" + -0.206*\"game\" + -0.198*\"f\"'),\n",
       " (11, '0.274*\"court\" + -0.262*\"film\" + -0.232*\"flag\" + -0.166*\"f\"')]"
      ]
     },
     "execution_count": 18,
     "metadata": {},
     "output_type": "execute_result"
    }
   ],
   "source": [
    "#LSI:\n",
    "model[0].print_topics(num_topics=number_of_topics, num_words=4)"
   ]
  },
  {
   "cell_type": "code",
   "execution_count": 19,
   "metadata": {},
   "outputs": [
    {
     "data": {
      "text/plain": [
       "[(0, '0.024*\"\" + 0.019*\"the\" + 0.008*\"in\" + 0.006*\"use\"'),\n",
       " (1, '0.017*\"the\" + 0.015*\"\" + 0.007*\"in\" + 0.006*\"year\"'),\n",
       " (2, '0.025*\"\" + 0.011*\"the\" + 0.007*\"in\" + 0.004*\"state\"'),\n",
       " (3, '0.021*\"the\" + 0.014*\"\" + 0.005*\"also\" + 0.004*\"use\"'),\n",
       " (4, '0.014*\"the\" + 0.011*\"\" + 0.008*\"season\" + 0.008*\"team\"'),\n",
       " (5, '0.011*\"\" + 0.009*\"the\" + 0.007*\"use\" + 0.006*\"in\"'),\n",
       " (6, '0.015*\"the\" + 0.015*\"\" + 0.009*\"use\" + 0.005*\"in\"'),\n",
       " (7, '0.030*\"\" + 0.017*\"the\" + 0.007*\"in\" + 0.006*\"film\"'),\n",
       " (8, '0.014*\"the\" + 0.010*\"\" + 0.006*\"in\" + 0.004*\"war\"'),\n",
       " (9, '0.019*\"\" + 0.015*\"the\" + 0.009*\"use\" + 0.006*\"in\"'),\n",
       " (10, '0.013*\"the\" + 0.011*\"\" + 0.008*\"use\" + 0.005*\"in\"'),\n",
       " (11, '0.015*\"the\" + 0.014*\"\" + 0.006*\"in\" + 0.005*\"state\"')]"
      ]
     },
     "execution_count": 19,
     "metadata": {},
     "output_type": "execute_result"
    }
   ],
   "source": [
    "#LDA:\n",
    "model[1].print_topics(num_topics=number_of_topics, num_words=4)"
   ]
  },
  {
   "cell_type": "markdown",
   "metadata": {},
   "source": [
    "Então, como já sabemos como estão descritos cada um dos tópicos acima, podemos interpretar quem eles são. Depois de buscar a interpretação neles, vamos verificar se de fato os assuntos listados acima descrevem bem o assunto do primeiro texto do nosso corpus:"
   ]
  },
  {
   "cell_type": "code",
   "execution_count": 20,
   "metadata": {},
   "outputs": [
    {
     "data": {
      "text/plain": [
       "[(0, 0.23999757890672177),\n",
       " (1, 0.3246678526945669),\n",
       " (2, -0.0722241434463016),\n",
       " (3, 0.07048727149819128),\n",
       " (4, -0.03193353081127302),\n",
       " (5, 0.012279611469371107),\n",
       " (6, 0.02328012651506684),\n",
       " (7, 0.0011163825013286261),\n",
       " (8, 0.001628162334983815),\n",
       " (9, -0.00011061679455393744),\n",
       " (10, 0.015438142140437686),\n",
       " (11, -0.009363441868694717)]"
      ]
     },
     "execution_count": 20,
     "metadata": {},
     "output_type": "execute_result"
    }
   ],
   "source": [
    "#LSI:\n",
    "model[2][2]"
   ]
  },
  {
   "cell_type": "code",
   "execution_count": 21,
   "metadata": {},
   "outputs": [
    {
     "data": {
      "text/plain": [
       "[(6, 0.01701917), (7, 0.98141325)]"
      ]
     },
     "execution_count": 21,
     "metadata": {},
     "output_type": "execute_result"
    }
   ],
   "source": [
    "#LDA:\n",
    "model[3][2]"
   ]
  },
  {
   "cell_type": "markdown",
   "metadata": {},
   "source": [
    "E verificando cada um deles vemos que de fato o tema está bem similar ao que é descrito no texto procurado. "
   ]
  },
  {
   "cell_type": "code",
   "execution_count": 22,
   "metadata": {},
   "outputs": [
    {
     "name": "stderr",
     "output_type": "stream",
     "text": [
      "/home/novais/anaconda3/lib/python3.7/site-packages/pyLDAvis/_prepare.py:257: FutureWarning: Sorting because non-concatenation axis is not aligned. A future version\n",
      "of pandas will change to not sort by default.\n",
      "\n",
      "To accept the future behavior, pass 'sort=False'.\n",
      "\n",
      "To retain the current behavior and silence the warning, pass 'sort=True'.\n",
      "\n",
      "  return pd.concat([default_term_info] + list(topic_dfs))\n"
     ]
    },
    {
     "data": {
      "text/html": [
       "\n",
       "<link rel=\"stylesheet\" type=\"text/css\" href=\"https://cdn.rawgit.com/bmabey/pyLDAvis/files/ldavis.v1.0.0.css\">\n",
       "\n",
       "\n",
       "<div id=\"ldavis_el43331405333271221286121409304\"></div>\n",
       "<script type=\"text/javascript\">\n",
       "\n",
       "var ldavis_el43331405333271221286121409304_data = {\"mdsDat\": {\"x\": [-0.07841796964409312, -0.038658359229206914, 0.05827419969973004, 0.01754550504951318, -0.06949249055631111, -0.028032779337591907, 0.04606107785992053, -0.04270951392529594, 0.028543952756334527, -0.005167199727101568, 0.025896771643370158, 0.08615680541073206], \"y\": [-0.06043100988003065, -0.004286968103890185, -0.048274141766147874, 0.038799940816505, 0.02920855874335049, 0.061438899221865295, 0.005633652982259487, -0.02015325091094673, -0.020891188783019016, 0.008904204632316125, 0.00604118752785432, 0.004010115519883557], \"topics\": [1, 2, 3, 4, 5, 6, 7, 8, 9, 10, 11, 12], \"cluster\": [1, 1, 1, 1, 1, 1, 1, 1, 1, 1, 1, 1], \"Freq\": [21.68741798400879, 14.749317169189453, 11.34446907043457, 10.797021865844727, 8.147584915161133, 6.222967147827148, 5.222301006317139, 4.698085784912109, 4.4038591384887695, 4.295370578765869, 4.215814113616943, 4.21579647064209]}, \"tinfo\": {\"Category\": [\"Default\", \"Default\", \"Default\", \"Default\", \"Default\", \"Default\", \"Default\", \"Default\", \"Default\", \"Default\", \"Default\", \"Default\", \"Default\", \"Default\", \"Default\", \"Default\", \"Default\", \"Default\", \"Default\", \"Default\", \"Default\", \"Default\", \"Default\", \"Default\", \"Default\", \"Default\", \"Default\", \"Default\", \"Default\", \"Default\", \"Topic1\", \"Topic1\", \"Topic1\", \"Topic1\", \"Topic1\", \"Topic1\", \"Topic1\", \"Topic1\", \"Topic1\", \"Topic1\", \"Topic1\", \"Topic1\", \"Topic1\", \"Topic1\", \"Topic1\", \"Topic1\", \"Topic1\", \"Topic1\", \"Topic1\", \"Topic1\", \"Topic1\", \"Topic1\", \"Topic1\", \"Topic1\", \"Topic1\", \"Topic1\", \"Topic1\", \"Topic1\", \"Topic1\", \"Topic1\", \"Topic1\", \"Topic1\", \"Topic1\", \"Topic1\", \"Topic1\", \"Topic1\", \"Topic1\", \"Topic1\", \"Topic1\", \"Topic1\", \"Topic1\", \"Topic1\", \"Topic1\", \"Topic1\", \"Topic1\", \"Topic1\", \"Topic1\", \"Topic1\", \"Topic1\", \"Topic1\", \"Topic1\", \"Topic1\", \"Topic1\", \"Topic1\", \"Topic1\", \"Topic1\", \"Topic1\", \"Topic1\", \"Topic1\", \"Topic1\", \"Topic1\", \"Topic1\", \"Topic1\", \"Topic1\", \"Topic1\", \"Topic1\", \"Topic1\", \"Topic1\", \"Topic1\", \"Topic1\", \"Topic1\", \"Topic1\", \"Topic1\", \"Topic1\", \"Topic1\", \"Topic1\", \"Topic1\", \"Topic1\", \"Topic1\", \"Topic1\", \"Topic1\", \"Topic1\", \"Topic2\", \"Topic2\", \"Topic2\", \"Topic2\", \"Topic2\", \"Topic2\", \"Topic2\", \"Topic2\", \"Topic2\", \"Topic2\", \"Topic2\", \"Topic2\", \"Topic2\", \"Topic2\", \"Topic2\", \"Topic2\", \"Topic2\", \"Topic2\", \"Topic2\", \"Topic2\", \"Topic2\", \"Topic2\", \"Topic2\", \"Topic2\", \"Topic2\", \"Topic2\", \"Topic2\", \"Topic2\", \"Topic2\", \"Topic2\", \"Topic2\", \"Topic2\", \"Topic2\", \"Topic2\", \"Topic2\", \"Topic2\", \"Topic2\", \"Topic2\", \"Topic2\", \"Topic2\", \"Topic2\", \"Topic2\", \"Topic2\", \"Topic2\", \"Topic2\", \"Topic2\", \"Topic2\", \"Topic2\", \"Topic2\", \"Topic2\", \"Topic2\", \"Topic2\", \"Topic2\", \"Topic2\", \"Topic2\", \"Topic2\", \"Topic2\", \"Topic2\", \"Topic2\", \"Topic2\", \"Topic2\", \"Topic2\", \"Topic2\", \"Topic2\", \"Topic2\", \"Topic2\", \"Topic2\", \"Topic2\", \"Topic2\", \"Topic2\", \"Topic2\", \"Topic2\", \"Topic2\", \"Topic2\", \"Topic2\", \"Topic2\", \"Topic2\", \"Topic2\", \"Topic2\", \"Topic2\", \"Topic2\", \"Topic2\", \"Topic2\", \"Topic2\", \"Topic2\", \"Topic2\", \"Topic2\", \"Topic2\", \"Topic2\", \"Topic3\", \"Topic3\", \"Topic3\", \"Topic3\", \"Topic3\", \"Topic3\", \"Topic3\", \"Topic3\", \"Topic3\", \"Topic3\", \"Topic3\", \"Topic3\", \"Topic3\", \"Topic3\", \"Topic3\", \"Topic3\", \"Topic3\", \"Topic3\", \"Topic3\", \"Topic3\", \"Topic3\", \"Topic3\", \"Topic3\", \"Topic3\", \"Topic3\", \"Topic3\", \"Topic3\", \"Topic3\", \"Topic3\", \"Topic3\", \"Topic3\", \"Topic3\", \"Topic3\", \"Topic3\", \"Topic3\", \"Topic3\", \"Topic3\", \"Topic3\", \"Topic3\", \"Topic3\", \"Topic3\", \"Topic3\", \"Topic3\", \"Topic3\", \"Topic3\", \"Topic3\", \"Topic3\", \"Topic3\", \"Topic3\", \"Topic3\", \"Topic3\", \"Topic3\", \"Topic3\", \"Topic3\", \"Topic3\", \"Topic3\", \"Topic3\", \"Topic3\", \"Topic3\", \"Topic3\", \"Topic3\", \"Topic3\", \"Topic3\", \"Topic3\", \"Topic3\", \"Topic3\", \"Topic3\", \"Topic3\", \"Topic3\", \"Topic3\", \"Topic3\", \"Topic3\", \"Topic3\", \"Topic3\", \"Topic3\", \"Topic3\", \"Topic3\", \"Topic3\", \"Topic3\", \"Topic3\", \"Topic3\", \"Topic3\", \"Topic3\", \"Topic3\", \"Topic3\", \"Topic3\", \"Topic3\", \"Topic3\", \"Topic3\", \"Topic3\", \"Topic3\", \"Topic3\", \"Topic4\", \"Topic4\", \"Topic4\", \"Topic4\", \"Topic4\", \"Topic4\", \"Topic4\", \"Topic4\", \"Topic4\", \"Topic4\", \"Topic4\", \"Topic4\", \"Topic4\", \"Topic4\", \"Topic4\", \"Topic4\", \"Topic4\", \"Topic4\", \"Topic4\", \"Topic4\", \"Topic4\", \"Topic4\", \"Topic4\", \"Topic4\", \"Topic4\", \"Topic4\", \"Topic4\", \"Topic4\", \"Topic4\", \"Topic4\", \"Topic4\", \"Topic4\", \"Topic4\", \"Topic4\", \"Topic4\", \"Topic4\", \"Topic4\", \"Topic4\", \"Topic4\", \"Topic4\", \"Topic4\", \"Topic4\", \"Topic4\", \"Topic4\", \"Topic4\", \"Topic4\", \"Topic4\", \"Topic4\", \"Topic4\", \"Topic4\", \"Topic4\", \"Topic4\", \"Topic4\", \"Topic4\", \"Topic4\", \"Topic4\", \"Topic4\", \"Topic4\", \"Topic4\", \"Topic4\", \"Topic4\", \"Topic4\", \"Topic4\", \"Topic4\", \"Topic4\", \"Topic4\", \"Topic4\", \"Topic4\", \"Topic4\", \"Topic4\", \"Topic4\", \"Topic4\", \"Topic4\", \"Topic4\", \"Topic4\", \"Topic4\", \"Topic4\", \"Topic4\", \"Topic4\", \"Topic4\", \"Topic4\", \"Topic4\", \"Topic4\", \"Topic4\", \"Topic4\", \"Topic4\", \"Topic5\", \"Topic5\", \"Topic5\", \"Topic5\", \"Topic5\", \"Topic5\", \"Topic5\", \"Topic5\", \"Topic5\", \"Topic5\", \"Topic5\", \"Topic5\", \"Topic5\", \"Topic5\", \"Topic5\", \"Topic5\", \"Topic5\", \"Topic5\", \"Topic5\", \"Topic5\", \"Topic5\", \"Topic5\", \"Topic5\", \"Topic5\", \"Topic5\", \"Topic5\", \"Topic5\", \"Topic5\", \"Topic5\", \"Topic5\", \"Topic5\", \"Topic5\", \"Topic5\", \"Topic5\", \"Topic5\", \"Topic5\", \"Topic5\", \"Topic5\", \"Topic5\", \"Topic5\", \"Topic5\", \"Topic5\", \"Topic5\", \"Topic5\", \"Topic5\", \"Topic5\", \"Topic5\", \"Topic5\", \"Topic5\", \"Topic5\", \"Topic5\", \"Topic5\", \"Topic5\", \"Topic5\", \"Topic5\", \"Topic5\", \"Topic5\", \"Topic5\", \"Topic5\", \"Topic5\", \"Topic5\", \"Topic5\", \"Topic5\", \"Topic5\", \"Topic5\", \"Topic5\", \"Topic5\", \"Topic5\", \"Topic5\", \"Topic5\", \"Topic5\", \"Topic5\", \"Topic5\", \"Topic5\", \"Topic5\", \"Topic5\", \"Topic5\", \"Topic5\", \"Topic5\", \"Topic5\", \"Topic5\", \"Topic5\", \"Topic5\", \"Topic5\", \"Topic6\", \"Topic6\", \"Topic6\", \"Topic6\", \"Topic6\", \"Topic6\", \"Topic6\", \"Topic6\", \"Topic6\", \"Topic6\", \"Topic6\", \"Topic6\", \"Topic6\", \"Topic6\", \"Topic6\", \"Topic6\", \"Topic6\", \"Topic6\", \"Topic6\", \"Topic6\", \"Topic6\", \"Topic6\", \"Topic6\", \"Topic6\", \"Topic6\", \"Topic6\", \"Topic6\", \"Topic6\", \"Topic6\", \"Topic6\", \"Topic6\", \"Topic6\", \"Topic6\", \"Topic6\", \"Topic6\", \"Topic6\", \"Topic6\", \"Topic6\", \"Topic6\", \"Topic6\", \"Topic6\", \"Topic6\", \"Topic6\", \"Topic6\", \"Topic6\", \"Topic6\", \"Topic6\", \"Topic6\", \"Topic6\", \"Topic6\", \"Topic6\", \"Topic6\", \"Topic6\", \"Topic6\", \"Topic6\", \"Topic6\", \"Topic6\", \"Topic6\", \"Topic6\", \"Topic6\", \"Topic6\", \"Topic6\", \"Topic6\", \"Topic6\", \"Topic6\", \"Topic6\", \"Topic6\", \"Topic6\", \"Topic6\", \"Topic6\", \"Topic6\", \"Topic6\", \"Topic6\", \"Topic6\", \"Topic6\", \"Topic6\", \"Topic6\", \"Topic6\", \"Topic6\", \"Topic6\", \"Topic6\", \"Topic6\", \"Topic6\", \"Topic6\", \"Topic7\", \"Topic7\", \"Topic7\", \"Topic7\", \"Topic7\", \"Topic7\", \"Topic7\", \"Topic7\", \"Topic7\", \"Topic7\", \"Topic7\", \"Topic7\", \"Topic7\", \"Topic7\", \"Topic7\", \"Topic7\", \"Topic7\", \"Topic7\", \"Topic7\", \"Topic7\", \"Topic7\", \"Topic7\", \"Topic7\", \"Topic7\", \"Topic7\", \"Topic7\", \"Topic7\", \"Topic7\", \"Topic7\", \"Topic7\", \"Topic7\", \"Topic7\", \"Topic7\", \"Topic7\", \"Topic7\", \"Topic7\", \"Topic7\", \"Topic7\", \"Topic7\", \"Topic7\", \"Topic7\", \"Topic7\", \"Topic7\", \"Topic7\", \"Topic7\", \"Topic7\", \"Topic7\", \"Topic7\", \"Topic7\", \"Topic7\", \"Topic7\", \"Topic7\", \"Topic7\", \"Topic7\", \"Topic7\", \"Topic7\", \"Topic7\", \"Topic7\", \"Topic7\", \"Topic7\", \"Topic7\", \"Topic7\", \"Topic7\", \"Topic7\", \"Topic7\", \"Topic7\", \"Topic7\", \"Topic7\", \"Topic7\", \"Topic7\", \"Topic7\", \"Topic7\", \"Topic7\", \"Topic7\", \"Topic7\", \"Topic7\", \"Topic7\", \"Topic7\", \"Topic7\", \"Topic7\", \"Topic7\", \"Topic7\", \"Topic7\", \"Topic7\", \"Topic7\", \"Topic7\", \"Topic8\", \"Topic8\", \"Topic8\", \"Topic8\", \"Topic8\", \"Topic8\", \"Topic8\", \"Topic8\", \"Topic8\", \"Topic8\", \"Topic8\", \"Topic8\", \"Topic8\", \"Topic8\", \"Topic8\", \"Topic8\", \"Topic8\", \"Topic8\", \"Topic8\", \"Topic8\", \"Topic8\", \"Topic8\", \"Topic8\", \"Topic8\", \"Topic8\", \"Topic8\", \"Topic8\", \"Topic8\", \"Topic8\", \"Topic8\", \"Topic8\", \"Topic8\", \"Topic8\", \"Topic8\", \"Topic8\", \"Topic8\", \"Topic8\", \"Topic8\", \"Topic8\", \"Topic8\", \"Topic8\", \"Topic8\", \"Topic8\", \"Topic8\", \"Topic8\", \"Topic8\", \"Topic8\", \"Topic8\", \"Topic8\", \"Topic8\", \"Topic8\", \"Topic8\", \"Topic8\", \"Topic8\", \"Topic8\", \"Topic8\", \"Topic8\", \"Topic8\", \"Topic8\", \"Topic8\", \"Topic8\", \"Topic8\", \"Topic8\", \"Topic8\", \"Topic8\", \"Topic8\", \"Topic8\", \"Topic8\", \"Topic8\", \"Topic8\", \"Topic8\", \"Topic8\", \"Topic8\", \"Topic8\", \"Topic8\", \"Topic8\", \"Topic8\", \"Topic8\", \"Topic8\", \"Topic8\", \"Topic8\", \"Topic8\", \"Topic8\", \"Topic8\", \"Topic8\", \"Topic8\", \"Topic9\", \"Topic9\", \"Topic9\", \"Topic9\", \"Topic9\", \"Topic9\", \"Topic9\", \"Topic9\", \"Topic9\", \"Topic9\", \"Topic9\", \"Topic9\", \"Topic9\", \"Topic9\", \"Topic9\", \"Topic9\", \"Topic9\", \"Topic9\", \"Topic9\", \"Topic9\", \"Topic9\", \"Topic9\", \"Topic9\", \"Topic9\", \"Topic9\", \"Topic9\", \"Topic9\", \"Topic9\", \"Topic9\", \"Topic9\", \"Topic9\", \"Topic9\", \"Topic9\", \"Topic9\", \"Topic9\", \"Topic9\", \"Topic9\", \"Topic9\", \"Topic9\", \"Topic9\", \"Topic9\", \"Topic9\", \"Topic9\", \"Topic9\", \"Topic9\", \"Topic9\", \"Topic9\", \"Topic9\", \"Topic9\", \"Topic9\", \"Topic9\", \"Topic9\", \"Topic9\", \"Topic9\", \"Topic9\", \"Topic9\", \"Topic9\", \"Topic9\", \"Topic9\", \"Topic9\", \"Topic9\", \"Topic9\", \"Topic9\", \"Topic9\", \"Topic9\", \"Topic9\", \"Topic9\", \"Topic9\", \"Topic9\", \"Topic9\", \"Topic9\", \"Topic9\", \"Topic9\", \"Topic9\", \"Topic9\", \"Topic9\", \"Topic9\", \"Topic9\", \"Topic9\", \"Topic9\", \"Topic9\", \"Topic9\", \"Topic9\", \"Topic9\", \"Topic10\", \"Topic10\", \"Topic10\", \"Topic10\", \"Topic10\", \"Topic10\", \"Topic10\", \"Topic10\", \"Topic10\", \"Topic10\", \"Topic10\", \"Topic10\", \"Topic10\", \"Topic10\", \"Topic10\", \"Topic10\", \"Topic10\", \"Topic10\", \"Topic10\", \"Topic10\", \"Topic10\", \"Topic10\", \"Topic10\", \"Topic10\", \"Topic10\", \"Topic10\", \"Topic10\", \"Topic10\", \"Topic10\", \"Topic10\", \"Topic10\", \"Topic10\", \"Topic10\", \"Topic10\", \"Topic10\", \"Topic10\", \"Topic10\", \"Topic10\", \"Topic10\", \"Topic10\", \"Topic10\", \"Topic10\", \"Topic10\", \"Topic10\", \"Topic10\", \"Topic10\", \"Topic10\", \"Topic10\", \"Topic10\", \"Topic10\", \"Topic10\", \"Topic10\", \"Topic10\", \"Topic10\", \"Topic10\", \"Topic10\", \"Topic10\", \"Topic10\", \"Topic10\", \"Topic10\", \"Topic10\", \"Topic10\", \"Topic10\", \"Topic10\", \"Topic10\", \"Topic10\", \"Topic10\", \"Topic10\", \"Topic10\", \"Topic10\", \"Topic10\", \"Topic10\", \"Topic10\", \"Topic10\", \"Topic10\", \"Topic10\", \"Topic10\", \"Topic10\", \"Topic10\", \"Topic10\", \"Topic10\", \"Topic10\", \"Topic11\", \"Topic11\", \"Topic11\", \"Topic11\", \"Topic11\", \"Topic11\", \"Topic11\", \"Topic11\", \"Topic11\", \"Topic11\", \"Topic11\", \"Topic11\", \"Topic11\", \"Topic11\", \"Topic11\", \"Topic11\", \"Topic11\", \"Topic11\", \"Topic11\", \"Topic11\", \"Topic11\", \"Topic11\", \"Topic11\", \"Topic11\", \"Topic11\", \"Topic11\", \"Topic11\", \"Topic11\", \"Topic11\", \"Topic11\", \"Topic11\", \"Topic11\", \"Topic11\", \"Topic11\", \"Topic11\", \"Topic11\", \"Topic11\", \"Topic11\", \"Topic11\", \"Topic11\", \"Topic11\", \"Topic11\", \"Topic11\", \"Topic11\", \"Topic11\", \"Topic11\", \"Topic11\", \"Topic11\", \"Topic11\", \"Topic11\", \"Topic11\", \"Topic11\", \"Topic11\", \"Topic11\", \"Topic11\", \"Topic11\", \"Topic11\", \"Topic11\", \"Topic11\", \"Topic11\", \"Topic11\", \"Topic11\", \"Topic11\", \"Topic11\", \"Topic11\", \"Topic11\", \"Topic11\", \"Topic11\", \"Topic11\", \"Topic11\", \"Topic11\", \"Topic11\", \"Topic11\", \"Topic11\", \"Topic11\", \"Topic11\", \"Topic11\", \"Topic11\", \"Topic11\", \"Topic11\", \"Topic11\", \"Topic11\", \"Topic11\", \"Topic11\", \"Topic12\", \"Topic12\", \"Topic12\", \"Topic12\", \"Topic12\", \"Topic12\", \"Topic12\", \"Topic12\", \"Topic12\", \"Topic12\", \"Topic12\", \"Topic12\", \"Topic12\", \"Topic12\", \"Topic12\", \"Topic12\", \"Topic12\", \"Topic12\", \"Topic12\", \"Topic12\", \"Topic12\", \"Topic12\", \"Topic12\", \"Topic12\", \"Topic12\", \"Topic12\", \"Topic12\", \"Topic12\", \"Topic12\", \"Topic12\", \"Topic12\", \"Topic12\", \"Topic12\", \"Topic12\", \"Topic12\", \"Topic12\", \"Topic12\", \"Topic12\", \"Topic12\", \"Topic12\", \"Topic12\", \"Topic12\", \"Topic12\", \"Topic12\", \"Topic12\", \"Topic12\", \"Topic12\", \"Topic12\", \"Topic12\", \"Topic12\", \"Topic12\", \"Topic12\", \"Topic12\", \"Topic12\", \"Topic12\", \"Topic12\", \"Topic12\", \"Topic12\", \"Topic12\", \"Topic12\", \"Topic12\", \"Topic12\", \"Topic12\", \"Topic12\", \"Topic12\", \"Topic12\", \"Topic12\", \"Topic12\", \"Topic12\", \"Topic12\", \"Topic12\", \"Topic12\", \"Topic12\", \"Topic12\", \"Topic12\", \"Topic12\", \"Topic12\", \"Topic12\", \"Topic12\", \"Topic12\", \"Topic12\", \"Topic12\", \"Topic12\", \"Topic12\", \"Topic12\", \"Topic12\", \"Topic12\", \"Topic12\", \"Topic12\", \"Topic12\"], \"Freq\": [78.0, 74.0, 20.0, 11.0, 31.0, 20.0, 11.0, 4.0, 15.0, 11.0, 7.0, 4.0, 7.0, 3.0, 3.0, 15.0, 9.0, 18.0, 15.0, 5.0, 12.0, 14.0, 12.0, 5.0, 6.0, 4.0, 3.0, 5.0, 3.0, 9.0, 1.6962007284164429, 0.17549999058246613, 0.256527841091156, 0.20318256318569183, 0.808762788772583, 0.5637625455856323, 0.09945423901081085, 0.426740825176239, 0.08171411603689194, 0.8566520810127258, 0.12596476078033447, 0.40968671441078186, 0.1601533144712448, 0.1639506071805954, 0.22149904072284698, 0.1722891479730606, 0.07557697594165802, 0.07754259556531906, 0.1825372874736786, 0.25503236055374146, 0.11003783345222473, 0.07767866551876068, 0.3353075087070465, 0.12482830882072449, 0.47745147347450256, 0.07754084467887878, 0.737236499786377, 0.2811680734157562, 0.05619089677929878, 0.14573022723197937, 1.2192455530166626, 0.6218030452728271, 0.6692537665367126, 0.8004359006881714, 1.5575263500213623, 0.9096200466156006, 0.25822949409484863, 0.21023297309875488, 0.43958932161331177, 2.921379804611206, 0.30801430344581604, 1.37934148311615, 1.898248314857483, 8.928298950195312, 0.36976954340934753, 2.1291987895965576, 1.304397702217102, 2.952249526977539, 8.227860450744629, 4.478721618652344, 0.607982337474823, 0.6928052306175232, 2.970548152923584, 7.717741966247559, 2.861396551132202, 2.4870049953460693, 3.8952584266662598, 2.8902575969696045, 5.956246376037598, 4.343244552612305, 2.494844675064087, 8.160633087158203, 7.402462959289551, 2.7732484340667725, 2.3997559547424316, 7.516648769378662, 3.0973727703094482, 1.5099760293960571, 3.391425132751465, 2.1005985736846924, 14.90796184539795, 5.186163902282715, 12.051648139953613, 3.2364392280578613, 6.39708948135376, 3.4132673740386963, 4.061594486236572, 4.525628089904785, 3.8452088832855225, 3.1482558250427246, 2.8932526111602783, 2.8244309425354004, 0.25318291783332825, 0.05964641273021698, 1.303518295288086, 0.12331004440784454, 0.055897150188684464, 0.14354978501796722, 0.053121164441108704, 0.21650604903697968, 0.09848928451538086, 0.05895497649908066, 0.04489484429359436, 0.03348497673869133, 0.2245076298713684, 0.13355620205402374, 0.062393952161073685, 0.033024463802576065, 0.03221098706126213, 0.023243319243192673, 0.19552060961723328, 0.14564931392669678, 0.061720751225948334, 0.08888617902994156, 0.20696690678596497, 0.028307825326919556, 0.03895403444766998, 0.24328285455703735, 0.3649812340736389, 0.023887380957603455, 0.037110112607479095, 0.47845473885536194, 0.05877922102808952, 0.22819077968597412, 0.11879823356866837, 0.055966272950172424, 0.47530803084373474, 0.31488901376724243, 1.6909278631210327, 0.16728173196315765, 0.2197040319442749, 0.720511794090271, 1.3748829364776611, 0.4503990709781647, 0.25642675161361694, 0.29316651821136475, 0.20293644070625305, 0.2826281785964966, 0.3469732701778412, 0.35235854983329773, 0.8207439184188843, 3.22165846824646, 0.8840366005897522, 0.7096693515777588, 1.7114651203155518, 1.6422615051269531, 0.6138595938682556, 1.5795719623565674, 0.9864988327026367, 1.2013349533081055, 1.2176353931427002, 1.1017543077468872, 10.58006763458252, 2.573859214782715, 0.7965829968452454, 0.7022603750228882, 1.106893539428711, 2.0051381587982178, 4.62077522277832, 1.6771200895309448, 2.7817773818969727, 7.29301643371582, 2.119380474090576, 2.9038753509521484, 1.1601941585540771, 2.3292675018310547, 2.26872181892395, 2.5128698348999023, 2.366345167160034, 1.516445279121399, 2.3359200954437256, 1.906123399734497, 1.6063363552093506, 1.58846914768219, 1.8640772104263306, 1.4563497304916382, 1.9098436832427979, 1.6737878322601318, 1.5510985851287842, 1.5387444496154785, 1.5161197185516357, 0.07257910817861557, 0.044708382338285446, 0.07463829964399338, 0.05356496945023537, 0.06797433644533157, 0.08798497915267944, 0.03057537041604519, 0.02715059369802475, 0.0632118433713913, 0.18223531544208527, 0.15979424118995667, 0.04884888604283333, 0.01783815398812294, 0.02213447354733944, 0.019820477813482285, 0.026869453489780426, 0.6607928276062012, 0.03063676320016384, 0.021315349265933037, 0.01818838343024254, 0.023063290864229202, 0.10859692096710205, 0.7103633284568787, 0.12016142159700394, 0.018237728625535965, 0.3415225148200989, 0.10286752134561539, 0.03273479640483856, 0.02462039515376091, 0.017310937866568565, 0.14591027796268463, 0.11144958436489105, 0.19998908042907715, 0.08416748046875, 0.25916317105293274, 0.2797653377056122, 0.12361697107553482, 1.0850993394851685, 0.576284646987915, 0.105973020195961, 0.6329834461212158, 0.15044005215168, 0.21042253077030182, 2.0444393157958984, 0.9466607570648193, 0.34841522574424744, 0.37630292773246765, 0.5757972598075867, 2.0388686656951904, 0.26513540744781494, 0.5327006578445435, 0.6819507479667664, 1.145271897315979, 1.3551644086837769, 0.47621411085128784, 0.4772931933403015, 1.6734994649887085, 2.0940322875976562, 0.7186455726623535, 0.34668487310409546, 1.4629766941070557, 0.7680817246437073, 0.8227207064628601, 2.0828144550323486, 2.0836966037750244, 2.0978505611419678, 1.9307116270065308, 0.8146833181381226, 4.696989059448242, 0.834624171257019, 1.6203681230545044, 1.9400357007980347, 7.44739294052124, 2.6956846714019775, 6.176069259643555, 2.5453853607177734, 1.067121148109436, 3.1064414978027344, 1.7228978872299194, 2.404215097427368, 1.274654507637024, 1.031335711479187, 1.6889560222625732, 1.324113368988037, 1.5903586149215698, 1.4653288125991821, 1.644985556602478, 1.5934367179870605, 1.370442271232605, 1.4561179876327515, 1.3900657892227173, 1.4447405338287354, 0.16733893752098083, 0.1064717248082161, 0.06927606463432312, 0.10440601408481598, 0.19262953102588654, 0.0893743708729744, 0.07171566039323807, 0.21512334048748016, 0.040486715734004974, 0.15852659940719604, 0.08697495609521866, 0.35072770714759827, 0.0499294213950634, 0.033252913504838943, 0.1079576388001442, 0.07135055214166641, 0.13299566507339478, 0.030110305175185204, 0.033407554030418396, 0.043457940220832825, 0.09723322093486786, 0.07404986768960953, 0.26226747035980225, 0.0677652359008789, 0.029350442811846733, 0.04460511356592178, 0.027555426582694054, 0.020262977108359337, 0.09524287283420563, 0.020005833357572556, 0.1231776773929596, 0.11451339721679688, 0.13567276298999786, 0.22938337922096252, 0.26796454191207886, 0.22603918612003326, 0.07187917083501816, 0.5537856817245483, 0.4294722378253937, 0.12572193145751953, 0.6369432806968689, 0.16667981445789337, 0.16269460320472717, 0.24880139529705048, 0.1743021458387375, 1.6078437566757202, 0.416208416223526, 12.667350769042969, 1.0705193281173706, 1.2743909358978271, 0.30910325050354004, 0.9552033543586731, 10.3028564453125, 1.7200363874435425, 1.4997127056121826, 0.5976799130439758, 0.7731676697731018, 0.2801346182823181, 0.8871475458145142, 3.3259990215301514, 0.3758871555328369, 4.104401588439941, 1.6556273698806763, 1.9959709644317627, 1.0069067478179932, 0.7873809933662415, 2.397742986679077, 2.5263261795043945, 1.8412832021713257, 1.2172428369522095, 1.3578252792358398, 1.0840932130813599, 0.865643322467804, 0.89521723985672, 1.2831858396530151, 1.1677894592285156, 1.2535649538040161, 1.055016279220581, 1.4013707637786865, 1.393762469291687, 1.1999942064285278, 1.200286626815796, 1.016396164894104, 1.08017897605896, 0.9771192073822021, 0.9819265007972717, 0.16884976625442505, 0.0756654292345047, 0.0654400885105133, 0.10230522602796555, 0.05246984213590622, 0.038555972278118134, 0.15950548648834229, 0.031186599284410477, 0.023883750662207603, 0.020869731903076172, 0.0369359627366066, 0.23718209564685822, 0.017126893624663353, 0.04595765843987465, 0.024100346490740776, 0.020912926644086838, 0.014280510134994984, 0.019911017268896103, 0.014765913598239422, 0.09086829423904419, 0.016858220100402832, 0.11453384906053543, 0.0649643987417221, 0.013957958668470383, 0.026516126468777657, 0.011070496402680874, 0.017203563824295998, 0.01884419657289982, 0.00973905622959137, 0.016613073647022247, 0.12357807904481888, 0.06842658668756485, 0.08472885191440582, 0.09380711615085602, 2.3500759601593018, 0.048887431621551514, 1.421972393989563, 1.3459824323654175, 0.3988295793533325, 0.22427749633789062, 0.10287686437368393, 0.2623160183429718, 0.1731133759021759, 0.14313973486423492, 0.3426753878593445, 0.24384869635105133, 0.49971526861190796, 0.7774943709373474, 0.26178207993507385, 12.145552635192871, 1.219710111618042, 0.37330111861228943, 0.6155601143836975, 0.6965340375900269, 0.7460203170776367, 1.2549521923065186, 6.8330078125, 1.0183050632476807, 2.1362576484680176, 1.16481351852417, 0.6494733095169067, 0.6488571763038635, 2.8671939373016357, 0.8041626811027527, 1.211814522743225, 0.9173747897148132, 0.7621685862541199, 1.859883189201355, 0.843373715877533, 1.440644383430481, 1.577525019645691, 0.7491376996040344, 1.5198959112167358, 1.3132356405258179, 1.2123217582702637, 1.3069056272506714, 1.018905758857727, 1.0884816646575928, 0.8855745196342468, 0.9332561492919922, 0.851546049118042, 0.8966954350471497, 0.8549361824989319, 0.8759508728981018, 0.24358436465263367, 0.25343939661979675, 0.07327702641487122, 0.01932598650455475, 0.038935817778110504, 0.02124752476811409, 0.019367553293704987, 0.16453173756599426, 0.012717492878437042, 0.025839632377028465, 0.05236167088150978, 0.009787430986762047, 0.06033222749829292, 0.019508689641952515, 0.013790743425488472, 0.09653361141681671, 0.049550611525774, 0.1003953292965889, 0.11590766906738281, 0.00889471173286438, 0.011626669205725193, 0.037259865552186966, 0.030855190008878708, 0.012802990153431892, 0.011033917777240276, 0.06962153315544128, 0.008675037883222103, 0.02001921646296978, 0.05610665678977966, 0.017519699409604073, 0.34507718682289124, 0.09806162863969803, 0.02714928612112999, 0.13897569477558136, 0.08694898337125778, 0.03241584822535515, 0.43769052624702454, 0.4969485104084015, 0.11415483802556992, 0.12441417574882507, 0.27225586771965027, 0.05943150445818901, 0.3632713258266449, 0.19131140410900116, 0.2434888482093811, 0.9684838056564331, 0.3978671729564667, 0.5363233685493469, 0.2622236907482147, 0.9370582699775696, 7.779120445251465, 0.9269843697547913, 0.31260478496551514, 0.8195091485977173, 0.6470710039138794, 0.70314621925354, 0.6038981080055237, 0.46013885736465454, 0.4509216845035553, 2.282796859741211, 0.3436189889907837, 3.2699007987976074, 1.2910733222961426, 0.8765063285827637, 0.7511801719665527, 0.39881742000579834, 1.0103871822357178, 0.7984133362770081, 1.0068376064300537, 1.1502776145935059, 0.6920339465141296, 0.6823309063911438, 1.0603063106536865, 0.9632235169410706, 0.7376574873924255, 0.7509166598320007, 0.6333803534507751, 0.6542873382568359, 0.8355237245559692, 0.653433620929718, 0.7019082307815552, 0.7021731734275818, 0.6543533205986023, 0.6428765058517456, 0.08226241171360016, 0.03419005498290062, 0.027850233018398285, 0.05962109565734863, 0.021100841462612152, 0.047910723835229874, 0.010534624569118023, 0.02788071520626545, 0.012258230708539486, 0.013533676974475384, 0.0241857897490263, 0.011092942208051682, 0.038447026163339615, 0.026704616844654083, 0.010188544169068336, 0.039719875901937485, 0.013057008385658264, 0.008691863156855106, 0.00863444060087204, 0.01661292463541031, 0.02768012136220932, 0.01193212065845728, 0.05432293564081192, 0.008213956840336323, 0.0346221849322319, 0.007593776099383831, 0.026075197383761406, 0.014892423525452614, 0.18589645624160767, 0.010295330546796322, 0.23069261014461517, 0.08791104704141617, 0.05566566064953804, 0.03631724417209625, 0.04812929779291153, 0.13409417867660522, 0.10273449122905731, 0.3095088005065918, 0.21100206673145294, 0.023401498794555664, 0.1414194405078888, 0.032085806131362915, 0.5797295570373535, 0.14253374934196472, 0.08030712604522705, 0.30567818880081177, 0.40032950043678284, 0.9146489500999451, 2.2539308071136475, 0.3641206920146942, 0.12824352085590363, 5.0120697021484375, 0.502345621585846, 0.6325321197509766, 0.9583253860473633, 3.9542293548583984, 0.3541414737701416, 0.29107600450515747, 0.33590301871299744, 0.4851815402507782, 0.48343315720558167, 0.354751318693161, 0.7507850527763367, 0.1591317057609558, 1.520633578300476, 1.1262003183364868, 0.7516521215438843, 0.9135571718215942, 0.9925755858421326, 0.6860865354537964, 0.6805136203765869, 0.5027959942817688, 0.503230094909668, 0.6693518757820129, 0.7003222107887268, 0.6825929284095764, 0.54449462890625, 0.5049697756767273, 0.6697537302970886, 0.5681402087211609, 0.6411637663841248, 0.6418940424919128, 0.594031810760498, 0.5344143509864807, 0.5263418555259705, 0.5092819333076477, 0.05741821974515915, 0.023204220458865166, 0.013832943513989449, 0.009780080057680607, 0.24647441506385803, 0.030977649614214897, 0.011531832627952099, 0.014884084463119507, 0.033597882837057114, 0.007940083742141724, 0.006774746347218752, 0.007533015683293343, 0.007641003001481295, 0.005469691473990679, 0.004999030381441116, 0.020541375502943993, 0.005132496822625399, 0.012635941617190838, 0.007813052274286747, 0.01608560048043728, 0.0046326774172484875, 0.004478270187973976, 0.007420809473842382, 0.004448681604117155, 0.013512428849935532, 0.004745287820696831, 0.01812651939690113, 0.02853599190711975, 0.008294733241200447, 0.04345342889428139, 0.011051686480641365, 0.010553077794611454, 0.039543602615594864, 0.059347741305828094, 0.06706534326076508, 0.040616147220134735, 0.07757878303527832, 0.018394405022263527, 0.09917085617780685, 0.04098833352327347, 0.02302977256476879, 0.03404496610164642, 0.03312189131975174, 0.1436470001935959, 0.25883570313453674, 0.7938814163208008, 0.6223348379135132, 0.4461546540260315, 0.5070152282714844, 0.1780119091272354, 0.13047119975090027, 4.046090126037598, 0.1258377879858017, 1.3339413404464722, 3.6124792098999023, 0.2868972420692444, 1.0375274419784546, 0.3791963756084442, 0.2594987750053406, 1.5876083374023438, 1.1428898572921753, 0.4852536618709564, 0.31708499789237976, 0.8005838394165039, 0.8518494963645935, 1.0127328634262085, 0.9459705352783203, 0.45497480034828186, 0.8460206985473633, 0.7268291115760803, 0.4704153537750244, 0.6123428344726562, 0.5934631824493408, 0.37139368057250977, 0.3869874179363251, 0.2832084000110626, 0.5586990118026733, 0.5315080881118774, 0.6072701811790466, 0.486238956451416, 0.4875424802303314, 0.47674012184143066, 0.4715786278247833, 0.4923900365829468, 0.5125331878662109, 0.46535053849220276, 0.12254557758569717, 0.10386432707309723, 0.0988391637802124, 0.0421670563519001, 0.06546994298696518, 0.045242540538311005, 0.08008401095867157, 0.031942445784807205, 0.03405661880970001, 0.040319718420505524, 0.024416586384177208, 0.11899865418672562, 0.4662386178970337, 0.0188224408775568, 0.011087978258728981, 0.030328867956995964, 0.015539281070232391, 0.06416694074869156, 0.1372585892677307, 0.03137293830513954, 0.031202036887407303, 0.01203124038875103, 0.006641074549406767, 0.19866158068180084, 0.014452344737946987, 0.016033727675676346, 0.007532879244536161, 0.009992917068302631, 0.008173269219696522, 0.021327579393982887, 0.05116293206810951, 0.05881296843290329, 0.030779190361499786, 0.3935631513595581, 0.1896740347146988, 0.03854726627469063, 0.08523892611265182, 0.06271088123321533, 0.3182643949985504, 0.1268039345741272, 0.32707732915878296, 0.6477997899055481, 0.13339875638484955, 0.13084813952445984, 0.6673039197921753, 0.19140978157520294, 0.2016381323337555, 0.608659029006958, 0.11649754643440247, 0.12578119337558746, 0.15900151431560516, 0.6185269355773926, 0.1445988416671753, 0.23450838029384613, 0.9142278432846069, 3.2149810791015625, 0.6429179906845093, 3.0382466316223145, 0.4904550313949585, 0.4482499361038208, 1.0405970811843872, 0.30812713503837585, 0.43735089898109436, 1.2883557081222534, 0.5920842289924622, 0.3167691230773926, 0.7017225623130798, 0.43064919114112854, 0.7138223052024841, 0.7629859447479248, 0.5036911368370056, 0.3598618805408478, 0.6732500791549683, 0.5518725514411926, 0.584726870059967, 0.672818124294281, 0.44286733865737915, 0.5101852416992188, 0.50511234998703, 0.5776770710945129, 0.49374422430992126, 0.46196988224983215, 0.46369484066963196, 0.43843433260917664, 0.07448165863752365, 0.05902241915464401, 0.06178523600101471, 0.07608948647975922, 0.32353517413139343, 0.02060822769999504, 0.014355632476508617, 0.02268126793205738, 0.0136123551055789, 0.022225115448236465, 0.07822101563215256, 0.00986302550882101, 0.010546395555138588, 0.03971778601408005, 0.012888622470200062, 0.04116670787334442, 0.009494123049080372, 0.0067008319310843945, 0.017511099576950073, 0.03592492640018463, 0.005772684700787067, 0.005278386175632477, 0.015072684735059738, 0.007163178641349077, 0.006353362929075956, 0.014773738570511341, 0.0064534954726696014, 0.020127035677433014, 0.004499065224081278, 0.0045869494788348675, 0.013965427875518799, 0.03950636833906174, 0.048917923122644424, 0.029897604137659073, 0.03090752102434635, 0.05512814596295357, 0.08782463520765305, 0.08856098353862762, 0.0955936387181282, 0.1482129544019699, 4.471733570098877, 0.11534593999385834, 0.03969471901655197, 0.7669484615325928, 0.11006330698728561, 2.9372243881225586, 0.3492078185081482, 0.13265027105808258, 1.1559391021728516, 0.1388477236032486, 0.41013821959495544, 0.3906280994415283, 0.322303831577301, 0.49264785647392273, 0.4775122404098511, 0.9414947628974915, 0.37146785855293274, 0.5467361211776733, 0.45575597882270813, 0.5384482741355896, 0.3847283720970154, 0.6686744093894958, 0.6105834245681763, 0.28286120295524597, 0.4748930335044861, 0.32007262110710144, 0.6003252267837524, 0.523998498916626, 0.36452341079711914, 0.573270857334137, 0.8337881565093994, 0.6528142094612122, 0.5866351127624512, 0.5834448933601379, 0.37473464012145996, 0.5359811186790466, 0.5844131112098694, 0.4039676785469055, 0.38525867462158203, 0.39387622475624084, 0.3835822343826294, 0.3801659643650055, 0.045721717178821564, 0.04849770665168762, 0.21884790062904358, 0.10058803856372833, 0.021357985213398933, 0.036729391664266586, 0.04356580227613449, 0.01885918341577053, 0.028121640905737877, 0.15363189578056335, 0.030485909432172775, 0.013655470684170723, 0.009992813691496849, 0.027879392728209496, 0.016860036179423332, 0.018898269161581993, 0.058318763971328735, 0.013715815730392933, 0.020462149754166603, 0.009694336913526058, 0.019950294867157936, 0.007919495925307274, 0.04719526693224907, 0.03837446868419647, 0.009308070875704288, 0.013636480085551739, 0.017432237043976784, 0.012228957377374172, 0.11316577345132828, 0.011610770598053932, 0.12654812633991241, 0.3846462070941925, 0.03404119238257408, 0.06345965713262558, 0.05069074407219887, 0.03436349332332611, 0.12086030840873718, 0.08098506182432175, 0.20428086817264557, 0.15367171168327332, 0.4244811236858368, 0.09576684981584549, 0.22162799537181854, 0.332883358001709, 0.060360413044691086, 0.6186228394508362, 0.21783579885959625, 0.22362357378005981, 0.08689548820257187, 0.16982538998126984, 1.4358092546463013, 0.21988387405872345, 0.4853452146053314, 0.47635123133659363, 0.5872988700866699, 0.45921769738197327, 0.46173596382141113, 0.6379521489143372, 2.229783058166504, 0.2238915115594864, 1.304333209991455, 0.5767179131507874, 0.45336055755615234, 1.9434243440628052, 0.9435001015663147, 0.41831183433532715, 0.5322439074516296, 0.3764052391052246, 0.4367368817329407, 0.8435515761375427, 0.680271327495575, 0.3381548523902893, 0.5315173268318176, 0.603622317314148, 0.4941250681877136, 0.43814030289649963, 0.43692833185195923, 0.5233905911445618, 0.5396247506141663, 0.43758314847946167, 0.4493628442287445, 0.4589742422103882, 0.4404575526714325, 0.43185362219810486, 0.26265695691108704, 0.06581122428178787, 0.04591802507638931, 0.021656842902302742, 0.03925530984997749, 0.07601004093885422, 0.02311539836227894, 0.02117791399359703, 0.01484291348606348, 0.022883925586938858, 0.018473029136657715, 0.014435828663408756, 0.012631531804800034, 0.03869950398802757, 0.0139111103489995, 0.0445370115339756, 0.04836628958582878, 0.019995054230093956, 0.01746688038110733, 0.031253181397914886, 0.009499754756689072, 0.03326351195573807, 0.11833586543798447, 0.07090970873832703, 0.019490623846650124, 0.019580496475100517, 0.01706325076520443, 0.09666578471660614, 0.008266501128673553, 0.014238640666007996, 0.03523882105946541, 0.17580686509609222, 0.04446979612112045, 0.09773659706115723, 0.2393427938222885, 0.1761537343263626, 0.04445983096957207, 0.04829748719930649, 0.0492543987929821, 0.619504451751709, 0.052996616810560226, 0.05172144994139671, 0.24170354008674622, 0.10296103358268738, 0.5414730906486511, 0.17200244963169098, 0.13105149567127228, 0.1268545389175415, 0.08087874948978424, 0.1329694390296936, 0.05965811014175415, 0.13075794279575348, 0.16357091069221497, 1.8646819591522217, 0.11009042710065842, 0.36704277992248535, 0.11039863526821136, 0.3211803436279297, 0.4729016125202179, 3.1077888011932373, 3.0999996662139893, 0.8909251093864441, 0.45539870858192444, 0.42094168066978455, 0.3438941240310669, 1.0749526023864746, 0.48062407970428467, 0.670395016670227, 0.3195652961730957, 1.1102427244186401, 0.4791105091571808, 0.6729006767272949, 0.7025911211967468, 0.5283838510513306, 0.33590611815452576, 0.5182787179946899, 0.6679521799087524, 0.40314728021621704, 0.4352623224258423, 0.44539394974708557, 0.4933701455593109, 0.6442910432815552, 0.4043671786785126, 0.5348085761070251, 0.4562361240386963, 0.4230389893054962, 0.3785193860530853, 0.4407482445240021, 0.45083463191986084, 0.43625766038894653], \"Term\": [\"\", \"the\", \"use\", \"season\", \"in\", \"also\", \"game\", \"film\", \"state\", \"team\", \"system\", \"engin\", \"war\", \"al\", \"ibn\", \"he\", \"may\", \"one\", \"year\", \"area\", \"includ\", \"new\", \"it\", \"servic\", \"develop\", \"church\", \"energi\", \"school\", \"languag\", \"this\", \"umar\", \"\\u0155\", \"zubayr\", \"sato\", \"\\u0081\", \"bhutanes\", \"rangi\", \"sulayman\", \"reina\", \"yazid\", \"dentin\", \"zayd\", \"chl\", \"bcs\", \"kicker\", \"kowloon\", \"doublehead\", \"jarir\", \"tabari\", \"rosewal\", \"backhand\", \"internazional\", \"lehman\", \"hakam\", \"kharijit\", \"salamanca\", \"aziz\", \"bilbao\", \"vick\", \"divisi\\u00f3n\", \"nhl\", \"walid\", \"packer\", \"umayyad\", \"playoff\", \"bhutan\", \"acb\", \"postseason\", \"colt\", \"ibn\", \"\\u00a4\", \"caliph\", \"yard\", \"season\", \"touchdown\", \"coach\", \"bowl\", \"score\", \"team\", \"win\", \"nba\", \"nfl\", \"goal\", \"game\", \"cup\", \"footbal\", \"leagu\", \"championship\", \"play\", \"player\", \"finish\", \"he\", \"\\u2013\", \"career\", \"al\", \"first\", \"final\", \"miss\", \"point\", \"round\", \"the\", \"year\", \"\", \"second\", \"in\", \"1\", \"time\", \"also\", \"one\", \"two\", \"world\", \"would\", \"pga\", \"colspan\", \"bene\", \"parramatta\", \"irb\", \"wakefield\", \"sho\", \"venizelo\", \"girard\", \"estoril\", \"berti\", \"metamathemat\", \"gordi\", \"lyle\", \"1018\", \"platz\", \"watercraft\", \"bode\", \"amherst\", \"pazar\", \"1493\", \"frisch\", \"iroquoi\", \"croghan\", \"barbari\", \"ensign\", \"bohemia\", \"struma\", \"sumter\", \"reichstag\", \"cyborg\", \"annul\", \"sisterhood\", \"tordesilla\", \"prefectur\", \"heavyweight\", \"norwich\", \"dowag\", \"1763\", \"confeder\", \"flag\", \"reich\", \"pragu\", \"empress\", \"confederaci\", \"marvin\", \"canton\", \"currenc\", \"fort\", \"war\", \"spain\", \"dollar\", \"race\", \"armi\", \"treati\", \"british\", \"civil\", \"spanish\", \"german\", \"defeat\", \"the\", \"nation\", \"territori\", \"marriag\", \"union\", \"citi\", \"in\", \"govern\", \"time\", \"\", \"world\", \"one\", \"king\", \"two\", \"includ\", \"year\", \"state\", \"end\", \"first\", \"\\u2013\", \"may\", \"unit\", \"new\", \"general\", \"also\", \"he\", \"team\", \"it\", \"use\", \"tca\", \"conrail\", \"z4\", \"\\u2206\", \"btu\", \"hoboken\", \"crankcas\", \"danburi\", \"trenton\", \"newark\", \"gantt\", \"airspe\", \"renf\", \"inductor\", \"reactant\", \"octet\", \"semiconductor\", \"tailpip\", \"giugiaro\", \"altoona\", \"\\u0161koda\", \"mors\", \"depreci\", \"mazda\", \"reactanc\", \"photon\", \"reflector\", \"ftc\", \"dielectr\", \"dmus\", \"deptford\", \"southbound\", \"detector\", \"capacitor\", \"freeway\", \"sulfur\", \"volkswagen\", \"rail\", \"lamp\", \"suv\", \"commut\", \"boiler\", \"axl\", \"energi\", \"asset\", \"voltag\", \"alloy\", \"truck\", \"car\", \"locomot\", \"junction\", \"cabl\", \"electr\", \"cost\", \"frequenc\", \"molecul\", \"station\", \"engin\", \"phase\", \"railroad\", \"light\", \"jersey\", \"heat\", \"line\", \"servic\", \"oper\", \"compani\", \"railway\", \"use\", \"transport\", \"product\", \"system\", \"the\", \"new\", \"\", \"state\", \"standard\", \"in\", \"unit\", \"also\", \"design\", \"market\", \"it\", \"develop\", \"includ\", \"would\", \"year\", \"one\", \"this\", \"two\", \"a\", \"first\", \"poisson\", \"a40\", \"deuterocanon\", \"gannet\", \"landlock\", \"dirac\", \"snuff\", \"pronoun\", \"rosuvastatin\", \"lorentz\", \"septuagint\", \"walloon\", \"fermion\", \"nehemiah\", \"catech\", \"kei\", \"ural\", \"integrand\", \"supersymmetri\", \"bodleian\", \"hamiltonian\", \"minkowski\", \"syriac\", \"homotopi\", \"antisymmetr\", \"chessington\", \"seabird\", \"reggiano\", \"jacobi\", \"parmigiano\", \"apocrypha\", \"null\", \"tensor\", \"bracket\", \"vowel\", \"algebra\", \"spacetim\", \"canon\", \"vector\", \"hasbro\", \"equat\", \"proto\", \"priori\", \"testament\", \"chees\", \"church\", \"cathedr\", \"\", \"island\", \"languag\", \"dialect\", \"function\", \"the\", \"form\", \"centuri\", \"deriv\", \"space\", \"monasteri\", \"word\", \"use\", \"bishop\", \"in\", \"name\", \"it\", \"common\", \"english\", \"one\", \"also\", \"two\", \"number\", \"mani\", \"found\", \"exampl\", \"book\", \"may\", \"part\", \"this\", \"group\", \"\\u2013\", \"first\", \"includ\", \"time\", \"point\", \"new\", \"a\", \"state\", \"morrissey\", \"ranga\", \"renoir\", \"finchley\", \"anand\", \"mera\", \"barney\", \"pee\", \"kroll\", \"ganesh\", \"paisley\", \"reddi\", \"d12\", \"kean\", \"miriam\", \"kool\", \"phill\", \"stoppard\", \"wolfman\", \"smithfield\", \"prabhu\", \"wexford\", \"hampstead\", \"prakash\", \"asha\", \"govindan\", \"mavi\", \"eminem\", \"murali\", \"bj\\u00f6rk\", \"doc\", \"luka\", \"marlow\", \"subaru\", \"film\", \"malayalam\", \"song\", \"album\", \"jone\", \"actress\", \"savag\", \"titan\", \"teen\", \"me\", \"actor\", \"comic\", \"love\", \"band\", \"singer\", \"\", \"releas\", \"movi\", \"stori\", \"charact\", \"she\", \"i\", \"the\", \"music\", \"he\", \"record\", \"role\", \"star\", \"in\", \"show\", \"work\", \"seri\", \"perform\", \"also\", \"appear\", \"new\", \"one\", \"featur\", \"first\", \"time\", \"it\", \"year\", \"a\", \"two\", \"later\", \"play\", \"name\", \"includ\", \"would\", \"state\", \"raskin\", \"sinhales\", \"chaser\", \"wenzhou\", \"yehuda\", \"bayt\", \"revivalist\", \"tornado\", \"daoud\", \"liqueur\", \"roma\", \"nupe\", \"hakim\", \"homophobia\", \"nabokov\", \"compassion\", \"stalinist\", \"conservat\", \"shahi\", \"ipanema\", \"schubert\", \"nazism\", \"freedmen\", \"luxemburg\", \"apricot\", \"alvarez\", \"tumultu\", \"chekhov\", \"yiddish\", \"trotski\", \"seminol\", \"hitchen\", \"romani\", \"denial\", \"holocaust\", \"wicca\", \"nazi\", \"hebrew\", \"cnbc\", \"persecut\", \"hitler\", \"pius\", \"religion\", \"literari\", \"genr\", \"book\", \"translat\", \"cathol\", \"literatur\", \"church\", \"\", \"music\", \"jewish\", \"languag\", \"cultur\", \"polit\", \"spanish\", \"write\", \"christian\", \"in\", \"protest\", \"the\", \"state\", \"war\", \"american\", \"wrote\", \"includ\", \"work\", \"new\", \"also\", \"govern\", \"peopl\", \"use\", \"first\", \"unit\", \"nation\", \"centuri\", \"call\", \"one\", \"mani\", \"time\", \"he\", \"would\", \"world\", \"matura\", \"bom\", \"frag\", \"deathmatch\", \"markov\", \"nikon\", \"cushman\", \"notari\", \"brownian\", \"subspac\", \"congressperson\", \"risc\", \"cpus\", \"dsp\", \"r4\", \"oscilloscop\", \"feld\", \"mip\", \"hydropow\", \"fps\", \"\\u0082\", \"allergen\", \"gyeongju\", \"superset\", \"rawl\", \"decibel\", \"unicod\", \"midpoint\", \"heidelberg\", \"exoplanet\", \"exam\", \"aaf\", \"byte\", \"percheron\", \"cpu\", \"processor\", \"encod\", \"bit\", \"logic\", \"ei\", \"faculti\", \"cadmium\", \"student\", \"alpha\", \"printer\", \"code\", \"comput\", \"univers\", \"use\", \"data\", \"modul\", \"\", \"function\", \"law\", \"system\", \"the\", \"valu\", \"tax\", \"method\", \"model\", \"requir\", \"test\", \"2\", \"campus\", \"in\", \"also\", \"1\", \"state\", \"one\", \"this\", \"may\", \"differ\", \"school\", \"a\", \"includ\", \"it\", \"develop\", \"oper\", \"time\", \"unit\", \"new\", \"first\", \"two\", \"game\", \"year\", \"would\", \"cooley\", \"pri\", \"puddl\", \"guardsmen\", \"aquaman\", \"theta\", \"mcenro\", \"grenada\", \"carlson\", \"dougherti\", \"7pm\", \"callsign\", \"masthead\", \"wanda\", \"mittal\", \"qanta\", \"triathlon\", \"superliga\", \"aphex\", \"rigg\", \"wim\", \"levenson\", \"broadsheet\", \"ambani\", \"abernathi\", \"roeser\", \"elain\", \"prescott\", \"f28\", \"fk\", \"woodward\", \"manta\", \"fokker\", \"bain\", \"sh\", \"kappa\", \"fratern\", \"redmond\", \"sergeant\", \"itv\", \"doo\", \"lambda\", \"nativist\", \"airlin\", \"episod\", \"school\", \"show\", \"educ\", \"air\", \"flight\", \"campus\", \"the\", \"partnership\", \"year\", \"\", \"radio\", \"new\", \"award\", \"televis\", \"in\", \"first\", \"compani\", \"colleg\", \"includ\", \"time\", \"also\", \"one\", \"seri\", \"state\", \"game\", \"univers\", \"world\", \"play\", \"program\", \"public\", \"student\", \"nation\", \"unit\", \"two\", \"citi\", \"would\", \"a\", \"season\", \"\\u2013\", \"use\", \"he\", \"chaco\", \"sindhi\", \"pna\", \"jiu\", \"nellor\", \"chittoor\", \"visakhapatnam\", \"ribozym\", \"heterosi\", \"jitsu\", \"sextet\", \"k6\", \"andhra\", \"crick\", \"masterplan\", \"gras\", \"chinna\", \"wrc\", \"mandal\", \"taluka\", \"nawab\", \"styren\", \"counterparti\", \"footprint\", \"dea\", \"jamia\", \"nalgonda\", \"salta\", \"butadien\", \"ecoregion\", \"solberg\", \"rna\", \"endogen\", \"pradesh\", \"hyderabad\", \"allel\", \"hare\", \"biometr\", \"basin\", \"per\\u00f3n\", \"sri\", \"constitu\", \"lok\", \"zia\", \"lake\", \"recycl\", \"rao\", \"assembl\", \"blockbust\", \"sabha\", \"dna\", \"district\", \"ecolog\", \"highway\", \"area\", \"the\", \"engin\", \"\", \"popul\", \"india\", \"state\", \"mountain\", \"industri\", \"in\", \"citi\", \"provinc\", \"it\", \"region\", \"year\", \"also\", \"develop\", \"water\", \"one\", \"a\", \"includ\", \"use\", \"product\", \"nation\", \"world\", \"first\", \"1\", \"work\", \"unit\", \"mani\", \"dogon\", \"brahmaputra\", \"frederik\", \"zhejiang\", \"asean\", \"prana\", \"megalith\", \"azeri\", \"malmesburi\", \"messerschmitt\", \"oldham\", \"tart\", \"hattian\", \"sigel\", \"sintra\", \"azerbaijani\", \"windward\", \"saqqara\", \"barqu\", \"hangzhou\", \"whorl\", \"kerb\", \"glider\", \"hohenwerfen\", \"benelux\", \"buddhaghosa\", \"ypres\", \"moldovan\", \"rlm\", \"addresse\", \"betamax\", \"schwyz\", \"sauc\", \"kurd\", \"keyword\", \"kurdish\", \"lutheran\", \"pontiac\", \"infomerci\", \"norway\", \"the\", \"norwegian\", \"bandai\", \"war\", \"tank\", \"\", \"french\", \"gun\", \"also\", \"valv\", \"armi\", \"languag\", \"battl\", \"forc\", \"area\", \"use\", \"british\", \"mani\", \"day\", \"this\", \"design\", \"new\", \"it\", \"river\", \"citi\", \"king\", \"two\", \"would\", \"000\", \"includ\", \"in\", \"one\", \"state\", \"year\", \"centuri\", \"time\", \"first\", \"made\", \"peopl\", \"part\", \"govern\", \"may\", \"pager\", \"liposom\", \"ocd\", \"arendt\", \"sme\", \"twelver\", \"hadi\", \"fmc\", \"pbx\", \"beret\", \"gutter\", \"bilay\", \"timex\", \"sql\", \"inciner\", \"cdt\", \"al\\u012b\", \"aop\", \"trachea\", \"qt\", \"dassault\", \"meir\", \"madina\", \"unhcr\", \"hijra\", \"smokeless\", \"entrap\", \"worldcom\", \"glycol\", \"ssris\", \"compuls\", \"imam\", \"aneurysm\", \"ventricular\", \"serotonin\", \"teratogen\", \"obsess\", \"anxieti\", \"disord\", \"phone\", \"health\", \"jargon\", \"israel\", \"medic\", \"adler\", \"al\", \"softwar\", \"patient\", \"shi\", \"drug\", \"use\", \"user\", \"organ\", \"program\", \"servic\", \"\\u2019\", \"effect\", \"system\", \"\", \"treatment\", \"in\", \"develop\", \"public\", \"the\", \"one\", \"person\", \"govern\", \"studi\", \"provid\", \"also\", \"state\", \"busi\", \"may\", \"includ\", \"work\", \"forc\", \"group\", \"it\", \"time\", \"general\", \"mani\", \"year\", \"he\", \"a\", \"dietitian\", \"ddr\", \"sternum\", \"geodes\", \"neutropenia\", \"multicellular\", \"intracellular\", \"mitochondria\", \"\\u015b\\u0101rad\\u0101\", \"ext\", \"nutritionist\", \"chelat\", \"foxtail\", \"melon\", \"fructos\", \"clamp\", \"allergi\", \"neutrophil\", \"cytoplasm\", \"sei\", \"micropipett\", \"hypothalamus\", \"fluoresc\", \"sludg\", \"cooker\", \"crayfish\", \"hypoxia\", \"ibi\", \"fn\", \"intracrani\", \"ioniz\", \"membran\", \"pax\", \"strobe\", \"protein\", \"chord\", \"sonnet\", \"nuclei\", \"embryo\", \"cell\", \"glucos\", \"metadata\", \"whale\", \"insect\", \"speci\", \"egg\", \"tissu\", \"patch\", \"receptor\", \"muscl\", \"pest\", \"bind\", \"optic\", \"use\", \"oxid\", \"food\", \"diffus\", \"pressur\", \"process\", \"the\", \"\", \"may\", \"caus\", \"water\", \"plant\", \"also\", \"produc\", \"this\", \"occur\", \"in\", \"like\", \"a\", \"it\", \"form\", \"bodi\", \"develop\", \"includ\", \"effect\", \"differ\", \"product\", \"system\", \"one\", \"often\", \"two\", \"mani\", \"high\", \"common\", \"time\", \"first\", \"state\"], \"Total\": [78.0, 74.0, 20.0, 11.0, 31.0, 20.0, 11.0, 4.0, 15.0, 11.0, 7.0, 4.0, 7.0, 3.0, 3.0, 15.0, 9.0, 18.0, 15.0, 5.0, 12.0, 14.0, 12.0, 5.0, 6.0, 4.0, 3.0, 5.0, 3.0, 9.0, 1.7075449228286743, 0.1769268661737442, 0.25903937220573425, 0.2058318555355072, 0.8200003504753113, 0.5719993710517883, 0.10101686418056488, 0.4335993528366089, 0.0830487310886383, 0.8710253834724426, 0.12810467183589935, 0.41678115725517273, 0.1631697565317154, 0.16721144318580627, 0.22658562660217285, 0.17643870413303375, 0.07744703441858292, 0.07948727905750275, 0.1871560513973236, 0.26167550683021545, 0.11291840672492981, 0.07980670779943466, 0.3446526825428009, 0.1283242553472519, 0.4913547933101654, 0.07980679720640182, 0.7588205337524414, 0.2895362079143524, 0.05786914750933647, 0.1500965803861618, 1.2590094804763794, 0.6430148482322693, 0.6934124827384949, 0.8316675424575806, 1.6312812566757202, 0.9487691521644592, 0.26646649837493896, 0.21682341396808624, 0.45870310068130493, 3.2228035926818848, 0.3211407959461212, 1.5098379850387573, 2.1631691455841064, 11.131769180297852, 0.39122068881988525, 2.5393357276916504, 1.5406395196914673, 3.7737619876861572, 11.571664810180664, 6.019067287445068, 0.6799983382225037, 0.7862415909767151, 3.9695684909820557, 11.6502685546875, 3.9121711254119873, 3.395312547683716, 5.743076801300049, 4.143094539642334, 9.90200138092041, 6.823835372924805, 3.620105266571045, 15.2579345703125, 14.583721160888672, 4.296682357788086, 3.801543951034546, 18.997344970703125, 5.630255222320557, 2.0544886589050293, 7.045250415802002, 3.392925262451172, 74.07943725585938, 15.919696807861328, 78.04256439208984, 7.359514236450195, 31.023656845092773, 9.378763198852539, 14.69965934753418, 20.352535247802734, 18.00571632385254, 13.442221641540527, 9.95212459564209, 10.123568534851074, 0.25701290369033813, 0.06135781854391098, 1.3410251140594482, 0.126875638961792, 0.05770833045244217, 0.14860324561595917, 0.05553764849901199, 0.22644394636154175, 0.10302862524986267, 0.0617566742002964, 0.047223616391420364, 0.035322245210409164, 0.2378603219985962, 0.1431005746126175, 0.06686980277299881, 0.035463590174913406, 0.0346108004450798, 0.025332627817988396, 0.21388880908489227, 0.16031955182552338, 0.06801577657461166, 0.09804563969373703, 0.22837290167808533, 0.031382907181978226, 0.04322732985019684, 0.27026253938674927, 0.40559616684913635, 0.02658105455338955, 0.0413043387234211, 0.5327734351158142, 0.06554386764764786, 0.26131096482276917, 0.13437816500663757, 0.06255233287811279, 0.5646991729736328, 0.3812636137008667, 2.2984249591827393, 0.19769354164600372, 0.2689436674118042, 0.9774085283279419, 1.9776490926742554, 0.5927779078483582, 0.3207341134548187, 0.37554025650024414, 0.25040146708488464, 0.36830878257751465, 0.4700571596622467, 0.48537275195121765, 1.393140435218811, 7.881328105926514, 1.6163063049316406, 1.2243090867996216, 3.9458696842193604, 3.9893248081207275, 1.1180977821350098, 4.116994857788086, 2.1445701122283936, 2.929448127746582, 3.019336223602295, 2.655304431915283, 74.07943725585938, 9.489413261413574, 1.6868191957473755, 1.4152964353561401, 2.992025136947632, 7.7409820556640625, 31.023656845092773, 6.304660797119141, 14.69965934753418, 78.04256439208984, 9.95212459564209, 18.00571632385254, 3.5044078826904297, 13.442221641540527, 12.925066947937012, 15.919696807861328, 15.135178565979004, 6.470456123352051, 18.997344970703125, 14.583721160888672, 9.021681785583496, 8.748251914978027, 14.146476745605469, 7.087281227111816, 20.352535247802734, 15.2579345703125, 11.571664810180664, 12.451289176940918, 20.762266159057617, 0.07441123574972153, 0.04645634815096855, 0.07776671648025513, 0.05594354122877121, 0.07138428837060928, 0.09273603558540344, 0.03267064318060875, 0.029442226514220238, 0.06884763389825821, 0.19880490005016327, 0.17449656128883362, 0.05337611958384514, 0.019610079005360603, 0.024383408948779106, 0.021929627284407616, 0.029753828421235085, 0.732542872428894, 0.03401247039437294, 0.023676374927163124, 0.020204517990350723, 0.025714417919516563, 0.12174957990646362, 0.8024095892906189, 0.13585928082466125, 0.020672764629125595, 0.38768675923347473, 0.1168329194188118, 0.037179071456193924, 0.028019852936267853, 0.019725380465388298, 0.16678054630756378, 0.1278088539838791, 0.23097681999206543, 0.09642293304204941, 0.3024374544620514, 0.32932358980178833, 0.14274471998214722, 1.3433141708374023, 0.7110408544540405, 0.12342488765716553, 0.7984083890914917, 0.18031418323516846, 0.2608579099178314, 3.049776554107666, 1.3266440629959106, 0.4572378695011139, 0.5030128359794617, 0.8169083595275879, 3.4101805686950684, 0.34741777181625366, 0.7795131802558899, 1.0403637886047363, 1.906146764755249, 2.373286247253418, 0.6993853449821472, 0.7062825560569763, 3.260695219039917, 4.41402530670166, 1.2011735439300537, 0.49407482147216797, 2.945875644683838, 1.3272370100021362, 1.4503213167190552, 4.8318986892700195, 5.322947978973389, 5.449161529541016, 4.981731414794922, 1.5485669374465942, 20.762266159057617, 1.7576148509979248, 5.228079319000244, 7.355807304382324, 74.07943725585938, 14.146476745605469, 78.04256439208984, 15.135178565979004, 2.864112377166748, 31.023656845092773, 8.748251914978027, 20.352535247802734, 4.754724979400635, 2.877423048019409, 12.451289176940918, 6.5813374519348145, 12.925066947937012, 10.123568534851074, 15.919696807861328, 18.00571632385254, 9.047308921813965, 13.442221641540527, 10.559574127197266, 18.997344970703125, 0.1704189032316208, 0.10861758887767792, 0.07131953537464142, 0.10774914175271988, 0.19965910911560059, 0.09308002144098282, 0.07487698644399643, 0.22579316794872284, 0.042674124240875244, 0.16845795512199402, 0.09254898130893707, 0.37388092279434204, 0.05326426029205322, 0.03553296998143196, 0.11539991945028305, 0.07632172107696533, 0.14226719737052917, 0.032372742891311646, 0.03616838902235031, 0.04719207435846329, 0.10589729249477386, 0.08090098947286606, 0.28682541847229004, 0.0743236243724823, 0.032354600727558136, 0.04918082430958748, 0.030443692579865456, 0.022407103329896927, 0.10592636466026306, 0.022282510995864868, 0.13727819919586182, 0.12859773635864258, 0.15482528507709503, 0.26768621802330017, 0.3232361078262329, 0.27388760447502136, 0.081294946372509, 0.7455998659133911, 0.5702524781227112, 0.1498297154903412, 0.9090215563774109, 0.20610855519771576, 0.20370027422904968, 0.33433952927589417, 0.23139996826648712, 4.10060977935791, 0.7382552027702332, 78.04256439208984, 2.7700562477111816, 3.7260868549346924, 0.524251401424408, 2.59208083152771, 74.07943725585938, 6.646997928619385, 5.5074872970581055, 1.4266647100448608, 2.1368839740753174, 0.46823498606681824, 2.6884765625, 20.762266159057617, 0.7361301183700562, 31.023656845092773, 8.544230461120605, 12.451289176940918, 3.924633502960205, 2.602872610092163, 18.00571632385254, 20.352535247802734, 13.442221641540527, 6.653083801269531, 8.427909851074219, 5.577364444732666, 3.58514666557312, 3.9539384841918945, 9.021681785583496, 7.3393025398254395, 9.047308921813965, 6.013088703155518, 14.583721160888672, 18.997344970703125, 12.925066947937012, 14.69965934753418, 7.045250415802002, 14.146476745605469, 10.559574127197266, 15.135178565979004, 0.17352797091007233, 0.07801022380590439, 0.06814350187778473, 0.10737315565347672, 0.0558263324201107, 0.041075095534324646, 0.1725507229566574, 0.03464939817786217, 0.026639293879270554, 0.023408014327287674, 0.04148092493414879, 0.2670429050922394, 0.019324809312820435, 0.05220483988523483, 0.027531061321496964, 0.02393382601439953, 0.016372857615351677, 0.022878393530845642, 0.017003148794174194, 0.10590757429599762, 0.019697565585374832, 0.13429684937000275, 0.07634903490543365, 0.016405170783400536, 0.031231455504894257, 0.013086999766528606, 0.02074158936738968, 0.022741692140698433, 0.011870056390762329, 0.020502865314483643, 0.1532297432422638, 0.08495809882879257, 0.11002454906702042, 0.12523281574249268, 4.005359172821045, 0.06317400932312012, 2.4885122776031494, 2.548474073410034, 0.6614581942558289, 0.3795112073421478, 0.15367847681045532, 0.46962788701057434, 0.29137739539146423, 0.23461389541625977, 0.6770825982093811, 0.4483463168144226, 1.1532186269760132, 2.055967330932617, 0.5157755613327026, 78.04256439208984, 3.9845292568206787, 0.9071148037910461, 1.8647702932357788, 2.233173370361328, 2.670247793197632, 5.798367500305176, 74.07943725585938, 4.416774272918701, 15.2579345703125, 6.308711051940918, 2.468600273132324, 2.4932639598846436, 31.023656845092773, 3.7491531372070312, 7.879622459411621, 4.852590084075928, 3.7073724269866943, 20.352535247802734, 4.582123756408691, 14.146476745605469, 18.00571632385254, 3.8188416957855225, 18.997344970703125, 14.69965934753418, 12.451289176940918, 15.919696807861328, 10.559574127197266, 13.442221641540527, 7.348710536956787, 9.90200138092041, 8.544230461120605, 12.925066947937012, 10.123568534851074, 15.135178565979004, 0.25397220253944397, 0.2679205536842346, 0.07781007140874863, 0.02125154808163643, 0.043655697256326675, 0.024265671148896217, 0.022200727835297585, 0.19032573699951172, 0.014956661500036716, 0.03060109168291092, 0.06226825341582298, 0.01169152744114399, 0.07243231683969498, 0.023568641394376755, 0.01684708334505558, 0.11865234375, 0.06138192117214203, 0.12454867362976074, 0.14396099746227264, 0.011138904839754105, 0.014728670008480549, 0.048105932772159576, 0.04001351073384285, 0.016610436141490936, 0.01446068100631237, 0.0914839655160904, 0.011461486108601093, 0.026502573862671852, 0.07436692714691162, 0.023507041856646538, 0.46543848514556885, 0.1351909190416336, 0.03705567121505737, 0.20694972574710846, 0.12936146557331085, 0.04491797089576721, 0.8075275421142578, 0.9390552639961243, 0.19198565185070038, 0.2152063101530075, 0.537105143070221, 0.09320074319839478, 0.8474556803703308, 0.4389638900756836, 0.6113510727882385, 3.9539384841918945, 1.2296135425567627, 1.8541724681854248, 0.7027058005332947, 4.10060977935791, 78.04256439208984, 4.416774272918701, 0.8994946479797363, 3.7260868549346924, 2.7114291191101074, 3.245375871658325, 2.929448127746582, 1.9634974002838135, 1.9062926769256592, 31.023656845092773, 1.2271654605865479, 74.07943725585938, 15.135178565979004, 7.881328105926514, 6.057837963104248, 1.8120472431182861, 12.925066947937012, 7.879622459411621, 14.146476745605469, 20.352535247802734, 6.304660797119141, 6.108818054199219, 20.762266159057617, 18.997344970703125, 8.748251914978027, 9.489413261413574, 5.5074872970581055, 7.211333274841309, 18.00571632385254, 8.427909851074219, 14.69965934753418, 15.2579345703125, 10.123568534851074, 9.95212459564209, 0.08769699186086655, 0.037035729736089706, 0.030361436307430267, 0.06640741974115372, 0.02493404597043991, 0.057017695158720016, 0.012692388147115707, 0.03365844115614891, 0.014805671758949757, 0.016359634697437286, 0.02931804768741131, 0.013452294282615185, 0.04673425853252411, 0.03306989371776581, 0.012673215940594673, 0.0498664565384388, 0.01643180660903454, 0.01097720954567194, 0.010929737240076065, 0.021549386903643608, 0.03597553074359894, 0.015549835748970509, 0.07121927291154861, 0.010789483785629272, 0.045723117887973785, 0.010162260383367538, 0.03504802659153938, 0.020094778388738632, 0.25116440653800964, 0.014050347730517387, 0.322821706533432, 0.12233024835586548, 0.07787349075078964, 0.05022786557674408, 0.07087922841310501, 0.21941259503364563, 0.1686965525150299, 0.6376556754112244, 0.45263242721557617, 0.033616069704294205, 0.31740158796310425, 0.05050300806760788, 2.085463047027588, 0.359218955039978, 0.17091330885887146, 1.0478215217590332, 1.5100724697113037, 5.2446160316467285, 20.762266159057617, 1.556322693824768, 0.33991801738739014, 78.04256439208984, 2.59208083152771, 3.7164885997772217, 7.355807304382324, 74.07943725585938, 1.7533907890319824, 1.2894258499145508, 1.696763515472412, 3.2068121433258057, 3.2137343883514404, 1.9823399782180786, 7.550344944000244, 0.501268744468689, 31.023656845092773, 20.352535247802734, 9.378763198852539, 15.135178565979004, 18.00571632385254, 9.047308921813965, 9.021681785583496, 4.788243770599365, 5.025725841522217, 10.559574127197266, 12.925066947937012, 12.451289176940918, 6.5813374519348145, 5.449161529541016, 14.69965934753418, 8.748251914978027, 14.146476745605469, 18.997344970703125, 13.442221641540527, 11.6502685546875, 15.919696807861328, 10.123568534851074, 0.06316520273685455, 0.027450276538729668, 0.017132587730884552, 0.012653387151658535, 0.3191317319869995, 0.040120042860507965, 0.014953378587961197, 0.019433200359344482, 0.04529954120516777, 0.01085464097559452, 0.009358029812574387, 0.010453308001160622, 0.01070757769048214, 0.007687069941312075, 0.007054144982248545, 0.02901587076485157, 0.007288211025297642, 0.017960315570235252, 0.01111734937876463, 0.02290808968245983, 0.006711221765726805, 0.006496752146631479, 0.010781776160001755, 0.0064834970980882645, 0.019803788512945175, 0.006982536520808935, 0.0266839861869812, 0.04205947369337082, 0.01235782541334629, 0.06489424407482147, 0.01656910963356495, 0.01595401205122471, 0.06415309756994247, 0.09840404242277145, 0.12140252441167831, 0.07149949669837952, 0.1471453756093979, 0.03032909519970417, 0.23307305574417114, 0.08291970193386078, 0.0411890372633934, 0.068658247590065, 0.06922891736030579, 0.47304078936576843, 1.1176245212554932, 5.025725841522217, 3.7491531372070312, 2.58562970161438, 3.122926712036133, 0.7718889713287354, 0.501268744468689, 74.07943725585938, 0.4831335246562958, 15.919696807861328, 78.04256439208984, 1.7444208860397339, 14.146476745605469, 2.9987831115722656, 1.662861704826355, 31.023656845092773, 18.997344970703125, 4.981731414794922, 2.4667649269104004, 12.925066947937012, 14.69965934753418, 20.352535247802734, 18.00571632385254, 4.852590084075928, 15.135178565979004, 11.6502685546875, 5.2446160316467285, 9.95212459564209, 9.90200138092041, 3.659940004348755, 4.14776086807251, 2.085463047027588, 9.489413261413574, 8.748251914978027, 13.442221641540527, 7.7409820556640625, 10.123568534851074, 10.559574127197266, 11.131769180297852, 14.583721160888672, 20.762266159057617, 15.2579345703125, 0.12510676681995392, 0.106878861784935, 0.1028628721833229, 0.04448900371789932, 0.0694885104894638, 0.048100244253873825, 0.08541807532310486, 0.03429137542843819, 0.036967433989048004, 0.04381456971168518, 0.026778340339660645, 0.13385087251663208, 0.5382675528526306, 0.021878181025385857, 0.013027157634496689, 0.03578426316380501, 0.018349435180425644, 0.07668734341859818, 0.16463327407836914, 0.03816752880811691, 0.03841777890920639, 0.014937272295355797, 0.008259354159235954, 0.24918915331363678, 0.01817593351006508, 0.020167870447039604, 0.009607751853764057, 0.01277095079421997, 0.010462241247296333, 0.02741636149585247, 0.06604671478271484, 0.0771520808339119, 0.0402291901409626, 0.5583828091621399, 0.27560025453567505, 0.051662370562553406, 0.12141542136669159, 0.08757015317678452, 0.5266819596290588, 0.19122344255447388, 0.5730776190757751, 1.2468544244766235, 0.22609741985797882, 0.22337472438812256, 1.6858967542648315, 0.37929806113243103, 0.40811285376548767, 1.8933700323104858, 0.20626120269298553, 0.23101404309272766, 0.32164567708969116, 2.187959909439087, 0.2987867593765259, 0.6225605010986328, 5.763299465179443, 74.07943725585938, 4.41402530670166, 78.04256439208984, 2.840735673904419, 2.6281890869140625, 15.135178565979004, 1.3572484254837036, 2.9004008769989014, 31.023656845092773, 7.7409820556640625, 1.7593241930007935, 12.451289176940918, 3.924856185913086, 15.919696807861328, 20.352535247802734, 6.5813374519348145, 2.563880443572998, 18.00571632385254, 10.559574127197266, 12.925066947937012, 20.762266159057617, 5.228079319000244, 9.489413261413574, 9.95212459564209, 18.997344970703125, 9.378763198852539, 7.879622459411621, 8.748251914978027, 8.427909851074219, 0.07648741453886032, 0.06111953407526016, 0.06429373472929001, 0.08000583201646805, 0.35771968960762024, 0.022961322218179703, 0.016177313402295113, 0.026425154879689217, 0.01619897037744522, 0.026844093576073647, 0.09461724758148193, 0.011965906247496605, 0.01324490550905466, 0.05078917741775513, 0.016581356525421143, 0.05316206440329552, 0.012304840609431267, 0.008717886172235012, 0.023574260994791985, 0.04870256409049034, 0.007893397472798824, 0.007219050545245409, 0.02076716534793377, 0.010099673643708229, 0.008993959985673428, 0.02102775312960148, 0.009263894520699978, 0.02948414348065853, 0.006733896676450968, 0.006866223178803921, 0.021353058516979218, 0.06244862079620361, 0.08198636770248413, 0.05274270847439766, 0.05742401257157326, 0.11377314478158951, 0.21773700416088104, 0.22275565564632416, 0.2916409373283386, 0.5670928359031677, 74.07943725585938, 0.43493157625198364, 0.09164153784513474, 7.881328105926514, 0.452938973903656, 78.04256439208984, 2.811131238937378, 0.6132463216781616, 20.352535247802734, 0.6672332286834717, 3.9893248081207275, 3.7260868549346924, 2.801074504852295, 5.980345726013184, 5.763299465179443, 20.762266159057617, 4.116994857788086, 8.427909851074219, 6.494471073150635, 9.047308921813965, 4.754724979400635, 14.146476745605469, 12.451289176940918, 2.6570401191711426, 7.7409820556640625, 3.5044078826904297, 13.442221641540527, 10.123568534851074, 4.653663158416748, 12.925066947937012, 31.023656845092773, 18.00571632385254, 15.135178565979004, 15.919696807861328, 5.5074872970581055, 14.69965934753418, 18.997344970703125, 6.839122772216797, 6.108818054199219, 7.3393025398254395, 6.304660797119141, 9.021681785583496, 0.04791361838579178, 0.0509338416159153, 0.232957124710083, 0.11350452899932861, 0.02413238026201725, 0.04180058091878891, 0.04963662475347519, 0.021702175959944725, 0.032558128237724304, 0.18077589571475983, 0.0359308198094368, 0.016120363026857376, 0.01180099043995142, 0.03311126306653023, 0.02020142786204815, 0.022944025695323944, 0.07087401300668716, 0.01680026948451996, 0.02516718953847885, 0.012120414525270462, 0.025133751332759857, 0.010047608986496925, 0.059973616153001785, 0.049268193542957306, 0.011977385729551315, 0.017636101692914963, 0.02258347161114216, 0.01586858183145523, 0.1474405974149704, 0.015146167017519474, 0.16915789246559143, 0.5320174694061279, 0.045653194189071655, 0.091917984187603, 0.07558432221412659, 0.04918411746621132, 0.21604615449905396, 0.1569158285856247, 0.5481246113777161, 0.38506826758384705, 1.6263788938522339, 0.21586494147777557, 0.7373157739639282, 1.3486886024475098, 0.11927419900894165, 3.801543951034546, 0.8427053093910217, 0.8941448926925659, 0.20817166566848755, 0.6265944242477417, 20.762266159057617, 0.9751609563827515, 3.75160551071167, 3.659940004348755, 5.322947978973389, 3.58823561668396, 3.6303250789642334, 7.355807304382324, 78.04256439208984, 1.0686707496643066, 31.023656845092773, 6.5813374519348145, 4.14776086807251, 74.07943725585938, 18.00571632385254, 3.6734185218811035, 6.304660797119141, 3.024301528930664, 4.281605243682861, 20.352535247802734, 15.135178565979004, 2.6491711139678955, 9.021681785583496, 12.925066947937012, 7.879622459411621, 5.980345726013184, 6.013088703155518, 12.451289176940918, 14.69965934753418, 7.087281227111816, 8.427909851074219, 15.919696807861328, 15.2579345703125, 10.559574127197266, 0.26494747400283813, 0.06797028332948685, 0.04973319172859192, 0.023629069328308105, 0.04305865243077278, 0.08400927484035492, 0.025550074875354767, 0.02349507436156273, 0.0165239404886961, 0.025702184066176414, 0.021304689347743988, 0.016788214445114136, 0.014700434170663357, 0.04505842551589012, 0.01626231148838997, 0.052159007638692856, 0.05701557919383049, 0.023585157468914986, 0.0206815917044878, 0.03704874590039253, 0.011286905966699123, 0.03975588083267212, 0.14167611300945282, 0.08491133153438568, 0.023375822231173515, 0.023609472438693047, 0.020627794787287712, 0.11690123379230499, 0.010067502968013287, 0.017379993572831154, 0.04304229095578194, 0.2203015685081482, 0.05503261461853981, 0.12494880706071854, 0.35576796531677246, 0.2633810043334961, 0.058054376393556595, 0.06367263197898865, 0.06549075245857239, 1.137176513671875, 0.07497446984052658, 0.0738355964422226, 0.5006372928619385, 0.1819142997264862, 1.5826494693756104, 0.36771026253700256, 0.2560049891471863, 0.24741432070732117, 0.13761471211910248, 0.28026261925697327, 0.09107071161270142, 0.2942941188812256, 0.417873352766037, 20.762266159057617, 0.23501837253570557, 1.6045933961868286, 0.2450360357761383, 1.4241981506347656, 2.767735242843628, 74.07943725585938, 78.04256439208984, 9.021681785583496, 2.9502296447753906, 2.563880443572998, 1.838108777999878, 20.352535247802734, 4.114474296569824, 9.047308921813965, 1.8975090980529785, 31.023656845092773, 4.831792831420898, 10.559574127197266, 12.451289176940918, 6.646997928619385, 2.2965340614318848, 6.5813374519348145, 12.925066947937012, 3.6303250789642334, 4.788243770599365, 5.228079319000244, 7.355807304382324, 18.00571632385254, 4.178701877593994, 13.442221641540527, 8.427909851074219, 6.513939380645752, 3.924633502960205, 14.69965934753418, 18.997344970703125, 15.135178565979004], \"loglift\": [30.0, 29.0, 28.0, 27.0, 26.0, 25.0, 24.0, 23.0, 22.0, 21.0, 20.0, 19.0, 18.0, 17.0, 16.0, 15.0, 14.0, 13.0, 12.0, 11.0, 10.0, 9.0, 8.0, 7.0, 6.0, 5.0, 4.0, 3.0, 2.0, 1.0, 1.5218000411987305, 1.520300030708313, 1.5187000036239624, 1.5154999494552612, 1.5146000385284424, 1.5139000415802002, 1.5127999782562256, 1.5125000476837158, 1.5121999979019165, 1.5118000507354736, 1.5116000175476074, 1.511299967765808, 1.5097999572753906, 1.5087000131607056, 1.5056999921798706, 1.5046000480651855, 1.503999948501587, 1.5037000179290771, 1.5033999681472778, 1.5026999711990356, 1.5025999546051025, 1.5013999938964844, 1.5009000301361084, 1.5008000135421753, 1.4996999502182007, 1.4996000528335571, 1.4996000528335571, 1.4990999698638916, 1.4989999532699585, 1.498900055885315, 1.4962999820709229, 1.4948999881744385, 1.4930000305175781, 1.4902000427246094, 1.482200026512146, 1.486299991607666, 1.496999979019165, 1.4975999593734741, 1.4859000444412231, 1.4301999807357788, 1.4867000579833984, 1.437999963760376, 1.3977999687194824, 1.3078999519348145, 1.472000002861023, 1.3523000478744507, 1.3619999885559082, 1.2828999757766724, 1.187399983406067, 1.232800006866455, 1.4164999723434448, 1.401900053024292, 1.2384999990463257, 1.1166000366210938, 1.2157000303268433, 1.2171000242233276, 1.1402000188827515, 1.1683000326156616, 1.0200999975204468, 1.0765999555587769, 1.1562000513076782, 0.9027000069618225, 0.8503000140190125, 1.0906000137329102, 1.0684000253677368, 0.6013000011444092, 0.9308000206947327, 1.2204999923706055, 0.7972999811172485, 1.0490000247955322, -0.07479999959468842, 0.40689998865127563, -0.33959999680519104, 0.7069000005722046, -0.05050000175833702, 0.5177000164985657, 0.24220000207424164, 0.02500000037252903, -0.015399999916553497, 0.07689999788999557, 0.2930000126361847, 0.25189998745918274, 1.8990000486373901, 1.885699987411499, 1.885599970817566, 1.8854999542236328, 1.882099986076355, 1.8794000148773193, 1.8695000410079956, 1.8690999746322632, 1.868899941444397, 1.8674999475479126, 1.8633999824523926, 1.8605999946594238, 1.8561999797821045, 1.8449000120162964, 1.8446999788284302, 1.8427000045776367, 1.8421000242233276, 1.8279000520706177, 1.8242000341415405, 1.8179999589920044, 1.8169000148773193, 1.8158999681472778, 1.815600037574768, 1.8107999563217163, 1.8099000453948975, 1.8087999820709229, 1.808500051498413, 1.8071000576019287, 1.8069000244140625, 1.806399941444397, 1.8049999475479126, 1.77839994430542, 1.7906999588012695, 1.8027000427246094, 1.7416000366210938, 1.7226999998092651, 1.6069999933242798, 1.746899962425232, 1.7117999792099, 1.6089999675750732, 1.5504000186920166, 1.639299988746643, 1.6901999711990356, 1.6663000583648682, 1.7037999629974365, 1.6491999626159668, 1.6103999614715576, 1.5937000513076782, 1.3848999738693237, 1.0194000005722046, 1.3106000423431396, 1.3686000108718872, 1.0786999464035034, 1.0263999700546265, 1.3143999576568604, 0.9559999704360962, 1.1374000310897827, 1.0226000547409058, 1.0058000087738037, 1.0342999696731567, -0.03220000118017197, 0.6092000007629395, 1.163699984550476, 1.2131999731063843, 0.9196000099182129, 0.5631999969482422, 0.009800000116229057, 0.5898000001907349, 0.2492000013589859, -0.4564000070095062, 0.36730000376701355, 0.0892999991774559, 0.8084999918937683, 0.16110000014305115, 0.17399999499320984, 0.06780000030994415, 0.05829999968409538, 0.46309998631477356, -0.1818999946117401, -0.120899997651577, 0.1882999986410141, 0.2079000025987625, -0.11270000040531158, 0.33160001039505005, -0.4521999955177307, -0.29600000381469727, -0.09560000151395798, -0.1768999993801117, -0.703000009059906, 2.1514999866485596, 2.1380999088287354, 2.1354000568389893, 2.132999897003174, 2.127500057220459, 2.123800039291382, 2.1101999282836914, 2.095400094985962, 2.0910000801086426, 2.089400053024292, 2.088399887084961, 2.0878000259399414, 2.081700086593628, 2.079699993133545, 2.0752999782562256, 2.07450008392334, 2.0734000205993652, 2.071899890899658, 2.0713999271392822, 2.0713000297546387, 2.0676000118255615, 2.0620999336242676, 2.0546000003814697, 2.0536999702453613, 2.051100015640259, 2.0497000217437744, 2.049099922180176, 2.049099922180176, 2.047100067138672, 2.0459001064300537, 2.042799949645996, 2.0394999980926514, 2.032399892807007, 2.0404999256134033, 2.0220000743865967, 2.013400077819824, 2.032599925994873, 1.9630000591278076, 1.9663000106811523, 2.0239999294281006, 1.9443000555038452, 1.995300054550171, 1.9615999460220337, 1.7764999866485596, 1.8389999866485596, 1.9046000242233276, 1.886199951171875, 1.82669997215271, 1.6620999574661255, 1.9062000513076782, 1.795699954032898, 1.75409996509552, 1.6670000553131104, 1.6160999536514282, 1.792099952697754, 1.784600019454956, 1.5094000101089478, 1.4306999444961548, 1.6627999544143677, 1.8221999406814575, 1.4765000343322754, 1.6295000314712524, 1.6095000505447388, 1.3349000215530396, 1.2386000156402588, 1.2218999862670898, 1.228600025177002, 1.5341999530792236, 0.6901999711990356, 1.4316999912261963, 1.0049999952316284, 0.8436999917030334, -0.12080000340938568, 0.5185999870300293, -0.36010000109672546, 0.3937000036239624, 1.1891000270843506, -0.12479999661445618, 0.5515999794006348, 0.04050000011920929, 0.8600000143051147, 1.1504000425338745, 0.17870000004768372, 0.5728999972343445, 0.0812000036239624, 0.24369999766349792, -0.0934000015258789, -0.2484000027179718, 0.2890999913215637, -0.04619999974966049, 0.14880000054836273, -0.39989998936653137, 2.20770001411438, 2.205899953842163, 2.1967999935150146, 2.1944000720977783, 2.1900999546051025, 2.18530011177063, 2.182800054550171, 2.177500009536743, 2.17330002784729, 2.16510009765625, 2.163800001144409, 2.1619999408721924, 2.1612000465393066, 2.159600019454956, 2.1591999530792236, 2.1584999561309814, 2.1584999561309814, 2.1535000801086426, 2.1465001106262207, 2.1435000896453857, 2.140500068664551, 2.137399911880493, 2.136399984359741, 2.133500099182129, 2.128499984741211, 2.128200054168701, 2.126199960708618, 2.1252999305725098, 2.1196000576019287, 2.1180999279022217, 2.117500066757202, 2.1098999977111816, 2.0938000679016113, 2.071500062942505, 2.0383999347686768, 2.033900022506714, 2.102799892425537, 1.9285000562667847, 1.9423999786376953, 2.05049991607666, 1.8702000379562378, 2.0136001110076904, 2.0011000633239746, 1.930400013923645, 1.9424999952316284, 1.2897000312805176, 1.6527999639511108, 0.4077000021934509, 1.2752000093460083, 1.152999997138977, 1.69760000705719, 1.2275999784469604, 0.2531999945640564, 0.8741000294685364, 0.9251000285148621, 1.3559000492095947, 1.2093000411987305, 1.7122000455856323, 1.1172000169754028, 0.3944999873638153, 1.5537999868392944, 0.20319999754428864, 0.5848000049591064, 0.3952000141143799, 0.8654999732971191, 1.0302000045776367, 0.20970000326633453, 0.13950000703334808, 0.23800000548362732, 0.527400016784668, 0.4002000093460083, 0.5878999829292297, 0.8047999739646912, 0.7404999732971191, 0.27559998631477356, 0.387800008058548, 0.24940000474452972, 0.4855000078678131, -0.11659999936819077, -0.3864000141620636, -0.1509999930858612, -0.2793999910354614, 0.2897999882698059, -0.3463999927043915, -0.1543000042438507, -0.5094000101089478, 2.48009991645813, 2.476900100708008, 2.4670000076293945, 2.4591000080108643, 2.4453999996185303, 2.444200038909912, 2.428800106048584, 2.4021999835968018, 2.3982999324798584, 2.392699956893921, 2.391400098800659, 2.3889000415802, 2.386699914932251, 2.380000114440918, 2.3743999004364014, 2.372499942779541, 2.370699882507324, 2.368499994277954, 2.3664000034332275, 2.354300022125244, 2.351799964904785, 2.348299980163574, 2.3459999561309814, 2.345900058746338, 2.3438000679016113, 2.340100049972534, 2.3203999996185303, 2.319499969482422, 2.3096001148223877, 2.297100067138672, 2.2923998832702637, 2.291100025177002, 2.2462000846862793, 2.2184998989105225, 1.9743000268936157, 2.2511000633239746, 1.9478000402450562, 1.8690999746322632, 2.001499891281128, 1.9814000129699707, 2.106100082397461, 1.9250999689102173, 1.986799955368042, 2.0132999420166016, 1.8264000415802002, 1.8983999490737915, 1.6712000370025635, 1.534999966621399, 1.829300045967102, 0.6471999883651733, 1.3236000537872314, 1.6196000576019287, 1.3990999460220337, 1.3423999547958374, 1.232300043106079, 0.9769999980926514, 0.12409999966621399, 1.0401999950408936, 0.5414000153541565, 0.8180999755859375, 1.1721999645233154, 1.1612999439239502, 0.12600000202655792, 0.9679999947547913, 0.6352999806404114, 0.84170001745224, 0.9254999756813049, 0.11479999870061874, 0.8148999810218811, 0.22310000658035278, 0.07259999960660934, 0.8787000179290771, -0.018200000748038292, 0.09210000187158585, 0.17820000648498535, 0.007600000128149986, 0.16910000145435333, -0.006200000178068876, 0.391400009393692, 0.14560000598430634, 0.20149999856948853, -0.1607999950647354, 0.03590000048279762, -0.34200000762939453, 2.7351999282836914, 2.721400022506714, 2.716900110244751, 2.6819000244140625, 2.6624999046325684, 2.6440999507904053, 2.640399932861328, 2.6312999725341797, 2.6147000789642334, 2.607800006866455, 2.603600025177002, 2.5992000102996826, 2.594099998474121, 2.587899923324585, 2.57669997215271, 2.5706000328063965, 2.5627999305725098, 2.561300039291382, 2.5601999759674072, 2.5518999099731445, 2.5404000282287598, 2.521399974822998, 2.5169999599456787, 2.5165998935699463, 2.506500005722046, 2.5037999153137207, 2.4983999729156494, 2.4964001178741455, 2.4951999187469482, 2.4828999042510986, 2.4776999950408936, 2.4558000564575195, 2.46589994430542, 2.378700017929077, 2.3796000480651855, 2.450700044631958, 2.1644999980926514, 2.140500068664551, 2.2571001052856445, 2.2288999557495117, 2.0975000858306885, 2.3269999027252197, 1.929800033569336, 1.9464000463485718, 1.8562999963760376, 1.3702000379562378, 1.6485999822616577, 1.5364999771118164, 1.791200041770935, 1.3007999658584595, 0.47110000252723694, 1.2157000303268433, 1.7200000286102295, 1.2625000476837158, 1.344099998474121, 1.247499942779541, 1.1978000402450562, 1.3259999752044678, 1.3352999687194824, 0.16760000586509705, 1.503999948501587, -0.3434999883174896, 0.31540000438690186, 0.5806000232696533, 0.6894999742507935, 1.263200044631958, 0.2281000018119812, 0.48750001192092896, 0.13429999351501465, -0.09629999846220016, 0.5674999952316284, 0.5849000215530396, -0.19769999384880066, -0.20479999482631683, 0.30379998683929443, 0.2402999997138977, 0.6140999794006348, 0.37709999084472656, -0.29350000619888306, 0.2198999971151352, -0.26489999890327454, -0.301800012588501, 0.03790000081062317, 0.037300001829862595, 2.8882999420166016, 2.872299909591675, 2.8659000396728516, 2.844399929046631, 2.7853000164031982, 2.7781999111175537, 2.765899896621704, 2.7639000415802, 2.763400077819824, 2.7625999450683594, 2.7597999572753906, 2.759399890899658, 2.756999969482422, 2.7383999824523926, 2.7339999675750732, 2.7246999740600586, 2.7223000526428223, 2.7188000679016113, 2.7165000438690186, 2.6921000480651855, 2.6900999546051025, 2.6874001026153564, 2.6814000606536865, 2.679500102996826, 2.674099922180176, 2.660900115966797, 2.6565001010894775, 2.652600049972534, 2.6512999534606934, 2.6412999629974365, 2.6161999702453613, 2.621799945831299, 2.616499900817871, 2.628000020980835, 2.5650999546051025, 2.4598000049591064, 2.4563000202178955, 2.2293999195098877, 2.188999891281128, 2.5899999141693115, 2.1438000202178955, 2.4986000061035156, 1.6720000505447388, 2.027899980545044, 2.196899890899658, 1.7202999591827393, 1.6246000528335571, 1.2058000564575195, 0.7318000197410583, 1.4996000528335571, 1.9774999618530273, 0.20679999887943268, 1.3113000392913818, 1.181399941444397, 0.9142000079154968, 0.021900000050663948, 1.3525999784469604, 1.4638999700546265, 1.3325999975204468, 1.0636999607086182, 1.0579999685287476, 1.231600046157837, 0.6439999938011169, 1.804800033569336, -0.06340000033378601, 0.05790000036358833, 0.42829999327659607, 0.14480000734329224, 0.054099999368190765, 0.37299999594688416, 0.3677000105381012, 0.6984999775886536, 0.6510000228881836, 0.19380000233650208, 0.03680000081658363, 0.04859999939799309, 0.460099995136261, 0.5734999775886536, -0.1363999992609024, 0.21799999475479126, -0.14169999957084656, -0.43540000915527344, -0.16699999570846558, -0.12970000505447388, -0.4571000039577484, -0.03739999979734421, 2.962599992752075, 2.890000104904175, 2.844099998474121, 2.8004000186920166, 2.7997000217437744, 2.7994000911712646, 2.7981998920440674, 2.791300058364868, 2.759200096130371, 2.745300054550171, 2.734999895095825, 2.7304000854492188, 2.720599889755249, 2.7177000045776367, 2.713599920272827, 2.712599992752075, 2.7072999477386475, 2.706399917602539, 2.7053000926971436, 2.704400062561035, 2.6874001026153564, 2.6858999729156494, 2.6844000816345215, 2.6814000606536865, 2.675800085067749, 2.671799898147583, 2.671299934387207, 2.670099973678589, 2.6593000888824463, 2.656899929046631, 2.65310001373291, 2.644700050354004, 2.5741000175476074, 2.552299976348877, 2.464600086212158, 2.492500066757202, 2.4179000854492188, 2.558000087738037, 2.2035000324249268, 2.3533999919891357, 2.476599931716919, 2.356600046157837, 2.3208000659942627, 1.8661999702453613, 1.5951999425888062, 1.2125999927520752, 1.2621999979019165, 1.3009999990463257, 1.2400000095367432, 1.590999960899353, 1.7120000123977661, 0.15060000121593475, 1.7127000093460083, 0.5785999894142151, -0.014800000004470348, 1.253000020980835, 0.4453999996185303, 0.9901000261306763, 1.2005000114440918, 0.08550000190734863, 0.24729999899864197, 0.729200005531311, 1.006500005722046, 0.27639999985694885, 0.20980000495910645, 0.057500001043081284, 0.11180000007152557, 0.6909999847412109, 0.1738000065088272, 0.28360000252723694, 0.6467000246047974, 0.26980000734329224, 0.2434999942779541, 0.7700999975204468, 0.6861000061035156, 1.0614999532699585, 0.2257000058889389, 0.257099986076355, -0.03920000046491623, 0.2903999984264374, 0.024800000712275505, -0.039799999445676804, -0.10350000113248825, -0.3303999900817871, -0.6434999704360962, -0.4320000112056732, 3.1019999980926514, 3.094099998474121, 3.0827999114990234, 3.0690999031066895, 3.0631000995635986, 3.0613999366760254, 3.058199882507324, 3.0517001152038574, 3.0406999588012695, 3.039599895477295, 3.030400037765503, 3.0051000118255615, 2.9790000915527344, 2.9721999168395996, 2.9614999294281006, 2.9572999477386475, 2.9565000534057617, 2.9444000720977783, 2.9407999515533447, 2.9265999794006348, 2.9147000312805176, 2.9063000679016113, 2.904599905014038, 2.8961000442504883, 2.893399953842163, 2.8933000564575195, 2.8794000148773193, 2.8773999214172363, 2.8757998943328857, 2.8715999126434326, 2.867300033569336, 2.851300001144409, 2.8548998832702637, 2.772900104522705, 2.749000072479248, 2.8297998905181885, 2.768899917602539, 2.788800001144409, 2.61899995803833, 2.711899995803833, 2.5618999004364014, 2.467900037765503, 2.595099925994873, 2.587899923324585, 2.1958999633789062, 2.438800096511841, 2.41759991645813, 1.9878000020980835, 2.5513999462127686, 2.5148000717163086, 2.4182000160217285, 1.8593000173568726, 2.396899938583374, 2.1463000774383545, 1.281499981880188, -0.014600000344216824, 1.1962000131607056, -0.12330000102519989, 1.3661999702453613, 1.3539999723434448, 0.445499986410141, 1.6399999856948853, 1.2308000326156616, -0.05869999900460243, 0.5521000027656555, 1.4082000255584717, 0.24660000205039978, 0.9128999710083008, 0.017999999225139618, -0.16099999845027924, 0.5526999831199646, 1.15910005569458, -0.16359999775886536, 0.1712000072002411, 0.026900000870227814, -0.3066999912261963, 0.65420001745224, 0.19949999451637268, 0.14190000295639038, -0.37040001153945923, 0.1784999966621399, 0.28619998693466187, 0.18529999256134033, 0.16660000383853912, 3.1210999488830566, 3.1126999855041504, 3.107800006866455, 3.097399950027466, 3.0471999645233154, 3.0394999980926514, 3.0281999111175537, 2.9948999881744385, 2.9737000465393066, 2.9588000774383545, 2.9572999477386475, 2.954400062561035, 2.919800043106079, 2.901700019836426, 2.895699977874756, 2.891900062561035, 2.8882999420166016, 2.884500026702881, 2.8503000736236572, 2.8433001041412354, 2.834700107574463, 2.8345000743865967, 2.8271000385284424, 2.8041000366210938, 2.800100088119507, 2.794600009918213, 2.786099910736084, 2.7657999992370605, 2.74429988861084, 2.7441999912261963, 2.7230000495910645, 2.6898000240325928, 2.631200075149536, 2.5799999237060547, 2.5281999111175537, 2.423099994659424, 2.2397000789642334, 2.2251999378204346, 2.0322000980377197, 1.805799961090088, 0.3402999937534332, 1.8203999996185303, 2.311000108718872, 0.817799985408783, 1.7329000234603882, -0.13220000267028809, 1.062000036239624, 1.6166000366210938, 0.2793000042438507, 1.5779000520706177, 0.8726999759674072, 0.892300009727478, 0.9854000210762024, 0.651199996471405, 0.6570000052452087, 0.05420000106096268, 0.7422000169754028, 0.4122999906539917, 0.4909000098705292, 0.3260999917984009, 0.6333000063896179, 0.09570000320672989, 0.13249999284744263, 0.9075999855995178, 0.3564000129699707, 0.7544000148773193, 0.03889999911189079, 0.18649999797344208, 0.6007999777793884, 0.032099999487400055, -0.46889999508857727, -0.16949999332427979, -0.10270000249147415, -0.15870000422000885, 0.46000000834465027, -0.16380000114440918, -0.33379998803138733, 0.31859999895095825, 0.3840999901294708, 0.22269999980926514, 0.3481000065803528, -0.019099999219179153, 3.119499921798706, 3.117300033569336, 3.1038999557495117, 3.0455000400543213, 3.0441999435424805, 3.0369999408721924, 3.035900115966797, 3.025899887084961, 3.0197999477386475, 3.0035998821258545, 3.002000093460083, 3.0004000663757324, 3.0, 2.99429988861084, 2.9855000972747803, 2.9723000526428223, 2.971299886703491, 2.9635000228881836, 2.959399938583374, 2.943000078201294, 2.9354000091552734, 2.928299903869629, 2.9267001152038574, 2.9163999557495117, 2.9142000675201416, 2.90910005569458, 2.907399892807007, 2.9058001041412354, 2.9017999172210693, 2.9005000591278076, 2.8761000633239746, 2.8420000076293945, 2.87280011177063, 2.795799970626831, 2.7667999267578125, 2.807800054550171, 2.5855000019073486, 2.5048999786376953, 2.17930006980896, 2.2476999759674072, 1.823099970817566, 2.353600025177002, 1.9643000364303589, 1.767199993133545, 2.4851999282836914, 1.3507000207901, 1.8135000467300415, 1.780400037765503, 2.2927000522613525, 1.86080002784729, 0.4948999881744385, 1.676800012588501, 1.1211999654769897, 1.1273000240325928, 0.9621000289916992, 1.1103999614715576, 1.104200005531311, 0.7213000059127808, -0.3889999985694885, 1.6032999753952026, -0.0027000000700354576, 0.7317000031471252, 0.9527000188827515, -0.47440001368522644, 0.2175000011920929, 0.9937000274658203, 0.6944000124931335, 1.0825999975204468, 0.8835999965667725, -0.017000000923871994, 0.06400000303983688, 1.107800006866455, 0.33469998836517334, 0.10239999741315842, 0.3971000015735626, 0.5526000261306763, 0.5443999767303467, -0.002899999963119626, -0.13840000331401825, 0.3815000057220459, 0.23489999771118164, -0.3799999952316284, -0.37869998812675476, -0.030400000512599945, 3.157599925994873, 3.1340999603271484, 3.0864999294281006, 3.079200029373169, 3.073899984359741, 3.0662999153137207, 3.066200017929077, 3.0625, 3.059000015258789, 3.0501999855041504, 3.023699998855591, 3.015399932861328, 3.014699935913086, 3.01419997215271, 3.010200023651123, 3.0083999633789062, 3.001800060272217, 3.001199960708618, 2.9974000453948975, 2.9962000846862793, 2.99399995803833, 2.98799991607666, 2.986299991607666, 2.9860999584198, 2.984600067138672, 2.9791998863220215, 2.976599931716919, 2.976300001144409, 2.9691998958587646, 2.9670000076293945, 2.9663000106811523, 2.940700054168701, 2.953200101852417, 2.9207000732421875, 2.7699999809265137, 2.7641000747680664, 2.8994998931884766, 2.890000104904175, 2.8814001083374023, 2.5589001178741455, 2.8194000720977783, 2.8104000091552734, 2.438199996948242, 2.597100019454956, 2.0938000679016113, 2.4065001010894775, 2.4967000484466553, 2.498300075531006, 2.6347999572753906, 2.4207000732421875, 2.743299961090088, 2.35509991645813, 2.2283999919891357, 0.7562999725341797, 2.4079999923706055, 1.6912000179290771, 2.36899995803833, 1.6770000457763672, 1.399399995803833, -0.004900000058114529, -0.05950000137090683, 0.8511999845504761, 1.2978999614715576, 1.3595000505447388, 1.4902000427246094, 0.22540000081062317, 1.0191999673843384, 0.5640000104904175, 1.3849999904632568, -0.16380000114440918, 0.8553000092506409, 0.413100004196167, 0.2915000021457672, 0.6341999769210815, 1.24399995803833, 0.6248999834060669, 0.20360000431537628, 0.9685999751091003, 0.7684000134468079, 0.703499972820282, 0.4643000066280365, -0.164000004529953, 0.8309000134468079, -0.05790000036358833, 0.25, 0.43209999799728394, 0.8276000022888184, -0.3407999873161316, -0.5745999813079834, -0.38019999861717224], \"logprob\": [30.0, 29.0, 28.0, 27.0, 26.0, 25.0, 24.0, 23.0, 22.0, 21.0, 20.0, 19.0, 18.0, 17.0, 16.0, 15.0, 14.0, 13.0, 12.0, 11.0, 10.0, 9.0, 8.0, 7.0, 6.0, 5.0, 4.0, 3.0, 2.0, 1.0, -6.456299781799316, -8.724800109863281, -8.345199584960938, -8.578300476074219, -7.196899890899658, -7.557799816131592, -9.292699813842773, -7.83620023727417, -9.4891996383667, -7.139400005340576, -9.056400299072266, -7.876999855041504, -8.816300392150879, -8.792799949645996, -8.491999626159668, -8.743200302124023, -9.56719970703125, -9.541600227355957, -8.685400009155273, -8.35099983215332, -9.19159984588623, -9.539799690246582, -8.077400207519531, -9.065500259399414, -7.723899841308594, -9.541600227355957, -7.2895002365112305, -8.253399848937988, -9.86359977722168, -8.910599708557129, -6.786399841308594, -7.459799766540527, -7.386199951171875, -7.207200050354004, -6.541500091552734, -7.079400062561035, -8.338600158691406, -8.54419994354248, -7.806600093841553, -5.912600040435791, -8.162300109863281, -6.663000106811523, -6.343699932098389, -4.795400142669678, -7.979499816894531, -6.228899955749512, -6.718900203704834, -5.902100086212158, -4.877099990844727, -5.485300064086914, -7.4822998046875, -7.3516998291015625, -5.895899772644043, -4.941100120544434, -5.933300018310547, -6.073599815368652, -5.624899864196777, -5.923299789428711, -5.200200080871582, -5.515999794006348, -6.070400238037109, -4.885300159454346, -4.982800006866455, -5.964600086212158, -6.109300136566162, -4.96750020980835, -5.854100227355957, -6.5725998878479, -5.763400077819824, -6.242400169372559, -4.282700061798096, -5.338699817657471, -4.4953999519348145, -5.810200214385986, -5.128799915313721, -5.756999969482422, -5.583099842071533, -5.474899768829346, -5.637800216674805, -5.837800025939941, -5.922299861907959, -5.946300029754639, -7.972799777984619, -9.418399810791016, -6.334000110626221, -8.69219970703125, -9.483400344848633, -8.540200233459473, -9.534299850463867, -8.129199981689453, -8.916899681091309, -9.430100440979004, -9.702500343322754, -9.995800018310547, -8.093000411987305, -8.612299919128418, -9.37339973449707, -10.009599685668945, -10.034600257873535, -10.360799789428711, -8.231200218200684, -8.525699615478516, -9.384200096130371, -9.019499778747559, -8.174300193786621, -10.163700103759766, -9.844499588012695, -8.01259994506836, -7.60699987411499, -10.333499908447266, -9.892999649047852, -7.336299896240234, -9.433099746704102, -8.076700210571289, -8.729399681091309, -9.482099533081055, -7.342899799346924, -7.7546000480651855, -6.073800086975098, -8.387200355529785, -8.11460018157959, -6.9268999099731445, -6.280700206756592, -7.396699905395508, -7.960000038146973, -7.826099872589111, -8.194000244140625, -7.86269998550415, -7.657599925994873, -7.642199993133545, -6.7967000007629395, -5.429200172424316, -6.722400188446045, -6.9421000480651855, -6.061800003051758, -6.103000164031982, -7.087100028991699, -6.142000198364258, -6.61269998550415, -6.4156999588012695, -6.402200222015381, -6.502200126647949, -4.240099906921387, -5.65369987487793, -6.826499938964844, -6.952600002288818, -6.497600078582764, -5.90339994430542, -5.06850004196167, -6.081999778747559, -5.576000213623047, -4.612199783325195, -5.8480000495910645, -5.533100128173828, -6.450500011444092, -5.753600120544434, -5.779900074005127, -5.677700042724609, -5.737800121307373, -6.182700157165527, -5.750699996948242, -5.953999996185303, -6.125199794769287, -6.136300086975098, -5.97629976272583, -6.223199844360352, -5.952099800109863, -6.084000110626221, -6.160099983215332, -6.168099880218506, -6.183000087738037, -8.959699630737305, -9.444199562072754, -8.931699752807617, -9.263500213623047, -9.025300025939941, -8.767200469970703, -9.824199676513672, -9.942999839782715, -9.097900390625, -8.03909969329834, -8.170499801635742, -9.35569953918457, -10.363100051879883, -10.147299766540527, -10.257699966430664, -9.953399658203125, -6.750999927520752, -9.822199821472168, -10.1850004196167, -10.343600273132324, -10.106200218200684, -8.55679988861084, -6.678599834442139, -8.455599784851074, -10.340900421142578, -7.410999774932861, -8.611000061035156, -9.755999565124512, -10.040800094604492, -10.393099784851074, -8.26140022277832, -8.530799865722656, -7.946100234985352, -8.811599731445312, -7.6869001388549805, -7.610400199890137, -8.427200317382812, -6.255000114440918, -6.887800216674805, -8.581199645996094, -6.794000148773193, -8.230799674987793, -7.895299911499023, -5.621500015258789, -6.391499996185303, -7.390999794006348, -7.314000129699707, -6.888599872589111, -5.624199867248535, -7.6641998291015625, -6.966400146484375, -6.719399929046631, -6.201000213623047, -6.032700061798096, -7.078499794006348, -7.076300144195557, -5.821700096130371, -5.597599983215332, -6.666999816894531, -7.395999908447266, -5.956200122833252, -6.600500106811523, -6.531799793243408, -5.60290002822876, -5.602499961853027, -5.595699787139893, -5.678800106048584, -6.541600227355957, -4.789700031280518, -6.517399787902832, -5.854000091552734, -5.673900127410889, -4.328800201416016, -5.34499979019165, -4.515999794006348, -5.402400016784668, -6.271699905395508, -5.203199863433838, -5.792600154876709, -5.459400177001953, -6.093999862670898, -6.305799961090088, -5.8125, -6.0559000968933105, -5.872700214385986, -5.954599857330322, -5.838900089263916, -5.870699882507324, -6.021500110626221, -5.960899829864502, -6.007299900054932, -5.968699932098389, -8.074899673461914, -8.527099609375, -8.95680046081543, -8.546699523925781, -7.934199810028076, -8.702099800109863, -8.922200202941895, -7.823699951171875, -9.494000434875488, -8.128999710083008, -8.729299545288086, -7.33489990234375, -9.284299850463867, -9.690799713134766, -8.513199806213379, -8.927300453186035, -8.30459976196289, -9.79010009765625, -9.686200141906738, -9.423100471496582, -8.617799758911133, -8.890199661254883, -7.6255998611450195, -8.978899955749512, -9.815600395202637, -9.397100448608398, -9.878700256347656, -10.186100006103516, -8.638500213623047, -10.19890022277832, -8.38129997253418, -8.45419979095459, -8.284700393676758, -7.759500026702881, -7.604100227355957, -7.774199962615967, -8.920000076293945, -6.878200054168701, -7.132400035858154, -8.360899925231934, -6.73829984664917, -8.078900337219238, -8.103099822998047, -7.678299903869629, -8.034099578857422, -5.812300205230713, -7.16379976272583, -3.748199939727783, -6.218999862670898, -6.0447001457214355, -7.461299896240234, -6.333000183105469, -3.9547998905181885, -5.744800090789795, -5.881899833679199, -6.8018999099731445, -6.544400215148926, -7.559700012207031, -6.406899929046631, -5.085400104522705, -7.265600204467773, -4.875100135803223, -5.7829999923706055, -5.596099853515625, -6.280300140380859, -6.526199817657471, -5.412700176239014, -5.360400199890137, -5.676700115203857, -6.09060001373291, -5.981299877166748, -6.206399917602539, -6.43149995803833, -6.397900104522705, -6.037799835205078, -6.1321001052856445, -6.061200141906738, -6.23360013961792, -5.949699878692627, -5.9552001953125, -6.104899883270264, -6.104599952697754, -6.270899772644043, -6.210100173950195, -6.310299873352051, -6.3053998947143555, -7.78439998626709, -8.5871000289917, -8.7322998046875, -8.285400390625, -8.953200340270996, -9.261300086975098, -7.841300010681152, -9.473400115966797, -9.74020004272461, -9.875100135803223, -9.304200172424316, -7.4446001052856445, -10.072699546813965, -9.085700035095215, -9.731200218200684, -9.873000144958496, -10.254500389099121, -9.922100067138672, -10.221099853515625, -8.404000282287598, -10.088600158691406, -8.172499656677246, -8.73960018157959, -10.277299880981445, -9.635600090026855, -10.509099960327148, -10.068300247192383, -9.97719955444336, -10.637200355529785, -10.10319995880127, -8.096500396728516, -8.687600135803223, -8.473899841308594, -8.372099876403809, -5.151199817657471, -9.023900032043457, -5.653600215911865, -5.708499908447266, -6.924900054931641, -7.500500202178955, -8.279899597167969, -7.343800067901611, -7.759399890899658, -7.9496002197265625, -7.076600074768066, -7.416800022125244, -6.699399948120117, -6.257299900054932, -7.345900058746338, -3.508699893951416, -5.807000160217285, -6.991000175476074, -6.490900039672852, -6.367300033569336, -6.298600196838379, -5.778500080108643, -4.083899974822998, -5.987500190734863, -5.246600151062012, -5.853099822998047, -6.43720006942749, -6.438199996948242, -4.952300071716309, -6.223599910736084, -5.813499927520752, -6.091899871826172, -6.277200222015381, -5.3850998878479, -6.176000118255615, -5.640500068664551, -5.549799919128418, -6.29449987411499, -5.586999893188477, -5.733099937438965, -5.8130998611450195, -5.73799991607666, -5.9868998527526855, -5.92080020904541, -6.127200126647949, -6.074699878692627, -6.166299819946289, -6.114699840545654, -6.162399768829346, -6.1381001472473145, -7.148499965667725, -7.108799934387207, -8.349699974060059, -9.682499885559082, -8.982000350952148, -9.587699890136719, -9.680299758911133, -7.540800094604492, -10.100899696350098, -9.392000198364258, -8.685700416564941, -10.362799644470215, -8.543999671936035, -9.673100471496582, -10.01990032196045, -8.074000358581543, -8.740900039672852, -8.034799575805664, -7.89109992980957, -10.458499908447266, -10.190600395202637, -9.026000022888184, -9.214599609375, -10.094200134277344, -10.242899894714355, -8.400799751281738, -10.483499526977539, -9.647199630737305, -8.616700172424316, -9.780599594116211, -6.800099849700928, -8.058300018310547, -9.342599868774414, -7.70959997177124, -8.178600311279297, -9.165300369262695, -6.562399864196777, -6.435400009155273, -7.906400203704834, -7.820300102233887, -7.037199974060059, -8.559100151062012, -6.748799800872803, -7.389999866485596, -7.148799896240234, -5.768199920654297, -6.657800197601318, -6.3592000007629395, -7.074699878692627, -5.801199913024902, -3.6847000122070312, -5.811999797821045, -6.89900016784668, -5.935200214385986, -6.171500205993652, -6.0883002281188965, -6.240499973297119, -6.512400150299072, -6.532599925994873, -4.910799980163574, -6.8043999671936035, -4.551400184631348, -5.4807000160217285, -5.868000030517578, -6.022299766540527, -6.655399799346924, -5.725800037384033, -5.961299896240234, -5.729300022125244, -5.596199989318848, -6.104300022125244, -6.1184000968933105, -5.677599906921387, -5.773600101470947, -6.04040002822876, -6.022600173950195, -6.192800045013428, -6.160399913787842, -5.915900230407715, -6.1616997718811035, -6.090099811553955, -6.089700222015381, -6.160299777984619, -6.177999973297119, -8.058699607849121, -8.936699867248535, -9.141799926757812, -8.380599975585938, -9.419300079345703, -8.599300384521484, -10.113900184631348, -9.140700340270996, -9.962400436401367, -9.86340045928955, -9.28279972076416, -10.062299728393555, -8.819299697875977, -9.183799743652344, -10.147299766540527, -8.786800384521484, -9.899299621582031, -10.30620002746582, -10.312800407409668, -9.65839958190918, -9.147899627685547, -9.989399909973145, -8.473699569702148, -10.362799644470215, -8.924099922180176, -10.441300392150879, -9.207599639892578, -9.767800331115723, -7.2434000968933105, -10.136899948120117, -7.027500152587891, -7.992300033569336, -8.449199676513672, -8.876299858093262, -8.59469985961914, -7.570099830627441, -7.83650016784668, -6.73360013961792, -7.116700172424316, -9.315799713134766, -7.516900062561035, -9.000200271606445, -6.105999946594238, -7.508999824523926, -8.0826997756958, -6.746099948883057, -6.47629976272583, -5.650100231170654, -4.748199939727783, -6.571100234985352, -7.614699840545654, -3.9489998817443848, -6.249300003051758, -6.018899917602539, -5.603400230407715, -4.186100006103516, -6.598899841308594, -6.795000076293945, -6.651800155639648, -6.28410005569458, -6.287700176239014, -6.5971999168396, -5.847499847412109, -7.398900032043457, -5.14169979095459, -5.441999912261963, -5.84630012512207, -5.651299953460693, -5.568299770355225, -5.937600135803223, -5.945799827575684, -6.2484002113342285, -6.247600078582764, -5.962299823760986, -5.917099952697754, -5.942699909210205, -6.168700218200684, -6.244100093841553, -5.961699962615967, -6.126200199127197, -6.005300045013428, -6.004199981689453, -6.081699848175049, -6.187399864196777, -6.202700138092041, -6.235599994659424, -8.3125, -9.218500137329102, -9.735799789428711, -10.082500457763672, -6.855599880218506, -8.92959976196289, -9.917699813842773, -9.662500381469727, -8.848400115966797, -10.290900230407715, -10.449600219726562, -10.343500137329102, -10.329299926757812, -10.663599967956543, -10.753600120544434, -9.340399742126465, -10.72719955444336, -9.826299667358398, -10.307000160217285, -9.58489990234375, -10.829700469970703, -10.86359977722168, -10.358499526977539, -10.870200157165527, -9.759200096130371, -10.805700302124023, -9.465399742126465, -9.011699676513672, -10.247200012207031, -8.591099739074707, -9.960200309753418, -10.006400108337402, -8.685400009155273, -8.279399871826172, -8.15719985961914, -8.658699989318848, -8.011500358581543, -9.450799942016602, -7.765999794006348, -8.649499893188477, -9.22599983215332, -8.835100173950195, -8.862600326538086, -7.395500183105469, -6.806600093841553, -5.6859002113342285, -5.929299831390381, -6.262199878692627, -6.134300231933594, -7.181000232696533, -7.491700172424316, -4.057300090789795, -7.5278000831604, -5.166900157928467, -4.1707000732421875, -6.703700065612793, -5.4182000160217285, -6.424799919128418, -6.804100036621094, -4.992800235748291, -5.321499824523926, -6.178199768066406, -6.603700160980225, -5.677499771118164, -5.6153998374938965, -5.442399978637695, -5.5106000900268555, -6.242599964141846, -5.622300148010254, -5.774099826812744, -6.209199905395508, -5.945499897003174, -5.976799964904785, -6.4456000328063965, -6.404399871826172, -6.716599941253662, -6.037199974060059, -6.087100028991699, -5.953800201416016, -6.17609977722168, -6.173399925231934, -6.195899963378906, -6.206699848175049, -6.163599967956543, -6.123499870300293, -6.21999979019165, -7.489699840545654, -7.655099868774414, -7.704699993133545, -8.556500434875488, -8.116600036621094, -8.486100196838379, -7.91510009765625, -8.834199905395508, -8.770099639892578, -8.601300239562988, -9.102899551391602, -7.519000053405762, -6.153500080108643, -9.363100051879883, -9.89229965209961, -8.88599967956543, -9.554800033569336, -8.136699676513672, -7.376299858093262, -8.85219955444336, -8.85770034790039, -9.810600280761719, -10.404899597167969, -7.006499767303467, -9.627300262451172, -9.523500442504883, -10.278900146484375, -9.996299743652344, -10.19729995727539, -9.238100051879883, -8.363100051879883, -8.223799705505371, -8.871299743652344, -6.32289981842041, -7.052800178527832, -8.646300315856934, -7.852700233459473, -8.159600257873535, -6.535299777984619, -7.45550012588501, -6.507999897003174, -5.8246002197265625, -7.404799938201904, -7.424099922180176, -5.794899940490723, -7.043700218200684, -6.991700172424316, -5.886899948120117, -7.540299892425537, -7.463600158691406, -7.2291998863220215, -5.870800018310547, -7.32420015335083, -6.840700149536133, -5.480100154876709, -4.222599983215332, -5.832099914550781, -4.279099941253662, -6.102799892425537, -6.192800045013428, -5.350599765777588, -6.567599773406982, -6.217400074005127, -5.13700008392334, -5.9145002365112305, -6.539999961853027, -5.74459981918335, -6.232900142669678, -5.727499961853027, -5.660900115966797, -6.076200008392334, -6.412399768829346, -5.785999774932861, -5.984799861907959, -5.927000045776367, -5.7866997718811035, -6.204899787902832, -6.063399791717529, -6.073400020599365, -5.9390997886657715, -6.096099853515625, -6.162600040435791, -6.158899784088135, -6.214900016784668, -7.962699890136719, -8.195300102233887, -8.149499893188477, -7.941299915313721, -6.493899822235107, -9.2475004196167, -9.609100341796875, -9.151700019836426, -9.662199974060059, -9.17199993133545, -7.913700103759766, -9.984399795532227, -9.917400360107422, -8.591400146484375, -9.716899871826172, -8.5556001663208, -10.022500038146973, -10.371000289916992, -9.410400390625, -8.691800117492676, -10.520099639892578, -10.609600067138672, -9.56029987335205, -10.304300308227539, -10.424200057983398, -9.580400466918945, -10.408599853515625, -9.271100044250488, -10.76930046081543, -10.75, -9.63659954071045, -8.596699714660645, -8.383099555969238, -8.875399589538574, -8.84220027923584, -8.263500213623047, -7.797900199890137, -7.7895002365112305, -7.713099956512451, -7.274600028991699, -3.8677000999450684, -7.525300025939941, -8.592000007629395, -5.630799770355225, -7.5721001625061035, -4.288000106811523, -6.417500019073486, -7.385499954223633, -5.2204999923706055, -7.339799880981445, -6.256700038909912, -6.3053998947143555, -6.497700214385986, -6.073400020599365, -6.104599952697754, -5.4257001876831055, -6.3557000160217285, -5.969200134277344, -6.151199817657471, -5.984499931335449, -6.320700168609619, -5.767899990081787, -5.858799934387207, -6.628200054168701, -6.110099792480469, -6.504700183868408, -5.875699996948242, -6.01170015335083, -6.374599933624268, -5.921800136566162, -5.5472002029418945, -5.791900157928467, -5.898799896240234, -5.904300212860107, -6.3470001220703125, -5.989099979400635, -5.902599811553955, -6.271900177001953, -6.319300174713135, -6.2972002029418945, -6.323699951171875, -6.332600116729736, -8.431900024414062, -8.373000144958496, -6.866099834442139, -7.643499851226807, -9.193099975585938, -8.650899887084961, -8.480199813842773, -9.317500114440918, -8.918000221252441, -7.21999979019165, -8.837200164794922, -9.640399932861328, -9.95259952545166, -8.926600456237793, -9.42959976196289, -9.315400123596191, -8.188599586486816, -9.63599967956543, -9.235899925231934, -9.982999801635742, -9.261300086975098, -10.185199737548828, -8.400199890136719, -8.607099533081055, -10.023599624633789, -9.641799926757812, -9.396200180053711, -9.750699996948242, -7.525700092315674, -9.802599906921387, -7.413899898529053, -6.302199840545654, -8.726900100708008, -8.104100227355957, -8.328800201416016, -8.717499732971191, -7.45989990234375, -7.860199928283691, -6.934999942779541, -7.219699859619141, -6.20359992980957, -7.692599773406982, -6.853499889373779, -6.446700096130371, -8.154199600219727, -5.827000141143799, -6.870800018310547, -6.8445000648498535, -7.78980016708374, -7.119699954986572, -4.985000133514404, -6.861400127410889, -6.0696001052856445, -6.088399887084961, -5.879000186920166, -6.125, -6.119500160217285, -5.796199798583984, -4.544899940490723, -6.843299865722656, -5.081099987030029, -5.897200107574463, -6.137800216674805, -4.682300090789795, -5.404900074005127, -6.218299865722656, -5.977399826049805, -6.323800086975098, -6.17519998550415, -5.516900062561035, -5.73199987411499, -6.431000232696533, -5.978799819946289, -5.851600170135498, -6.051700115203857, -6.171999931335449, -6.174699783325195, -5.994200229644775, -5.963600158691406, -6.1732001304626465, -6.146699905395508, -6.125500202178955, -6.1666998863220215, -6.186399936676025, -6.683700084686279, -8.067700386047363, -8.427599906921387, -9.179200172424316, -8.584400177001953, -7.923600196838379, -9.11400032043457, -9.201499938964844, -9.557000160217285, -9.124099731445312, -9.338199615478516, -9.584799766540527, -9.718299865722656, -8.598699569702148, -9.621800422668457, -8.458200454711914, -8.375699996948242, -9.258999824523926, -9.394200325012207, -8.812399864196777, -10.003199577331543, -8.75, -7.480999946594238, -7.993100166320801, -9.284600257873535, -9.279999732971191, -9.41759967803955, -7.683199882507324, -10.14229965209961, -9.59850025177002, -8.692399978637695, -7.085100173950195, -8.459699630737305, -7.6722002029418945, -6.776599884033203, -7.083099842071533, -8.45989990234375, -8.377099990844727, -8.357500076293945, -5.8256001472473145, -8.284299850463867, -8.308600425720215, -6.7667999267578125, -7.620200157165527, -5.96019983291626, -7.10699987411499, -7.378900051116943, -7.411499977111816, -7.861599922180176, -7.3643999099731445, -8.165900230407715, -7.381199836730957, -7.157299995422363, -4.723700046539307, -7.553199768066406, -6.348999977111816, -7.5503997802734375, -6.482500076293945, -6.095600128173828, -4.212800025939941, -4.2153000831604, -5.462200164794922, -6.133299827575684, -6.211999893188477, -6.4141998291015625, -5.274499893188477, -6.079400062561035, -5.746600151062012, -6.487500190734863, -5.242199897766113, -6.082600116729736, -5.7428998947143555, -5.699699878692627, -5.9847002029418945, -6.437699794769287, -6.004000186920166, -5.75029993057251, -6.255199909210205, -6.178599834442139, -6.1554999351501465, -6.053199768066406, -5.786399841308594, -6.252200126647949, -5.972599983215332, -6.131499767303467, -6.206999778747559, -6.31820011138916, -6.165999889373779, -6.143400192260742, -6.176300048828125]}, \"token.table\": {\"Topic\": [1, 2, 3, 4, 5, 6, 7, 8, 9, 10, 11, 12, 1, 2, 3, 1, 2, 3, 4, 7, 1, 2, 3, 4, 7, 1, 2, 3, 4, 5, 7, 9, 12, 3, 8, 1, 11, 5, 1, 2, 3, 4, 5, 6, 7, 8, 9, 10, 11, 12, 1, 2, 5, 6, 1, 4, 5, 1, 2, 3, 4, 9, 1, 2, 9, 3, 1, 5, 1, 5, 1, 2, 2, 1, 1, 4, 5, 6, 1, 2, 3, 3, 1, 1, 2, 3, 4, 5, 6, 4, 3, 1, 4, 6, 2, 12, 1, 2, 4, 6, 1, 2, 5, 4, 6, 1, 2, 3, 4, 5, 9, 2, 1, 1, 4, 3, 3, 2, 9, 3, 6, 1, 2, 1, 2, 3, 5, 1, 2, 3, 4, 3, 1, 2, 3, 4, 7, 9, 11, 12, 1, 2, 4, 7, 9, 2, 2, 3, 1, 2, 3, 4, 5, 3, 3, 9, 4, 4, 3, 4, 2, 5, 5, 1, 2, 1, 1, 2, 3, 4, 5, 6, 7, 8, 9, 10, 2, 1, 2, 1, 2, 3, 4, 1, 2, 3, 4, 12, 2, 1, 2, 4, 2, 4, 7, 1, 2, 4, 7, 8, 1, 2, 3, 4, 2, 1, 1, 2, 3, 6, 11, 1, 2, 4, 6, 1, 2, 4, 5, 6, 3, 1, 2, 3, 4, 1, 2, 5, 1, 1, 2, 3, 4, 5, 6, 7, 8, 9, 10, 11, 12, 1, 2, 3, 4, 5, 6, 7, 8, 9, 10, 11, 12, 1, 3, 2, 4, 1, 2, 3, 4, 5, 6, 7, 9, 10, 11, 12, 3, 3, 1, 2, 9, 3, 4, 6, 1, 2, 3, 5, 2, 7, 1, 2, 3, 1, 4, 5, 1, 3, 1, 2, 3, 4, 5, 1, 2, 3, 4, 5, 6, 10, 3, 2, 1, 2, 3, 4, 6, 7, 11, 12, 1, 3, 1, 2, 5, 6, 1, 2, 3, 4, 5, 1, 2, 3, 6, 8, 9, 1, 1, 2, 3, 4, 5, 6, 7, 8, 10, 1, 1, 2, 1, 2, 3, 4, 5, 1, 2, 4, 1, 2, 3, 4, 5, 6, 7, 8, 9, 10, 11, 12, 3, 7, 1, 2, 1, 1, 2, 3, 4, 5, 1, 2, 4, 6, 1, 5, 1, 4, 3, 1, 2, 5, 8, 1, 2, 1, 1, 2, 4, 2, 6, 2, 3, 5, 1, 3, 1, 3, 2, 3, 1, 2, 1, 2, 3, 3, 3, 3, 1, 2, 5, 2, 4, 5, 3, 4, 5, 1, 2, 1, 2, 5, 7, 8, 1, 1, 2, 1, 2, 3, 3, 1, 3, 5, 3, 11, 1, 5, 5, 8, 5, 4, 2, 2, 6, 12, 3, 1, 5, 1, 2, 3, 4, 5, 6, 7, 8, 9, 10, 11, 3, 5, 7, 1, 2, 3, 4, 7, 11, 1, 2, 2, 1, 2, 3, 4, 5, 6, 7, 8, 9, 10, 11, 12, 1, 2, 3, 4, 5, 7, 10, 12, 1, 2, 3, 4, 5, 6, 7, 8, 10, 11, 3, 2, 3, 1, 2, 3, 4, 5, 7, 8, 10, 12, 1, 1, 2, 1, 2, 3, 4, 6, 7, 8, 1, 2, 7, 1, 2, 3, 4, 5, 6, 7, 8, 9, 10, 11, 12, 1, 1, 2, 3, 6, 10, 1, 2, 4, 1, 2, 3, 4, 5, 6, 1, 2, 3, 4, 6, 8, 9, 1, 2, 3, 4, 5, 6, 7, 10, 1, 1, 1, 2, 3, 4, 5, 7, 8, 9, 10, 1, 1, 2, 3, 4, 5, 1], \"Freq\": [0.15376225113868713, 0.08969464153051376, 0.07688112556934357, 0.16657575964927673, 0.15376225113868713, 0.10250816494226456, 0.06406760215759277, 0.05125408247113228, 0.03844056278467178, 0.03844056278467178, 0.02562704123556614, 0.03844056278467178, 0.21488448977470398, 0.21488448977470398, 0.21488448977470398, 0.31987160444259644, 0.10662386566400528, 0.10662386566400528, 0.10662386566400528, 0.10662386566400528, 0.3973328471183777, 0.13244427740573883, 0.13244427740573883, 0.13244427740573883, 0.13244427740573883, 0.18940158188343048, 0.09470079094171524, 0.09470079094171524, 0.09470079094171524, 0.09470079094171524, 0.09470079094171524, 0.09470079094171524, 0.09470079094171524, 0.3202124536037445, 0.3202124536037445, 0.5261020064353943, 0.26305100321769714, 0.3923916816711426, 0.2456696331501007, 0.09826785326004028, 0.09826785326004028, 0.14740177989006042, 0.09826785326004028, 0.04913392663002014, 0.04913392663002014, 0.04913392663002014, 0.04913392663002014, 0.04913392663002014, 0.04913392663002014, 0.04913392663002014, 0.1650753915309906, 0.1650753915309906, 0.1650753915309906, 0.1650753915309906, 0.2182394117116928, 0.2182394117116928, 0.2182394117116928, 0.17351171374320984, 0.17351171374320984, 0.17351171374320984, 0.17351171374320984, 0.17351171374320984, 0.2506689727306366, 0.5013379454612732, 0.5281587839126587, 0.7537816762924194, 0.33346858620643616, 0.33346858620643616, 1.3178346157073975, 0.48638904094696045, 0.35700586438179016, 0.35700586438179016, 0.7456982135772705, 1.0539971590042114, 1.7482537031173706, 0.25291237235069275, 0.25291237235069275, 0.25291237235069275, 0.6490811109542847, 0.48579123616218567, 0.3774765729904175, 0.9612022638320923, 0.6623227000236511, 0.13867060840129852, 0.13867060840129852, 0.13867060840129852, 0.13867060840129852, 0.13867060840129852, 0.13867060840129852, 1.341201901435852, 0.5864791870117188, 0.6982131004333496, 0.539324164390564, 0.539324164390564, 0.33895665407180786, 0.8793709874153137, 0.18157100677490234, 0.18157100677490234, 0.18157100677490234, 0.18157100677490234, 0.724096417427063, 0.2413654774427414, 0.44779327511787415, 0.4877323508262634, 0.2438661754131317, 0.1291825771331787, 0.2583651542663574, 0.1291825771331787, 0.1291825771331787, 0.1291825771331787, 0.1291825771331787, 0.46629393100738525, 0.7876075506210327, 0.4053892493247986, 0.25480085611343384, 1.25249183177948, 0.40146684646606445, 1.0231136083602905, 0.8020182251930237, 0.4213566780090332, 0.36880919337272644, 0.7668375968933105, 0.2556125521659851, 0.30795425176620483, 0.15397712588310242, 0.15397712588310242, 0.15397712588310242, 0.3766046464443207, 0.3766046464443207, 1.246246337890625, 0.7009355425834656, 0.21031710505485535, 0.15194480121135712, 0.15194480121135712, 0.15194480121135712, 0.15194480121135712, 0.15194480121135712, 0.15194480121135712, 0.15194480121135712, 0.15194480121135712, 0.2088448405265808, 0.2088448405265808, 0.2088448405265808, 0.2088448405265808, 0.457046777009964, 0.8167871832847595, 0.2754574120044708, 0.5246185660362244, 0.3090972304344177, 0.3090972304344177, 0.15454861521720886, 0.15454861521720886, 0.15454861521720886, 0.6557857394218445, 0.45310115814208984, 0.22655057907104492, 0.3841909170150757, 1.1000839471817017, 0.27892860770225525, 0.27892860770225525, 0.2618595063686371, 0.2618595063686371, 0.499330997467041, 0.5328355431556702, 0.177611842751503, 0.5524701476097107, 0.42111146450042725, 0.10527786612510681, 0.052638933062553406, 0.052638933062553406, 0.10527786612510681, 0.052638933062553406, 0.052638933062553406, 0.052638933062553406, 0.052638933062553406, 0.052638933062553406, 0.5056508779525757, 0.589047372341156, 0.294523686170578, 0.16721440851688385, 0.16721440851688385, 0.16721440851688385, 0.16721440851688385, 0.15044385194778442, 0.15044385194778442, 0.15044385194778442, 0.30088770389556885, 0.15044385194778442, 0.7178027033805847, 0.17929615080356598, 0.17929615080356598, 0.17929615080356598, 0.3557286858558655, 0.3857904374599457, 0.3857904374599457, 0.6866794228553772, 0.08583492785692215, 0.08583492785692215, 0.08583492785692215, 0.08583492785692215, 0.14109782874584198, 0.14109782874584198, 0.14109782874584198, 0.14109782874584198, 0.33119863271713257, 0.7557496428489685, 0.15861281752586365, 0.3172256350517273, 0.15861281752586365, 0.15861281752586365, 0.15861281752586365, 0.16630388796329498, 0.16630388796329498, 0.16630388796329498, 0.16630388796329498, 0.5243173837661743, 0.13107934594154358, 0.06553967297077179, 0.13107934594154358, 0.06553967297077179, 0.6895023584365845, 0.15351693332195282, 0.15351693332195282, 0.15351693332195282, 0.15351693332195282, 0.1724623292684555, 0.1724623292684555, 0.1724623292684555, 0.930866539478302, 0.1934008002281189, 0.16116733849048615, 0.09670040011405945, 0.1289338618516922, 0.09670040011405945, 0.0644669309258461, 0.0644669309258461, 0.0644669309258461, 0.03223346546292305, 0.03223346546292305, 0.03223346546292305, 0.03223346546292305, 0.15473808348178864, 0.15473808348178864, 0.15473808348178864, 0.07736904174089432, 0.07736904174089432, 0.07736904174089432, 0.07736904174089432, 0.07736904174089432, 0.07736904174089432, 0.07736904174089432, 0.07736904174089432, 0.07736904174089432, 0.38049012422561646, 0.34477993845939636, 0.36100348830223083, 0.36100348830223083, 0.16062593460083008, 0.16062593460083008, 0.16062593460083008, 0.16062593460083008, 0.08031296730041504, 0.08031296730041504, 0.08031296730041504, 0.08031296730041504, 0.08031296730041504, 0.08031296730041504, 0.08031296730041504, 0.7534449100494385, 1.2828519344329834, 0.2853549122810364, 0.2853549122810364, 0.5931561589241028, 1.4063889980316162, 0.2683780789375305, 0.2683780789375305, 0.27215659618377686, 0.13607829809188843, 0.13607829809188843, 0.13607829809188843, 0.26907119154930115, 0.26907119154930115, 0.6964907646179199, 0.17412269115447998, 0.339457631111145, 0.20696251094341278, 0.20696251094341278, 0.20696251094341278, 0.20695798099040985, 0.4139159619808197, 0.2924351692199707, 0.14621758460998535, 0.14621758460998535, 0.14621758460998535, 0.14621758460998535, 0.11865337938070297, 0.11865337938070297, 0.11865337938070297, 0.11865337938070297, 0.11865337938070297, 0.11865337938070297, 0.11865337938070297, 0.3475331962108612, 0.7065657377243042, 0.11084407567977905, 0.2216881513595581, 0.11084407567977905, 0.11084407567977905, 0.11084407567977905, 0.11084407567977905, 0.11084407567977905, 0.11084407567977905, 0.9734782576560974, 0.3118361532688141, 0.22640958428382874, 0.22640958428382874, 0.22640958428382874, 0.22640958428382874, 0.23407608270645142, 0.11703804135322571, 0.11703804135322571, 0.23407608270645142, 0.11703804135322571, 0.2107611894607544, 0.3161417841911316, 0.1053805947303772, 0.1053805947303772, 0.1053805947303772, 0.1053805947303772, 1.4705917835235596, 0.21206693351268768, 0.14137795567512512, 0.21206693351268768, 0.07068897783756256, 0.07068897783756256, 0.07068897783756256, 0.07068897783756256, 0.07068897783756256, 0.07068897783756256, 1.2718737125396729, 0.7942752242088318, 0.8701611161231995, 0.15030623972415924, 0.15030623972415924, 0.15030623972415924, 0.15030623972415924, 0.15030623972415924, 0.23930877447128296, 0.23930877447128296, 0.23930877447128296, 0.22215166687965393, 0.16661375761032104, 0.11107583343982697, 0.11107583343982697, 0.11107583343982697, 0.05553791671991348, 0.05553791671991348, 0.05553791671991348, 0.05553791671991348, 0.05553791671991348, 0.05553791671991348, 0.05553791671991348, 0.36702895164489746, 0.18351447582244873, 0.26655253767967224, 0.26655253767967224, 1.4421430826187134, 0.1362527310848236, 0.1362527310848236, 0.1362527310848236, 0.1362527310848236, 0.1362527310848236, 0.16369779407978058, 0.16369779407978058, 0.16369779407978058, 0.16369779407978058, 0.269732803106308, 0.269732803106308, 0.2722260057926178, 0.2722260057926178, 0.8325191736221313, 0.6059381365776062, 0.1009896844625473, 0.1009896844625473, 0.1009896844625473, 0.5861806273460388, 0.1465451568365097, 1.2260301113128662, 0.4258188009262085, 0.14193959534168243, 0.14193959534168243, 0.3081307113170624, 0.3081307113170624, 0.3520214855670929, 0.2430444210767746, 0.2430444210767746, 0.19127483665943146, 0.3825496733188629, 0.2732285261154175, 0.2732285261154175, 0.23355726897716522, 0.23355726897716522, 0.2410939335823059, 0.2410939335823059, 0.2534295618534088, 0.5068591237068176, 0.2534295618534088, 0.5732561349868774, 0.744427502155304, 0.645758330821991, 0.3170219659805298, 0.1585109829902649, 0.1585109829902649, 0.2547864019870758, 0.2547864019870758, 0.25097066164016724, 0.3111644685268402, 0.37635862827301025, 0.4050878584384918, 0.5894618630409241, 0.29473093152046204, 0.19897623360157013, 0.19897623360157013, 0.19897623360157013, 0.19897623360157013, 0.19897623360157013, 0.7949627041816711, 0.8084968328475952, 0.08983297646045685, 0.4076355993747711, 0.1358785331249237, 0.1358785331249237, 1.365107774734497, 0.206075519323349, 0.206075519323349, 0.206075519323349, 0.3757316470146179, 0.18786582350730896, 0.37449708580970764, 0.37449708580970764, 0.26672691106796265, 0.26672691106796265, 0.4018465280532837, 0.4679711163043976, 0.6186946034431458, 0.34136122465133667, 0.34136122465133667, 0.631851851940155, 0.34914830327033997, 0.4010806679725647, 0.4010806679725647, 0.19821371138095856, 0.13214248418807983, 0.19821371138095856, 0.06607124209403992, 0.06607124209403992, 0.06607124209403992, 0.06607124209403992, 0.06607124209403992, 0.06607124209403992, 0.06607124209403992, 0.06607124209403992, 0.6133661270141602, 0.5362590551376343, 0.47950980067253113, 0.13594700396060944, 0.13594700396060944, 0.27189400792121887, 0.13594700396060944, 0.13594700396060944, 0.13594700396060944, 0.6913439035415649, 0.17283597588539124, 0.5928317904472351, 0.2024853378534317, 0.14848925173282623, 0.09449315816164017, 0.13499023020267487, 0.09449315816164017, 0.0404970683157444, 0.05399608984589577, 0.05399608984589577, 0.0404970683157444, 0.05399608984589577, 0.026998044922947884, 0.0404970683157444, 0.11053010076284409, 0.11053010076284409, 0.11053010076284409, 0.11053010076284409, 0.11053010076284409, 0.11053010076284409, 0.11053010076284409, 0.11053010076284409, 0.27211514115333557, 0.20408636331558228, 0.06802878528833389, 0.06802878528833389, 0.06802878528833389, 0.06802878528833389, 0.06802878528833389, 0.06802878528833389, 0.06802878528833389, 0.06802878528833389, 0.5689528584480286, 0.8943761587142944, 1.2241275310516357, 0.22317738831043243, 0.14878493547439575, 0.07439246773719788, 0.14878493547439575, 0.07439246773719788, 0.07439246773719788, 0.07439246773719788, 0.07439246773719788, 0.07439246773719788, 1.1712722778320312, 1.2024035453796387, 0.3342217803001404, 0.11430855095386505, 0.2286171019077301, 0.2286171019077301, 0.11430855095386505, 0.11430855095386505, 0.11430855095386505, 0.11430855095386505, 0.19067172706127167, 0.19067172706127167, 0.19067172706127167, 0.09632860124111176, 0.09632860124111176, 0.2408214956521988, 0.14449289441108704, 0.04816430062055588, 0.04816430062055588, 0.09632860124111176, 0.04816430062055588, 0.04816430062055588, 0.04816430062055588, 0.04816430062055588, 0.09632860124111176, 1.5551739931106567, 0.1268821656703949, 0.3806464970111847, 0.1268821656703949, 0.1268821656703949, 0.1268821656703949, 0.6645547747612, 0.1661386936903, 0.3719578683376312, 0.12690962851047516, 0.12690962851047516, 0.12690962851047516, 0.12690962851047516, 0.12690962851047516, 0.12690962851047516, 0.3014431595802307, 0.2009621113538742, 0.1004810556769371, 0.1004810556769371, 0.1004810556769371, 0.1004810556769371, 0.1004810556769371, 0.29633820056915283, 0.09877939522266388, 0.09877939522266388, 0.09877939522266388, 0.09877939522266388, 0.09877939522266388, 0.09877939522266388, 0.09877939522266388, 0.9245694279670715, 1.1480721235275269, 0.31407633423805237, 0.1884458065032959, 0.12563052773475647, 0.06281526386737823, 0.06281526386737823, 0.06281526386737823, 0.06281526386737823, 0.06281526386737823, 0.06281526386737823, 1.21951162815094, 0.479987233877182, 0.1371392160654068, 0.0685696080327034, 0.0685696080327034, 0.0685696080327034, 0.2786884903907776], \"Term\": [\"\", \"\", \"\", \"\", \"\", \"\", \"\", \"\", \"\", \"\", \"\", \"\", \"000\", \"000\", \"000\", \"1\", \"1\", \"1\", \"1\", \"1\", \"2\", \"2\", \"2\", \"2\", \"2\", \"a\", \"a\", \"a\", \"a\", \"a\", \"a\", \"a\", \"a\", \"air\", \"air\", \"al\", \"al\", \"album\", \"also\", \"also\", \"also\", \"also\", \"also\", \"also\", \"also\", \"also\", \"also\", \"also\", \"also\", \"also\", \"american\", \"american\", \"american\", \"american\", \"appear\", \"appear\", \"appear\", \"area\", \"area\", \"area\", \"area\", \"area\", \"armi\", \"armi\", \"assembl\", \"asset\", \"award\", \"award\", \"aziz\", \"band\", \"battl\", \"battl\", \"bene\", \"bhutan\", \"bhutanes\", \"book\", \"book\", \"book\", \"bowl\", \"british\", \"busi\", \"cabl\", \"caliph\", \"call\", \"call\", \"call\", \"call\", \"call\", \"call\", \"canon\", \"car\", \"career\", \"cathol\", \"cathol\", \"caus\", \"cell\", \"centuri\", \"centuri\", \"centuri\", \"centuri\", \"championship\", \"championship\", \"charact\", \"church\", \"church\", \"citi\", \"citi\", \"citi\", \"citi\", \"citi\", \"citi\", \"civil\", \"coach\", \"colleg\", \"common\", \"commut\", \"compani\", \"confeder\", \"constitu\", \"cost\", \"cultur\", \"cup\", \"cup\", \"day\", \"day\", \"day\", \"day\", \"defeat\", \"defeat\", \"depreci\", \"deriv\", \"design\", \"develop\", \"develop\", \"develop\", \"develop\", \"develop\", \"develop\", \"develop\", \"develop\", \"differ\", \"differ\", \"differ\", \"differ\", \"district\", \"dollar\", \"effect\", \"electr\", \"end\", \"end\", \"end\", \"end\", \"end\", \"energi\", \"engin\", \"engin\", \"english\", \"equat\", \"exampl\", \"exampl\", \"featur\", \"featur\", \"film\", \"final\", \"final\", \"finish\", \"first\", \"first\", \"first\", \"first\", \"first\", \"first\", \"first\", \"first\", \"first\", \"first\", \"flag\", \"footbal\", \"footbal\", \"forc\", \"forc\", \"forc\", \"forc\", \"form\", \"form\", \"form\", \"form\", \"form\", \"fort\", \"found\", \"found\", \"found\", \"french\", \"function\", \"function\", \"game\", \"game\", \"game\", \"game\", \"game\", \"general\", \"general\", \"general\", \"general\", \"german\", \"goal\", \"govern\", \"govern\", \"govern\", \"govern\", \"govern\", \"group\", \"group\", \"group\", \"group\", \"he\", \"he\", \"he\", \"he\", \"he\", \"heat\", \"high\", \"high\", \"high\", \"high\", \"i\", \"i\", \"i\", \"ibn\", \"in\", \"in\", \"in\", \"in\", \"in\", \"in\", \"in\", \"in\", \"in\", \"in\", \"in\", \"in\", \"includ\", \"includ\", \"includ\", \"includ\", \"includ\", \"includ\", \"includ\", \"includ\", \"includ\", \"includ\", \"includ\", \"includ\", \"india\", \"industri\", \"island\", \"island\", \"it\", \"it\", \"it\", \"it\", \"it\", \"it\", \"it\", \"it\", \"it\", \"it\", \"it\", \"jersey\", \"junction\", \"king\", \"king\", \"lake\", \"lamp\", \"languag\", \"languag\", \"later\", \"later\", \"later\", \"later\", \"law\", \"law\", \"leagu\", \"leagu\", \"light\", \"like\", \"like\", \"like\", \"line\", \"line\", \"made\", \"made\", \"made\", \"made\", \"made\", \"mani\", \"mani\", \"mani\", \"mani\", \"mani\", \"mani\", \"mani\", \"market\", \"marriag\", \"may\", \"may\", \"may\", \"may\", \"may\", \"may\", \"may\", \"may\", \"miss\", \"model\", \"music\", \"music\", \"music\", \"music\", \"name\", \"name\", \"name\", \"name\", \"name\", \"nation\", \"nation\", \"nation\", \"nation\", \"nation\", \"nation\", \"nba\", \"new\", \"new\", \"new\", \"new\", \"new\", \"new\", \"new\", \"new\", \"new\", \"nfl\", \"nhl\", \"norwich\", \"number\", \"number\", \"number\", \"number\", \"number\", \"often\", \"often\", \"often\", \"one\", \"one\", \"one\", \"one\", \"one\", \"one\", \"one\", \"one\", \"one\", \"one\", \"one\", \"one\", \"oper\", \"oper\", \"organ\", \"organ\", \"packer\", \"part\", \"part\", \"part\", \"part\", \"part\", \"peopl\", \"peopl\", \"peopl\", \"peopl\", \"perform\", \"perform\", \"person\", \"person\", \"phase\", \"play\", \"play\", \"play\", \"play\", \"player\", \"player\", \"playoff\", \"point\", \"point\", \"point\", \"polit\", \"polit\", \"popul\", \"produc\", \"produc\", \"product\", \"product\", \"program\", \"program\", \"provid\", \"provid\", \"public\", \"public\", \"race\", \"race\", \"race\", \"radio\", \"rail\", \"railway\", \"record\", \"record\", \"record\", \"region\", \"region\", \"releas\", \"requir\", \"river\", \"role\", \"round\", \"round\", \"school\", \"school\", \"school\", \"school\", \"school\", \"score\", \"season\", \"season\", \"second\", \"second\", \"second\", \"semiconductor\", \"seri\", \"seri\", \"seri\", \"servic\", \"servic\", \"she\", \"she\", \"show\", \"show\", \"song\", \"space\", \"spain\", \"spanish\", \"spanish\", \"speci\", \"standard\", \"star\", \"star\", \"state\", \"state\", \"state\", \"state\", \"state\", \"state\", \"state\", \"state\", \"state\", \"state\", \"state\", \"station\", \"stori\", \"student\", \"system\", \"system\", \"system\", \"system\", \"system\", \"system\", \"team\", \"team\", \"territori\", \"the\", \"the\", \"the\", \"the\", \"the\", \"the\", \"the\", \"the\", \"the\", \"the\", \"the\", \"the\", \"this\", \"this\", \"this\", \"this\", \"this\", \"this\", \"this\", \"this\", \"time\", \"time\", \"time\", \"time\", \"time\", \"time\", \"time\", \"time\", \"time\", \"time\", \"transport\", \"treati\", \"truck\", \"two\", \"two\", \"two\", \"two\", \"two\", \"two\", \"two\", \"two\", \"two\", \"umar\", \"umayyad\", \"union\", \"unit\", \"unit\", \"unit\", \"unit\", \"unit\", \"unit\", \"unit\", \"univers\", \"univers\", \"univers\", \"use\", \"use\", \"use\", \"use\", \"use\", \"use\", \"use\", \"use\", \"use\", \"use\", \"use\", \"use\", \"walid\", \"war\", \"war\", \"war\", \"war\", \"war\", \"win\", \"win\", \"word\", \"work\", \"work\", \"work\", \"work\", \"work\", \"work\", \"world\", \"world\", \"world\", \"world\", \"world\", \"world\", \"world\", \"would\", \"would\", \"would\", \"would\", \"would\", \"would\", \"would\", \"would\", \"yard\", \"yazid\", \"year\", \"year\", \"year\", \"year\", \"year\", \"year\", \"year\", \"year\", \"year\", \"\\u0081\", \"\\u2013\", \"\\u2013\", \"\\u2013\", \"\\u2013\", \"\\u2013\", \"\\u2019\"]}, \"R\": 30, \"lambda.step\": 0.01, \"plot.opts\": {\"xlab\": \"PC1\", \"ylab\": \"PC2\"}, \"topic.order\": [5, 9, 11, 1, 8, 3, 10, 2, 12, 4, 6, 7]};\n",
       "\n",
       "function LDAvis_load_lib(url, callback){\n",
       "  var s = document.createElement('script');\n",
       "  s.src = url;\n",
       "  s.async = true;\n",
       "  s.onreadystatechange = s.onload = callback;\n",
       "  s.onerror = function(){console.warn(\"failed to load library \" + url);};\n",
       "  document.getElementsByTagName(\"head\")[0].appendChild(s);\n",
       "}\n",
       "\n",
       "if(typeof(LDAvis) !== \"undefined\"){\n",
       "   // already loaded: just create the visualization\n",
       "   !function(LDAvis){\n",
       "       new LDAvis(\"#\" + \"ldavis_el43331405333271221286121409304\", ldavis_el43331405333271221286121409304_data);\n",
       "   }(LDAvis);\n",
       "}else if(typeof define === \"function\" && define.amd){\n",
       "   // require.js is available: use it to load d3/LDAvis\n",
       "   require.config({paths: {d3: \"https://cdnjs.cloudflare.com/ajax/libs/d3/3.5.5/d3.min\"}});\n",
       "   require([\"d3\"], function(d3){\n",
       "      window.d3 = d3;\n",
       "      LDAvis_load_lib(\"https://cdn.rawgit.com/bmabey/pyLDAvis/files/ldavis.v1.0.0.js\", function(){\n",
       "        new LDAvis(\"#\" + \"ldavis_el43331405333271221286121409304\", ldavis_el43331405333271221286121409304_data);\n",
       "      });\n",
       "    });\n",
       "}else{\n",
       "    // require.js not available: dynamically load d3 & LDAvis\n",
       "    LDAvis_load_lib(\"https://cdnjs.cloudflare.com/ajax/libs/d3/3.5.5/d3.min.js\", function(){\n",
       "         LDAvis_load_lib(\"https://cdn.rawgit.com/bmabey/pyLDAvis/files/ldavis.v1.0.0.js\", function(){\n",
       "                 new LDAvis(\"#\" + \"ldavis_el43331405333271221286121409304\", ldavis_el43331405333271221286121409304_data);\n",
       "            })\n",
       "         });\n",
       "}\n",
       "</script>"
      ],
      "text/plain": [
       "PreparedData(topic_coordinates=              x         y  topics  cluster       Freq\n",
       "topic                                                \n",
       "4     -0.078418 -0.060431       1        1  21.687418\n",
       "8     -0.038658 -0.004287       2        1  14.749317\n",
       "10     0.058274 -0.048274       3        1  11.344469\n",
       "0      0.017546  0.038800       4        1  10.797022\n",
       "7     -0.069492  0.029209       5        1   8.147585\n",
       "2     -0.028033  0.061439       6        1   6.222967\n",
       "9      0.046061  0.005634       7        1   5.222301\n",
       "1     -0.042710 -0.020153       8        1   4.698086\n",
       "11     0.028544 -0.020891       9        1   4.403859\n",
       "3     -0.005167  0.008904      10        1   4.295371\n",
       "5      0.025897  0.006041      11        1   4.215814\n",
       "6      0.086157  0.004010      12        1   4.215796, topic_info=     Category       Freq     Term      Total  loglift  logprob\n",
       "term                                                          \n",
       "0     Default  78.000000           78.000000  30.0000  30.0000\n",
       "989   Default  74.000000      the  74.000000  29.0000  29.0000\n",
       "1047  Default  20.000000      use  20.000000  28.0000  28.0000\n",
       "1290  Default  11.000000   season  11.000000  27.0000  27.0000\n",
       "541   Default  31.000000       in  31.000000  26.0000  26.0000\n",
       "92    Default  20.000000     also  20.000000  25.0000  25.0000\n",
       "1202  Default  11.000000     game  11.000000  24.0000  24.0000\n",
       "2642  Default   4.000000     film   4.000000  23.0000  23.0000\n",
       "957   Default  15.000000    state  15.000000  22.0000  22.0000\n",
       "1301  Default  11.000000     team  11.000000  21.0000  21.0000\n",
       "982   Default   7.000000   system   7.000000  20.0000  20.0000\n",
       "381   Default   4.000000    engin   4.000000  19.0000  19.0000\n",
       "1068  Default   7.000000      war   7.000000  18.0000  18.0000\n",
       "1907  Default   3.000000       al   3.000000  17.0000  17.0000\n",
       "4674  Default   3.000000      ibn   3.000000  16.0000  16.0000\n",
       "1206  Default  15.000000       he  15.000000  15.0000  15.0000\n",
       "646   Default   9.000000      may   9.000000  14.0000  14.0000\n",
       "722   Default  18.000000      one  18.000000  13.0000  13.0000\n",
       "1107  Default  15.000000     year  15.000000  12.0000  12.0000\n",
       "123   Default   5.000000     area   5.000000  11.0000  11.0000\n",
       "543   Default  12.000000   includ  12.000000  10.0000  10.0000\n",
       "1439  Default  14.000000      new  14.000000   9.0000   9.0000\n",
       "566   Default  12.000000       it  12.000000   8.0000   8.0000\n",
       "908   Default   5.000000   servic   5.000000   7.0000   7.0000\n",
       "332   Default   6.000000  develop   6.000000   6.0000   6.0000\n",
       "233   Default   4.000000   church   4.000000   5.0000   5.0000\n",
       "2037  Default   3.000000   energi   3.000000   4.0000   4.0000\n",
       "2274  Default   5.000000   school   5.000000   3.0000   3.0000\n",
       "2127  Default   3.000000  languag   3.000000   2.0000   2.0000\n",
       "996   Default   9.000000     this   9.000000   1.0000   1.0000\n",
       "...       ...        ...      ...        ...      ...      ...\n",
       "0     Topic12   3.100000           78.042564  -0.0595  -4.2153\n",
       "646   Topic12   0.890925      may   9.021682   0.8512  -5.4622\n",
       "1964  Topic12   0.455399     caus   2.950230   1.2979  -6.1333\n",
       "2361  Topic12   0.420942    water   2.563880   1.3595  -6.2120\n",
       "2211  Topic12   0.343894    plant   1.838109   1.4902  -6.4142\n",
       "92    Topic12   1.074953     also  20.352535   0.2254  -5.2745\n",
       "1270  Topic12   0.480624   produc   4.114474   1.0192  -6.0794\n",
       "996   Topic12   0.670395     this   9.047309   0.5640  -5.7466\n",
       "2714  Topic12   0.319565    occur   1.897509   1.3850  -6.4875\n",
       "541   Topic12   1.110243       in  31.023657  -0.1638  -5.2422\n",
       "612   Topic12   0.479111     like   4.831793   0.8553  -6.0826\n",
       "52    Topic12   0.672901        a  10.559574   0.4131  -5.7429\n",
       "566   Topic12   0.702591       it  12.451289   0.2915  -5.6997\n",
       "445   Topic12   0.528384     form   6.646998   0.6342  -5.9847\n",
       "183   Topic12   0.335906     bodi   2.296534   1.2440  -6.4377\n",
       "332   Topic12   0.518279  develop   6.581337   0.6249  -6.0040\n",
       "543   Topic12   0.667952   includ  12.925067   0.2036  -5.7503\n",
       "367   Topic12   0.403147   effect   3.630325   0.9686  -6.2552\n",
       "337   Topic12   0.435262   differ   4.788244   0.7684  -6.1786\n",
       "1271  Topic12   0.445394  product   5.228079   0.7035  -6.1555\n",
       "982   Topic12   0.493370   system   7.355807   0.4643  -6.0532\n",
       "722   Topic12   0.644291      one  18.005716  -0.1640  -5.7864\n",
       "718   Topic12   0.404367    often   4.178702   0.8309  -6.2522\n",
       "1021  Topic12   0.534809      two  13.442222  -0.0579  -5.9726\n",
       "634   Topic12   0.456236     mani   8.427910   0.2500  -6.1315\n",
       "1653  Topic12   0.423039     high   6.513939   0.4321  -6.2070\n",
       "257   Topic12   0.378519   common   3.924634   0.8276  -6.3182\n",
       "1000  Topic12   0.440748     time  14.699659  -0.3408  -6.1660\n",
       "434   Topic12   0.450835    first  18.997345  -0.5746  -6.1434\n",
       "957   Topic12   0.436258    state  15.135179  -0.3802  -6.1763\n",
       "\n",
       "[1059 rows x 6 columns], token_table=       Topic      Freq   Term\n",
       "term                         \n",
       "0          1  0.153762       \n",
       "0          2  0.089695       \n",
       "0          3  0.076881       \n",
       "0          4  0.166576       \n",
       "0          5  0.153762       \n",
       "0          6  0.102508       \n",
       "0          7  0.064068       \n",
       "0          8  0.051254       \n",
       "0          9  0.038441       \n",
       "0         10  0.038441       \n",
       "0         11  0.025627       \n",
       "0         12  0.038441       \n",
       "1511       1  0.214884    000\n",
       "1511       2  0.214884    000\n",
       "1511       3  0.214884    000\n",
       "1          1  0.319872      1\n",
       "1          2  0.106624      1\n",
       "1          3  0.106624      1\n",
       "1          4  0.106624      1\n",
       "1          7  0.106624      1\n",
       "34         1  0.397333      2\n",
       "34         2  0.132444      2\n",
       "34         3  0.132444      2\n",
       "34         4  0.132444      2\n",
       "34         7  0.132444      2\n",
       "52         1  0.189402      a\n",
       "52         2  0.094701      a\n",
       "52         3  0.094701      a\n",
       "52         4  0.094701      a\n",
       "52         5  0.094701      a\n",
       "...      ...       ...    ...\n",
       "1098       4  0.100481  world\n",
       "1098       6  0.100481  world\n",
       "1098       8  0.100481  world\n",
       "1098       9  0.100481  world\n",
       "1102       1  0.296338  would\n",
       "1102       2  0.098779  would\n",
       "1102       3  0.098779  would\n",
       "1102       4  0.098779  would\n",
       "1102       5  0.098779  would\n",
       "1102       6  0.098779  would\n",
       "1102       7  0.098779  would\n",
       "1102      10  0.098779  would\n",
       "2373       1  0.924569   yard\n",
       "17124      1  1.148072  yazid\n",
       "1107       1  0.314076   year\n",
       "1107       2  0.188446   year\n",
       "1107       3  0.125631   year\n",
       "1107       4  0.062815   year\n",
       "1107       5  0.062815   year\n",
       "1107       7  0.062815   year\n",
       "1107       8  0.062815   year\n",
       "1107       9  0.062815   year\n",
       "1107      10  0.062815   year\n",
       "29724      1  1.219512      \n",
       "1111       1  0.479987      –\n",
       "1111       2  0.137139      –\n",
       "1111       3  0.068570      –\n",
       "1111       4  0.068570      –\n",
       "1111       5  0.068570      –\n",
       "1113       1  0.278688      ’\n",
       "\n",
       "[589 rows x 3 columns], R=30, lambda_step=0.01, plot_opts={'xlab': 'PC1', 'ylab': 'PC2'}, topic_order=[5, 9, 11, 1, 8, 3, 10, 2, 12, 4, 6, 7])"
      ]
     },
     "execution_count": 22,
     "metadata": {},
     "output_type": "execute_result"
    }
   ],
   "source": [
    "# Visualize the topics\n",
    "pyLDAvis.enable_notebook()\n",
    "vis = pyLDAvis.gensim.prepare(model[1], model[3],model[7])\n",
    "vis"
   ]
  },
  {
   "cell_type": "markdown",
   "metadata": {},
   "source": [
    "Finalmente fazendo a matriz de similaridade de acordo com o pacote Gensim, obtemos que:"
   ]
  },
  {
   "cell_type": "code",
   "execution_count": 23,
   "metadata": {},
   "outputs": [
    {
     "data": {
      "text/html": [
       "<div>\n",
       "<style scoped>\n",
       "    .dataframe tbody tr th:only-of-type {\n",
       "        vertical-align: middle;\n",
       "    }\n",
       "\n",
       "    .dataframe tbody tr th {\n",
       "        vertical-align: top;\n",
       "    }\n",
       "\n",
       "    .dataframe thead th {\n",
       "        text-align: right;\n",
       "    }\n",
       "</style>\n",
       "<table border=\"1\" class=\"dataframe\">\n",
       "  <thead>\n",
       "    <tr style=\"text-align: right;\">\n",
       "      <th></th>\n",
       "      <th>2092031</th>\n",
       "      <th>6729501</th>\n",
       "      <th>24103697</th>\n",
       "      <th>34957804</th>\n",
       "      <th>2054313</th>\n",
       "      <th>233750</th>\n",
       "      <th>659663</th>\n",
       "      <th>642769</th>\n",
       "      <th>2079029</th>\n",
       "      <th>19944098</th>\n",
       "    </tr>\n",
       "  </thead>\n",
       "  <tbody>\n",
       "    <tr>\n",
       "      <th>2092031</th>\n",
       "      <td>1.000000</td>\n",
       "      <td>0.054670</td>\n",
       "      <td>0.000000</td>\n",
       "      <td>0.003893</td>\n",
       "      <td>0.033295</td>\n",
       "      <td>0.271017</td>\n",
       "      <td>0.139021</td>\n",
       "      <td>0.539004</td>\n",
       "      <td>0.000000</td>\n",
       "      <td>0.058439</td>\n",
       "    </tr>\n",
       "    <tr>\n",
       "      <th>6729501</th>\n",
       "      <td>0.054670</td>\n",
       "      <td>1.000000</td>\n",
       "      <td>0.755421</td>\n",
       "      <td>0.026533</td>\n",
       "      <td>0.130207</td>\n",
       "      <td>0.532592</td>\n",
       "      <td>0.000000</td>\n",
       "      <td>0.581595</td>\n",
       "      <td>0.755530</td>\n",
       "      <td>0.752174</td>\n",
       "    </tr>\n",
       "    <tr>\n",
       "      <th>24103697</th>\n",
       "      <td>0.000000</td>\n",
       "      <td>0.755421</td>\n",
       "      <td>1.000000</td>\n",
       "      <td>0.016221</td>\n",
       "      <td>0.182553</td>\n",
       "      <td>0.099951</td>\n",
       "      <td>0.000000</td>\n",
       "      <td>0.459293</td>\n",
       "      <td>0.999856</td>\n",
       "      <td>0.995415</td>\n",
       "    </tr>\n",
       "    <tr>\n",
       "      <th>34957804</th>\n",
       "      <td>0.003893</td>\n",
       "      <td>0.026533</td>\n",
       "      <td>0.016221</td>\n",
       "      <td>1.000000</td>\n",
       "      <td>0.052073</td>\n",
       "      <td>0.040793</td>\n",
       "      <td>0.053416</td>\n",
       "      <td>0.015254</td>\n",
       "      <td>0.016223</td>\n",
       "      <td>0.016151</td>\n",
       "    </tr>\n",
       "    <tr>\n",
       "      <th>2054313</th>\n",
       "      <td>0.033295</td>\n",
       "      <td>0.130207</td>\n",
       "      <td>0.182553</td>\n",
       "      <td>0.052073</td>\n",
       "      <td>1.000000</td>\n",
       "      <td>0.017228</td>\n",
       "      <td>0.655920</td>\n",
       "      <td>0.079165</td>\n",
       "      <td>0.172339</td>\n",
       "      <td>0.171574</td>\n",
       "    </tr>\n",
       "    <tr>\n",
       "      <th>233750</th>\n",
       "      <td>0.271017</td>\n",
       "      <td>0.532592</td>\n",
       "      <td>0.099951</td>\n",
       "      <td>0.040793</td>\n",
       "      <td>0.017228</td>\n",
       "      <td>1.000000</td>\n",
       "      <td>0.322621</td>\n",
       "      <td>0.309485</td>\n",
       "      <td>0.099966</td>\n",
       "      <td>0.099522</td>\n",
       "    </tr>\n",
       "    <tr>\n",
       "      <th>659663</th>\n",
       "      <td>0.139021</td>\n",
       "      <td>0.000000</td>\n",
       "      <td>0.000000</td>\n",
       "      <td>0.053416</td>\n",
       "      <td>0.655920</td>\n",
       "      <td>0.322621</td>\n",
       "      <td>1.000000</td>\n",
       "      <td>0.012350</td>\n",
       "      <td>0.000000</td>\n",
       "      <td>0.000000</td>\n",
       "    </tr>\n",
       "    <tr>\n",
       "      <th>642769</th>\n",
       "      <td>0.539004</td>\n",
       "      <td>0.581595</td>\n",
       "      <td>0.459293</td>\n",
       "      <td>0.015254</td>\n",
       "      <td>0.079165</td>\n",
       "      <td>0.309485</td>\n",
       "      <td>0.012350</td>\n",
       "      <td>1.000000</td>\n",
       "      <td>0.459359</td>\n",
       "      <td>0.533824</td>\n",
       "    </tr>\n",
       "    <tr>\n",
       "      <th>2079029</th>\n",
       "      <td>0.000000</td>\n",
       "      <td>0.755530</td>\n",
       "      <td>0.999856</td>\n",
       "      <td>0.016223</td>\n",
       "      <td>0.172339</td>\n",
       "      <td>0.099966</td>\n",
       "      <td>0.000000</td>\n",
       "      <td>0.459359</td>\n",
       "      <td>1.000000</td>\n",
       "      <td>0.995558</td>\n",
       "    </tr>\n",
       "    <tr>\n",
       "      <th>19944098</th>\n",
       "      <td>0.058439</td>\n",
       "      <td>0.752174</td>\n",
       "      <td>0.995415</td>\n",
       "      <td>0.016151</td>\n",
       "      <td>0.171574</td>\n",
       "      <td>0.099522</td>\n",
       "      <td>0.000000</td>\n",
       "      <td>0.533824</td>\n",
       "      <td>0.995558</td>\n",
       "      <td>1.000000</td>\n",
       "    </tr>\n",
       "  </tbody>\n",
       "</table>\n",
       "</div>"
      ],
      "text/plain": [
       "          2092031   6729501   24103697  34957804  2054313   233750    \\\n",
       "2092031   1.000000  0.054670  0.000000  0.003893  0.033295  0.271017   \n",
       "6729501   0.054670  1.000000  0.755421  0.026533  0.130207  0.532592   \n",
       "24103697  0.000000  0.755421  1.000000  0.016221  0.182553  0.099951   \n",
       "34957804  0.003893  0.026533  0.016221  1.000000  0.052073  0.040793   \n",
       "2054313   0.033295  0.130207  0.182553  0.052073  1.000000  0.017228   \n",
       "233750    0.271017  0.532592  0.099951  0.040793  0.017228  1.000000   \n",
       "659663    0.139021  0.000000  0.000000  0.053416  0.655920  0.322621   \n",
       "642769    0.539004  0.581595  0.459293  0.015254  0.079165  0.309485   \n",
       "2079029   0.000000  0.755530  0.999856  0.016223  0.172339  0.099966   \n",
       "19944098  0.058439  0.752174  0.995415  0.016151  0.171574  0.099522   \n",
       "\n",
       "          659663    642769    2079029   19944098  \n",
       "2092031   0.139021  0.539004  0.000000  0.058439  \n",
       "6729501   0.000000  0.581595  0.755530  0.752174  \n",
       "24103697  0.000000  0.459293  0.999856  0.995415  \n",
       "34957804  0.053416  0.015254  0.016223  0.016151  \n",
       "2054313   0.655920  0.079165  0.172339  0.171574  \n",
       "233750    0.322621  0.309485  0.099966  0.099522  \n",
       "659663    1.000000  0.012350  0.000000  0.000000  \n",
       "642769    0.012350  1.000000  0.459359  0.533824  \n",
       "2079029   0.000000  0.459359  1.000000  0.995558  \n",
       "19944098  0.000000  0.533824  0.995558  1.000000  "
      ]
     },
     "execution_count": 23,
     "metadata": {},
     "output_type": "execute_result"
    }
   ],
   "source": [
    "fonte = similarities.MatrixSimilarity(model[3])\n",
    "fonte = list(fonte)\n",
    "head = list(corpus.id)\n",
    "fonte.insert(0,np.array(head))\n",
    "\n",
    "\n",
    "ms = pd.DataFrame(fonte[1:],index=np.array(head),columns=np.array(head))\n",
    "sample = ms.iloc[:10,:10]\n",
    "sample"
   ]
  },
  {
   "cell_type": "markdown",
   "metadata": {},
   "source": [
    "<p>Podemos verificar a matriz de similaridade no seguinte heatmap:</p>"
   ]
  },
  {
   "cell_type": "code",
   "execution_count": 24,
   "metadata": {},
   "outputs": [
    {
     "data": {
      "text/plain": [
       "<matplotlib.axes._subplots.AxesSubplot at 0x7fd070129470>"
      ]
     },
     "execution_count": 24,
     "metadata": {},
     "output_type": "execute_result"
    },
    {
     "data": {
      "image/png": "[encoded data removed]",
      "text/plain": [
       "<Figure size 1080x720 with 2 Axes>"
      ]
     },
     "metadata": {
      "needs_background": "light"
     },
     "output_type": "display_data"
    }
   ],
   "source": [
    "plt.figure(figsize=(15,10))\n",
    "mask = np.zeros_like(sample)\n",
    "mask[np.triu_indices_from(mask)] = True\n",
    "sns.heatmap(sample, mask=mask, square=True,annot = True,cmap=\"viridis\")"
   ]
  },
  {
   "cell_type": "code",
   "execution_count": 25,
   "metadata": {},
   "outputs": [
    {
     "data": {
      "text/plain": [
       "' Scott Adsit  Robert Scott Adsit (born November 26, 1965) is an American actor, writer and improvisational comedian. He is best known for co-starring as Pete Hornberger in the NBC comedy \"30 Rock\" and in the Adult Swim stop-motion animation programs \"Moral Orel\" and Mary Shelley\\'s Frankenhole. Life and career. 1990s. After attending Columbia College Chicago, Adsit joined the mainstage cast of Chicago\\'s The Second City in 1994, where he appeared in several Jeff award-winning revues, including \"Piñata Full of Bees\" and \"Paradigm Lost\" for which he won The Joseph Jefferson Award for Best Actor in a Comedy. A sketch he performed with future \"Saturday Night Live\" head writer Adam McKay, \"Gump,\" was included as one of Second City\\'s all-time best in the theater\\'s 25th anniversary compilation. He appeared in the 1997 PBS documentary about the process of creating the multi-award winning Second City review, Paradigm Lost, \"Second to None\" along with castmates Tina Fey, Kevin Dorff, Rachel Dratch, Jenna Jolovitz and Jim Zulevic. Adsit also attended DePauw University in Indiana. In 1996, he portrayed an alcoholic and drug-addicted father in the Hazelden Substance Abuse Clinic (Minnesota) short-subject production, \"Reflections From The Heart Of A Child\". This 26-minute video/DVD feature is required curriculum in most DWI Repeat Offender classes and substance abuse rehabilitation clinics nationwide to this day. In 1997, Adsit recorded the voices for the King of Payne, Sir Psycho, The Duke of Bourbon, and Merlin for Williams\\' \"Medieval Madness\" pinball machine. Adsit co-wrote the game\\'s recorded dialog with fellow Second City cast member, Kevin Dorff. Adsit, Dorff and their Second City castmate, Tina Fey, played the character voices in the game.  2000s. In 2001, he starred in an episode of \"Friends\", \"The One with Ross and Monica\\'s Cousin\" in Season 7. After moving to Los Angeles, Adsit appeared in several sitcoms and commercials, as well as appeared as a cast member in the renowned sketch comedy program, \"Mr. Show\". He also plagued the band Tenacious D as both a neighbor and a demon in their HBO show. From 2005–2008, he co-directed, co-wrote and co-produced the Adult Swim show \"Moral Orel\" with Dino Stamatopoulos and Jay Johnston. He also provides the voice of Orel\\'s father, Clay Puppington, as well as his best friend, Doughy, Link McMissins, Art Posabule, Mr. Christein, Junior Christein, Doctor Potterswheel, Billy Figurelli, Mrs. Figurelli and Tiny Tina, among others. He was nominated for an Annie Award for his work as Clay. Adsit also had a minor role in the \"The Office\" episode \"Conflict Resolution\" as a photographer. Adsit also had a small role in the movie \"Kicking & Screaming\", starring Will Ferrell, where he played the coach of a rival team. In 2006, he joined the cast of \"30 Rock\" with former Second City castmate Tina Fey. On \"30 Rock,\" he plays the role of Pete Hornberger, the well-meaning but frequently terrified executive producer of \"TGS with Tracy Jordan\". Adsit continues to act, improvise and teach at \"I.O. West\" and the Upright Citizens Brigade. In 2007 Adsit along with Brendon Small starred together in a pilot for Adult Swim entitled \"Let\\'s Fish\", but the pilot never became an official series. 2010s. After the success of \"Moral Orel\", Adsit and Dino Stamatopoulos started working together again on their newest stop-motion animation series \"Mary Shelley\\'s Frankenhole\", which Adult Swim has ordered for ten episodes for its first season, which began airing on June 27, 2010. Adsit will direct, write, produce and provide much of the lead voices. In June 2010, Adsit hosted a panel featuring comic book writers Dan Slott, Frank Tieri, and Chris Claremont at HeroCon in Charlotte, North Carolina. Adsit also guest starred as the \"Guest Bailiff\" in three episodes of John Hodgman\\'s podcast \"Judge John Hodgman\". Adsit starred as himself in John Hodgman\\'s Netflix comedy special \"\". '"
      ]
     },
     "execution_count": 25,
     "metadata": {},
     "output_type": "execute_result"
    }
   ],
   "source": [
    "texto_6729501 = corpus[corpus.id == 6729501][\"content\"].values[0]\n",
    "texto_6729501"
   ]
  },
  {
   "cell_type": "code",
   "execution_count": 26,
   "metadata": {},
   "outputs": [
    {
     "data": {
      "text/plain": [
       "' Fruits of Passion  Fruits of Passion is a 1981 French-Japanese co-production directed by Shūji Terayama and starring Klaus Kinski which was released in France as \"Les fruits de la passion\" and in Japan as . The film is loosely based on the novel \"Retour à Roissy\" by Pauline Réage, written as a sequel to the \"Story of O\". Plot. The lead characters of the \"Story of O\" and \"Retour à Roissy\" novels, Sir Stephen and O, are placed in southern China where Sir Stephen owns a casino. Sir Stephen places O in a Chinese brothel for \"training\" and O is then subjected to a variety of humiliating experiences to prove her unconditional obedience. A sub-plot concerns a coolie rebellion due to the resentment towards Europeans by the local population and a young man desperate to afford O\\'s favors at the brothel. Release. The film was released in France on June 3, 1981 as \"Les fruits de la passion\" and as \"Shanghai Ijin Shōkan - China Doll\" in Japan with censoring of the pubic areas in November 1981. The USA release as \"Fruits of Passion\" with English dubbing occurred in November 1982. A version in Japanese with English subtitles on VHS tape and DVD was published as \"Fruits of Passion - The Story of \"O\" Continued\" on June 20, 2000. A digitally remastered version of the film was released in Japan in Japanese, English and French with Japanese subtitles in December 2005. Reception. Reaction to the film has been mixed, Roberta Novielli described it as \"shallow and decadent\" and Jasper Sharp calls it \"minor Terayama\" whose \"charms are mainly cosmetic\", the costuming, sets and cinematography. Thomas and Yuko Mihara Weisser give the movie three stars out of four but say it is based on the \"look\" of the film and not on its narrative or coherence. '"
      ]
     },
     "execution_count": 26,
     "metadata": {},
     "output_type": "execute_result"
    }
   ],
   "source": [
    "texto_19944098 = corpus[corpus.id == 19944098][\"content\"].values[0]\n",
    "texto_19944098"
   ]
  },
  {
   "cell_type": "markdown",
   "metadata": {},
   "source": [
    "### (Questão 3) Word2vec\n",
    "\n",
    "<ul>\n",
    "    <li>Ainda usando a biblioteca Gensim, construa uma representaçao vetorial semântica (Word2vec) do seu corpus de escolha. Podem seguir este tutorial <a href=\"https://rare-technologies.com/word2vec-tutorial/\">https://rare-technologies.com/word2vec-tutorial/</a></li>\n",
    "    <li>Construa uma representaçao similar usando <a href=\"https://radimrehurek.com/gensim/models/fasttext.html#gensim.models.fasttext.FastText\">FastText</a>. Veja este <a href=\"https://github.com/RaRe-Technologies/gensim/blob/develop/docs/notebooks/FastText_Tutorial.ipynb\">Tutorial</a></li>\n",
    "</ul>"
   ]
  },
  {
   "cell_type": "code",
   "execution_count": 27,
   "metadata": {},
   "outputs": [
    {
     "data": {
      "text/html": [
       "<div>\n",
       "<style scoped>\n",
       "    .dataframe tbody tr th:only-of-type {\n",
       "        vertical-align: middle;\n",
       "    }\n",
       "\n",
       "    .dataframe tbody tr th {\n",
       "        vertical-align: top;\n",
       "    }\n",
       "\n",
       "    .dataframe thead th {\n",
       "        text-align: right;\n",
       "    }\n",
       "</style>\n",
       "<table border=\"1\" class=\"dataframe\">\n",
       "  <thead>\n",
       "    <tr style=\"text-align: right;\">\n",
       "      <th></th>\n",
       "      <th>id</th>\n",
       "      <th>content</th>\n",
       "    </tr>\n",
       "  </thead>\n",
       "  <tbody>\n",
       "    <tr>\n",
       "      <th>0</th>\n",
       "      <td>2092031</td>\n",
       "      <td>Military chaplain  A military chaplain minist...</td>\n",
       "    </tr>\n",
       "    <tr>\n",
       "      <th>1</th>\n",
       "      <td>6729501</td>\n",
       "      <td>Scott Adsit  Robert Scott Adsit (born Novembe...</td>\n",
       "    </tr>\n",
       "    <tr>\n",
       "      <th>2</th>\n",
       "      <td>24103697</td>\n",
       "      <td>Option Paralysis  Option Paralysis is the fou...</td>\n",
       "    </tr>\n",
       "    <tr>\n",
       "      <th>3</th>\n",
       "      <td>34957804</td>\n",
       "      <td>Ford F-Series ninth generation  The ninth gen...</td>\n",
       "    </tr>\n",
       "    <tr>\n",
       "      <th>4</th>\n",
       "      <td>2054313</td>\n",
       "      <td>Leaellynasaura  Leaellynasaura (meaning \"Leae...</td>\n",
       "    </tr>\n",
       "  </tbody>\n",
       "</table>\n",
       "</div>"
      ],
      "text/plain": [
       "         id                                            content\n",
       "0   2092031   Military chaplain  A military chaplain minist...\n",
       "1   6729501   Scott Adsit  Robert Scott Adsit (born Novembe...\n",
       "2  24103697   Option Paralysis  Option Paralysis is the fou...\n",
       "3  34957804   Ford F-Series ninth generation  The ninth gen...\n",
       "4   2054313   Leaellynasaura  Leaellynasaura (meaning \"Leae..."
      ]
     },
     "execution_count": 27,
     "metadata": {},
     "output_type": "execute_result"
    }
   ],
   "source": [
    "corpus.head()"
   ]
  },
  {
   "cell_type": "code",
   "execution_count": 28,
   "metadata": {},
   "outputs": [],
   "source": [
    "def W2V(txt):\n",
    "    \n",
    "    try:\n",
    "        os.remove(\"corpusWikiW2V.mm\")\n",
    "        os.remove(\"corpusWikiW2V.mm.index\")\n",
    "        os.remove(\"vocabularioW2V.dict\")\n",
    "    except:\n",
    "        print(\" \")\n",
    "    \n",
    "    #logging.basicConfig(format='%(asctime)s : %(levelname)s : %(message)s', level=logging.INFO)\n",
    "    #________________________________________________________________________________________________________\n",
    "    #Incializando vetores:\n",
    "    txtClean = []\n",
    "    c = Counter([])\n",
    "    \n",
    "    #Loop:\n",
    "    for texto in txt:\n",
    "        aux = [stemmer.stem(token.strip(punctuation).lower()) for token in WordPunctTokenizer().tokenize(texto) if token not in swu]\n",
    "        c.update(aux)\n",
    "        txtClean.append(aux)\n",
    "    txtClean = [[token for token in t if c[token]>1] for t in txtClean]\n",
    "    \n",
    "    #________________________________________________________________________________________________________\n",
    "\n",
    "    #Gerando dicionário:\n",
    "    dicionario = corpora.Dictionary(txtClean)\n",
    "    dicionario.save('vocabularioW2V.dict')\n",
    "    \n",
    "    #________________________________________________________________________________________________________\n",
    "    #Gerando as frequências:\n",
    "    corpus = [dicionario.doc2bow(d) for d in txtClean]\n",
    "    corpora.MmCorpus.serialize('corpusWikiW2V.mm', corpus)\n",
    "    \n",
    "    #________________________________________________________________________________________________________\n",
    "    #TF-IDF:\n",
    "    mod_tfidf = models.TfidfModel(corpus)\n",
    "    corpus_tfidf = mod_tfidf[corpus]\n",
    "    #W2V:\n",
    "    mod_w2v = models.Word2Vec(txtClean, min_count=1)\n",
    "#     corpus_w2v = mod_w2v[txtClean]\n",
    "          \n",
    "#     return [mod_w2v,corpus_w2v,dicionario]\n",
    "    return mod_w2v"
   ]
  },
  {
   "cell_type": "code",
   "execution_count": 29,
   "metadata": {},
   "outputs": [],
   "source": [
    "vetor = W2V(corpus.content)"
   ]
  },
  {
   "cell_type": "code",
   "execution_count": 30,
   "metadata": {},
   "outputs": [
    {
     "data": {
      "text/plain": [
       "[('movi', 0.8480135202407837),\n",
       " ('documentari', 0.6960514783859253),\n",
       " ('thriller', 0.6861400604248047),\n",
       " ('cinema', 0.6739432215690613),\n",
       " ('hollywood', 0.6576851010322571),\n",
       " ('pictur', 0.657435417175293),\n",
       " ('theatric', 0.6509983539581299),\n",
       " ('comedi', 0.6412370204925537),\n",
       " ('malayalam', 0.6410768032073975),\n",
       " ('bollywood', 0.6328368186950684)]"
      ]
     },
     "execution_count": 30,
     "metadata": {},
     "output_type": "execute_result"
    }
   ],
   "source": [
    "vetor.wv.most_similar(positive='film')"
   ]
  },
  {
   "cell_type": "code",
   "execution_count": 31,
   "metadata": {},
   "outputs": [
    {
     "data": {
      "text/plain": [
       "[('rock', 0.7731972336769104),\n",
       " ('punk', 0.7401914596557617),\n",
       " ('sepultura', 0.7273174524307251),\n",
       " ('beck', 0.7231266498565674),\n",
       " ('pop', 0.7222390174865723),\n",
       " ('butchi', 0.7195671796798706),\n",
       " ('album', 0.7141148447990417),\n",
       " ('solo', 0.7128345966339111),\n",
       " ('trio', 0.7056070566177368),\n",
       " ('plimsoul', 0.7046173214912415)]"
      ]
     },
     "execution_count": 31,
     "metadata": {},
     "output_type": "execute_result"
    }
   ],
   "source": [
    "vetor.wv.most_similar(positive='band')"
   ]
  },
  {
   "cell_type": "code",
   "execution_count": 32,
   "metadata": {},
   "outputs": [
    {
     "name": "stdout",
     "output_type": "stream",
     "text": [
      "Comparação entre duas palavras do Vocabulário: 'band' e 'film'. Similaridade: 82.64%\n",
      "Comparação entre dois vetores do Vocabulário: ['band','star'] e ['film','star']. Similaridade: 64.9%\n"
     ]
    }
   ],
   "source": [
    "print(\"Comparação entre duas palavras do Vocabulário: 'band' e 'film'. Similaridade: \"+str(np.round(vetor.wv.n_similarity(\"band\", \"film\")*100,2))+\"%\")\n",
    "print(\"Comparação entre dois vetores do Vocabulário: ['band','star'] e ['film','star']. Similaridade: \"+str(np.round(vetor.wv.n_similarity([\"band\",\"star\"], [\"film\",\"star\"])*100,2))+\"%\")"
   ]
  },
  {
   "cell_type": "markdown",
   "metadata": {},
   "source": [
    "<p><b>Explicação</b>: Através do Gensim conseguimos treinar um modelo de Word2Vec para o corpus de escolha, de maneira que agora podemos comparar dois vetores de palavras e retornar um valor de similaridade entre eles. Entretanto não conseguimos fazer isso com palavras que estejam fora do vocabulário criado. Para que seja possível fazer isso precisamos utilizar o FastText, cujos links encontram-se no enunciado. Vamos então implementar este modelo.</p>"
   ]
  },
  {
   "cell_type": "code",
   "execution_count": 33,
   "metadata": {},
   "outputs": [],
   "source": [
    "ftvetor = FastText(corpus.content, min_count=1)"
   ]
  },
  {
   "cell_type": "markdown",
   "metadata": {},
   "source": [
    "</p>Comparando agora os valores de similaridade com as palavras anteriores:</p>"
   ]
  },
  {
   "cell_type": "code",
   "execution_count": 34,
   "metadata": {},
   "outputs": [
    {
     "name": "stdout",
     "output_type": "stream",
     "text": [
      "Comparação entre duas palavras do Vocabulário: 'band' e 'film'. Similaridade: 78.24%\n"
     ]
    }
   ],
   "source": [
    "print(\"Comparação entre duas palavras do Vocabulário: 'band' e 'film'. Similaridade: \"+str(np.round(ftvetor.wv.n_similarity(\"band\", \"film\")*100,2))+\"%\")"
   ]
  },
  {
   "cell_type": "code",
   "execution_count": 35,
   "metadata": {},
   "outputs": [
    {
     "name": "stdout",
     "output_type": "stream",
     "text": [
      "Comparação entre dois vetores do Vocabulário: ['band','star'] e ['film','star']. Similaridade: 33.85%\n"
     ]
    }
   ],
   "source": [
    "print(\"Comparação entre dois vetores do Vocabulário: ['band','star'] e ['film','star']. Similaridade: \"+str(np.round(ftvetor.wv.n_similarity([\"band\",\"star\"], [\"film\",\"star\"])*100,2))+\"%\")"
   ]
  },
  {
   "cell_type": "markdown",
   "metadata": {},
   "source": [
    "<p>Pegando uma palavra (\"movie\") que não está no vocabulário para comparar a similaridade dela com outras que estão lá:</p>"
   ]
  },
  {
   "cell_type": "code",
   "execution_count": 36,
   "metadata": {},
   "outputs": [
    {
     "name": "stdout",
     "output_type": "stream",
     "text": [
      "Comparação entre duas palavras do Vocabulário: 'movie' e 'film'. Similaridade: 90.86%\n"
     ]
    }
   ],
   "source": [
    "print(\"Comparação entre duas palavras do Vocabulário: 'movie' e 'film'. Similaridade: \"+str(np.round(ftvetor.wv.n_similarity(\"movie\", \"film\")*100,2))+\"%\")"
   ]
  },
  {
   "cell_type": "code",
   "execution_count": 37,
   "metadata": {},
   "outputs": [
    {
     "name": "stdout",
     "output_type": "stream",
     "text": [
      "Comparação entre dois vetores do Vocabulário: ['movie','star'] e ['film','star']. Similaridade: 56.68%\n"
     ]
    }
   ],
   "source": [
    "print(\"Comparação entre dois vetores do Vocabulário: ['movie','star'] e ['film','star']. Similaridade: \"+str(np.round(ftvetor.wv.n_similarity([\"movie\",\"star\"], [\"film\",\"star\"])*100,2))+\"%\")"
   ]
  },
  {
   "cell_type": "markdown",
   "metadata": {},
   "source": [
    "<p>Veja que os resultados obtidos com o FastText são parecidos com o Word2Vec, e percebe-se que em ambos os modelos a similaridade cai muito quando as mesmas palavras ficam inseridos em dois vetores. Porém, pelo fato da aplicação do Word2Vec ser restrito ao uso das palavras do Vocabulário construído, o segundo modelo utilizando o FastText parece ser melhor para usos mais genéricos. </p>"
   ]
  },
  {
   "cell_type": "markdown",
   "metadata": {},
   "source": [
    "<b>FIM</b>"
   ]
  }
 ],
 "metadata": {
  "kernelspec": {
   "display_name": "Python 3",
   "language": "python",
   "name": "python3"
  },
  "language_info": {
   "codemirror_mode": {
    "name": "ipython",
    "version": 3
   },
   "file_extension": ".py",
   "mimetype": "text/x-python",
   "name": "python",
   "nbconvert_exporter": "python",
   "pygments_lexer": "ipython3",
   "version": "3.7.3"
  }
 },
 "nbformat": 4,
 "nbformat_minor": 2
}
