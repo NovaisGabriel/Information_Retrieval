{
 "cells": [
  {
   "cell_type": "markdown",
   "metadata": {},
   "source": [
    "<h1 align=\"center\">Projeto Final 2019</h1>\n",
    "\n",
    "<h3 align=\"center\">Gabriel Lima Novais</h3>\n",
    "\n",
    "<p align=\"center\"><b>Objetivo:</b> Neste projeto cada aluno deve eleger um corpus de documentos de tamanho médio (pelo menos milhares de documentos). Todas as tarefas a seguir serao realizadas sobre este corpus.</p>\n",
    "\n",
    "<p align=\"center\"><b>Corpus utililzado:</b> Base de artigos da Wikipedia (3.2GB). Para realizar o entendimento inicial de cada exercício (e até mesmo para a implementação), a estratégia utilizada por mim foi a de considerar um corpus de teste com número extramamente reduzido de artigos (10 artigos) e depois dessa etapa pegar a base de dados composta por 200.000 artigos.</p>"
   ]
  },
  {
   "cell_type": "markdown",
   "metadata": {},
   "source": [
    "#### Importando pacotes:"
   ]
  },
  {
   "cell_type": "code",
   "execution_count": 15,
   "metadata": {},
   "outputs": [],
   "source": [
    "import numpy as np\n",
    "import pandas as pd\n",
    "import seaborn as sns\n",
    "import matplotlib.pyplot as plt\n",
    "import os\n",
    "import re\n",
    "import whoosh\n",
    "import nltk\n",
    "import string\n",
    "import enchant\n",
    "import shutil\n",
    "import gensim\n",
    "import logging\n",
    "#------------------------------------------------------------------------------------\n",
    "from IPython.display import display, Markdown, Latex\n",
    "from collections import defaultdict,Counter,OrderedDict\n",
    "from math import log\n",
    "from sklearn.feature_extraction.text import TfidfVectorizer\n",
    "from numpy.linalg import norm\n",
    "from string import punctuation\n",
    "#____________________________________________________________________________________\n",
    "from gensim import corpora, models, similarities\n",
    "from gensim.utils import simple_preprocess\n",
    "from gensim.models import CoherenceModel,wrappers,FastText\n",
    "#____________________________________________________________________________________\n",
    "from nltk.corpus import machado, mac_morpho,stopwords\n",
    "from nltk.tokenize import WordPunctTokenizer\n",
    "from nltk.stem.snowball import SnowballStemmer\n",
    "#____________________________________________________________________________________\n",
    "import pyLDAvis\n",
    "import pyLDAvis.gensim  # don't skip this\n",
    "import matplotlib.pyplot as plt\n",
    "%matplotlib inline\n",
    "#____________________________________________________________________________________\n",
    "from whoosh import sorting\n",
    "from whoosh.index import create_in, open_dir\n",
    "from whoosh.fields import *\n",
    "from whoosh import qparser\n",
    "from whoosh.qparser import QueryParser"
   ]
  },
  {
   "cell_type": "markdown",
   "metadata": {},
   "source": [
    "#### Configurações iniciais:"
   ]
  },
  {
   "cell_type": "code",
   "execution_count": 2,
   "metadata": {},
   "outputs": [
    {
     "name": "stderr",
     "output_type": "stream",
     "text": [
      "[nltk_data] Downloading package stopwords to /home/novais/nltk_data...\n",
      "[nltk_data]   Package stopwords is already up-to-date!\n"
     ]
    }
   ],
   "source": [
    "#O corpus escolhido está em Inglês, então as devidas configurações são:\n",
    "nltk.download('stopwords')\n",
    "swu = stopwords.words('english')+ list(string.punctuation)\n",
    "stopwords.words('english')\n",
    "stemmer = SnowballStemmer('english')"
   ]
  },
  {
   "cell_type": "markdown",
   "metadata": {},
   "source": [
    "#### Preparando o Corpus"
   ]
  },
  {
   "cell_type": "code",
   "execution_count": 24,
   "metadata": {},
   "outputs": [],
   "source": [
    "def data(file,nr,sample):\n",
    "\n",
    "    #Importando os dados da Wikipedia em formato csv:\n",
    "    df = pd.read_table(file, sep=\",\", nrows=nr,header=None)\n",
    "\n",
    "    #Tratando a base de dados:\n",
    "    df.columns = ['id','content']\n",
    "    df.id = df.id.apply(lambda x: int(x[10:]))\n",
    "\n",
    "    #Retirando uma amostra pequena para realizar as questões da lista sem demorar muito...\n",
    "    #OBS: Toda vez que rodar essa linha abixo o Corpus vai mudar e assim as respostas devem mudar!!!\n",
    "    corpus =  df.sample(n=sample)\n",
    "    corpus = corpus.reset_index().drop(['index'], axis=1)\n",
    "\n",
    "    #Visualizando aas primeiras linhas do Corpus:\n",
    "    return corpus"
   ]
  },
  {
   "cell_type": "code",
   "execution_count": 77,
   "metadata": {},
   "outputs": [],
   "source": [
    "# corpus = data(\"corpusEx.csv\",5000,5000)\n",
    "# corpus.head()"
   ]
  },
  {
   "cell_type": "markdown",
   "metadata": {},
   "source": [
    "<p>Guardando a base de Dados para consultas futuras:</p>"
   ]
  },
  {
   "cell_type": "code",
   "execution_count": 4,
   "metadata": {},
   "outputs": [],
   "source": [
    "# corpus.to_csv('corpus_uso.csv')"
   ]
  },
  {
   "cell_type": "code",
   "execution_count": 5,
   "metadata": {},
   "outputs": [
    {
     "data": {
      "text/html": [
       "<div>\n",
       "<style scoped>\n",
       "    .dataframe tbody tr th:only-of-type {\n",
       "        vertical-align: middle;\n",
       "    }\n",
       "\n",
       "    .dataframe tbody tr th {\n",
       "        vertical-align: top;\n",
       "    }\n",
       "\n",
       "    .dataframe thead th {\n",
       "        text-align: right;\n",
       "    }\n",
       "</style>\n",
       "<table border=\"1\" class=\"dataframe\">\n",
       "  <thead>\n",
       "    <tr style=\"text-align: right;\">\n",
       "      <th></th>\n",
       "      <th>id</th>\n",
       "      <th>content</th>\n",
       "    </tr>\n",
       "  </thead>\n",
       "  <tbody>\n",
       "    <tr>\n",
       "      <th>0</th>\n",
       "      <td>2092031</td>\n",
       "      <td>Military chaplain  A military chaplain minist...</td>\n",
       "    </tr>\n",
       "    <tr>\n",
       "      <th>1</th>\n",
       "      <td>6729501</td>\n",
       "      <td>Scott Adsit  Robert Scott Adsit (born Novembe...</td>\n",
       "    </tr>\n",
       "    <tr>\n",
       "      <th>2</th>\n",
       "      <td>24103697</td>\n",
       "      <td>Option Paralysis  Option Paralysis is the fou...</td>\n",
       "    </tr>\n",
       "    <tr>\n",
       "      <th>3</th>\n",
       "      <td>34957804</td>\n",
       "      <td>Ford F-Series ninth generation  The ninth gen...</td>\n",
       "    </tr>\n",
       "    <tr>\n",
       "      <th>4</th>\n",
       "      <td>2054313</td>\n",
       "      <td>Leaellynasaura  Leaellynasaura (meaning \"Leae...</td>\n",
       "    </tr>\n",
       "  </tbody>\n",
       "</table>\n",
       "</div>"
      ],
      "text/plain": [
       "         id                                            content\n",
       "0   2092031   Military chaplain  A military chaplain minist...\n",
       "1   6729501   Scott Adsit  Robert Scott Adsit (born Novembe...\n",
       "2  24103697   Option Paralysis  Option Paralysis is the fou...\n",
       "3  34957804   Ford F-Series ninth generation  The ninth gen...\n",
       "4   2054313   Leaellynasaura  Leaellynasaura (meaning \"Leae..."
      ]
     },
     "execution_count": 5,
     "metadata": {},
     "output_type": "execute_result"
    }
   ],
   "source": [
    "corpus = pd.read_csv(\"corpus_uso.csv\",index_col=0)\n",
    "corpus.head()"
   ]
  },
  {
   "cell_type": "markdown",
   "metadata": {},
   "source": [
    "### (Questão 1) Indexação\n",
    "\n",
    "<ul>\n",
    "<li>Utilizando o Whoosh, indexar o seu corpus e implementar uma funçao que apresente para os top 10 documentos da resposta a uma consulta, trechos dos documentos contendo os termos da consulta.</li>\n",
    "<li>Contruir uma funçao de busca que aceite consultas frasais e facetaçao dos resultados.</li>\n",
    "</ul>"
   ]
  },
  {
   "cell_type": "code",
   "execution_count": 111,
   "metadata": {},
   "outputs": [
    {
     "name": "stderr",
     "output_type": "stream",
     "text": [
      "<>:37: DeprecationWarning: invalid escape sequence \\.\n",
      "<>:37: DeprecationWarning: invalid escape sequence \\.\n",
      "<>:37: DeprecationWarning: invalid escape sequence \\.\n",
      "<ipython-input-111-db4e2200a575>:37: DeprecationWarning: invalid escape sequence \\.\n",
      "  aux.append(re.split(\"\\.\\.\\.\", hit.highlights(\"cont\")))\n"
     ]
    }
   ],
   "source": [
    " \n",
    "def whooshSearcher(sentence, corpus):\n",
    "    #______________________________________________________________________________________________________   \n",
    "    #Definindo variáveis auxiliares\n",
    "    schema = Schema(cont=TEXT(phrase=True, stored=True))\n",
    "    \n",
    "    #Criando o indexidr:\n",
    "    if os.path.exists('indexdir'):\n",
    "        shutil.rmtree('/home/novais/Desktop/Mestrado/3_trim_2019/SRI/Trabalho Final/indexdir')\n",
    "        os.mkdir('indexdir')\n",
    "        ix = create_in(\"indexdir\", schema)\n",
    "        writer = ix.writer()\n",
    "        for txt in corpus:\n",
    "            writer.add_document(cont=txt)\n",
    "        writer.commit()\n",
    "    else:\n",
    "        os.mkdir('indexdir')\n",
    "        ix = create_in(\"indexdir\", schema)\n",
    "        writer = ix.writer()\n",
    "        for txt in corpus:\n",
    "            writer.add_document(cont=txt)\n",
    "        writer.commit()\n",
    "    #______________________________________________________________________________________________________\n",
    "    \n",
    "    aux=[]\n",
    "    positions=[]\n",
    "\n",
    "\n",
    "    query = QueryParser(\"cont\", schema=ix.schema,group=qparser.OrGroup).parse(sentence)\n",
    "    facets = sorting.Facets()\n",
    "    facets.add_field(\"cont\")\n",
    "    facets.add_field(\"cont\", allow_overlap=True)\n",
    "    answer = ix.searcher().search(query,limit=10, groupedby=facets)\n",
    "    for k in answer:\n",
    "        positions.append(corpus[corpus.isin([k.values()[0]])].index[0])\n",
    "    for hit in answer:\n",
    "        aux.append(re.split(\"\\.\\.\\.\", hit.highlights(\"cont\")))\n",
    "    print(\"Resultados em ordem de similaridade:\")\n",
    "    print(\" \")\n",
    "    for j in range(min(10,len(aux))):\n",
    "        print(\"Trechos do resultado \"+str(j+1)+\", linha \"+str(positions[j])+\" do Corpus\")\n",
    "        for i in range(len(aux[j])):\n",
    "            display(Markdown(\"Trecho \"+str(i)+\":  [...] \"+aux[j][i]+\" [...]\"))\n",
    "        print(\" \")\n",
    "\n",
    "\n",
    "    return positions[:min(10,len(aux))]"
   ]
  },
  {
   "cell_type": "code",
   "execution_count": 112,
   "metadata": {},
   "outputs": [
    {
     "name": "stdout",
     "output_type": "stream",
     "text": [
      "Resultados em ordem de similaridade:\n",
      " \n",
      "Trechos do resultado 1, linha 587 do Corpus\n"
     ]
    },
    {
     "data": {
      "text/markdown": [
       "Trecho 0:  [...] the 1940s when local <b class=\"match term0\">soda</b> fountain workers (<b class=\"match term0\">soda</b> jerks) would upon request [...]"
      ],
      "text/plain": [
       "<IPython.core.display.Markdown object>"
      ]
     },
     "metadata": {},
     "output_type": "display_data"
    },
    {
     "data": {
      "text/markdown": [
       "Trecho 1:  [...] <b class=\"match term1\">Coke</b>, the company was hesitant to introduce anything [...]"
      ],
      "text/plain": [
       "<IPython.core.display.Markdown object>"
      ]
     },
     "metadata": {},
     "output_type": "display_data"
    },
    {
     "data": {
      "text/markdown": [
       "Trecho 2:  [...] company said Vanilla <b class=\"match term1\">Coke</b> and Diet Vanilla <b class=\"match term1\">Coke</b> would possibly be made [...]"
      ],
      "text/plain": [
       "<IPython.core.display.Markdown object>"
      ]
     },
     "metadata": {},
     "output_type": "display_data"
    },
    {
     "name": "stdout",
     "output_type": "stream",
     "text": [
      " \n",
      "Trechos do resultado 2, linha 4187 do Corpus\n"
     ]
    },
    {
     "data": {
      "text/markdown": [
       "Trecho 0:  [...] 250 million. <b class=\"match term1\">Coke</b> also gained the rights [...]"
      ],
      "text/plain": [
       "<IPython.core.display.Markdown object>"
      ]
     },
     "metadata": {},
     "output_type": "display_data"
    },
    {
     "data": {
      "text/markdown": [
       "Trecho 1:  [...] It was one of <b class=\"match term1\">Coke</b>'s largest acquisitions [...]"
      ],
      "text/plain": [
       "<IPython.core.display.Markdown object>"
      ]
     },
     "metadata": {},
     "output_type": "display_data"
    },
    {
     "data": {
      "text/markdown": [
       "Trecho 2:  [...] the maintenance of <b class=\"match term2\">good</b> health. Fuze beverages [...]"
      ],
      "text/plain": [
       "<IPython.core.display.Markdown object>"
      ]
     },
     "metadata": {},
     "output_type": "display_data"
    },
    {
     "name": "stdout",
     "output_type": "stream",
     "text": [
      " \n",
      "Trechos do resultado 3, linha 4411 do Corpus\n"
     ]
    },
    {
     "data": {
      "text/markdown": [
       "Trecho 0:  [...] Petroleum <b class=\"match term3\">coke</b>  Petroleum <b class=\"match term3\">coke</b> (often abbreviated [...]"
      ],
      "text/plain": [
       "<IPython.core.display.Markdown object>"
      ]
     },
     "metadata": {},
     "output_type": "display_data"
    },
    {
     "data": {
      "text/markdown": [
       "Trecho 1:  [...] energy). Marketable <b class=\"match term3\">coke</b>. Marketable <b class=\"match term3\">coke</b> is <b class=\"match term3\">coke</b> that is relatively [...]"
      ],
      "text/plain": [
       "<IPython.core.display.Markdown object>"
      ]
     },
     "metadata": {},
     "output_type": "display_data"
    },
    {
     "data": {
      "text/markdown": [
       "Trecho 2:  [...] i.e., anode grade <b class=\"match term3\">coke</b>). Needle <b class=\"match term3\">coke</b>. Needle <b class=\"match term3\">coke</b>, also called acicular [...]"
      ],
      "text/plain": [
       "<IPython.core.display.Markdown object>"
      ]
     },
     "metadata": {},
     "output_type": "display_data"
    },
    {
     "name": "stdout",
     "output_type": "stream",
     "text": [
      " \n",
      "Trechos do resultado 4, linha 1218 do Corpus\n"
     ]
    },
    {
     "data": {
      "text/markdown": [
       "Trecho 0:  [...] He introduced the <b class=\"match term1\">Coke</b> slogans \"<b class=\"match term1\">Coke</b> is it!\", \"You Can't Beat the [...]"
      ],
      "text/plain": [
       "<IPython.core.display.Markdown object>"
      ]
     },
     "metadata": {},
     "output_type": "display_data"
    },
    {
     "data": {
      "text/markdown": [
       "Trecho 1:  [...] He launched Diet <b class=\"match term1\">Coke</b>, as well as the ill-fated [...]"
      ],
      "text/plain": [
       "<IPython.core.display.Markdown object>"
      ]
     },
     "metadata": {},
     "output_type": "display_data"
    },
    {
     "data": {
      "text/markdown": [
       "Trecho 2:  [...] New <b class=\"match term1\">Coke</b>. In 1982 Goizueta approved [...]"
      ],
      "text/plain": [
       "<IPython.core.display.Markdown object>"
      ]
     },
     "metadata": {},
     "output_type": "display_data"
    },
    {
     "name": "stdout",
     "output_type": "stream",
     "text": [
      " \n",
      "Trechos do resultado 5, linha 1485 do Corpus\n"
     ]
    },
    {
     "data": {
      "text/markdown": [
       "Trecho 0:  [...] Henkel's Bleich-<b class=\"match term4\">Soda</b> <b class=\"match term4\">Soda</b>, an affordably-priced [...]"
      ],
      "text/plain": [
       "<IPython.core.display.Markdown object>"
      ]
     },
     "metadata": {},
     "output_type": "display_data"
    },
    {
     "data": {
      "text/markdown": [
       "Trecho 1:  [...] from water-glass and <b class=\"match term0\">soda</b>, it was the result of [...]"
      ],
      "text/plain": [
       "<IPython.core.display.Markdown object>"
      ]
     },
     "metadata": {},
     "output_type": "display_data"
    },
    {
     "data": {
      "text/markdown": [
       "Trecho 2:  [...] raw materials into <b class=\"match term0\">soda</b>. On September 20, 1945 [...]"
      ],
      "text/plain": [
       "<IPython.core.display.Markdown object>"
      ]
     },
     "metadata": {},
     "output_type": "display_data"
    },
    {
     "name": "stdout",
     "output_type": "stream",
     "text": [
      " \n",
      "Trechos do resultado 6, linha 2695 do Corpus\n"
     ]
    },
    {
     "data": {
      "text/markdown": [
       "Trecho 0:  [...] materials, caustic <b class=\"match term0\">soda</b>, stones and decorative [...]"
      ],
      "text/plain": [
       "<IPython.core.display.Markdown object>"
      ]
     },
     "metadata": {},
     "output_type": "display_data"
    },
    {
     "data": {
      "text/markdown": [
       "Trecho 1:  [...] in Iran are: <b class=\"match term1\">Coke</b>. In 2015 Iran will produce [...]"
      ],
      "text/plain": [
       "<IPython.core.display.Markdown object>"
      ]
     },
     "metadata": {},
     "output_type": "display_data"
    },
    {
     "data": {
      "text/markdown": [
       "Trecho 2:  [...] 1.7 million tons of <b class=\"match term1\">Coke</b>. Zinc and lead. Iran has [...]"
      ],
      "text/plain": [
       "<IPython.core.display.Markdown object>"
      ]
     },
     "metadata": {},
     "output_type": "display_data"
    },
    {
     "name": "stdout",
     "output_type": "stream",
     "text": [
      " \n",
      "Trechos do resultado 7, linha 1654 do Corpus\n"
     ]
    },
    {
     "data": {
      "text/markdown": [
       "Trecho 0:  [...] the characters in <b class=\"match term1\">Coke</b>'s red-and-white colors [...]"
      ],
      "text/plain": [
       "<IPython.core.display.Markdown object>"
      ]
     },
     "metadata": {},
     "output_type": "display_data"
    },
    {
     "data": {
      "text/markdown": [
       "Trecho 1:  [...] billboards with <b class=\"match term1\">Coke</b> branding, <b class=\"match term1\">Coke</b> \"thought bubbles\", <b class=\"match term1\">Coke</b> bottle-shaped golf [...]"
      ],
      "text/plain": [
       "<IPython.core.display.Markdown object>"
      ]
     },
     "metadata": {},
     "output_type": "display_data"
    },
    {
     "data": {
      "text/markdown": [
       "Trecho 2:  [...] designed around the <b class=\"match term1\">Coke</b> theme. This game is rare [...]"
      ],
      "text/plain": [
       "<IPython.core.display.Markdown object>"
      ]
     },
     "metadata": {},
     "output_type": "display_data"
    },
    {
     "name": "stdout",
     "output_type": "stream",
     "text": [
      " \n",
      "Trechos do resultado 8, linha 3088 do Corpus\n"
     ]
    },
    {
     "data": {
      "text/markdown": [
       "Trecho 0:  [...] cereals, and <b class=\"match term0\">soda</b>. Publication details [...]"
      ],
      "text/plain": [
       "<IPython.core.display.Markdown object>"
      ]
     },
     "metadata": {},
     "output_type": "display_data"
    },
    {
     "name": "stdout",
     "output_type": "stream",
     "text": [
      " \n",
      "Trechos do resultado 9, linha 3944 do Corpus\n"
     ]
    },
    {
     "data": {
      "text/markdown": [
       "Trecho 0:  [...] taking part in the <b class=\"match term1\">Coke</b> Studio third season [...]"
      ],
      "text/plain": [
       "<IPython.core.display.Markdown object>"
      ]
     },
     "metadata": {},
     "output_type": "display_data"
    },
    {
     "data": {
      "text/markdown": [
       "Trecho 1:  [...] with Arif Lohar at <b class=\"match term1\">Coke</b> Studio in Karachi. It [...]"
      ],
      "text/plain": [
       "<IPython.core.display.Markdown object>"
      ]
     },
     "metadata": {},
     "output_type": "display_data"
    },
    {
     "data": {
      "text/markdown": [
       "Trecho 2:  [...] May, the lineup for <b class=\"match term1\">Coke</b> Studio confirmed that [...]"
      ],
      "text/plain": [
       "<IPython.core.display.Markdown object>"
      ]
     },
     "metadata": {},
     "output_type": "display_data"
    },
    {
     "name": "stdout",
     "output_type": "stream",
     "text": [
      " \n",
      "Trechos do resultado 10, linha 1037 do Corpus\n"
     ]
    },
    {
     "data": {
      "text/markdown": [
       "Trecho 0:  [...] Parade\" and \"Club <b class=\"match term4\">Soda</b>\" respectively [...]"
      ],
      "text/plain": [
       "<IPython.core.display.Markdown object>"
      ]
     },
     "metadata": {},
     "output_type": "display_data"
    },
    {
     "name": "stdout",
     "output_type": "stream",
     "text": [
      " \n"
     ]
    },
    {
     "data": {
      "text/plain": [
       "[587, 4187, 4411, 1218, 1485, 2695, 1654, 3088, 3944, 1037]"
      ]
     },
     "execution_count": 112,
     "metadata": {},
     "output_type": "execute_result"
    }
   ],
   "source": [
    "whooshSearcher(\"Coke soda is good \",corpus.content)"
   ]
  },
  {
   "cell_type": "markdown",
   "metadata": {},
   "source": [
    "### (Questão 2) Modelagem de Assuntos\n",
    "<ul>\n",
    "    <li>Usando a biblioteca Gensim, treine um modelo LSI e LDA para o seu corpus propondo uma metodologia para otimizaçao do numero de assuntos</li>\n",
    "    <li>Construa Uma matriz de similaridade entre os documentos do corpus a partir dos pesos</li>\n",
    "</ul>"
   ]
  },
  {
   "cell_type": "markdown",
   "metadata": {},
   "source": [
    "##### Algumas definições:\n",
    "<b>TF-IDF : </b>In information retrieval, tf–idf or TFIDF, short for term frequency–inverse document frequency, is a numerical statistic that is intended to reflect how important a word is to a document in a collection or corpus. It is often used as a weighting factor in searches of information retrieval, text mining, and user modeling. The tf–idf value increases proportionally to the number of times a word appears in the document and is offset by the number of documents in the corpus that contain the word, which helps to adjust for the fact that some words appear more frequently in general.\n",
    "\n",
    "<b>LSA (LSI) : </b> Latent semantic analysis (LSA) is a technique in natural language processing, in particular distributional semantics, of analyzing relationships between a set of documents and the terms they contain by producing a set of concepts related to the documents and terms. LSA assumes that words that are close in meaning will occur in similar pieces of text (the distributional hypothesis). A matrix containing word counts per document (rows represent unique words and columns represent each document) is constructed from a large piece of text and a mathematical technique called singular value decomposition (SVD) is used to reduce the number of rows while preserving the similarity structure among columns. Documents are then compared by taking the cosine of the angle between the two vectors (or the dot product between the normalizations of the two vectors) formed by any two columns. Values close to 1 represent very similar documents while values close to 0 represent very dissimilar documents."
   ]
  },
  {
   "cell_type": "markdown",
   "metadata": {},
   "source": [
    "<b>Interpretação:</b> Para o TF-IDF, a função abaixo retorna o \"peso\" que cada palavra do dicionário construído a partir de cada texto do Corpus (palavras únicas) possui para aquele texto. Já para o LSI e LDA temos que é retornado para cada texto do Corpus um vetor que fornece o quanto cada tema está relacionado com aquele texto. Além disso podemos verificar também como cada tema é construído, isto é, quais palavras do dicionário construído anteriormente para elaborar o TF-IDF são as mais importantes para aquele tema. Abaixo veja as explicações ilistradas:  "
   ]
  },
  {
   "cell_type": "code",
   "execution_count": 28,
   "metadata": {},
   "outputs": [],
   "source": [
    "def LS(txt,nthemes):\n",
    "    \n",
    "    try:\n",
    "        os.remove(\"corpusWiki.mm\")\n",
    "        os.remove(\"corpusWiki.mm.index\")\n",
    "        os.remove(\"vocabulario.dict\")\n",
    "    except:\n",
    "        print(\" \")\n",
    "    \n",
    "    #________________________________________________________________________________________________________\n",
    "    #Incializando vetores:\n",
    "    txtClean = []\n",
    "    c = Counter([])\n",
    "    \n",
    "    #Loop:\n",
    "    for texto in txt:\n",
    "        aux = [stemmer.stem(token.strip(punctuation).lower()) for token in WordPunctTokenizer().tokenize(texto) if token not in swu]\n",
    "        c.update(aux)\n",
    "        txtClean.append(aux)\n",
    "    txtClean = [[token for token in t if c[token]>1] for t in txtClean]\n",
    "    \n",
    "    #________________________________________________________________________________________________________\n",
    "\n",
    "    #Gerando dicionário:\n",
    "    dicionario = corpora.Dictionary(txtClean)\n",
    "    dicionario.save('vocabulario.dict')\n",
    "    \n",
    "    #________________________________________________________________________________________________________\n",
    "    #Gerando as frequências:\n",
    "    corpus = [dicionario.doc2bow(d) for d in txtClean]\n",
    "    corpora.MmCorpus.serialize('corpusWiki.mm', corpus)\n",
    "    \n",
    "    #________________________________________________________________________________________________________\n",
    "    #TF-IDF:\n",
    "    mod_tfidf = models.TfidfModel(corpus)\n",
    "    corpus_tfidf = mod_tfidf[corpus]\n",
    "    #LSI:\n",
    "    mod_lsi = models.LsiModel(corpus_tfidf, id2word=dicionario, num_topics=nthemes)\n",
    "    corpus_lsi = mod_lsi[corpus_tfidf]\n",
    "    #LDA:\n",
    "    mod_lda = models.LdaModel(corpus_tfidf, id2word=dicionario, num_topics=nthemes)\n",
    "    corpus_lda = mod_lda[corpus_tfidf]\n",
    "    #________________________________________________________________________________________________________\n",
    "    # Compute Perplexity\n",
    "    perplexity = mod_lda.log_perplexity(corpus)\n",
    "    #print('\\nPerplexity: ', mod_lda.log_perplexity(corpus))  # a measure of how good the model is. lower the better.\n",
    "\n",
    "    # Compute Coherence Score\n",
    "    coherence_model_lda = CoherenceModel(model=mod_lda, texts=txtClean, coherence='c_v')\n",
    "    coherence_lda = coherence_model_lda.get_coherence()\n",
    "    #print('\\nCoherence Score: ', coherence_lda)\n",
    "        \n",
    "    return [mod_lsi,mod_lda,corpus_lsi,corpus_lda,corpus_tfidf,perplexity,coherence_lda,dicionario,txtClean]"
   ]
  },
  {
   "cell_type": "markdown",
   "metadata": {},
   "source": [
    "<p>Exemplo de como está um texto do corpus:</p>"
   ]
  },
  {
   "cell_type": "code",
   "execution_count": 57,
   "metadata": {},
   "outputs": [
    {
     "data": {
      "text/plain": [
       "' Option Paralysis  Option Paralysis is the fourth full-length studio album by American mathcore band The Dillinger Escape Plan, released on March 23, 2010. After having fulfilled their contract with Relapse Records, the band released the album through Party Smasher Inc., their own new imprint in collaboration with French record label Season of Mist. It marks The Dillinger Escape Plan\\'s first release to feature Billy Rymer on drums, since Gil Sharone left the band in September 2008 due to the frequent touring schedule and to focus on his brother\\'s band Stolen Babies. Background. Formation of Party Smasher Inc.. The Dillinger Escape Plan announced their departure from Relapse Records in 2009. They had become dissatisfied with the music industry and music media, and decided to create their own record label to release their fourth studio-album. Commenting on the dissolving \"indie band culture\", guitarist Ben Weinman stated, \"back in the day there were record labels that you trusted, loved and you bought everything on it and you discovered a lot of great new music because of it. You listen to every single song back to front a million times, it\\'d be worn out to death before you moved onto another record. You\\'d read everything in the booklet, you\\'d read all the lyrics, you\\'d read all the notes, you\\'d discover something new.\" Speaking to \"Kerrang!\" about the decision, he said: \"The most important thing was to keep evolving and changing. We didn\\'t want to be stuck in some long contract that won\\'t be relevant in a few years time... Or possibly even tomorrow. So half out of necessity, half out of choice, we decided to do this ourselves. The hard part is figuring out whether you\\'re sacrificing your creative side because you\\'re so busy with the business. That\\'s the challenge and we\\'re figuring it out\". The band created their own imprint Party Smasher Inc. under French label Season of Mist. They stated that Party Smasher (which was originally erroneously reported to be called Photogenic Records) is not technically a record label but a \"creative umbrella\" for all things related to The Dillinger Escape Plan. In an interview with \"Alternative Press\", Weinman stated, \"Well, I should clarify that it\\'s not exactly our attempt to run a record label. That\\'s not something we could be good at, and it\\'s obviously not something \"anybody\\'s\" good at these days. It\\'s more a situation where we now have a name for this umbrella that covers every business and artistic decision we make–whether it\\'s Dillinger, side projects or whatever.\" Recording. In a blog on the band\\'s MySpace profile, vocalist Greg Puciato revealed that they would be entering the studio from September 7 - October 30, 2009 to record the album with longtime collaborator Steve Evetts. Recording was finished on November 12, 2009. The album is the longest one yet at over 41 minutes, and is described by Ben Weinman as \"our most metal record yet.\" Concept. According to \"Kerrang!\", the album \"was not an album that just happened. Rather it was one that was written to address an issue the band feel keenly\". In April 2010 Ben Weinman told \"Kerrang!\" magazine:  Promotion. The band released several demo snippets on their YouTube channel. Furthermore a website for the record was set up, linking to all of the studio update videos and demo snippets. During their North American East Coast tour with Thursday in December 2009, the band sold download cards at their shows that entitled the customer to a download of the 10 song album upon its release with 3 additional exclusive bonus tracks.  \"Farewell, Mona Lisa\", the album\\'s first single, debuted on Liquid Metal SXM on Christmas day, 2009; it became available for download on January 19, 2010. \"Chinese Whispers\" was debuted on Full Metal Jackie’s syndicated radio show broadcast on 29 stations throughout the USA on the March 5, 2010, and was subsequently played on the next two days. On March 9, the blog MetalSucks featured the online debut of the song. In February, the album was made available for pre-orders through the Season of Mist e-shop. It was available in a variety of formats, including a box set, Digipak, black vinyl and transparent vinyl. A white vinyl was later made available through Relapse Records. Artwork. Former frontman Dimitri Minakakis (who also contributed artwork for 2004 album \"Miss Machine\") created the artwork for \"Option Paralysis\". In an interview, Jeff Tuttle revealed that the album cover features photographs and images that the members captured themselves. Reception. \"Option Paralysis\" was released to widespread critical acclaim. The album garnered a rating of 82/100, or universal acclaim, on aggregate review site Metacritic. \"Option Paralysis\" debuted at number 78 on the \"Billboard\" 200 with 7,100 units sold. Exclaim! named \"Option Paralysis\" the No. 2 Metal Album of 2010. \"Option Paralysis\" received the highest percentage of #1 votes in the 2010 Pitchfork Readers\\' Poll. '"
      ]
     },
     "execution_count": 57,
     "metadata": {},
     "output_type": "execute_result"
    }
   ],
   "source": [
    "txt = corpus.content\n",
    "txt[2]"
   ]
  },
  {
   "cell_type": "markdown",
   "metadata": {},
   "source": [
    "<p>Agora vamos verificar de acordo com as métricas de Coeherence Score e Perplexity qual será o número ótimo de assuntos a serem abordados:</p>"
   ]
  },
  {
   "cell_type": "code",
   "execution_count": null,
   "metadata": {},
   "outputs": [],
   "source": [
    "def coherence_values(txt, limit, start, step):\n",
    "    coherence_values = []\n",
    "    for num_topics in range(start, limit, step):\n",
    "        modelo = LS(txt,num_topics)\n",
    "        coherence_values.append(modelo[6])\n",
    "\n",
    "    return coherence_values\n",
    "\n",
    "def perplexity_values(txt, limit, start, step):\n",
    "    perplexity_values = []\n",
    "    for num_topics in range(start, limit, step):\n",
    "        modelo = LS(txt,num_topics)\n",
    "        perplexity_values.append(modelo[5])\n",
    "\n",
    "    return perplexity_values"
   ]
  },
  {
   "cell_type": "code",
   "execution_count": 113,
   "metadata": {},
   "outputs": [],
   "source": [
    "start = 2\n",
    "step = 3\n",
    "limit=15"
   ]
  },
  {
   "cell_type": "code",
   "execution_count": 37,
   "metadata": {},
   "outputs": [],
   "source": [
    "coherence_values = coherence_values(txt,limit,start, step)\n",
    "perplexity_values = perplexity_values(txt,limit,start, step)\n",
    "perplexity_values_abs = [i/np.sum(perplexity_values) for i in perplexity_values]"
   ]
  },
  {
   "cell_type": "code",
   "execution_count": 114,
   "metadata": {},
   "outputs": [
    {
     "data": {
      "image/png": "[encoded data removed]",
      "text/plain": [
       "<Figure size 1008x360 with 2 Axes>"
      ]
     },
     "metadata": {},
     "output_type": "display_data"
    }
   ],
   "source": [
    "x = range(start, limit, step)\n",
    "fig, ax1 = plt.subplots(figsize=(14,5))\n",
    "\n",
    "color = 'tab:red'\n",
    "ax1.set_xlabel('Number of Topics')\n",
    "ax1.set_ylabel('Coherence Score', color=color)\n",
    "ax1.plot(x, coherence_values, color=color)\n",
    "ax1.tick_params(axis='y', labelcolor=color)\n",
    "\n",
    "ax2 = ax1.twinx() \n",
    "\n",
    "color = 'tab:blue'\n",
    "ax2.set_ylabel('Perplexity Score', color=color) \n",
    "ax2.plot(x, perplexity_values_abs, color=color)\n",
    "ax2.tick_params(axis='y', labelcolor=color)\n",
    "\n",
    "plt.axvline(x=11,color='#000000',linestyle='-.')\n",
    "fig.tight_layout()\n",
    "plt.show()"
   ]
  },
  {
   "cell_type": "markdown",
   "metadata": {},
   "source": [
    "Veja que a quantidade de tópicos ótima nos parece ser a de valor 11, além disso conforme o tamanho do corpus vai aumentando temos que o limite máximo de assuntos intutitivamente deve ser o tamanho do próprio corpus. Então, dado o tamanho do corpus encontramos o que possui o maior \"CS\". Outro ponto importante seria analisar o \"perplexity\", cujo valor quanto menor melhor (no caso do gráfico seria o maior, devido a normalização e o valor absoluto)."
   ]
  },
  {
   "cell_type": "code",
   "execution_count": 67,
   "metadata": {},
   "outputs": [],
   "source": [
    "number_of_topics = 11"
   ]
  },
  {
   "cell_type": "markdown",
   "metadata": {},
   "source": [
    "O resultado do TF-IDF para este texto é tal que as palavras, cujos indices estão em primeiro lugar nas tuplas abaixo, possuem um nível de importância determinado pelo segundo número da tupla:"
   ]
  },
  {
   "cell_type": "code",
   "execution_count": 66,
   "metadata": {},
   "outputs": [],
   "source": [
    "model = LS(txt,number_of_topics)"
   ]
  },
  {
   "cell_type": "code",
   "execution_count": 78,
   "metadata": {},
   "outputs": [
    {
     "data": {
      "text/plain": [
       "[(0, 0.011716873040299978),\n",
       " (1, 0.007760957685400791),\n",
       " (2, 0.031082126340848563),\n",
       " (3, 0.013501361750502776),\n",
       " (34, 0.00862979892717694),\n",
       " (36, 0.01550923071384607),\n",
       " (40, 0.009514520540940213),\n",
       " (41, 0.014107153747652961),\n",
       " (46, 0.010351879468714806),\n",
       " (47, 0.026444166857044475),\n",
       " (52, 0.00481923395049694),\n",
       " (57, 0.011921586683009498),\n",
       " (64, 0.010461904069766239),\n",
       " (65, 0.02257190025981181),\n",
       " (78, 0.009395519697465039),\n",
       " (92, 0.0022463271718933275),\n",
       " (106, 0.0098114672741643),\n",
       " (140, 0.014206425128753296),\n",
       " (150, 0.02733208532605752),\n",
       " (162, 0.008814823876115895),\n",
       " (163, 0.00949890333804212),\n",
       " (180, 0.016725983845536647),\n",
       " (181, 0.06809475421107494),\n",
       " (202, 0.006763631840976296),\n",
       " (209, 0.02138857743223394),\n",
       " (222, 0.02033200943120873),\n",
       " (223, 0.010591116565097083),\n",
       " (244, 0.022474755428989114),\n",
       " (281, 0.03985896126163612),\n",
       " (282, 0.0178492852140307),\n",
       " (291, 0.010788716595856562),\n",
       " (298, 0.03236614978756968),\n",
       " (300, 0.01395599177704068),\n",
       " (306, 0.021495424711588718),\n",
       " (310, 0.03617329041014299),\n",
       " (314, 0.0374329799909047),\n",
       " (327, 0.012450424877108773),\n",
       " (356, 0.012068330056833745),\n",
       " (359, 0.01314967597461593),\n",
       " (363, 0.015331077033729892),\n",
       " (400, 0.009991467455535552),\n",
       " (403, 0.028558723995312174),\n",
       " (427, 0.020521513048294398),\n",
       " (433, 0.038486766828499816),\n",
       " (434, 0.007438282276643867),\n",
       " (462, 0.0360943112504924),\n",
       " (463, 0.018763054891374406),\n",
       " (464, 0.02777156310406127),\n",
       " (482, 0.027806559005713948),\n",
       " (489, 0.011956295180375002),\n",
       " (510, 0.019822947616501718),\n",
       " (529, 0.01132003985092284),\n",
       " (541, 0.01039115089248435),\n",
       " (543, 0.004289121610576024),\n",
       " (565, 0.01386831975402101),\n",
       " (566, 0.01183571228176827),\n",
       " (590, 0.007038999421016617),\n",
       " (598, 0.01248737949318062),\n",
       " (614, 0.018004363092152007),\n",
       " (617, 0.010300258293591002),\n",
       " (626, 0.014463336631496088),\n",
       " (631, 0.007680887957921738),\n",
       " (650, 0.01034612818762852),\n",
       " (682, 0.012462729076169144),\n",
       " (707, 0.013644539686879127),\n",
       " (708, 0.008257991981147465),\n",
       " (714, 0.013303270481565346),\n",
       " (721, 0.00914246165404494),\n",
       " (722, 0.006543734159587203),\n",
       " (724, 0.024360654766282738),\n",
       " (729, 0.010825145562732789),\n",
       " (734, 0.008036387590926623),\n",
       " (744, 0.006896370828490342),\n",
       " (775, 0.013360569055140437),\n",
       " (799, 0.01632004247782743),\n",
       " (818, 0.01939297151807611),\n",
       " (823, 0.01732131729173794),\n",
       " (824, 0.014511433339334821),\n",
       " (843, 0.010119228459838005),\n",
       " (844, 0.027637857955206662),\n",
       " (852, 0.012674615933150186),\n",
       " (906, 0.02606071719331463),\n",
       " (909, 0.01981834729654697),\n",
       " (912, 0.007958011382585619),\n",
       " (918, 0.020160279640429178),\n",
       " (919, 0.027238192186923964),\n",
       " (927, 0.007502430647079245),\n",
       " (930, 0.016628699234894382),\n",
       " (937, 0.025085063185697386),\n",
       " (957, 0.01845146476089899),\n",
       " (989, 0.006096974598260792),\n",
       " (993, 0.020669274706916915),\n",
       " (999, 0.01479860164080754),\n",
       " (1000, 0.009172595697207969),\n",
       " (1021, 0.004462157337967761),\n",
       " (1026, 0.0765403846547049),\n",
       " (1035, 0.00824004822232599),\n",
       " (1036, 0.011770540291330457),\n",
       " (1043, 0.014663374640233208),\n",
       " (1046, 0.024482261284891903),\n",
       " (1067, 0.016449254973158273),\n",
       " (1074, 0.022744637807460947),\n",
       " (1078, 0.006548153171735436),\n",
       " (1080, 0.031451461367446705),\n",
       " (1083, 0.03803165817808734),\n",
       " (1100, 0.03233415929203419),\n",
       " (1102, 0.0076725035254581395),\n",
       " (1103, 0.014653797860477432),\n",
       " (1107, 0.00501888513771553),\n",
       " (1108, 0.03780861799332993),\n",
       " (1111, 0.008195354795959712),\n",
       " (1113, 0.01395599177704068),\n",
       " (1124, 0.012682192363267755),\n",
       " (1125, 0.07177952410509547),\n",
       " (1138, 0.01959058427154422),\n",
       " (1145, 0.1882554321471659),\n",
       " (1149, 0.03273101657410657),\n",
       " (1187, 0.022769605350671487),\n",
       " (1189, 0.031596415818227405),\n",
       " (1195, 0.011179284773907993),\n",
       " (1198, 0.0181333962432515),\n",
       " (1214, 0.03404737710553747),\n",
       " (1229, 0.022744637807460947),\n",
       " (1239, 0.020055490527644507),\n",
       " (1242, 0.010849519068393243),\n",
       " (1254, 0.012735418405686866),\n",
       " (1264, 0.02712025701368407),\n",
       " (1267, 0.009974944464485564),\n",
       " (1275, 0.17047982499845857),\n",
       " (1281, 0.018457361270056673),\n",
       " (1290, 0.047865025110369996),\n",
       " (1311, 0.018763054891374406),\n",
       " (1319, 0.010825145562732789),\n",
       " (1320, 0.017975954637739548),\n",
       " (1321, 0.02067623603728382),\n",
       " (1322, 0.061268075195813745),\n",
       " (1323, 0.01850251635822155),\n",
       " (1324, 0.020521513048294398),\n",
       " (1325, 0.030463781551812494),\n",
       " (1326, 0.03572227085031215),\n",
       " (1327, 0.037379737167497894),\n",
       " (1328, 0.014242814882411551),\n",
       " (1329, 0.05949828835106125),\n",
       " (1330, 0.03516236368941763),\n",
       " (1331, 0.2849107760986446),\n",
       " (1332, 0.01789129776399203),\n",
       " (1333, 0.01498565486417066),\n",
       " (1334, 0.04444729339022895),\n",
       " (1335, 0.013230167128067408),\n",
       " (1336, 0.018352928254395346),\n",
       " (1337, 0.1051640991628638),\n",
       " (1338, 0.0583862558338928),\n",
       " (1339, 0.021040784485006004),\n",
       " (1340, 0.01925987416529688),\n",
       " (1341, 0.09234106323720011),\n",
       " (1342, 0.030098911629152354),\n",
       " (1343, 0.03404737710553747),\n",
       " (1344, 0.04512377491285271),\n",
       " (1345, 0.02515109092176874),\n",
       " (1346, 0.02230739338121946),\n",
       " (1347, 0.02186915432066275),\n",
       " (1348, 0.01697421041734744),\n",
       " (1349, 0.04675108144292096),\n",
       " (1350, 0.026954535875972994),\n",
       " (1351, 0.022523188267725747),\n",
       " (1352, 0.025489196296501027),\n",
       " (1353, 0.021055469992141775),\n",
       " (1354, 0.02903759410786032),\n",
       " (1355, 0.036834289389480454),\n",
       " (1356, 0.04641148691464638),\n",
       " (1357, 0.02164731724821179),\n",
       " (1358, 0.018951923247844157),\n",
       " (1359, 0.0291931279169464),\n",
       " (1360, 0.0549235570382274),\n",
       " (1361, 0.01575639984406319),\n",
       " (1362, 0.013636049975235907),\n",
       " (1363, 0.07763902815777249),\n",
       " (1364, 0.013877046143263136),\n",
       " (1365, 0.03146923519375282),\n",
       " (1366, 0.07340651128974826),\n",
       " (1367, 0.028985262626541133),\n",
       " (1368, 0.05440870461366402),\n",
       " (1369, 0.30133421510862607),\n",
       " (1370, 0.0525228052763704),\n",
       " (1371, 0.03777699400943701),\n",
       " (1372, 0.04382096932775994),\n",
       " (1373, 0.03233415929203419),\n",
       " (1374, 0.09352977413279874),\n",
       " (1375, 0.029304225281356438),\n",
       " (1376, 0.010311702448664159),\n",
       " (1377, 0.015999784672104656),\n",
       " (1378, 0.04102050209747882),\n",
       " (1379, 0.09148087888111153),\n",
       " (1380, 0.05153954004028657),\n",
       " (1381, 0.0661249814297864),\n",
       " (1382, 0.027246715840295133),\n",
       " (1383, 0.02221322519552012),\n",
       " (1384, 0.047098172516683856),\n",
       " (1385, 0.02254750916862504),\n",
       " (1386, 0.04243236090183584),\n",
       " (1387, 0.01447387102314754),\n",
       " (1388, 0.01912884042069056),\n",
       " (1389, 0.01635508678745893),\n",
       " (1390, 0.036617126570339935),\n",
       " (1391, 0.037588482600609145),\n",
       " (1392, 0.04323787557555909),\n",
       " (1393, 0.02969223145386193),\n",
       " (1394, 0.026593133712602496),\n",
       " (1395, 0.03473970025834799),\n",
       " (1396, 0.04666466686830921),\n",
       " (1397, 0.037962830919698744),\n",
       " (1398, 0.031881291648409596),\n",
       " (1399, 0.03099729296598958),\n",
       " (1400, 0.02177971954714547),\n",
       " (1401, 0.01977018049047985),\n",
       " (1402, 0.020220313877319197),\n",
       " (1403, 0.011675806632341898),\n",
       " (1404, 0.0888945867804579),\n",
       " (1405, 0.08345305212606807),\n",
       " (1406, 0.03233415929203419),\n",
       " (1407, 0.01575639984406319),\n",
       " (1408, 0.04202947951596837),\n",
       " (1409, 0.038920629122954395),\n",
       " (1410, 0.013303270481565346),\n",
       " (1411, 0.03583884521204139),\n",
       " (1412, 0.01789129776399203),\n",
       " (1413, 0.1705201551869253),\n",
       " (1414, 0.13587299253571053),\n",
       " (1415, 0.01977018049047985),\n",
       " (1416, 0.030401865471005964),\n",
       " (1417, 0.03827019232735245),\n",
       " (1418, 0.028189238697476283),\n",
       " (1419, 0.02903759410786032),\n",
       " (1420, 0.03632191995987368),\n",
       " (1421, 0.023500437589418006),\n",
       " (1422, 0.017905348485815428),\n",
       " (1423, 0.02777236754079562),\n",
       " (1424, 0.01914510896706169),\n",
       " (1425, 0.037797668585986446),\n",
       " (1426, 0.015383086473125128),\n",
       " (1427, 0.0661249814297864),\n",
       " (1428, 0.01787727036287947),\n",
       " (1429, 0.041465420991653006),\n",
       " (1430, 0.0913798144443444),\n",
       " (1431, 0.06269819013703629),\n",
       " (1432, 0.01471142199664497),\n",
       " (1433, 0.022005106430175815),\n",
       " (1434, 0.13537132473855812),\n",
       " (1435, 0.04755512202816377),\n",
       " (1436, 0.04422114621780202),\n",
       " (1437, 0.04666466686830921),\n",
       " (1438, 0.036834289389480454),\n",
       " (1439, 0.016144918837162802),\n",
       " (1440, 0.014261068684820999),\n",
       " (1441, 0.018639447463495704),\n",
       " (1442, 0.013568437556793593),\n",
       " (1443, 0.027863244838237),\n",
       " (1444, 0.02457462840351354),\n",
       " (1445, 0.16225618989859392),\n",
       " (1446, 0.03842816902465161),\n",
       " (1447, 0.35687339324639733),\n",
       " (1448, 0.06570245751231665),\n",
       " (1449, 0.030716084085713448),\n",
       " (1450, 0.0661249814297864),\n",
       " (1451, 0.05030543179829014),\n",
       " (1452, 0.05540357583897659),\n",
       " (1453, 0.0317355723966675),\n",
       " (1454, 0.020257381950908853),\n",
       " (1455, 0.01901582908904367),\n",
       " (1456, 0.02750545565627298),\n",
       " (1457, 0.015156601349922996),\n",
       " (1458, 0.0661249814297864),\n",
       " (1459, 0.05418440426396878),\n",
       " (1460, 0.029358575997479198),\n",
       " (1461, 0.010831232352502657),\n",
       " (1462, 0.023919606496050783),\n",
       " (1463, 0.1575684158291112),\n",
       " (1464, 0.08112146309688661),\n",
       " (1465, 0.038128155192555316),\n",
       " (1466, 0.012311452782289692),\n",
       " (1467, 0.040597838666409175),\n",
       " (1468, 0.013303270481565346),\n",
       " (1469, 0.0224265985623412),\n",
       " (1470, 0.047098172516683856),\n",
       " (1471, 0.023665618884439094),\n",
       " (1472, 0.025639485066711928),\n",
       " (1473, 0.01807580482973147),\n",
       " (1474, 0.2644999257191456),\n",
       " (1475, 0.1050456105527408),\n",
       " (1476, 0.03504099585960294),\n",
       " (1477, 0.06513977736478789),\n",
       " (1478, 0.0518853331403134),\n",
       " (1479, 0.019911631612082092),\n",
       " (1480, 0.017765881505288867),\n",
       " (1481, 0.027682457041448363),\n",
       " (1482, 0.03376719098570322),\n",
       " (1483, 0.037962830919698744),\n",
       " (1484, 0.0833353778766562),\n",
       " (1485, 0.015551700688795453),\n",
       " (1486, 0.037240039652547886),\n",
       " (1487, 0.022498937154299396),\n",
       " (1488, 0.037903846495688315),\n",
       " (1489, 0.037651086429433184),\n",
       " (1490, 0.036834289389480454),\n",
       " (1491, 0.021241224881186318),\n",
       " (1492, 0.03926563650479152),\n",
       " (1493, 0.040330029664574434),\n",
       " (1494, 0.018608826026989322),\n",
       " (1495, 0.03595705003721355),\n",
       " (1496, 0.025877433988606313),\n",
       " (1497, 0.0568400517289751),\n",
       " (1498, 0.026913608400202967),\n",
       " (1499, 0.017152411448689515),\n",
       " (1500, 0.11343972844761761),\n",
       " (1501, 0.03463725649216961),\n",
       " (1502, 0.02164731724821179),\n",
       " (1503, 0.022769605350671487),\n",
       " (1504, 0.28793247935139044),\n",
       " (1505, 0.0454834678018256),\n",
       " (1506, 0.01637853065056419),\n",
       " (1507, 0.02628436851668376),\n",
       " (1508, 0.04452035626845877),\n",
       " (1509, 0.035607282583591825)]"
      ]
     },
     "execution_count": 78,
     "metadata": {},
     "output_type": "execute_result"
    }
   ],
   "source": [
    "model[4][2]"
   ]
  },
  {
   "cell_type": "markdown",
   "metadata": {},
   "source": [
    "Agora, os tópicos selecionados pelo modelo de LSI e LDA e determinados (cada um) por uma quantidade de 4 palavras estão descritos abaixo pelo seu índice especificado no primeiro termo da tupla:"
   ]
  },
  {
   "cell_type": "code",
   "execution_count": 79,
   "metadata": {},
   "outputs": [
    {
     "data": {
      "text/plain": [
       "[(0, '0.181*\"album\" + 0.116*\"film\" + 0.105*\"song\" + 0.093*\"music\"'),\n",
       " (1, '0.599*\"album\" + 0.263*\"song\" + 0.243*\"band\" + 0.185*\"releas\"'),\n",
       " (2, '-0.319*\"game\" + -0.215*\"season\" + -0.204*\"film\" + -0.195*\"team\"'),\n",
       " (3, '0.444*\"film\" + -0.298*\"game\" + 0.200*\"she\" + -0.168*\"player\"'),\n",
       " (4, '0.226*\"film\" + -0.157*\"elect\" + -0.123*\"senat\" + -0.118*\"album\"'),\n",
       " (5, '0.151*\"game\" + 0.143*\"court\" + 0.141*\"law\" + 0.119*\"senat\"'),\n",
       " (6, '0.167*\"speci\" + -0.150*\"engin\" + -0.137*\"court\" + -0.123*\"f\"'),\n",
       " (7, '0.305*\"game\" + -0.227*\"student\" + -0.217*\"univers\" + -0.198*\"school\"'),\n",
       " (8, '-0.200*\"court\" + -0.199*\"speci\" + 0.177*\"armi\" + 0.152*\"game\"'),\n",
       " (9, '-0.393*\"game\" + 0.171*\"f\" + 0.131*\"ford\" + 0.120*\"race\"'),\n",
       " (10, '0.337*\"film\" + -0.218*\"game\" + -0.208*\"ford\" + -0.200*\"f\"')]"
      ]
     },
     "execution_count": 79,
     "metadata": {},
     "output_type": "execute_result"
    }
   ],
   "source": [
    "#LSI:\n",
    "model[0].print_topics(num_topics=number_of_topics, num_words=4)"
   ]
  },
  {
   "cell_type": "code",
   "execution_count": 80,
   "metadata": {},
   "outputs": [
    {
     "data": {
      "text/plain": [
       "[(0, '0.001*\"album\" + 0.001*\"song\" + 0.001*\"she\" + 0.001*\"music\"'),\n",
       " (1, '0.001*\"f\" + 0.001*\"truck\" + 0.001*\"speci\" + 0.001*\"ford\"'),\n",
       " (2, '0.001*\"whale\" + 0.001*\"orbit\" + 0.000*\"airport\" + 0.000*\"ventricular\"'),\n",
       " (3, '0.001*\"imam\" + 0.000*\"massey\" + 0.000*\"toyota\" + 0.000*\"cowboy\"'),\n",
       " (4,\n",
       "  '0.001*\"passport\" + 0.001*\"game\" + 0.001*\"leagu\" + 0.000*\"semiconductor\"'),\n",
       " (5, '0.001*\"game\" + 0.001*\"film\" + 0.001*\"team\" + 0.001*\"system\"'),\n",
       " (6, '0.001*\"court\" + 0.001*\"ibn\" + 0.001*\"al\" + 0.001*\"elect\"'),\n",
       " (7, '0.000*\"gannet\" + 0.000*\"afc\" + 0.000*\"lorentz\" + 0.000*\"hypothalamus\"'),\n",
       " (8, '0.001*\"equat\" + 0.000*\"hockey\" + 0.000*\"commut\" + 0.000*\"chees\"'),\n",
       " (9, '0.002*\"album\" + 0.002*\"film\" + 0.002*\"song\" + 0.001*\"band\"'),\n",
       " (10, '0.000*\"colombia\" + 0.000*\"tornado\" + 0.000*\"kazakh\" + 0.000*\"vowel\"')]"
      ]
     },
     "execution_count": 80,
     "metadata": {},
     "output_type": "execute_result"
    }
   ],
   "source": [
    "#LDA:\n",
    "model[1].print_topics(num_topics=number_of_topics, num_words=4)"
   ]
  },
  {
   "cell_type": "markdown",
   "metadata": {},
   "source": [
    "Então, como já sabemos como estão descritos cada um dos tópicos acima, podemos interpretar quem eles são. Depois de buscar a interpretação neles, vamos verificar se de fato os assuntos listados acima descrevem bem o assunto do primeiro texto do nosso corpus:"
   ]
  },
  {
   "cell_type": "code",
   "execution_count": 81,
   "metadata": {},
   "outputs": [
    {
     "data": {
      "text/plain": [
       "[(0, 0.24000639006394756),\n",
       " (1, 0.3246597458017028),\n",
       " (2, 0.07264499483765942),\n",
       " (3, -0.06987538064684076),\n",
       " (4, -0.0314033737785865),\n",
       " (5, 0.01404854365412769),\n",
       " (6, -0.021978052316929165),\n",
       " (7, 0.00041876917528109643),\n",
       " (8, 0.0009424605068392764),\n",
       " (9, -0.0011998869792385404),\n",
       " (10, 0.011363519049202382)]"
      ]
     },
     "execution_count": 81,
     "metadata": {},
     "output_type": "execute_result"
    }
   ],
   "source": [
    "#LSI:\n",
    "model[2][2]"
   ]
  },
  {
   "cell_type": "code",
   "execution_count": 83,
   "metadata": {},
   "outputs": [
    {
     "data": {
      "text/plain": [
       "[(9, 0.92140585)]"
      ]
     },
     "execution_count": 83,
     "metadata": {},
     "output_type": "execute_result"
    }
   ],
   "source": [
    "#LDA:\n",
    "model[3][2]"
   ]
  },
  {
   "cell_type": "markdown",
   "metadata": {},
   "source": [
    "E verificando cada um deles vemos que de fato o tema está bem similar ao que é descrito no texto procurado. "
   ]
  },
  {
   "cell_type": "code",
   "execution_count": 85,
   "metadata": {},
   "outputs": [
    {
     "name": "stderr",
     "output_type": "stream",
     "text": [
      "/home/novais/anaconda3/lib/python3.7/site-packages/pyLDAvis/_prepare.py:257: FutureWarning: Sorting because non-concatenation axis is not aligned. A future version\n",
      "of pandas will change to not sort by default.\n",
      "\n",
      "To accept the future behavior, pass 'sort=False'.\n",
      "\n",
      "To retain the current behavior and silence the warning, pass 'sort=True'.\n",
      "\n",
      "  return pd.concat([default_term_info] + list(topic_dfs))\n"
     ]
    },
    {
     "data": {
      "text/html": [
       "\n",
       "<link rel=\"stylesheet\" type=\"text/css\" href=\"https://cdn.rawgit.com/bmabey/pyLDAvis/files/ldavis.v1.0.0.css\">\n",
       "\n",
       "\n",
       "<div id=\"ldavis_el77271406831299120807340328058\"></div>\n",
       "<script type=\"text/javascript\">\n",
       "\n",
       "var ldavis_el77271406831299120807340328058_data = {\"mdsDat\": {\"x\": [-0.09270529890187172, 0.017632057718212874, -0.10447682639841117, -0.013635182700486385, 0.002685787128453681, 0.029336686174032765, 0.010036181835506428, 0.011017501202699577, 0.0470820527742021, 0.04066751378676399, 0.05235952738089778], \"y\": [0.04652554475640984, 0.00326013063052789, -0.040146667180582296, -0.012711357212497335, -0.0026539548718343135, -0.008669739682491448, 0.0018605160491616756, 0.013134695851483368, 0.0013084555625980333, -0.0020806137129425867, 0.00017298981016708844], \"topics\": [1, 2, 3, 4, 5, 6, 7, 8, 9, 10, 11], \"cluster\": [1, 1, 1, 1, 1, 1, 1, 1, 1, 1, 1], \"Freq\": [29.89157485961914, 24.230846405029297, 6.538248062133789, 4.917592525482178, 4.917486190795898, 4.917455196380615, 4.917420864105225, 4.917394161224365, 4.917335510253906, 4.917331218719482, 4.9173173904418945]}, \"tinfo\": {\"Category\": [\"Default\", \"Default\", \"Default\", \"Default\", \"Default\", \"Default\", \"Default\", \"Default\", \"Default\", \"Default\", \"Default\", \"Default\", \"Default\", \"Default\", \"Default\", \"Default\", \"Default\", \"Default\", \"Default\", \"Default\", \"Default\", \"Default\", \"Default\", \"Default\", \"Default\", \"Default\", \"Default\", \"Default\", \"Default\", \"Default\", \"Topic1\", \"Topic1\", \"Topic1\", \"Topic1\", \"Topic1\", \"Topic1\", \"Topic1\", \"Topic1\", \"Topic1\", \"Topic1\", \"Topic1\", \"Topic1\", \"Topic1\", \"Topic1\", \"Topic1\", \"Topic1\", \"Topic1\", \"Topic1\", \"Topic1\", \"Topic1\", \"Topic1\", \"Topic1\", \"Topic1\", \"Topic1\", \"Topic1\", \"Topic1\", \"Topic1\", \"Topic1\", \"Topic1\", \"Topic1\", \"Topic1\", \"Topic1\", \"Topic1\", \"Topic1\", \"Topic1\", \"Topic1\", \"Topic1\", \"Topic1\", \"Topic1\", \"Topic1\", \"Topic1\", \"Topic1\", \"Topic1\", \"Topic1\", \"Topic1\", \"Topic1\", \"Topic1\", \"Topic1\", \"Topic1\", \"Topic1\", \"Topic1\", \"Topic1\", \"Topic1\", \"Topic1\", \"Topic1\", \"Topic1\", \"Topic1\", \"Topic1\", \"Topic1\", \"Topic1\", \"Topic1\", \"Topic1\", \"Topic1\", \"Topic1\", \"Topic1\", \"Topic1\", \"Topic1\", \"Topic1\", \"Topic1\", \"Topic1\", \"Topic1\", \"Topic1\", \"Topic1\", \"Topic1\", \"Topic1\", \"Topic1\", \"Topic1\", \"Topic1\", \"Topic2\", \"Topic2\", \"Topic2\", \"Topic2\", \"Topic2\", \"Topic2\", \"Topic2\", \"Topic2\", \"Topic2\", \"Topic2\", \"Topic2\", \"Topic2\", \"Topic2\", \"Topic2\", \"Topic2\", \"Topic2\", \"Topic2\", \"Topic2\", \"Topic2\", \"Topic2\", \"Topic2\", \"Topic2\", \"Topic2\", \"Topic2\", \"Topic2\", \"Topic2\", \"Topic2\", \"Topic2\", \"Topic2\", \"Topic2\", \"Topic2\", \"Topic2\", \"Topic2\", \"Topic2\", \"Topic2\", \"Topic2\", \"Topic2\", \"Topic2\", \"Topic2\", \"Topic2\", \"Topic2\", \"Topic2\", \"Topic2\", \"Topic2\", \"Topic2\", \"Topic2\", \"Topic2\", \"Topic2\", \"Topic2\", \"Topic2\", \"Topic3\", \"Topic3\", \"Topic3\", \"Topic3\", \"Topic3\", \"Topic3\", \"Topic3\", \"Topic3\", \"Topic3\", \"Topic3\", \"Topic3\", \"Topic3\", \"Topic3\", \"Topic3\", \"Topic3\", \"Topic3\", \"Topic3\", \"Topic3\", \"Topic3\", \"Topic3\", \"Topic3\", \"Topic3\", \"Topic3\", \"Topic3\", \"Topic3\", \"Topic3\", \"Topic3\", \"Topic3\", \"Topic3\", \"Topic3\", \"Topic3\", \"Topic3\", \"Topic3\", \"Topic3\", \"Topic3\", \"Topic3\", \"Topic3\", \"Topic3\", \"Topic3\", \"Topic3\", \"Topic3\", \"Topic3\", \"Topic3\", \"Topic3\", \"Topic3\", \"Topic3\", \"Topic3\", \"Topic3\", \"Topic3\", \"Topic3\", \"Topic3\", \"Topic3\", \"Topic3\", \"Topic3\", \"Topic3\", \"Topic3\", \"Topic3\", \"Topic3\", \"Topic3\", \"Topic3\", \"Topic3\", \"Topic3\", \"Topic3\", \"Topic3\", \"Topic3\", \"Topic3\", \"Topic3\", \"Topic3\", \"Topic3\", \"Topic3\", \"Topic3\", \"Topic3\", \"Topic3\", \"Topic3\", \"Topic3\", \"Topic3\", \"Topic3\", \"Topic3\", \"Topic3\", \"Topic4\", \"Topic4\", \"Topic4\", \"Topic4\", \"Topic4\", \"Topic4\", \"Topic4\", \"Topic4\", \"Topic4\", \"Topic4\", \"Topic4\", \"Topic4\", \"Topic4\", \"Topic4\", \"Topic4\", \"Topic4\", \"Topic4\", \"Topic4\", \"Topic4\", \"Topic4\", \"Topic4\", \"Topic4\", \"Topic4\", \"Topic4\", \"Topic4\", \"Topic4\", \"Topic4\", \"Topic4\", \"Topic4\", \"Topic4\", \"Topic4\", \"Topic4\", \"Topic4\", \"Topic4\", \"Topic4\", \"Topic4\", \"Topic4\", \"Topic4\", \"Topic4\", \"Topic4\", \"Topic4\", \"Topic4\", \"Topic4\", \"Topic4\", \"Topic4\", \"Topic4\", \"Topic4\", \"Topic4\", \"Topic4\", \"Topic4\", \"Topic4\", \"Topic4\", \"Topic4\", \"Topic4\", \"Topic4\", \"Topic4\", \"Topic4\", \"Topic4\", \"Topic5\", \"Topic5\", \"Topic5\", \"Topic5\", \"Topic5\", \"Topic5\", \"Topic5\", \"Topic5\", \"Topic5\", \"Topic5\", \"Topic5\", \"Topic5\", \"Topic5\", \"Topic5\", \"Topic5\", \"Topic5\", \"Topic5\", \"Topic5\", \"Topic5\", \"Topic5\", \"Topic5\", \"Topic5\", \"Topic5\", \"Topic5\", \"Topic5\", \"Topic5\", \"Topic5\", \"Topic5\", \"Topic5\", \"Topic5\", \"Topic5\", \"Topic5\", \"Topic5\", \"Topic5\", \"Topic5\", \"Topic5\", \"Topic5\", \"Topic5\", \"Topic5\", \"Topic5\", \"Topic5\", \"Topic5\", \"Topic5\", \"Topic5\", \"Topic5\", \"Topic5\", \"Topic5\", \"Topic5\", \"Topic5\", \"Topic5\", \"Topic6\", \"Topic6\", \"Topic6\", \"Topic6\", \"Topic6\", \"Topic6\", \"Topic6\", \"Topic6\", \"Topic6\", \"Topic6\", \"Topic6\", \"Topic6\", \"Topic6\", \"Topic6\", \"Topic6\", \"Topic6\", \"Topic6\", \"Topic6\", \"Topic6\", \"Topic6\", \"Topic6\", \"Topic6\", \"Topic6\", \"Topic6\", \"Topic6\", \"Topic6\", \"Topic6\", \"Topic6\", \"Topic6\", \"Topic6\", \"Topic6\", \"Topic6\", \"Topic6\", \"Topic6\", \"Topic6\", \"Topic6\", \"Topic6\", \"Topic6\", \"Topic6\", \"Topic6\", \"Topic6\", \"Topic6\", \"Topic6\", \"Topic6\", \"Topic6\", \"Topic6\", \"Topic6\", \"Topic6\", \"Topic6\", \"Topic6\", \"Topic7\", \"Topic7\", \"Topic7\", \"Topic7\", \"Topic7\", \"Topic7\", \"Topic7\", \"Topic7\", \"Topic7\", \"Topic7\", \"Topic7\", \"Topic7\", \"Topic7\", \"Topic7\", \"Topic7\", \"Topic7\", \"Topic7\", \"Topic7\", \"Topic7\", \"Topic7\", \"Topic7\", \"Topic7\", \"Topic7\", \"Topic7\", \"Topic7\", \"Topic7\", \"Topic7\", \"Topic7\", \"Topic7\", \"Topic7\", \"Topic7\", \"Topic7\", \"Topic7\", \"Topic7\", \"Topic7\", \"Topic7\", \"Topic7\", \"Topic7\", \"Topic7\", \"Topic7\", \"Topic7\", \"Topic7\", \"Topic7\", \"Topic7\", \"Topic7\", \"Topic7\", \"Topic7\", \"Topic7\", \"Topic7\", \"Topic7\", \"Topic7\", \"Topic7\", \"Topic8\", \"Topic8\", \"Topic8\", \"Topic8\", \"Topic8\", \"Topic8\", \"Topic8\", \"Topic8\", \"Topic8\", \"Topic8\", \"Topic8\", \"Topic8\", \"Topic8\", \"Topic8\", \"Topic8\", \"Topic8\", \"Topic8\", \"Topic8\", \"Topic8\", \"Topic8\", \"Topic8\", \"Topic8\", \"Topic8\", \"Topic8\", \"Topic8\", \"Topic8\", \"Topic8\", \"Topic8\", \"Topic8\", \"Topic8\", \"Topic8\", \"Topic8\", \"Topic8\", \"Topic8\", \"Topic8\", \"Topic8\", \"Topic8\", \"Topic8\", \"Topic8\", \"Topic8\", \"Topic8\", \"Topic8\", \"Topic8\", \"Topic8\", \"Topic8\", \"Topic8\", \"Topic8\", \"Topic8\", \"Topic8\", \"Topic8\", \"Topic8\", \"Topic8\", \"Topic8\", \"Topic8\", \"Topic8\", \"Topic8\", \"Topic9\", \"Topic9\", \"Topic9\", \"Topic9\", \"Topic9\", \"Topic9\", \"Topic9\", \"Topic9\", \"Topic9\", \"Topic9\", \"Topic9\", \"Topic9\", \"Topic9\", \"Topic9\", \"Topic9\", \"Topic9\", \"Topic9\", \"Topic9\", \"Topic9\", \"Topic9\", \"Topic9\", \"Topic9\", \"Topic9\", \"Topic9\", \"Topic9\", \"Topic9\", \"Topic9\", \"Topic9\", \"Topic9\", \"Topic9\", \"Topic9\", \"Topic9\", \"Topic9\", \"Topic9\", \"Topic9\", \"Topic9\", \"Topic9\", \"Topic9\", \"Topic9\", \"Topic9\", \"Topic9\", \"Topic9\", \"Topic10\", \"Topic10\", \"Topic10\", \"Topic10\", \"Topic10\", \"Topic10\", \"Topic10\", \"Topic10\", \"Topic10\", \"Topic10\", \"Topic10\", \"Topic10\", \"Topic10\", \"Topic10\", \"Topic10\", \"Topic10\", \"Topic10\", \"Topic10\", \"Topic10\", \"Topic10\", \"Topic10\", \"Topic10\", \"Topic10\", \"Topic10\", \"Topic10\", \"Topic10\", \"Topic10\", \"Topic10\", \"Topic10\", \"Topic10\", \"Topic10\", \"Topic10\", \"Topic10\", \"Topic10\", \"Topic10\", \"Topic10\", \"Topic10\", \"Topic10\", \"Topic10\", \"Topic10\", \"Topic10\", \"Topic10\", \"Topic10\", \"Topic10\", \"Topic10\", \"Topic10\", \"Topic10\", \"Topic10\", \"Topic10\", \"Topic10\", \"Topic10\", \"Topic10\", \"Topic10\", \"Topic10\", \"Topic11\", \"Topic11\", \"Topic11\", \"Topic11\", \"Topic11\", \"Topic11\", \"Topic11\", \"Topic11\", \"Topic11\", \"Topic11\", \"Topic11\", \"Topic11\", \"Topic11\", \"Topic11\", \"Topic11\", \"Topic11\", \"Topic11\", \"Topic11\", \"Topic11\", \"Topic11\", \"Topic11\", \"Topic11\", \"Topic11\", \"Topic11\", \"Topic11\", \"Topic11\", \"Topic11\", \"Topic11\", \"Topic11\", \"Topic11\", \"Topic11\", \"Topic11\", \"Topic11\", \"Topic11\", \"Topic11\", \"Topic11\", \"Topic11\", \"Topic11\", \"Topic11\", \"Topic11\"], \"Freq\": [4.0, 1.0, 3.0, 2.0, 1.0, 2.0, 2.0, 2.0, 1.0, 0.0, 1.0, 1.0, 2.0, 1.0, 1.0, 0.0, 1.0, 1.0, 1.0, 0.0, 0.0, 0.0, 0.0, 1.0, 0.0, 1.0, 1.0, 1.0, 0.0, 1.0, 0.6513106822967529, 0.39989548921585083, 0.32635974884033203, 0.2912009358406067, 0.352717787027359, 0.359596312046051, 0.27787262201309204, 0.27191996574401855, 0.29185575246810913, 0.2557259500026703, 0.26393941044807434, 0.24085864424705505, 0.2347811460494995, 0.2364886850118637, 0.38231220841407776, 0.5906982421875, 0.23774610459804535, 0.2355370819568634, 0.9018508791923523, 0.23298250138759613, 0.25901421904563904, 0.23413929343223572, 0.21535995602607727, 0.2327648550271988, 0.22681711614131927, 0.21295961737632751, 0.3190164566040039, 0.23289331793785095, 0.5496574640274048, 0.5533207058906555, 2.1749675273895264, 1.057766318321228, 0.36796215176582336, 0.917171061038971, 1.156185269355774, 3.406808376312256, 0.3943174183368683, 0.4887487292289734, 2.2618257999420166, 1.9975193738937378, 0.3671579957008362, 1.091382622718811, 1.6359715461730957, 0.6883309483528137, 1.9286166429519653, 2.3342628479003906, 0.9497813582420349, 0.7958891987800598, 0.8207529187202454, 0.5766490697860718, 0.6269482970237732, 0.5367340445518494, 0.9184011816978455, 0.7251539826393127, 0.8586537837982178, 0.748322069644928, 1.115706443786621, 0.8483459949493408, 0.7793385982513428, 0.968808114528656, 1.438512921333313, 1.0421339273452759, 1.2682816982269287, 0.9235159158706665, 1.0147277116775513, 1.0167427062988281, 0.8074895739555359, 1.088160514831543, 0.8339464664459229, 0.9229425191879272, 0.890693187713623, 0.9398019313812256, 0.9557777643203735, 0.9734596014022827, 0.918578028678894, 0.9740024209022522, 0.9004461169242859, 0.9087470173835754, 0.6488142609596252, 0.9609744548797607, 0.5048916339874268, 0.3872357904911041, 0.34828975796699524, 0.28268539905548096, 0.6297329068183899, 0.2471906840801239, 0.24938756227493286, 0.32211458683013916, 0.34135451912879944, 0.22373516857624054, 0.2806726098060608, 0.20868311822414398, 0.2112528681755066, 0.2272908091545105, 0.571783185005188, 0.19365166127681732, 0.1804925501346588, 0.8428544402122498, 0.17705966532230377, 0.17160792648792267, 0.16396810114383698, 0.30265095829963684, 0.16647973656654358, 0.20901083946228027, 0.42258429527282715, 0.1944519430398941, 0.7913833856582642, 0.16206911206245422, 0.2374386042356491, 0.29733821749687195, 1.0246282815933228, 0.21374130249023438, 0.20029816031455994, 0.3907044231891632, 0.8711451292037964, 0.38792815804481506, 0.5417172312736511, 0.37394073605537415, 0.44728267192840576, 0.424105703830719, 0.27667006850242615, 0.5284346342086792, 0.3418888449668884, 0.3282739520072937, 0.3366262912750244, 0.35538026690483093, 0.28028279542922974, 0.28153401613235474, 0.07713127136230469, 0.07262177765369415, 0.06672223657369614, 0.06090833619236946, 0.06983298063278198, 0.07223279774188995, 0.06296470761299133, 0.057805754244327545, 0.08365173637866974, 0.053573280572891235, 0.10973887145519257, 0.06612592935562134, 0.07897157967090607, 0.11290036886930466, 0.06538685411214828, 0.050565555691719055, 0.06561252474784851, 0.0534881167113781, 0.05210034176707268, 0.05653497949242592, 0.0505034402012825, 0.04828464984893799, 0.05340273678302765, 0.04712134972214699, 0.09758644551038742, 0.05200330540537834, 0.2450934499502182, 0.04479943588376045, 0.04993695020675659, 0.07565750926733017, 0.0915917456150055, 0.08509814739227295, 0.1322440505027771, 0.1127140000462532, 0.17235206067562103, 0.07593250274658203, 0.1843004673719406, 0.23666438460350037, 0.35850533843040466, 0.13241316378116608, 0.1112702265381813, 0.12984074652194977, 0.12538665533065796, 0.22936317324638367, 0.46921250224113464, 0.25489291548728943, 0.11604586243629456, 0.1950112283229828, 0.14382214844226837, 0.2293395698070526, 0.23511932790279388, 0.27415165305137634, 0.30738499760627747, 0.20301921665668488, 0.27846813201904297, 0.14853112399578094, 0.19748367369174957, 0.18343761563301086, 0.2606664001941681, 0.22433531284332275, 0.29910942912101746, 0.16454951465129852, 0.18910178542137146, 0.15004660189151764, 0.21912726759910583, 0.24823448061943054, 0.27378422021865845, 0.38667628169059753, 0.2316058725118637, 0.2084861844778061, 0.2951286733150482, 0.20719684660434723, 0.20696769654750824, 0.2272912859916687, 0.2263861447572708, 0.21276092529296875, 0.2044380158185959, 0.20934070646762848, 0.20299513638019562, 0.10683145374059677, 0.1456642746925354, 0.07159513980150223, 0.06808201223611832, 0.08166602998971939, 0.06806889176368713, 0.2204095721244812, 0.07060806453227997, 0.06113384664058685, 0.11550960689783096, 0.08701884001493454, 0.060206539928913116, 0.07479090988636017, 0.05500591918826103, 0.05460668355226517, 0.07787720859050751, 0.060364335775375366, 0.0989885926246643, 0.06749305874109268, 0.04689035192131996, 0.04802533984184265, 0.048674922436475754, 0.05687462165951729, 0.044884730130434036, 0.05236654356122017, 0.04768764227628708, 0.04411279410123825, 0.06862860172986984, 0.03988245129585266, 0.05167873948812485, 0.12574705481529236, 0.2071407288312912, 0.14362841844558716, 0.06858047097921371, 0.0914292261004448, 0.1014222651720047, 0.08695565164089203, 0.22890380024909973, 0.1566419154405594, 0.0973859429359436, 0.12968449294567108, 0.1559918373823166, 0.10065650194883347, 0.10553677380084991, 0.11880560964345932, 0.11911987513303757, 0.12653055787086487, 0.08462366461753845, 0.11341368407011032, 0.10216164588928223, 0.08435297757387161, 0.08963484317064285, 0.1055607944726944, 0.09061111509799957, 0.08627476543188095, 0.08892307430505753, 0.08693751692771912, 0.08692780137062073, 0.10037706792354584, 0.10322900116443634, 0.08304589241743088, 0.08787563443183899, 0.07404083013534546, 0.07193547487258911, 0.07885334640741348, 0.07202260941267014, 0.07160278409719467, 0.10204139351844788, 0.08054658025503159, 0.06164347380399704, 0.05952153354883194, 0.05512290820479393, 0.054951053112745285, 0.06070108711719513, 0.07688143849372864, 0.05059312656521797, 0.07295458763837814, 0.0961836576461792, 0.061518725007772446, 0.06830022484064102, 0.04626993462443352, 0.048208605498075485, 0.04791143909096718, 0.04549501836299896, 0.05892299860715866, 0.06969724595546722, 0.04837481305003166, 0.06523706763982773, 0.08550132811069489, 0.15721356868743896, 0.09772414714097977, 0.058078330010175705, 0.10799549520015717, 0.11364006996154785, 0.08967933803796768, 0.06747123599052429, 0.07135649025440216, 0.0646369680762291, 0.09114200621843338, 0.06801407784223557, 0.07439541071653366, 0.06660754233598709, 0.06838685274124146, 0.07455922663211823, 0.07262957096099854, 0.07128837704658508, 0.07013189047574997, 0.06861055642366409, 0.22510597109794617, 0.1144559308886528, 0.10815110802650452, 0.09339851140975952, 0.08722725510597229, 0.06639513373374939, 0.05845398083329201, 0.156473308801651, 0.06252528727054596, 0.051485516130924225, 0.04864129051566124, 0.046522244811058044, 0.0436471626162529, 0.06994824856519699, 0.05550532042980194, 0.07813973724842072, 0.041699569672346115, 0.03973812237381935, 0.06157993897795677, 0.04447353631258011, 0.04081469401717186, 0.03969626873731613, 0.04450422152876854, 0.03986809030175209, 0.03468569368124008, 0.03698384016752243, 0.04260195046663284, 0.03263862058520317, 0.07251989841461182, 0.033808283507823944, 0.08269394934177399, 0.06898234784603119, 0.11454599350690842, 0.0925603061914444, 0.09857423603534698, 0.06283450126647949, 0.09260191023349762, 0.061673734337091446, 0.04784068465232849, 0.04634927585721016, 0.06238492205739021, 0.061518535017967224, 0.053743839263916016, 0.0692019909620285, 0.06734224408864975, 0.05622740089893341, 0.05590415000915527, 0.05381622910499573, 0.05621097981929779, 0.05391830578446388, 0.1144712045788765, 0.14460919797420502, 0.09716243296861649, 0.10831985622644424, 0.06930733472108841, 0.08663180470466614, 0.06622862815856934, 0.06630393862724304, 0.07427660375833511, 0.05230885371565819, 0.07650904357433319, 0.04890911281108856, 0.05525149777531624, 0.04724642261862755, 0.07816068083047867, 0.046098317950963974, 0.044267263263463974, 0.054348476231098175, 0.056428465992212296, 0.03781100735068321, 0.03772183880209923, 0.03679536283016205, 0.04197992384433746, 0.03851758688688278, 0.09292954206466675, 0.04076081141829491, 0.04664979130029678, 0.035673730075359344, 0.03150954097509384, 0.03115464374423027, 0.06418996304273605, 0.0745217576622963, 0.06760838627815247, 0.12619160115718842, 0.0689159482717514, 0.09274432808160782, 0.14192937314510345, 0.10086116194725037, 0.0874551460146904, 0.08762887120246887, 0.06944935768842697, 0.11061760038137436, 0.08965561538934708, 0.08381521701812744, 0.10200456529855728, 0.09139649569988251, 0.08614814281463623, 0.0773426741361618, 0.08760416507720947, 0.07782861590385437, 0.06836656481027603, 0.06928588449954987, 0.11281859129667282, 0.08909129351377487, 0.08635224401950836, 0.08564035594463348, 0.07035821676254272, 0.07584384828805923, 0.06953940540552139, 0.0656982883810997, 0.0765964612364769, 0.062001507729291916, 0.08140765130519867, 0.09535306692123413, 0.05516315624117851, 0.055958181619644165, 0.051124587655067444, 0.06281431764364243, 0.04917900636792183, 0.07645301520824432, 0.044309936463832855, 0.051075827330350876, 0.04859036207199097, 0.048470575362443924, 0.06830528378486633, 0.033914752304553986, 0.03314778953790665, 0.035662852227687836, 0.06690578907728195, 0.05293075740337372, 0.03392258659005165, 0.03222329542040825, 0.0591018907725811, 0.05427861213684082, 0.0665028914809227, 0.04668019339442253, 0.04680277779698372, 0.08370622992515564, 0.060949839651584625, 0.1809181272983551, 0.2318124622106552, 0.1887800246477127, 0.1654711663722992, 0.0750093013048172, 0.09581179171800613, 0.12359274923801422, 0.06750280410051346, 0.0883585661649704, 0.08762945979833603, 0.08867748826742172, 0.08809258788824081, 0.08544643223285675, 0.07997807115316391, 0.07910850644111633, 0.07532949000597, 0.07230633497238159, 0.07219388335943222, 0.06976252049207687, 0.09588046371936798, 0.08785384893417358, 0.06749720871448517, 0.06320644915103912, 0.05327371507883072, 0.049638330936431885, 0.04956106096506119, 0.04920640587806702, 0.045317549258470535, 0.0492079071700573, 0.04449452459812164, 0.039324142038822174, 0.03938288241624832, 0.038042254745960236, 0.03666185587644577, 0.032820235937833786, 0.03207722306251526, 0.035106558352708817, 0.03160703927278519, 0.046611882746219635, 0.03037148527801037, 0.045006852596998215, 0.0272354856133461, 0.029841717332601547, 0.027545642107725143, 0.02132410928606987, 0.021036753430962563, 0.020614784210920334, 0.02443601004779339, 0.020368829369544983, 0.021974435076117516, 0.0250313151627779, 0.03615831956267357, 0.03132083639502525, 0.04045502096414566, 0.02985280379652977, 0.03948108106851578, 0.034837476909160614, 0.05185414478182793, 0.0453067272901535, 0.03745760768651962, 0.03104250133037567, 0.17700909078121185, 0.11865964531898499, 0.0598125159740448, 0.05438990890979767, 0.03912275657057762, 0.05472249165177345, 0.034792013466358185, 0.02895798347890377, 0.02742125652730465, 0.05187835544347763, 0.026005059480667114, 0.02568221092224121, 0.03220665827393532, 0.04312249645590782, 0.02311498112976551, 0.022771883755922318, 0.02312353067100048, 0.02612360380589962, 0.042975544929504395, 0.025210820138454437, 0.019330229610204697, 0.02033567614853382, 0.019301358610391617, 0.019078683108091354, 0.018700839951634407, 0.022984683513641357, 0.018617892637848854, 0.018442923203110695, 0.018141422420740128, 0.017859816551208496, 0.027483858168125153, 0.021737920120358467, 0.047781359404325485, 0.02747899293899536, 0.042833998799324036, 0.03007735311985016, 0.026250440627336502, 0.02709641121327877, 0.03617312014102936, 0.03629744425415993, 0.04368118569254875, 0.027366898953914642, 0.029759742319583893, 0.05266573280096054, 0.03696509078145027, 0.04457230493426323, 0.03425607830286026, 0.039793580770492554, 0.03468159958720207, 0.03212527558207512, 0.031722139567136765, 0.03243571147322655, 0.030757110565900803, 0.0292244590818882, 0.09740795940160751, 0.06966227293014526, 0.08180858939886093, 0.070226289331913, 0.07092313468456268, 0.06533107906579971, 0.05759013816714287, 0.05418712645769119, 0.054933905601501465, 0.07535108923912048, 0.04964631050825119, 0.053887978196144104, 0.056512050330638885, 0.05435475334525108, 0.03766815736889839, 0.057348962873220444, 0.04436558857560158, 0.04802260175347328, 0.12077903002500534, 0.03122912347316742, 0.033170949667692184, 0.03465643152594566, 0.028970425948500633, 0.02876294031739235, 0.028094133362174034, 0.02714638039469719, 0.02629791758954525, 0.026881156489253044, 0.02357899397611618, 0.025647614151239395, 0.06872602552175522, 0.04638727009296417, 0.035648271441459656, 0.03944716975092888, 0.030952321365475655, 0.03923516348004341, 0.036738354712724686, 0.03446642681956291, 0.032683297991752625, 0.03337924927473068], \"Term\": [\"album\", \"game\", \"film\", \"song\", \"court\", \"music\", \"she\", \"he\", \"team\", \"elect\", \"church\", \"engin\", \"band\", \"system\", \"season\", \"ibn\", \"player\", \"truck\", \"state\", \"leagu\", \"al\", \"whale\", \"govern\", \"war\", \"law\", \"use\", \"univers\", \"play\", \"oper\", \"compani\", \"lane\", \"titan\", \"ski\", \"sludg\", \"azerbaijan\", \"wilder\", \"rickenback\", \"hampstead\", \"clair\", \"poirot\", \"raider\", \"vanuatu\", \"fluoresc\", \"liu\", \"canon\", \"kong\", \"denial\", \"crawl\", \"flag\", \"gile\", \"barber\", \"den\", \"roma\", \"cooki\", \"springsteen\", \"abbi\", \"brick\", \"batman\", \"bear\", \"hong\", \"band\", \"rock\", \"shadow\", \"river\", \"radio\", \"album\", \"basin\", \"dog\", \"song\", \"releas\", \"egg\", \"tour\", \"record\", \"lake\", \"music\", \"film\", \"studio\", \"voic\", \"love\", \"castl\", \"railway\", \"lee\", \"famili\", \"hit\", \"london\", \"town\", \"i\", \"park\", \"station\", \"episod\", \"he\", \"singl\", \"she\", \"star\", \"chart\", \"show\", \"king\", \"play\", \"track\", \"appear\", \"church\", \"featur\", \"citi\", \"new\", \"\", \"seri\", \"video\", \"speci\", \"uruguay\", \"truck\", \"atlas\", \"harper\", \"pickup\", \"ibi\", \"ranger\", \"wakefield\", \"bigg\", \"underwat\", \"holm\", \"venom\", \"pratt\", \"spore\", \"lizard\", \"headlight\", \"infant\", \"turbofan\", \"uruguayan\", \"ford\", \"willow\", \"cir\", \"suv\", \"walid\", \"wainwright\", \"whitney\", \"cab\", \"und\", \"circuit\", \"camper\", \"trim\", \"mtv\", \"f\", \"350\", \"zombi\", \"appeal\", \"speci\", \"genus\", \"tournament\", \"bass\", \"court\", \"model\", \"window\", \"album\", \"video\", \"chart\", \"seri\", \"music\", \"version\", \"song\", \"thornton\", \"tin\", \"coke\", \"aquaman\", \"finalist\", \"tobacco\", \"calgari\", \"saloon\", \"eu\", \"fuze\", \"nba\", \"77\", \"alloy\", \"playoff\", \"recycl\", \"clapham\", \"urdu\", \"jen\", \"panzer\", \"footprint\", \"photon\", \"pollard\", \"semifin\", \"brahmaputra\", \"labour\", \"coher\", \"energi\", \"sonnet\", \"rash\", \"rifl\", \"export\", \"autom\", \"weapon\", \"frequenc\", \"coach\", \"triangl\", \"softwar\", \"championship\", \"team\", \"congress\", \"swiss\", \"stadium\", \"gun\", \"test\", \"game\", \"elect\", \"asset\", \"footbal\", \"olymp\", \"leagu\", \"languag\", \"engin\", \"system\", \"market\", \"univers\", \"cost\", \"bank\", \"miss\", \"player\", \"law\", \"season\", \"applic\", \"cup\", \"contract\", \"oper\", \"compani\", \"use\", \"film\", \"product\", \"govern\", \"he\", \"program\", \"develop\", \"state\", \"play\", \"nation\", \"war\", \"seri\", \"design\", \"umayyad\", \"caliph\", \"gantt\", \"k6\", \"liabil\", \"hardin\", \"ibn\", \"reynold\", \"kharijit\", \"yazid\", \"voltag\", \"luka\", \"suzuki\", \"coney\", \"aristotl\", \"lap\", \"sulayman\", \"protein\", \"java\", \"winchest\", \"cas\", \"marwan\", \"ar\", \"kush\", \"dominion\", \"monast\", \"czechoslovakia\", \"isaac\", \"bundestag\", \"manitoba\", \"legislatur\", \"al\", \"constitut\", \"doctrin\", \"communist\", \"chord\", \"mac\", \"court\", \"elect\", \"legisl\", \"philippin\", \"church\", \"assembl\", \"judg\", \"law\", \"govern\", \"state\", \"rail\", \"hous\", \"engin\", \"senat\", \"rule\", \"he\", \"forc\", \"v\", \"member\", \"act\", \"unit\", \"pickl\", \"chees\", \"rawl\", \"serb\", \"\\u015b\\u0101rad\\u0101\", \"jacobi\", \"slash\", \"bhutan\", \"medina\", \"diffus\", \"imped\", \"mclaren\", \"subaru\", \"corneal\", \"nativist\", \"nors\", \"serbian\", \"freeway\", \"adler\", \"nhl\", \"jargon\", \"balkan\", \"bhutanes\", \"zack\", \"yugoslav\", \"brahma\", \"deiti\", \"deer\", \"norwich\", \"alik\", \"delawar\", \"equat\", \"input\", \"hare\", \"commut\", \"hockey\", \"summit\", \"yugoslavia\", \"di\", \"reich\", \"function\", \"dragon\", \"berlin\", \"essay\", \"god\", \"state\", \"island\", \"school\", \"book\", \"season\", \"whale\", \"ventricular\", \"\\u0081\", \"spacecraft\", \"spear\", \"codi\", \"sigel\", \"orbit\", \"ether\", \"salzburg\", \"bene\", \"kurdistan\", \"hohenwerfen\", \"runway\", \"liver\", \"kurdish\", \"aneurysm\", \"kurd\", \"manga\", \"reagent\", \"sabha\", \"fission\", \"cardiac\", \"gland\", \"exoplanet\", \"efficaci\", \"combust\", \"\\u0155\", \"mg\", \"neutron\", \"oxid\", \"ion\", \"airport\", \"crystal\", \"acid\", \"miner\", \"airlin\", \"compound\", \"intak\", \"calcium\", \"fuel\", \"nuclear\", \"jet\", \"engin\", \"air\", \"patient\", \"blood\", \"planet\", \"use\", \"treatment\", \"semiconductor\", \"passport\", \"morrissey\", \"beethoven\", \"cooley\", \"sonic\", \"rude\", \"mayer\", \"heavyweight\", \"smog\", \"wrestl\", \"sinhales\", \"roland\", \"electrod\", \"hart\", \"wang\", \"astro\", \"goalkeep\", \"saddl\", \"berg\", \"sinclair\", \"olympiaco\", \"barney\", \"aaa\", \"weld\", \"math\", \"lo\", \"wrestler\", \"loblaw\", \"osha\", \"houston\", \"manchest\", \"portugues\", \"leagu\", \"hors\", \"footbal\", \"game\", \"team\", \"club\", \"player\", \"goal\", \"music\", \"season\", \"art\", \"film\", \"he\", \"play\", \"career\", \"song\", \"she\", \"score\", \"park\", \"kenni\", \"bandai\", \"marlow\", \"vultur\", \"dosanjh\", \"yoga\", \"trevor\", \"olsen\", \"panic\", \"beck\", \"doc\", \"morrison\", \"weymouth\", \"freud\", \"cartman\", \"surgeon\", \"nikon\", \"evan\", \"brahman\", \"penni\", \"chorus\", \"rap\", \"toy\", \"haircut\", \"crudup\", \"webber\", \"bangladesh\", \"baker\", \"melvin\", \"gupta\", \"eurovis\", \"passion\", \"mitchel\", \"deduct\", \"cartoon\", \"davi\", \"taylor\", \"she\", \"album\", \"song\", \"music\", \"hop\", \"actress\", \"film\", \"hip\", \"award\", \"he\", \"releas\", \"band\", \"record\", \"episod\", \"perform\", \"i\", \"school\", \"show\", \"play\", \"gannet\", \"afc\", \"lorentz\", \"hypothalamus\", \"boobi\", \"jiu\", \"jitsu\", \"prabhu\", \"754\", \"expon\", \"murali\", \"significand\", \"chiswick\", \"gumbal\", \"erikson\", \"menon\", \"liposom\", \"kolkata\", \"minkowski\", \"binari\", \"atp\", \"subgroup\", \"hyperion\", \"tenor\", \"tna\", \"sula\", \"levenson\", \"kutti\", \"decim\", \"pba\", \"conjectur\", \"cyprus\", \"ieee\", \"lutheran\", \"precis\", \"float\", \"bit\", \"adam\", \"film\", \"album\", \"she\", \"game\", \"imam\", \"massey\", \"toyota\", \"al\\u012b\", \"cnbc\", \"cowboy\", \"ulster\", \"xhosa\", \"im\\u0101m\", \"visa\", \"mcdaniel\", \"pri\", \"kangaroo\", \"newton\", \"patchouli\", \"oslo\", \"sweeney\", \"wizard\", \"applianc\", \"hulk\", \"kapur\", \"fiba\", \"bermuda\", \"brunel\", \"dargah\", \"cadenc\", \"merton\", \"hadith\", \"bahrain\", \"proctor\", \"meg\", \"bryant\", \"tunnel\", \"malayalam\", \"iran\", \"ac\", \"boot\", \"barker\", \"sergeant\", \"hawk\", \"olymp\", \"locomot\", \"shield\", \"game\", \"ireland\", \"team\", \"medal\", \"he\", \"club\", \"footbal\", \"train\", \"film\", \"she\", \"championship\", \"tornado\", \"recombin\", \"kazakh\", \"tram\", \"inhibitor\", \"lancast\", \"infloresc\", \"kurosawa\", \"colombian\", \"vowel\", \"vj\", \"glucos\", \"conson\", \"hasan\", \"bridger\", \"kernel\", \"verb\", \"barcelona\", \"colombia\", \"sussman\", \"divisi\\u00f3n\", \"soup\", \"4ad\", \"schere\", \"chaser\", \"mersenn\", \"citadi\", \"kisser\", \"bayer\", \"floral\", \"valentin\", \"fifa\", \"enzym\", \"sequenc\", \"membran\", \"cup\", \"album\", \"speci\", \"team\", \"film\"], \"Total\": [4.0, 1.0, 3.0, 2.0, 1.0, 2.0, 2.0, 2.0, 1.0, 0.0, 1.0, 1.0, 2.0, 1.0, 1.0, 0.0, 1.0, 1.0, 1.0, 0.0, 0.0, 0.0, 0.0, 1.0, 0.0, 1.0, 1.0, 1.0, 0.0, 1.0, 0.7359653115272522, 0.45699939131736755, 0.37323665618896484, 0.33433589339256287, 0.4057978093624115, 0.41383159160614014, 0.31993070244789124, 0.31399017572402954, 0.33876946568489075, 0.29779329895973206, 0.3081352114677429, 0.28314459323883057, 0.2771601676940918, 0.2800949513912201, 0.4542140066623688, 0.7032228112220764, 0.28351715207099915, 0.2814313769340515, 1.0787863731384277, 0.2788054645061493, 0.30996257066726685, 0.2803223133087158, 0.25790607929229736, 0.27876612544059753, 0.272009938955307, 0.25567513704299927, 0.3830181360244751, 0.2798110544681549, 0.6618893146514893, 0.6676881313323975, 2.627563953399658, 1.3028334379196167, 0.4444462060928345, 1.1383600234985352, 1.4489935636520386, 4.424999713897705, 0.47963613271713257, 0.6013601422309875, 2.9891865253448486, 2.6569511890411377, 0.4470427334308624, 1.4272937774658203, 2.2199716567993164, 0.8773343563079834, 2.724691390991211, 3.3708784580230713, 1.257513165473938, 1.0389710664749146, 1.0925129652023315, 0.7411348223686218, 0.8163861036300659, 0.6838600635528564, 1.2799047231674194, 0.9705830812454224, 1.1874961853027344, 1.016100525856018, 1.6664645671844482, 1.188485860824585, 1.0804606676101685, 1.4281588792800903, 2.3857576847076416, 1.5709706544876099, 2.0356342792510986, 1.3516688346862793, 1.5585628747940063, 1.58896803855896, 1.1369781494140625, 1.797690987586975, 1.1953356266021729, 1.4026983976364136, 1.3292958736419678, 1.4601716995239258, 1.5376616716384888, 1.6114999055862427, 1.4613937139511108, 1.7812573909759521, 1.4647936820983887, 1.9727195501327515, 0.6907508373260498, 1.0570155382156372, 0.5559011101722717, 0.4285491406917572, 0.3898511528968811, 0.31886327266693115, 0.7130624651908875, 0.28317323327064514, 0.28601980209350586, 0.37113091349601746, 0.39758893847465515, 0.26247522234916687, 0.3307427763938904, 0.24644802510738373, 0.2503342926502228, 0.27175503969192505, 0.6849362850189209, 0.23225116729736328, 0.21689583361148834, 1.0248669385910034, 0.2154611051082611, 0.20896229147911072, 0.19990409910678864, 0.3690626621246338, 0.203865647315979, 0.25661346316337585, 0.5190385580062866, 0.23889927566051483, 0.9723875522613525, 0.20168469846248627, 0.2976526618003845, 0.3762984275817871, 1.5493308305740356, 0.2755592465400696, 0.254133939743042, 0.63808274269104, 1.9727195501327515, 0.6594000458717346, 1.087563395500183, 0.6385617256164551, 1.227298378944397, 1.2639321088790894, 0.535905659198761, 4.424999713897705, 1.4647936820983887, 1.5585628747940063, 1.7812573909759521, 2.724691390991211, 1.2589095830917358, 2.9891865253448486, 0.12770497798919678, 0.12848606705665588, 0.11915025860071182, 0.1101783886551857, 0.13029558956623077, 0.1351655125617981, 0.118738554418087, 0.10908080637454987, 0.1602286845445633, 0.1027333214879036, 0.21089141070842743, 0.1294882595539093, 0.15500040352344513, 0.22246134281158447, 0.12892268598079681, 0.09989909082651138, 0.12990207970142365, 0.10634732991456985, 0.10429900884628296, 0.11403889209032059, 0.10199615359306335, 0.09780307114124298, 0.1083669364452362, 0.0963127538561821, 0.20090748369693756, 0.10745449364185333, 0.507204532623291, 0.09402590245008469, 0.10512175410985947, 0.15958014130592346, 0.19651031494140625, 0.1855137050151825, 0.30397936701774597, 0.25561097264289856, 0.41637668013572693, 0.16631364822387695, 0.48480260372161865, 0.6577709913253784, 1.1044108867645264, 0.32555848360061646, 0.2648015022277832, 0.32180795073509216, 0.308132529258728, 0.6941246390342712, 1.8101739883422852, 0.8132658004760742, 0.28307658433914185, 0.5774926543235779, 0.38906458020210266, 0.758369505405426, 0.797274649143219, 1.0191854238510132, 1.2618144750595093, 0.6674312949180603, 1.138693928718567, 0.422853022813797, 0.6709758043289185, 0.6015042662620544, 1.096419334411621, 0.8708099722862244, 1.5139895677566528, 0.5128675103187561, 0.6771919131278992, 0.439767062664032, 0.9606085419654846, 1.2696444988250732, 1.5801804065704346, 3.3708784580230713, 1.171984076499939, 0.9267097115516663, 2.3857576847076416, 0.9762315154075623, 0.9956254959106445, 1.515942931175232, 1.797690987586975, 1.3368908166885376, 1.1821879148483276, 1.7812573909759521, 1.2889539003372192, 0.1617952138185501, 0.22234681248664856, 0.12038316577672958, 0.11706728488206863, 0.14077576994895935, 0.11773243546485901, 0.3854866921901703, 0.1257040947675705, 0.10967529565095901, 0.20883485674858093, 0.15952225029468536, 0.1108020469546318, 0.1394340544939041, 0.10511548817157745, 0.10568635910749435, 0.1521935611963272, 0.11869402974843979, 0.19612056016921997, 0.13550089299678802, 0.0960264578461647, 0.09842900186777115, 0.10000735521316528, 0.11888047307729721, 0.09390150755643845, 0.11088883876800537, 0.10128713399171829, 0.0943557396531105, 0.1482529491186142, 0.0898074060678482, 0.11655938625335693, 0.29736462235450745, 0.5851738452911377, 0.40440115332603455, 0.16303882002830505, 0.23848335444927216, 0.32697606086730957, 0.25635427236557007, 1.227298378944397, 0.8132658004760742, 0.35587382316589355, 0.706179141998291, 1.3292958736419678, 0.5088573694229126, 0.6057529449462891, 0.8708099722862244, 0.9267097115516663, 1.515942931175232, 0.33153054118156433, 1.2116974592208862, 1.0191854238510132, 0.36645200848579407, 0.6303402185440063, 2.3857576847076416, 0.8714701533317566, 0.5120263695716858, 1.084812045097351, 0.9688004851341248, 1.3010622262954712, 0.14921432733535767, 0.15471100807189941, 0.13210685551166534, 0.1413625329732895, 0.12222562730312347, 0.12017998844385147, 0.13287101686000824, 0.12207396328449249, 0.1258818507194519, 0.1797126978635788, 0.14531202614307404, 0.11267118901014328, 0.10884340852499008, 0.10338540375232697, 0.10325675457715988, 0.11512863636016846, 0.1482248157262802, 0.09912126511335373, 0.14601841568946838, 0.19309739768505096, 0.12418216466903687, 0.13938301801681519, 0.09445872157812119, 0.09881220012903214, 0.09892302751541138, 0.09529639780521393, 0.12364956736564636, 0.14686429500579834, 0.10345297306776047, 0.139663428068161, 0.18307584524154663, 0.3617842197418213, 0.22684574127197266, 0.12456031143665314, 0.27042117714881897, 0.29391220211982727, 0.23758888244628906, 0.15361562371253967, 0.19702550768852234, 0.1638399362564087, 0.9758797883987427, 0.2283165156841278, 0.46000170707702637, 0.28307151794433594, 0.39988067746162415, 1.515942931175232, 1.153310775756836, 1.4465203285217285, 1.197769284248352, 1.5139895677566528, 0.28611084818840027, 0.16281436383724213, 0.1562606543302536, 0.146603524684906, 0.15476928651332855, 0.11869757622480392, 0.10631567239761353, 0.28836384415626526, 0.11715702712535858, 0.09978841990232468, 0.09702176600694656, 0.09497044235467911, 0.09151163697242737, 0.14928607642650604, 0.11898276209831238, 0.16774311661720276, 0.09204378724098206, 0.08816544711589813, 0.13671551644802094, 0.09958867728710175, 0.09172619134187698, 0.08961710333824158, 0.10289155691862106, 0.09474661946296692, 0.08252479135990143, 0.08899341523647308, 0.10444033890962601, 0.08048293739557266, 0.18112026154994965, 0.08490574359893799, 0.22738328576087952, 0.1876523345708847, 0.39708489179611206, 0.3032820224761963, 0.3669474720954895, 0.19379563629627228, 0.3719678819179535, 0.2273285835981369, 0.13210651278495789, 0.12324068695306778, 0.3249676525592804, 0.3550077974796295, 0.22293853759765625, 1.0191854238510132, 0.9470306634902954, 0.43932613730430603, 0.4593487083911896, 0.3123326301574707, 1.5801804065704346, 0.43343064188957214, 0.16779688000679016, 0.21424350142478943, 0.14649485051631927, 0.16550122201442719, 0.11982828378677368, 0.15249574184417725, 0.12267927080392838, 0.1255546361207962, 0.14131756126880646, 0.10080546885728836, 0.14746713638305664, 0.09711472690105438, 0.11135662347078323, 0.09568914771080017, 0.16230207681655884, 0.09879685193300247, 0.09516088664531708, 0.11694422364234924, 0.12425660341978073, 0.08628499507904053, 0.08831009268760681, 0.08685517311096191, 0.0992390438914299, 0.0920943021774292, 0.222846120595932, 0.09805144369602203, 0.11233026534318924, 0.08727696537971497, 0.07964332401752472, 0.07919628173112869, 0.16432157158851624, 0.20708328485488892, 0.2361273169517517, 0.758369505405426, 0.29023513197898865, 0.5774926543235779, 1.8101739883422852, 1.1044108867645264, 0.8562811017036438, 1.096419334411621, 0.4791014492511749, 2.724691390991211, 1.5139895677566528, 1.1573121547698975, 3.3708784580230713, 2.3857576847076416, 1.797690987586975, 1.0282918214797974, 2.9891865253448486, 2.0356342792510986, 0.5084172487258911, 1.188485860824585, 0.17463010549545288, 0.13868029415607452, 0.13571511209011078, 0.13626939058303833, 0.11910568922758102, 0.1298494040966034, 0.12080549448728561, 0.1151498556137085, 0.1393953263759613, 0.11296993494033813, 0.14882908761501312, 0.17921122908592224, 0.1045488640666008, 0.10903078317642212, 0.09975723177194595, 0.12383179366588593, 0.09804937988519669, 0.15510524809360504, 0.09272759407758713, 0.11420407891273499, 0.11098581552505493, 0.11576643586158752, 0.16503314673900604, 0.08285263925790787, 0.08118640631437302, 0.08903834223747253, 0.16737404465675354, 0.13488927483558655, 0.086504727602005, 0.08240845799446106, 0.16153857111930847, 0.16202375292778015, 0.22784078121185303, 0.13716867566108704, 0.14103053510189056, 0.38752320408821106, 0.2284790277481079, 2.0356342792510986, 4.424999713897705, 2.9891865253448486, 2.724691390991211, 0.3571428954601288, 0.7098432183265686, 3.3708784580230713, 0.3683493435382843, 1.4699188470840454, 2.3857576847076416, 2.6569511890411377, 2.627563953399658, 2.2199716567993164, 1.4281588792800903, 1.2816272974014282, 1.6664645671844482, 1.4465203285217285, 1.58896803855896, 1.797690987586975, 0.1435602456331253, 0.1468883454799652, 0.12481354176998138, 0.11733989417552948, 0.10114435106515884, 0.09728444367647171, 0.09760354459285736, 0.09817773103713989, 0.09308816492557526, 0.10187605768442154, 0.09219846874475479, 0.08692043274641037, 0.0874653086066246, 0.08563846349716187, 0.08589046448469162, 0.08044851571321487, 0.07967286556959152, 0.08772498369216919, 0.07941675931215286, 0.12505558133125305, 0.08279445022344589, 0.12389399111270905, 0.07588789612054825, 0.0849636122584343, 0.08343614637851715, 0.06892836093902588, 0.06864835321903229, 0.06822847574949265, 0.08154687285423279, 0.06797666847705841, 0.0736851617693901, 0.08544613420963287, 0.13582739233970642, 0.11689245700836182, 0.2185966819524765, 0.15841461718082428, 0.47356247901916504, 0.33338630199432373, 3.3708784580230713, 4.424999713897705, 2.0356342792510986, 1.8101739883422852, 0.22745099663734436, 0.17249666154384613, 0.1119687557220459, 0.10206395387649536, 0.08682586997747421, 0.13844649493694305, 0.0912267416715622, 0.07668158411979675, 0.07506249099969864, 0.14551250636577606, 0.0739307701587677, 0.07340382784605026, 0.09399199485778809, 0.12908926606178284, 0.0707925334572792, 0.07216771692037582, 0.07389457523822784, 0.08491169661283493, 0.13984204828739166, 0.08385234326124191, 0.06699003279209137, 0.07071315497159958, 0.06741580367088318, 0.06679857522249222, 0.06639908254146576, 0.08321154862642288, 0.0677599087357521, 0.0672420933842659, 0.06650861352682114, 0.06560549885034561, 0.10132232308387756, 0.08063536137342453, 0.2325056493282318, 0.11307492852210999, 0.21055307984352112, 0.13968604803085327, 0.11323612928390503, 0.1202286034822464, 0.21743926405906677, 0.24554014205932617, 0.38906458020210266, 0.13485006988048553, 0.1814548224210739, 1.8101739883422852, 0.47748279571533203, 1.1044108867645264, 0.36454305052757263, 2.3857576847076416, 0.8562811017036438, 0.5774926543235779, 0.6520653963088989, 3.3708784580230713, 2.0356342792510986, 0.6577709913253784, 0.15945376455783844, 0.11921197921037674, 0.14019162952899933, 0.12094925343990326, 0.12338697910308838, 0.12025920301675797, 0.1083756685256958, 0.10226340591907501, 0.10573846101760864, 0.1475505232810974, 0.10081107914447784, 0.11218814551830292, 0.12309407442808151, 0.12058570981025696, 0.08529461920261383, 0.13328060507774353, 0.1063200980424881, 0.1176660805940628, 0.3006420433521271, 0.07891283184289932, 0.08399321883916855, 0.09026555716991425, 0.07662539184093475, 0.07639791816473007, 0.07578568160533905, 0.07471072673797607, 0.07385855168104172, 0.07797348499298096, 0.07172396779060364, 0.07892324030399323, 0.26438575983047485, 0.2854761481285095, 0.16329392790794373, 0.2956133186817169, 0.139682337641716, 0.6771919131278992, 4.424999713897705, 1.9727195501327515, 1.1044108867645264, 3.3708784580230713], \"loglift\": [30.0, 29.0, 28.0, 27.0, 26.0, 25.0, 24.0, 23.0, 22.0, 21.0, 20.0, 19.0, 18.0, 17.0, 16.0, 15.0, 14.0, 13.0, 12.0, 11.0, 10.0, 9.0, 8.0, 7.0, 6.0, 5.0, 4.0, 3.0, 2.0, 1.0, 1.0853999853134155, 1.0741000175476074, 1.0734000205993652, 1.0694999694824219, 1.0673999786376953, 1.0671000480651855, 1.0666999816894531, 1.0636999607086182, 1.058500051498413, 1.055299997329712, 1.0528000593185425, 1.045799970626831, 1.041700005531311, 1.0384000539779663, 1.0353000164031982, 1.0332000255584717, 1.031499981880188, 1.0296000242233276, 1.028499960899353, 1.027999997138977, 1.027999997138977, 1.0276000499725342, 1.0273000001907349, 1.0271999835968018, 1.0259000062942505, 1.0247999429702759, 1.0247999429702759, 1.0240999460220337, 1.0218000411987305, 1.019700050354004, 1.0185999870300293, 0.9991999864578247, 1.0187000036239624, 0.9915000200271606, 0.9818999767303467, 0.9460999965667725, 1.0117000341415405, 1.0002000331878662, 0.9287999868392944, 0.9222999811172485, 1.010699987411499, 0.939300000667572, 0.9023000001907349, 0.9649999737739563, 0.8619999885559082, 0.8400999903678894, 0.9269000291824341, 0.941100001335144, 0.9215999841690063, 0.95660001039505, 0.9435999989509583, 0.9653000235557556, 0.8756999969482422, 0.916100025177002, 0.883400022983551, 0.9017000198364258, 0.8064000010490417, 0.8704000115394592, 0.8809000253677368, 0.8195000290870667, 0.70169997215271, 0.7972000241279602, 0.7343999743461609, 0.82669997215271, 0.7784000039100647, 0.7610999941825867, 0.8654000163078308, 0.7056000232696533, 0.847599983215332, 0.7889999747276306, 0.807200014591217, 0.7670000195503235, 0.7321000099182129, 0.703499972820282, 0.7433000206947327, 0.6039000153541565, 0.7210000157356262, 0.4325000047683716, 1.3549000024795532, 1.3222999572753906, 1.3213000297546387, 1.3162000179290771, 1.304800033569336, 1.2970999479293823, 1.2933000326156616, 1.281599998474121, 1.280500054359436, 1.2759000062942505, 1.2649999856948853, 1.2578999996185303, 1.2533999681472778, 1.2511999607086182, 1.2477999925613403, 1.2388999462127686, 1.2369999885559082, 1.23580002784729, 1.2338000535964966, 1.222000002861023, 1.2213000059127808, 1.2206000089645386, 1.2194000482559204, 1.2192000150680542, 1.215000033378601, 1.212399959564209, 1.2120000123977661, 1.2116999626159668, 1.2115999460220337, 1.1988999843597412, 1.191499948501587, 1.1820000410079956, 1.00409996509552, 1.1634999513626099, 1.1794999837875366, 0.9269999861717224, 0.6001999974250793, 0.8870000243186951, 0.7206000089645386, 0.8823999762535095, 0.4081999957561493, 0.3255000114440918, 0.7563999891281128, -0.7075999975204468, -0.03739999979734421, -0.14010000228881836, -0.24860000610351562, -0.6194000244140625, -0.08470000326633453, -0.9449999928474426, 2.223299980163574, 2.156899929046631, 2.147700071334839, 2.1347999572753906, 2.103800058364868, 2.1008999347686768, 2.0931999683380127, 2.0924999713897705, 2.0776000022888184, 2.0764000415802, 2.0743000507354736, 2.055500030517578, 2.0532000064849854, 2.049299955368042, 2.0485999584198, 2.046600103378296, 2.0445001125335693, 2.0401999950408936, 2.033400058746338, 2.0257999897003174, 2.024600028991699, 2.021699905395508, 2.0197999477386475, 2.0125999450683594, 2.0053999423980713, 2.001699924468994, 2.000200033187866, 1.9860999584197998, 1.9831000566482544, 1.9811999797821045, 1.9641000032424927, 1.948199987411499, 1.8952000141143799, 1.9086999893188477, 1.8453999757766724, 1.94350004196167, 1.7603000402450562, 1.705299973487854, 1.6023999452590942, 1.8279000520706177, 1.8604999780654907, 1.8199000358581543, 1.8284000158309937, 1.6202000379562378, 1.3774000406265259, 1.5672999620437622, 1.835800051689148, 1.6418999433517456, 1.732300043106079, 1.531499981880188, 1.5063999891281128, 1.4143999814987183, 1.3152999877929688, 1.5374000072479248, 1.319200038909912, 1.6813000440597534, 1.5044000148773193, 1.5398999452590942, 1.2908999919891357, 1.3711999654769897, 1.1058000326156616, 1.5907000303268433, 1.451799988746643, 1.6521999835968018, 1.2496000528335571, 1.0953999757766724, 0.9745000004768372, 0.5622000098228455, 1.1060999631881714, 1.235700011253357, 0.6376000046730042, 1.1775000095367432, 1.1567000150680542, 0.8299000263214111, 0.6554999947547913, 0.8895999789237976, 0.972599983215332, 0.5863999724388123, 0.8791000247001648, 2.5973000526428223, 2.589400053024292, 2.4927000999450684, 2.4702999591827393, 2.4677999019622803, 2.4644999504089355, 2.4532999992370605, 2.4356000423431396, 2.4279000759124756, 2.4202001094818115, 2.4063000679016113, 2.402400016784668, 2.3894999027252197, 2.3647000789642334, 2.3519999980926514, 2.3422999382019043, 2.336199998855591, 2.3285999298095703, 2.3153998851776123, 2.2955000400543213, 2.2946999073028564, 2.29229998588562, 2.275099992752075, 2.274199962615967, 2.2620999813079834, 2.2590999603271484, 2.252000093460083, 2.2421000003814697, 2.2005999088287354, 2.1989998817443848, 2.151700019836426, 1.9737999439239502, 1.9772000312805176, 2.146399974822998, 2.0536000728607178, 1.8417999744415283, 1.9312000274658203, 1.3330999612808228, 1.3653000593185425, 1.7165000438690186, 1.3176000118255615, 0.8697999715805054, 1.3918999433517456, 1.2648999691009521, 1.020400047302246, 0.9607999920845032, 0.5289999842643738, 1.6468000411987305, 0.6435999870300293, 0.7121000289916992, 1.5434999465942383, 1.0618000030517578, -0.10559999942779541, 0.7487000226974487, 1.2315000295639038, 0.5109999775886536, 0.6014999747276306, 0.30649998784065247, 2.6159000396728516, 2.607800006866455, 2.5481998920440674, 2.5369999408721924, 2.5111000537872314, 2.4992001056671143, 2.490600109100342, 2.4846999645233154, 2.448199987411499, 2.4463999271392822, 2.422300100326538, 2.4093000888824463, 2.408799886703491, 2.383500099182129, 2.3815999031066895, 2.372299909591675, 2.3559000492095947, 2.3397998809814453, 2.31850004196167, 2.3153998851776123, 2.309999942779541, 2.299099922180176, 2.2987000942230225, 2.2946999073028564, 2.287400007247925, 2.2730000019073486, 2.271199941635132, 2.2669999599456787, 2.25219988822937, 2.251199960708618, 2.250999927520752, 2.1789000034332275, 2.170300006866455, 2.2493999004364014, 2.0945000648498535, 2.0620999336242676, 2.038100004196167, 2.1895999908447266, 1.9967000484466553, 2.0822999477386475, 0.6414999961853027, 1.8013999462127686, 1.190500020980835, 1.565500020980835, 1.246399998664856, 0.00019999999494757503, 0.24740000069141388, 0.002199999988079071, 0.1745000034570694, -0.08169999718666077, 2.772599935531616, 2.6600000858306885, 2.644399881362915, 2.561500072479248, 2.438999891281128, 2.4314000606536865, 2.4142000675201416, 2.4010000228881836, 2.384399890899658, 2.350600004196167, 2.321899890899658, 2.2987000942230225, 2.2720999717712402, 2.254300117492676, 2.2499001026153564, 2.2483999729156494, 2.220599889755249, 2.2155001163482666, 2.2147998809814453, 2.206199884414673, 2.2026000022888184, 2.1981000900268555, 2.174299955368042, 2.146699905395508, 2.1456000804901123, 2.1342999935150146, 2.1157000064849854, 2.109800100326538, 2.097100019454956, 2.0915000438690186, 2.0009000301361084, 2.0116000175476074, 1.7691999673843384, 1.825600028038025, 1.6979999542236328, 1.8861000537872314, 1.621899962425232, 1.707800030708313, 1.9966000318527222, 2.03439998626709, 1.3619999885559082, 1.259600043296814, 1.5896999835968018, 0.32260000705718994, 0.36880001425743103, 0.9564999938011169, 0.9061999917030334, 1.2539000511169434, -0.3237999975681305, 0.9280999898910522, 2.630000114440918, 2.61929988861084, 2.601799964904785, 2.5885000228881836, 2.464900016784668, 2.446899890899658, 2.395900011062622, 2.3738999366760254, 2.3691999912261963, 2.3564000129699707, 2.3561999797821045, 2.3264999389648438, 2.311500072479248, 2.3066999912261963, 2.2816998958587646, 2.2500998973846436, 2.2471001148223877, 2.2460999488830566, 2.2230000495910645, 2.187299966812134, 2.161799907684326, 2.1535000801086426, 2.1519999504089355, 2.140700101852417, 2.137700080871582, 2.1345999240875244, 2.1335999965667725, 2.1177000999450684, 2.085099935531616, 2.079400062561035, 2.0724000930786133, 1.990399956703186, 1.7617000341415405, 1.218999981880188, 1.5745999813079834, 1.183500051498413, 0.46650001406669617, 0.6190999746322632, 0.73089998960495, 0.48570001125335693, 1.0810999870300293, -0.1915999948978424, 0.1859000027179718, 0.3871000111103058, -0.4855000078678131, -0.24969999492168427, -0.025800000876188278, 0.42500001192092896, -0.5174999833106995, -0.2517000138759613, 1.00600004196167, 0.17020000517368317, 2.575500011444092, 2.5699000358581543, 2.56030011177063, 2.5478999614715576, 2.4860000610351562, 2.4746999740600586, 2.460099935531616, 2.451200008392334, 2.413599967956543, 2.412400007247925, 2.40910005569458, 2.3814001083374023, 2.372999906539917, 2.345400094985962, 2.343899965286255, 2.333699941635132, 2.3224000930786133, 2.305000066757202, 2.273900032043457, 2.20770001411438, 2.1863999366760254, 2.1417999267578125, 2.130199909210205, 2.1191999912261963, 2.1166000366210938, 2.097399950027466, 2.095400094985962, 2.076900005340576, 2.0762999057769775, 2.0734000205993652, 2.0069000720977783, 1.9187999963760376, 1.781000018119812, 1.934499979019165, 1.9093999862670898, 1.4799000024795532, 1.690999984741211, 0.5918999910354614, 0.0632999986410141, 0.2502000033855438, 0.2110999971628189, 1.4519000053405762, 1.0096999406814575, -0.29350000619888306, 1.315500020980835, 0.20080000162124634, -0.29179999232292175, -0.38749998807907104, -0.382999986410141, -0.24500000476837158, 0.12999999523162842, 0.2273000031709671, -0.08420000225305557, 0.01640000008046627, -0.07909999787807465, -0.23680000007152557, 2.608799934387207, 2.4983999729156494, 2.397700071334839, 2.393699884414673, 2.371299982070923, 2.3394999504089355, 2.334700107574463, 2.3215999603271484, 2.29259991645813, 2.2846999168395996, 2.283799886703491, 2.2191998958587646, 2.2144999504089355, 2.2009999752044678, 2.161099910736084, 2.115799903869629, 2.10260009765625, 2.09660005569458, 2.091099977493286, 2.0255000591278076, 2.009500026702881, 1.9997999668121338, 1.9876999855041504, 1.9660999774932861, 1.9041999578475952, 1.8392000198364258, 1.829699993133545, 1.815500020980835, 1.8072999715805054, 1.8071999549865723, 1.8025000095367432, 1.784600019454956, 1.6888999938964844, 1.6953999996185303, 1.3253999948501587, 1.343500018119812, 0.527899980545044, 0.7537999749183655, -1.1620999574661255, -1.569200038909912, -0.9829000234603882, -1.0534000396728516, 2.761699914932251, 2.6382999420166016, 2.3854000568389893, 2.382999897003174, 2.2151999473571777, 2.084199905395508, 2.0483999252319336, 2.038599967956543, 2.0053999423980713, 1.9809999465942383, 1.9675999879837036, 1.9622000455856323, 1.9414000511169434, 1.9158999919891357, 1.8931000232696533, 1.8588999509811401, 1.850600004196167, 1.8336000442504883, 1.8324999809265137, 1.8106000423431396, 1.7695000171661377, 1.7661000490188599, 1.7617000341415405, 1.7592999935150146, 1.745300054550171, 1.7258000373840332, 1.7206000089645386, 1.7187999486923218, 1.7132999897003174, 1.711300015449524, 1.7077000141143799, 1.7015000581741333, 1.4300999641418457, 1.5978000164031982, 1.4199999570846558, 1.4767999649047852, 1.5506000518798828, 1.5224000215530396, 1.2187999486923218, 1.1007000207901, 0.8256000280380249, 1.4176000356674194, 1.2045999765396118, -0.5248000025749207, 0.453900009393692, -0.19760000705718994, 0.647599995136261, -1.0812000036239624, -0.1940000057220459, 0.1234000027179718, -0.010700000450015068, -1.6312999725341797, -1.1799999475479126, -0.10140000283718109, 2.5195999145507812, 2.4751999378204346, 2.47379994392395, 2.4688000679016113, 2.458699941635132, 2.4021999835968018, 2.380199909210205, 2.3773000240325928, 2.357599973678589, 2.340399980545044, 2.3041000366210938, 2.279099941253662, 2.2339000701904297, 2.21560001373291, 2.1951000690460205, 2.169100046157837, 2.138400077819824, 2.1161999702453613, 2.100399971008301, 2.085400104522705, 2.0833001136779785, 2.0550999641418457, 2.039799928665161, 2.0355000495910645, 2.0201001167297363, 2.0, 1.979699969291687, 1.9474999904632568, 1.899899959564209, 1.8883999586105347, 1.6650999784469604, 1.1952999830245972, 1.4905999898910522, 0.9983000159263611, 1.5054999589920044, 0.164000004529953, -1.7788000106811523, -1.0348000526428223, -0.5077999830245972, -1.6025999784469604], \"logprob\": [30.0, 29.0, 28.0, 27.0, 26.0, 25.0, 24.0, 23.0, 22.0, 21.0, 20.0, 19.0, 18.0, 17.0, 16.0, 15.0, 14.0, 13.0, 12.0, 11.0, 10.0, 9.0, 8.0, 7.0, 6.0, 5.0, 4.0, 3.0, 2.0, 1.0, -7.724400043487549, -8.212200164794922, -8.415399551391602, -8.529399871826172, -8.337699890136719, -8.318400382995605, -8.576199531555176, -8.597900390625, -8.527099609375, -8.659299850463867, -8.627699851989746, -8.719200134277344, -8.74470043182373, -8.737500190734863, -8.257100105285645, -7.8221001625061035, -8.732199668884277, -8.741499900817871, -7.398900032043457, -8.752400398254395, -8.646499633789062, -8.7475004196167, -8.831100463867188, -8.753399848937988, -8.779199600219727, -8.842300415039062, -8.43809986114502, -8.752799987792969, -7.894100189208984, -7.887400150299072, -6.518599987030029, -7.239500045776367, -8.29539966583252, -7.3821001052856445, -7.1504998207092285, -6.069900035858154, -8.226200103759766, -8.011500358581543, -6.479499816894531, -6.603700160980225, -8.297599792480469, -7.208199977874756, -6.803400039672852, -7.669099807739258, -6.638800144195557, -6.44789981842041, -7.3471999168396, -7.523900032043457, -7.493199825286865, -7.846099853515625, -7.762499809265137, -7.917900085449219, -7.38070011138916, -7.617000102996826, -7.447999954223633, -7.5854997634887695, -7.186100006103516, -7.460100173950195, -7.544899940490723, -7.327300071716309, -6.932000160217285, -7.25439977645874, -7.058000087738037, -7.375199794769287, -7.281000137329102, -7.2789998054504395, -7.509500026702881, -7.211100101470947, -7.477200031280518, -7.375800132751465, -7.411399841308594, -7.357699871063232, -7.34089994430542, -7.322500228881836, -7.3805999755859375, -7.322000026702881, -7.4004998207092285, -7.391300201416016, -7.5183000564575195, -7.125500202178955, -7.769100189208984, -8.03439998626709, -8.140399932861328, -8.349100112915039, -7.548099994659424, -8.48330020904541, -8.47439956665039, -8.218500137329102, -8.160499572753906, -8.583000183105469, -8.356200218200684, -8.652600288391113, -8.640399932861328, -8.56719970703125, -7.644700050354004, -8.727399826049805, -8.797699928283691, -7.2565999031066895, -8.816900253295898, -8.848199844360352, -8.893799781799316, -8.280900001525879, -8.878600120544434, -8.651000022888184, -7.947000026702881, -8.723199844360352, -7.3196001052856445, -8.905400276184082, -8.523500442504883, -8.298600196838379, -7.061299800872803, -8.628700256347656, -8.693599700927734, -8.025500297546387, -7.223599910736084, -8.032600402832031, -7.698699951171875, -8.069299697875977, -7.890200138092041, -7.943399906158447, -8.370599746704102, -7.723499774932861, -8.158900260925293, -8.199600219726562, -8.174500465393066, -8.120200157165527, -8.357600212097168, -8.35319995880127, -8.338000297546387, -8.398200035095215, -8.48289966583252, -8.57409954071045, -8.437399864196777, -8.403599739074707, -8.540900230407715, -8.626399993896484, -8.256799697875977, -8.702400207519531, -7.985400199890137, -8.491900444030762, -8.314399719238281, -7.956999778747559, -8.503199577331543, -8.760199546813965, -8.499699592590332, -8.704000473022461, -8.730299949645996, -8.648599624633789, -8.76140022277832, -8.806400299072266, -8.705599784851074, -8.830699920654297, -8.102700233459473, -8.732199668884277, -7.18179988861084, -8.88129997253418, -8.772700309753418, -8.3572998046875, -8.166099548339844, -8.239700317382812, -7.798799991607666, -7.958600044250488, -7.533899784088135, -8.353599548339844, -7.466899871826172, -7.216800212860107, -6.801499843597412, -7.797500133514404, -7.971499919891357, -7.817200183868408, -7.852099895477295, -7.248199939727783, -6.532400131225586, -7.142600059509277, -7.929500102996826, -7.410399913787842, -7.714900016784668, -7.248300075531006, -7.223400115966797, -7.069799900054932, -6.955399990081787, -7.370200157165527, -7.054200172424316, -7.682700157165527, -7.397799968719482, -7.47160005569458, -7.120200157165527, -7.270299911499023, -6.982699871063232, -7.5802998542785645, -7.441199779510498, -7.672500133514404, -7.293799877166748, -7.169099807739258, -7.071100234985352, -6.725900173187256, -7.238399982452393, -7.343599796295166, -6.996099948883057, -7.349800109863281, -7.350900173187256, -7.257199764251709, -7.261199951171875, -7.323299884796143, -7.3632001876831055, -7.3394999504089355, -7.370299816131592, -7.727399826049805, -7.417300224304199, -8.127599716186523, -8.177900314331055, -7.995999813079834, -8.178099632263184, -7.0030999183654785, -8.141500473022461, -8.285599708557129, -7.6493000984191895, -7.932499885559082, -8.300800323486328, -8.083900451660156, -8.391200065612793, -8.398500442504883, -8.043499946594238, -8.298199653625488, -7.803599834442139, -8.186599731445312, -8.550800323486328, -8.526900291442871, -8.513500213623047, -8.357799530029297, -8.594499588012695, -8.440400123596191, -8.534000396728516, -8.611900329589844, -8.169899940490723, -8.712699890136719, -8.45359992980957, -7.5644001960754395, -7.065199851989746, -7.431399822235107, -8.170599937438965, -7.8831000328063965, -7.779300212860107, -7.933199882507324, -6.9653000831604, -7.344699859619141, -7.819900035858154, -7.5335001945495605, -7.348800182342529, -7.786900043487549, -7.73960018157959, -7.621099948883057, -7.618500232696533, -7.55810022354126, -7.960400104522705, -7.667600154876709, -7.77209997177124, -7.963600158691406, -7.902900218963623, -7.739299774169922, -7.892000198364258, -7.941100120544434, -7.910900115966797, -7.9334001541137695, -7.933499813079834, -7.789700031280518, -7.76170015335083, -7.9791998863220215, -7.922699928283691, -8.093999862670898, -8.12279987335205, -8.031000137329102, -8.121600151062012, -8.1274995803833, -7.773200035095215, -8.00979995727539, -8.277199745178223, -8.312299728393555, -8.388999938964844, -8.392200469970703, -8.29259967803955, -8.056300163269043, -8.474800109863281, -8.108799934387207, -7.832300186157227, -8.27929973602295, -8.174699783325195, -8.56410026550293, -8.523099899291992, -8.529199600219727, -8.581000328063965, -8.322400093078613, -8.154399871826172, -8.519599914550781, -8.220600128173828, -7.950099945068359, -7.341000080108643, -7.816500186920166, -8.336799621582031, -7.7164998054504395, -7.665599822998047, -7.902400016784668, -8.18690013885498, -8.130900382995605, -8.2298002243042, -7.886199951171875, -8.178899765014648, -8.089200019836426, -8.199799537658691, -8.173399925231934, -8.086999893188477, -8.113200187683105, -8.1318998336792, -8.148200035095215, -8.17020034790039, -6.98199987411499, -7.658400058746338, -7.715099811553955, -7.861700057983398, -7.930099964141846, -8.20300006866455, -8.330400466918945, -7.345699787139893, -8.262999534606934, -8.457300186157227, -8.514100074768066, -8.558699607849121, -8.6225004196167, -8.150799751281738, -8.382100105285645, -8.04010009765625, -8.668100357055664, -8.716300010681152, -8.278300285339355, -8.603699684143066, -8.689599990844727, -8.717300415039062, -8.602999687194824, -8.713000297546387, -8.852299690246582, -8.788100242614746, -8.646699905395508, -8.913100242614746, -8.114700317382812, -8.877900123596191, -7.983500003814697, -8.16469955444336, -7.657599925994873, -7.870699882507324, -7.807799816131592, -8.258099555969238, -7.870299816131592, -8.276700019836426, -8.530699729919434, -8.562399864196777, -8.265299797058105, -8.27929973602295, -8.414400100708008, -8.161600112915039, -8.188799858093262, -8.369199752807617, -8.375, -8.413000106811523, -8.369500160217285, -8.411100387573242, -7.658299922943115, -7.424600124359131, -7.822199821472168, -7.713500022888184, -8.15999984741211, -7.9369001388549805, -8.205499649047852, -8.204299926757812, -8.090800285339355, -8.441399574279785, -8.061200141906738, -8.508600234985352, -8.386699676513672, -8.54319953918457, -8.039799690246582, -8.56779956817627, -8.60830020904541, -8.403200149536133, -8.365599632263184, -8.765999794006348, -8.768400192260742, -8.79319953918457, -8.661399841308594, -8.7475004196167, -7.866700172424316, -8.690899848937988, -8.555899620056152, -8.824199676513672, -8.9483003616333, -8.959600448608398, -8.236700057983398, -8.087499618530273, -8.184900283813477, -7.560800075531006, -8.16569995880127, -7.86870002746582, -7.443299770355225, -7.784800052642822, -7.927499771118164, -7.92549991607666, -8.157999992370605, -7.692500114440918, -7.902599811553955, -7.96999979019165, -7.773600101470947, -7.883399963378906, -7.942500114440918, -8.050299644470215, -7.92579984664917, -8.044099807739258, -8.173700332641602, -8.160300254821777, -7.672800064086914, -7.908899784088135, -7.940199851989746, -7.948400020599365, -8.145000457763672, -8.069899559020996, -8.156700134277344, -8.213500022888184, -8.0600004196167, -8.271400451660156, -7.999100208282471, -7.841000080108643, -8.388299942016602, -8.37399959564209, -8.464300155639648, -8.258399963378906, -8.503100395202637, -8.06190013885498, -8.607399940490723, -8.465299606323242, -8.515199661254883, -8.517600059509277, -8.174599647521973, -8.874699592590332, -8.897600173950195, -8.82450008392334, -8.195300102233887, -8.42959976196289, -8.874500274658203, -8.92590045928955, -8.319299697875977, -8.404500007629395, -8.201299667358398, -8.555299758911133, -8.552599906921387, -7.97130012512207, -8.28849983215332, -7.200500011444092, -6.952700138092041, -7.1579999923706055, -7.28980016708374, -8.081000328063965, -7.83620023727417, -7.581600189208984, -8.186400413513184, -7.917200088500977, -7.92549991607666, -7.913599967956543, -7.920199871063232, -7.950699806213379, -8.016799926757812, -8.027799606323242, -8.076700210571289, -8.11769962310791, -8.119199752807617, -8.153499603271484, -7.8354997634887695, -7.922900199890137, -8.18649959564209, -8.25220012664795, -8.423100471496582, -8.493800163269043, -8.495400428771973, -8.5024995803833, -8.58489990234375, -8.5024995803833, -8.60319995880127, -8.726699829101562, -8.725199699401855, -8.759900093078613, -8.796799659729004, -8.907500267028809, -8.930399894714355, -8.840200424194336, -8.945199966430664, -8.556699752807617, -8.985099792480469, -8.59179973602295, -9.094099998474121, -9.002699851989746, -9.0826997756958, -9.338700294494629, -9.352299690246582, -9.372599601745605, -9.202500343322754, -9.384599685668945, -9.308699607849121, -9.178400039672852, -8.810700416564941, -8.954299926757812, -8.698399543762207, -9.002300262451172, -8.722800254821777, -8.847900390625, -8.45009994506836, -8.585100173950195, -8.775400161743164, -8.963199615478516, -7.222400188446045, -7.622300148010254, -8.30739974975586, -8.402400016784668, -8.731900215148926, -8.396300315856934, -8.849200248718262, -9.032699584960938, -9.087300300598145, -8.449700355529785, -9.140299797058105, -9.152799606323242, -8.926400184631348, -8.634499549865723, -9.258099555969238, -9.27299976348877, -9.257699966430664, -9.135700225830078, -8.637900352478027, -9.171299934387207, -9.43690013885498, -9.386199951171875, -9.438400268554688, -9.449999809265137, -9.470000267028809, -9.263699531555176, -9.47439956665039, -9.48390007019043, -9.500399589538574, -9.515999794006348, -9.085000038146973, -9.319499969482422, -8.531900405883789, -9.085200309753418, -8.641200065612793, -8.994799613952637, -9.130900382995605, -9.099200248718262, -8.81029987335205, -8.80679988861084, -8.621700286865234, -9.089200019836426, -9.005399703979492, -8.434599876403809, -8.788599967956543, -8.601499557495117, -8.864700317382812, -8.714900016784668, -8.852399826049805, -8.928899765014648, -8.94159984588623, -8.919300079345703, -8.972399711608887, -9.023599624633789, -7.819699764251709, -8.154899597167969, -7.994200229644775, -8.14680004119873, -8.13700008392334, -8.219099998474121, -8.345199584960938, -8.406100273132324, -8.392399787902832, -8.076399803161621, -8.493599891662598, -8.411700248718262, -8.364100456237793, -8.402999877929688, -8.769800186157227, -8.34939956665039, -8.606100082397461, -8.526900291442871, -7.604599952697754, -8.957200050354004, -8.896900177001953, -8.853099822998047, -9.032299995422363, -9.03950023651123, -9.062999725341797, -9.097299575805664, -9.12909984588623, -9.107099533081055, -9.238200187683105, -9.15410041809082, -8.168399810791016, -8.56149959564209, -8.824899673461914, -8.723600387573242, -8.966099739074707, -8.729000091552734, -8.794699668884277, -8.858599662780762, -8.911700248718262, -8.890600204467773]}, \"token.table\": {\"Topic\": [1, 1, 1, 2, 1, 1, 2, 1, 1, 1, 1, 1, 1, 1, 1, 2, 1, 1, 1, 1, 2, 1, 1, 1, 1, 2, 1, 1, 1, 1, 1, 1, 1, 2, 1, 1, 1, 1, 1, 1, 1, 1, 1, 1, 1, 1, 1, 1, 1, 1, 1, 1, 1, 2, 1, 1, 1, 1, 1, 1, 1, 1, 1, 1, 1, 1, 2, 1, 1, 1, 1, 1, 1, 2, 1, 1, 2, 1, 2, 1, 1, 1, 1, 1], \"Freq\": [0.6842783093452454, 1.032204270362854, 0.6779661178588867, 0.2259887158870697, 0.7129116058349609, 0.8640711307525635, 1.7988810539245605, 0.6803096532821655, 0.7611613273620605, 1.510826587677002, 0.83488529920578, 0.9724865555763245, 1.349282145500183, 0.641616702079773, 0.7522779703140259, 1.028396487236023, 0.6503381133079529, 0.7876220345497131, 0.7758229374885559, 0.700202226638794, 0.6454399228096008, 0.7813081741333008, 0.6848509907722473, 0.5933171510696411, 0.9269675612449646, 0.9757364392280579, 1.0247163772583008, 0.5524330735206604, 0.4191540479660034, 1.030308485031128, 1.4977052211761475, 0.8252885341644287, 0.6000727415084839, 1.4599897861480713, 0.8670690059661865, 0.8795243501663208, 1.4220243692398071, 1.1398162841796875, 1.3587596416473389, 1.462287425994873, 0.8421079516410828, 0.9153209328651428, 0.9218186736106873, 0.7340281009674072, 0.7480042576789856, 0.6205399036407471, 0.8414067029953003, 0.780258059501648, 0.556269109249115, 0.9120597839355469, 0.8532539010047913, 0.6901341676712036, 1.2249106168746948, 1.4024016857147217, 0.9009124040603638, 0.7527424693107605, 0.878456711769104, 0.7675577998161316, 0.691314160823822, 0.660506546497345, 0.5614011883735657, 0.49124738574028015, 0.6293392777442932, 0.6365491151809692, 0.6690783500671387, 0.5069144368171692, 0.5069144368171692, 0.7398262023925781, 0.6596554517745972, 0.9255311489105225, 0.7952203154563904, 0.7925095558166504, 0.7006266117095947, 0.9194866418838501, 0.9841545820236206, 0.8365851044654846, 0.9460598826408386, 0.768602728843689, 1.447700023651123, 0.6328391432762146, 0.7943382263183594, 0.6826900243759155, 0.9624907374382019, 0.8458892107009888], \"Term\": [\"\", \"act\", \"album\", \"album\", \"appear\", \"art\", \"atlas\", \"award\", \"band\", \"bear\", \"book\", \"career\", \"castl\", \"chart\", \"church\", \"circuit\", \"citi\", \"compani\", \"design\", \"episod\", \"f\", \"famili\", \"featur\", \"film\", \"flag\", \"ford\", \"function\", \"game\", \"he\", \"hit\", \"hong\", \"hous\", \"i\", \"infant\", \"island\", \"king\", \"kong\", \"lake\", \"lane\", \"lee\", \"london\", \"love\", \"member\", \"music\", \"nation\", \"new\", \"park\", \"perform\", \"play\", \"player\", \"product\", \"radio\", \"railway\", \"ranger\", \"record\", \"releas\", \"river\", \"rock\", \"school\", \"season\", \"seri\", \"she\", \"show\", \"singl\", \"song\", \"speci\", \"speci\", \"star\", \"state\", \"station\", \"studio\", \"system\", \"tour\", \"tournament\", \"town\", \"track\", \"truck\", \"unit\", \"uruguay\", \"use\", \"version\", \"video\", \"voic\", \"war\"]}, \"R\": 30, \"lambda.step\": 0.01, \"plot.opts\": {\"xlab\": \"PC1\", \"ylab\": \"PC2\"}, \"topic.order\": [10, 2, 6, 7, 9, 3, 5, 1, 8, 4, 11]};\n",
       "\n",
       "function LDAvis_load_lib(url, callback){\n",
       "  var s = document.createElement('script');\n",
       "  s.src = url;\n",
       "  s.async = true;\n",
       "  s.onreadystatechange = s.onload = callback;\n",
       "  s.onerror = function(){console.warn(\"failed to load library \" + url);};\n",
       "  document.getElementsByTagName(\"head\")[0].appendChild(s);\n",
       "}\n",
       "\n",
       "if(typeof(LDAvis) !== \"undefined\"){\n",
       "   // already loaded: just create the visualization\n",
       "   !function(LDAvis){\n",
       "       new LDAvis(\"#\" + \"ldavis_el77271406831299120807340328058\", ldavis_el77271406831299120807340328058_data);\n",
       "   }(LDAvis);\n",
       "}else if(typeof define === \"function\" && define.amd){\n",
       "   // require.js is available: use it to load d3/LDAvis\n",
       "   require.config({paths: {d3: \"https://cdnjs.cloudflare.com/ajax/libs/d3/3.5.5/d3.min\"}});\n",
       "   require([\"d3\"], function(d3){\n",
       "      window.d3 = d3;\n",
       "      LDAvis_load_lib(\"https://cdn.rawgit.com/bmabey/pyLDAvis/files/ldavis.v1.0.0.js\", function(){\n",
       "        new LDAvis(\"#\" + \"ldavis_el77271406831299120807340328058\", ldavis_el77271406831299120807340328058_data);\n",
       "      });\n",
       "    });\n",
       "}else{\n",
       "    // require.js not available: dynamically load d3 & LDAvis\n",
       "    LDAvis_load_lib(\"https://cdnjs.cloudflare.com/ajax/libs/d3/3.5.5/d3.min.js\", function(){\n",
       "         LDAvis_load_lib(\"https://cdn.rawgit.com/bmabey/pyLDAvis/files/ldavis.v1.0.0.js\", function(){\n",
       "                 new LDAvis(\"#\" + \"ldavis_el77271406831299120807340328058\", ldavis_el77271406831299120807340328058_data);\n",
       "            })\n",
       "         });\n",
       "}\n",
       "</script>"
      ],
      "text/plain": [
       "PreparedData(topic_coordinates=              x         y  topics  cluster       Freq\n",
       "topic                                                \n",
       "9     -0.092705  0.046526       1        1  29.891575\n",
       "1      0.017632  0.003260       2        1  24.230846\n",
       "5     -0.104477 -0.040147       3        1   6.538248\n",
       "6     -0.013635 -0.012711       4        1   4.917593\n",
       "8      0.002686 -0.002654       5        1   4.917486\n",
       "2      0.029337 -0.008670       6        1   4.917455\n",
       "4      0.010036  0.001861       7        1   4.917421\n",
       "0      0.011018  0.013135       8        1   4.917394\n",
       "7      0.047082  0.001308       9        1   4.917336\n",
       "3      0.040668 -0.002081      10        1   4.917331\n",
       "10     0.052360  0.000173      11        1   4.917317, topic_info=      Category      Freq       Term     Total  loglift  logprob\n",
       "term                                                           \n",
       "1331   Default  4.000000      album  4.000000  30.0000  30.0000\n",
       "1202   Default  1.000000       game  1.000000  29.0000  29.0000\n",
       "2642   Default  3.000000       film  3.000000  28.0000  28.0000\n",
       "1478   Default  2.000000       song  2.000000  27.0000  27.0000\n",
       "296    Default  1.000000      court  1.000000  26.0000  26.0000\n",
       "1436   Default  2.000000      music  2.000000  25.0000  25.0000\n",
       "3375   Default  2.000000        she  2.000000  24.0000  24.0000\n",
       "1206   Default  2.000000         he  2.000000  23.0000  23.0000\n",
       "1301   Default  1.000000       team  1.000000  22.0000  22.0000\n",
       "2035   Default  0.000000      elect  0.000000  21.0000  21.0000\n",
       "233    Default  1.000000     church  1.000000  20.0000  20.0000\n",
       "381    Default  1.000000      engin  1.000000  19.0000  19.0000\n",
       "1145   Default  2.000000       band  2.000000  18.0000  18.0000\n",
       "982    Default  1.000000     system  1.000000  17.0000  17.0000\n",
       "1290   Default  1.000000     season  1.000000  16.0000  16.0000\n",
       "4674   Default  0.000000        ibn  0.000000  15.0000  15.0000\n",
       "1712   Default  1.000000     player  1.000000  14.0000  14.0000\n",
       "1778   Default  1.000000      truck  1.000000  13.0000  13.0000\n",
       "957    Default  1.000000      state  1.000000  12.0000  12.0000\n",
       "2130   Default  0.000000      leagu  0.000000  11.0000  11.0000\n",
       "1907   Default  0.000000         al  0.000000  10.0000  10.0000\n",
       "14870  Default  0.000000      whale  0.000000   9.0000   9.0000\n",
       "485    Default  0.000000     govern  0.000000   8.0000   8.0000\n",
       "1068   Default  1.000000        war  1.000000   7.0000   7.0000\n",
       "593    Default  0.000000        law  0.000000   6.0000   6.0000\n",
       "1047   Default  1.000000        use  1.000000   5.0000   5.0000\n",
       "1036   Default  1.000000    univers  1.000000   4.0000   4.0000\n",
       "1267   Default  1.000000       play  1.000000   3.0000   3.0000\n",
       "725    Default  0.000000       oper  0.000000   2.0000   2.0000\n",
       "1585   Default  1.000000    compani  1.000000   1.0000   1.0000\n",
       "...        ...       ...        ...       ...      ...      ...\n",
       "20549  Topic11  0.049646         vj  0.100811   2.3041  -8.4936\n",
       "19084  Topic11  0.053888     glucos  0.112188   2.2791  -8.4117\n",
       "15782  Topic11  0.056512     conson  0.123094   2.2339  -8.3641\n",
       "11309  Topic11  0.054355      hasan  0.120586   2.2156  -8.4030\n",
       "27899  Topic11  0.037668    bridger  0.085295   2.1951  -8.7698\n",
       "7147   Topic11  0.057349     kernel  0.133281   2.1691  -8.3494\n",
       "7199   Topic11  0.044366       verb  0.106320   2.1384  -8.6061\n",
       "12165  Topic11  0.048023  barcelona  0.117666   2.1162  -8.5269\n",
       "8169   Topic11  0.120779   colombia  0.300642   2.1004  -7.6046\n",
       "24696  Topic11  0.031229    sussman  0.078913   2.0854  -8.9572\n",
       "21250  Topic11  0.033171   división  0.083993   2.0833  -8.8969\n",
       "11837  Topic11  0.034656       soup  0.090266   2.0551  -8.8531\n",
       "27571  Topic11  0.028970        4ad  0.076625   2.0398  -9.0323\n",
       "34964  Topic11  0.028763     schere  0.076398   2.0355  -9.0395\n",
       "32761  Topic11  0.028094     chaser  0.075786   2.0201  -9.0630\n",
       "41345  Topic11  0.027146    mersenn  0.074711   2.0000  -9.0973\n",
       "30686  Topic11  0.026298     citadi  0.073859   1.9797  -9.1291\n",
       "26640  Topic11  0.026881     kisser  0.077973   1.9475  -9.1071\n",
       "34951  Topic11  0.023579      bayer  0.071724   1.8999  -9.2382\n",
       "13829  Topic11  0.025648     floral  0.078923   1.8884  -9.1541\n",
       "4716   Topic11  0.068726   valentin  0.264386   1.6651  -8.1684\n",
       "19356  Topic11  0.046387       fifa  0.285476   1.1953  -8.5615\n",
       "4164   Topic11  0.035648      enzym  0.163294   1.4906  -8.8249\n",
       "3483   Topic11  0.039447    sequenc  0.295613   0.9983  -8.7236\n",
       "4849   Topic11  0.030952    membran  0.139682   1.5055  -8.9661\n",
       "1998   Topic11  0.039235        cup  0.677192   0.1640  -8.7290\n",
       "1331   Topic11  0.036738      album  4.425000  -1.7788  -8.7947\n",
       "1857   Topic11  0.034466      speci  1.972720  -1.0348  -8.8586\n",
       "1301   Topic11  0.032683       team  1.104411  -0.5078  -8.9117\n",
       "2642   Topic11  0.033379       film  3.370878  -1.6026  -8.8906\n",
       "\n",
       "[639 rows x 6 columns], token_table=       Topic      Freq        Term\n",
       "term                              \n",
       "0          1  0.684278            \n",
       "1131       1  1.032204         act\n",
       "1331       1  0.677966       album\n",
       "1331       2  0.225989       album\n",
       "111        1  0.712912      appear\n",
       "127        1  0.864071         art\n",
       "15769      2  1.798881       atlas\n",
       "149        1  0.680310       award\n",
       "1145       1  0.761161        band\n",
       "161        1  1.510827        bear\n",
       "185        1  0.834885        book\n",
       "1152       1  0.972487      career\n",
       "2987       1  1.349282       castl\n",
       "4413       1  0.641617       chart\n",
       "233        1  0.752278      church\n",
       "8033       2  1.028396     circuit\n",
       "1161       1  0.650338        citi\n",
       "1585       1  0.787622     compani\n",
       "328        1  0.775823      design\n",
       "1188       1  0.700202      episod\n",
       "1622       2  0.645440           f\n",
       "421        1  0.781308      famili\n",
       "1189       1  0.684851      featur\n",
       "2642       1  0.593317        film\n",
       "437        1  0.926968        flag\n",
       "1633       2  0.975736        ford\n",
       "3619       1  1.024716    function\n",
       "1202       1  0.552433        game\n",
       "1206       1  0.419154          he\n",
       "2091       1  1.030308         hit\n",
       "...      ...       ...         ...\n",
       "1275       1  0.900912      record\n",
       "1464       1  0.752742      releas\n",
       "3047       1  0.878457       river\n",
       "1285       1  0.767558        rock\n",
       "2274       1  0.691314      school\n",
       "1290       1  0.660507      season\n",
       "1292       1  0.561401        seri\n",
       "3375       1  0.491247         she\n",
       "918        1  0.629339        show\n",
       "1472       1  0.636549       singl\n",
       "1478       1  0.669078        song\n",
       "1857       1  0.506914       speci\n",
       "1857       2  0.506914       speci\n",
       "955        1  0.739826        star\n",
       "957        1  0.659655       state\n",
       "1480       1  0.925531     station\n",
       "1484       1  0.795220      studio\n",
       "982        1  0.792510      system\n",
       "1493       1  0.700627        tour\n",
       "2850       2  0.919487  tournament\n",
       "2586       1  0.984155        town\n",
       "1494       1  0.836585       track\n",
       "1778       2  0.946060       truck\n",
       "1035       1  0.768603        unit\n",
       "26014      2  1.447700     uruguay\n",
       "1047       1  0.632839         use\n",
       "1053       1  0.794338     version\n",
       "1311       1  0.682690       video\n",
       "1312       1  0.962491        voic\n",
       "1068       1  0.845889         war\n",
       "\n",
       "[84 rows x 3 columns], R=30, lambda_step=0.01, plot_opts={'xlab': 'PC1', 'ylab': 'PC2'}, topic_order=[10, 2, 6, 7, 9, 3, 5, 1, 8, 4, 11])"
      ]
     },
     "execution_count": 85,
     "metadata": {},
     "output_type": "execute_result"
    }
   ],
   "source": [
    "# Visualize the topics\n",
    "pyLDAvis.enable_notebook()\n",
    "vis = pyLDAvis.gensim.prepare(model[1], model[3],model[7])\n",
    "vis"
   ]
  },
  {
   "cell_type": "markdown",
   "metadata": {},
   "source": [
    "Finalmente fazendo a matriz de similaridade de acordo com o pacote Gensim, obtemos que:"
   ]
  },
  {
   "cell_type": "code",
   "execution_count": 91,
   "metadata": {},
   "outputs": [
    {
     "data": {
      "text/html": [
       "<div>\n",
       "<style scoped>\n",
       "    .dataframe tbody tr th:only-of-type {\n",
       "        vertical-align: middle;\n",
       "    }\n",
       "\n",
       "    .dataframe tbody tr th {\n",
       "        vertical-align: top;\n",
       "    }\n",
       "\n",
       "    .dataframe thead th {\n",
       "        text-align: right;\n",
       "    }\n",
       "</style>\n",
       "<table border=\"1\" class=\"dataframe\">\n",
       "  <thead>\n",
       "    <tr style=\"text-align: right;\">\n",
       "      <th></th>\n",
       "      <th>2092031</th>\n",
       "      <th>6729501</th>\n",
       "      <th>24103697</th>\n",
       "      <th>34957804</th>\n",
       "      <th>2054313</th>\n",
       "      <th>233750</th>\n",
       "      <th>659663</th>\n",
       "      <th>642769</th>\n",
       "      <th>2079029</th>\n",
       "      <th>19944098</th>\n",
       "    </tr>\n",
       "  </thead>\n",
       "  <tbody>\n",
       "    <tr>\n",
       "      <th>2092031</th>\n",
       "      <td>1.000000</td>\n",
       "      <td>0.369748</td>\n",
       "      <td>0.369684</td>\n",
       "      <td>0.888804</td>\n",
       "      <td>0.803369</td>\n",
       "      <td>0.922942</td>\n",
       "      <td>0.637631</td>\n",
       "      <td>0.952383</td>\n",
       "      <td>0.833171</td>\n",
       "      <td>0.515231</td>\n",
       "    </tr>\n",
       "    <tr>\n",
       "      <th>6729501</th>\n",
       "      <td>0.369748</td>\n",
       "      <td>1.000000</td>\n",
       "      <td>0.909192</td>\n",
       "      <td>0.264499</td>\n",
       "      <td>0.697450</td>\n",
       "      <td>0.154997</td>\n",
       "      <td>0.052538</td>\n",
       "      <td>0.440725</td>\n",
       "      <td>0.587863</td>\n",
       "      <td>0.908167</td>\n",
       "    </tr>\n",
       "    <tr>\n",
       "      <th>24103697</th>\n",
       "      <td>0.369684</td>\n",
       "      <td>0.909192</td>\n",
       "      <td>1.000000</td>\n",
       "      <td>0.263514</td>\n",
       "      <td>0.727357</td>\n",
       "      <td>0.146731</td>\n",
       "      <td>0.016912</td>\n",
       "      <td>0.465534</td>\n",
       "      <td>0.608837</td>\n",
       "      <td>0.985443</td>\n",
       "    </tr>\n",
       "    <tr>\n",
       "      <th>34957804</th>\n",
       "      <td>0.888804</td>\n",
       "      <td>0.264499</td>\n",
       "      <td>0.263514</td>\n",
       "      <td>1.000000</td>\n",
       "      <td>0.722444</td>\n",
       "      <td>0.912957</td>\n",
       "      <td>0.626651</td>\n",
       "      <td>0.909915</td>\n",
       "      <td>0.764596</td>\n",
       "      <td>0.410812</td>\n",
       "    </tr>\n",
       "    <tr>\n",
       "      <th>2054313</th>\n",
       "      <td>0.803369</td>\n",
       "      <td>0.697450</td>\n",
       "      <td>0.727357</td>\n",
       "      <td>0.722444</td>\n",
       "      <td>1.000000</td>\n",
       "      <td>0.683505</td>\n",
       "      <td>0.449001</td>\n",
       "      <td>0.854731</td>\n",
       "      <td>0.860190</td>\n",
       "      <td>0.821581</td>\n",
       "    </tr>\n",
       "    <tr>\n",
       "      <th>233750</th>\n",
       "      <td>0.922942</td>\n",
       "      <td>0.154997</td>\n",
       "      <td>0.146731</td>\n",
       "      <td>0.912957</td>\n",
       "      <td>0.683505</td>\n",
       "      <td>1.000000</td>\n",
       "      <td>0.684890</td>\n",
       "      <td>0.938199</td>\n",
       "      <td>0.749897</td>\n",
       "      <td>0.306848</td>\n",
       "    </tr>\n",
       "    <tr>\n",
       "      <th>659663</th>\n",
       "      <td>0.637631</td>\n",
       "      <td>0.052538</td>\n",
       "      <td>0.016912</td>\n",
       "      <td>0.626651</td>\n",
       "      <td>0.449001</td>\n",
       "      <td>0.684890</td>\n",
       "      <td>1.000000</td>\n",
       "      <td>0.620642</td>\n",
       "      <td>0.500411</td>\n",
       "      <td>0.143208</td>\n",
       "    </tr>\n",
       "    <tr>\n",
       "      <th>642769</th>\n",
       "      <td>0.952383</td>\n",
       "      <td>0.440725</td>\n",
       "      <td>0.465534</td>\n",
       "      <td>0.909915</td>\n",
       "      <td>0.854731</td>\n",
       "      <td>0.938199</td>\n",
       "      <td>0.620642</td>\n",
       "      <td>1.000000</td>\n",
       "      <td>0.875892</td>\n",
       "      <td>0.603276</td>\n",
       "    </tr>\n",
       "    <tr>\n",
       "      <th>2079029</th>\n",
       "      <td>0.833171</td>\n",
       "      <td>0.587863</td>\n",
       "      <td>0.608837</td>\n",
       "      <td>0.764596</td>\n",
       "      <td>0.860190</td>\n",
       "      <td>0.749897</td>\n",
       "      <td>0.500411</td>\n",
       "      <td>0.875892</td>\n",
       "      <td>1.000000</td>\n",
       "      <td>0.718853</td>\n",
       "    </tr>\n",
       "    <tr>\n",
       "      <th>19944098</th>\n",
       "      <td>0.515231</td>\n",
       "      <td>0.908167</td>\n",
       "      <td>0.985443</td>\n",
       "      <td>0.410812</td>\n",
       "      <td>0.821581</td>\n",
       "      <td>0.306848</td>\n",
       "      <td>0.143208</td>\n",
       "      <td>0.603276</td>\n",
       "      <td>0.718853</td>\n",
       "      <td>1.000000</td>\n",
       "    </tr>\n",
       "  </tbody>\n",
       "</table>\n",
       "</div>"
      ],
      "text/plain": [
       "          2092031   6729501   24103697  34957804  2054313   233750    \\\n",
       "2092031   1.000000  0.369748  0.369684  0.888804  0.803369  0.922942   \n",
       "6729501   0.369748  1.000000  0.909192  0.264499  0.697450  0.154997   \n",
       "24103697  0.369684  0.909192  1.000000  0.263514  0.727357  0.146731   \n",
       "34957804  0.888804  0.264499  0.263514  1.000000  0.722444  0.912957   \n",
       "2054313   0.803369  0.697450  0.727357  0.722444  1.000000  0.683505   \n",
       "233750    0.922942  0.154997  0.146731  0.912957  0.683505  1.000000   \n",
       "659663    0.637631  0.052538  0.016912  0.626651  0.449001  0.684890   \n",
       "642769    0.952383  0.440725  0.465534  0.909915  0.854731  0.938199   \n",
       "2079029   0.833171  0.587863  0.608837  0.764596  0.860190  0.749897   \n",
       "19944098  0.515231  0.908167  0.985443  0.410812  0.821581  0.306848   \n",
       "\n",
       "          659663    642769    2079029   19944098  \n",
       "2092031   0.637631  0.952383  0.833171  0.515231  \n",
       "6729501   0.052538  0.440725  0.587863  0.908167  \n",
       "24103697  0.016912  0.465534  0.608837  0.985443  \n",
       "34957804  0.626651  0.909915  0.764596  0.410812  \n",
       "2054313   0.449001  0.854731  0.860190  0.821581  \n",
       "233750    0.684890  0.938199  0.749897  0.306848  \n",
       "659663    1.000000  0.620642  0.500411  0.143208  \n",
       "642769    0.620642  1.000000  0.875892  0.603276  \n",
       "2079029   0.500411  0.875892  1.000000  0.718853  \n",
       "19944098  0.143208  0.603276  0.718853  1.000000  "
      ]
     },
     "execution_count": 91,
     "metadata": {},
     "output_type": "execute_result"
    }
   ],
   "source": [
    "fonte = similarities.MatrixSimilarity(model[3])\n",
    "fonte = list(fonte)\n",
    "head = list(corpus.id)\n",
    "fonte.insert(0,np.array(head))\n",
    "\n",
    "\n",
    "ms = pd.DataFrame(fonte[1:],index=np.array(head),columns=np.array(head))\n",
    "sample = ms.iloc[:10,:10]\n",
    "sample"
   ]
  },
  {
   "cell_type": "markdown",
   "metadata": {},
   "source": [
    "<p>Podemos verificar a matriz de similaridade no seguinte heatmap:</p>"
   ]
  },
  {
   "cell_type": "code",
   "execution_count": 104,
   "metadata": {},
   "outputs": [
    {
     "data": {
      "text/plain": [
       "<matplotlib.axes._subplots.AxesSubplot at 0x7ff35e353358>"
      ]
     },
     "execution_count": 104,
     "metadata": {},
     "output_type": "execute_result"
    },
    {
     "data": {
      "image/png": "[encoded data removed]",
      "text/plain": [
       "<Figure size 1080x720 with 2 Axes>"
      ]
     },
     "metadata": {},
     "output_type": "display_data"
    }
   ],
   "source": [
    "plt.figure(figsize=(15,10))\n",
    "mask = np.zeros_like(sample)\n",
    "mask[np.triu_indices_from(mask)] = True\n",
    "sns.heatmap(sample, mask=mask, square=True,annot = True,cmap=\"viridis\")"
   ]
  },
  {
   "cell_type": "code",
   "execution_count": 109,
   "metadata": {},
   "outputs": [
    {
     "data": {
      "text/plain": [
       "' Option Paralysis  Option Paralysis is the fourth full-length studio album by American mathcore band The Dillinger Escape Plan, released on March 23, 2010. After having fulfilled their contract with Relapse Records, the band released the album through Party Smasher Inc., their own new imprint in collaboration with French record label Season of Mist. It marks The Dillinger Escape Plan\\'s first release to feature Billy Rymer on drums, since Gil Sharone left the band in September 2008 due to the frequent touring schedule and to focus on his brother\\'s band Stolen Babies. Background. Formation of Party Smasher Inc.. The Dillinger Escape Plan announced their departure from Relapse Records in 2009. They had become dissatisfied with the music industry and music media, and decided to create their own record label to release their fourth studio-album. Commenting on the dissolving \"indie band culture\", guitarist Ben Weinman stated, \"back in the day there were record labels that you trusted, loved and you bought everything on it and you discovered a lot of great new music because of it. You listen to every single song back to front a million times, it\\'d be worn out to death before you moved onto another record. You\\'d read everything in the booklet, you\\'d read all the lyrics, you\\'d read all the notes, you\\'d discover something new.\" Speaking to \"Kerrang!\" about the decision, he said: \"The most important thing was to keep evolving and changing. We didn\\'t want to be stuck in some long contract that won\\'t be relevant in a few years time... Or possibly even tomorrow. So half out of necessity, half out of choice, we decided to do this ourselves. The hard part is figuring out whether you\\'re sacrificing your creative side because you\\'re so busy with the business. That\\'s the challenge and we\\'re figuring it out\". The band created their own imprint Party Smasher Inc. under French label Season of Mist. They stated that Party Smasher (which was originally erroneously reported to be called Photogenic Records) is not technically a record label but a \"creative umbrella\" for all things related to The Dillinger Escape Plan. In an interview with \"Alternative Press\", Weinman stated, \"Well, I should clarify that it\\'s not exactly our attempt to run a record label. That\\'s not something we could be good at, and it\\'s obviously not something \"anybody\\'s\" good at these days. It\\'s more a situation where we now have a name for this umbrella that covers every business and artistic decision we make–whether it\\'s Dillinger, side projects or whatever.\" Recording. In a blog on the band\\'s MySpace profile, vocalist Greg Puciato revealed that they would be entering the studio from September 7 - October 30, 2009 to record the album with longtime collaborator Steve Evetts. Recording was finished on November 12, 2009. The album is the longest one yet at over 41 minutes, and is described by Ben Weinman as \"our most metal record yet.\" Concept. According to \"Kerrang!\", the album \"was not an album that just happened. Rather it was one that was written to address an issue the band feel keenly\". In April 2010 Ben Weinman told \"Kerrang!\" magazine:  Promotion. The band released several demo snippets on their YouTube channel. Furthermore a website for the record was set up, linking to all of the studio update videos and demo snippets. During their North American East Coast tour with Thursday in December 2009, the band sold download cards at their shows that entitled the customer to a download of the 10 song album upon its release with 3 additional exclusive bonus tracks.  \"Farewell, Mona Lisa\", the album\\'s first single, debuted on Liquid Metal SXM on Christmas day, 2009; it became available for download on January 19, 2010. \"Chinese Whispers\" was debuted on Full Metal Jackie’s syndicated radio show broadcast on 29 stations throughout the USA on the March 5, 2010, and was subsequently played on the next two days. On March 9, the blog MetalSucks featured the online debut of the song. In February, the album was made available for pre-orders through the Season of Mist e-shop. It was available in a variety of formats, including a box set, Digipak, black vinyl and transparent vinyl. A white vinyl was later made available through Relapse Records. Artwork. Former frontman Dimitri Minakakis (who also contributed artwork for 2004 album \"Miss Machine\") created the artwork for \"Option Paralysis\". In an interview, Jeff Tuttle revealed that the album cover features photographs and images that the members captured themselves. Reception. \"Option Paralysis\" was released to widespread critical acclaim. The album garnered a rating of 82/100, or universal acclaim, on aggregate review site Metacritic. \"Option Paralysis\" debuted at number 78 on the \"Billboard\" 200 with 7,100 units sold. Exclaim! named \"Option Paralysis\" the No. 2 Metal Album of 2010. \"Option Paralysis\" received the highest percentage of #1 votes in the 2010 Pitchfork Readers\\' Poll. '"
      ]
     },
     "execution_count": 109,
     "metadata": {},
     "output_type": "execute_result"
    }
   ],
   "source": [
    "texto_24103697 = corpus[corpus.id == 24103697][\"content\"].values[0]\n",
    "texto_24103697"
   ]
  },
  {
   "cell_type": "code",
   "execution_count": 110,
   "metadata": {},
   "outputs": [
    {
     "data": {
      "text/plain": [
       "' Fruits of Passion  Fruits of Passion is a 1981 French-Japanese co-production directed by Shūji Terayama and starring Klaus Kinski which was released in France as \"Les fruits de la passion\" and in Japan as . The film is loosely based on the novel \"Retour à Roissy\" by Pauline Réage, written as a sequel to the \"Story of O\". Plot. The lead characters of the \"Story of O\" and \"Retour à Roissy\" novels, Sir Stephen and O, are placed in southern China where Sir Stephen owns a casino. Sir Stephen places O in a Chinese brothel for \"training\" and O is then subjected to a variety of humiliating experiences to prove her unconditional obedience. A sub-plot concerns a coolie rebellion due to the resentment towards Europeans by the local population and a young man desperate to afford O\\'s favors at the brothel. Release. The film was released in France on June 3, 1981 as \"Les fruits de la passion\" and as \"Shanghai Ijin Shōkan - China Doll\" in Japan with censoring of the pubic areas in November 1981. The USA release as \"Fruits of Passion\" with English dubbing occurred in November 1982. A version in Japanese with English subtitles on VHS tape and DVD was published as \"Fruits of Passion - The Story of \"O\" Continued\" on June 20, 2000. A digitally remastered version of the film was released in Japan in Japanese, English and French with Japanese subtitles in December 2005. Reception. Reaction to the film has been mixed, Roberta Novielli described it as \"shallow and decadent\" and Jasper Sharp calls it \"minor Terayama\" whose \"charms are mainly cosmetic\", the costuming, sets and cinematography. Thomas and Yuko Mihara Weisser give the movie three stars out of four but say it is based on the \"look\" of the film and not on its narrative or coherence. '"
      ]
     },
     "execution_count": 110,
     "metadata": {},
     "output_type": "execute_result"
    }
   ],
   "source": [
    "texto_19944098 = corpus[corpus.id == 19944098][\"content\"].values[0]\n",
    "texto_19944098"
   ]
  },
  {
   "cell_type": "markdown",
   "metadata": {},
   "source": [
    "### (Questão 3) Word2vec\n",
    "\n",
    "<ul>\n",
    "    <li>Ainda usando a biblioteca Gensim, construa uma representaçao vetorial semântica (Word2vec) do seu corpus de escolha. Podem seguir este tutorial <a href=\"https://rare-technologies.com/word2vec-tutorial/\">https://rare-technologies.com/word2vec-tutorial/</a></li>\n",
    "    <li>Construa uma representaçao similar usando <a href=\"https://radimrehurek.com/gensim/models/fasttext.html#gensim.models.fasttext.FastText\">FastText</a>. Veja este <a href=\"https://github.com/RaRe-Technologies/gensim/blob/develop/docs/notebooks/FastText_Tutorial.ipynb\">Tutorial</a></li>\n",
    "</ul>"
   ]
  },
  {
   "cell_type": "code",
   "execution_count": 6,
   "metadata": {},
   "outputs": [
    {
     "data": {
      "text/html": [
       "<div>\n",
       "<style scoped>\n",
       "    .dataframe tbody tr th:only-of-type {\n",
       "        vertical-align: middle;\n",
       "    }\n",
       "\n",
       "    .dataframe tbody tr th {\n",
       "        vertical-align: top;\n",
       "    }\n",
       "\n",
       "    .dataframe thead th {\n",
       "        text-align: right;\n",
       "    }\n",
       "</style>\n",
       "<table border=\"1\" class=\"dataframe\">\n",
       "  <thead>\n",
       "    <tr style=\"text-align: right;\">\n",
       "      <th></th>\n",
       "      <th>id</th>\n",
       "      <th>content</th>\n",
       "    </tr>\n",
       "  </thead>\n",
       "  <tbody>\n",
       "    <tr>\n",
       "      <th>0</th>\n",
       "      <td>2092031</td>\n",
       "      <td>Military chaplain  A military chaplain minist...</td>\n",
       "    </tr>\n",
       "    <tr>\n",
       "      <th>1</th>\n",
       "      <td>6729501</td>\n",
       "      <td>Scott Adsit  Robert Scott Adsit (born Novembe...</td>\n",
       "    </tr>\n",
       "    <tr>\n",
       "      <th>2</th>\n",
       "      <td>24103697</td>\n",
       "      <td>Option Paralysis  Option Paralysis is the fou...</td>\n",
       "    </tr>\n",
       "    <tr>\n",
       "      <th>3</th>\n",
       "      <td>34957804</td>\n",
       "      <td>Ford F-Series ninth generation  The ninth gen...</td>\n",
       "    </tr>\n",
       "    <tr>\n",
       "      <th>4</th>\n",
       "      <td>2054313</td>\n",
       "      <td>Leaellynasaura  Leaellynasaura (meaning \"Leae...</td>\n",
       "    </tr>\n",
       "  </tbody>\n",
       "</table>\n",
       "</div>"
      ],
      "text/plain": [
       "         id                                            content\n",
       "0   2092031   Military chaplain  A military chaplain minist...\n",
       "1   6729501   Scott Adsit  Robert Scott Adsit (born Novembe...\n",
       "2  24103697   Option Paralysis  Option Paralysis is the fou...\n",
       "3  34957804   Ford F-Series ninth generation  The ninth gen...\n",
       "4   2054313   Leaellynasaura  Leaellynasaura (meaning \"Leae..."
      ]
     },
     "execution_count": 6,
     "metadata": {},
     "output_type": "execute_result"
    }
   ],
   "source": [
    "corpus.head()"
   ]
  },
  {
   "cell_type": "code",
   "execution_count": 7,
   "metadata": {},
   "outputs": [],
   "source": [
    "def W2V(txt):\n",
    "    \n",
    "    try:\n",
    "        os.remove(\"corpusWikiW2V.mm\")\n",
    "        os.remove(\"corpusWikiW2V.mm.index\")\n",
    "        os.remove(\"vocabularioW2V.dict\")\n",
    "    except:\n",
    "        print(\" \")\n",
    "    \n",
    "    #logging.basicConfig(format='%(asctime)s : %(levelname)s : %(message)s', level=logging.INFO)\n",
    "    #________________________________________________________________________________________________________\n",
    "    #Incializando vetores:\n",
    "    txtClean = []\n",
    "    c = Counter([])\n",
    "    \n",
    "    #Loop:\n",
    "    for texto in txt:\n",
    "        aux = [stemmer.stem(token.strip(punctuation).lower()) for token in WordPunctTokenizer().tokenize(texto) if token not in swu]\n",
    "        c.update(aux)\n",
    "        txtClean.append(aux)\n",
    "    txtClean = [[token for token in t if c[token]>1] for t in txtClean]\n",
    "    \n",
    "    #________________________________________________________________________________________________________\n",
    "\n",
    "    #Gerando dicionário:\n",
    "    dicionario = corpora.Dictionary(txtClean)\n",
    "    dicionario.save('vocabularioW2V.dict')\n",
    "    \n",
    "    #________________________________________________________________________________________________________\n",
    "    #Gerando as frequências:\n",
    "    corpus = [dicionario.doc2bow(d) for d in txtClean]\n",
    "    corpora.MmCorpus.serialize('corpusWikiW2V.mm', corpus)\n",
    "    \n",
    "    #________________________________________________________________________________________________________\n",
    "    #TF-IDF:\n",
    "    mod_tfidf = models.TfidfModel(corpus)\n",
    "    corpus_tfidf = mod_tfidf[corpus]\n",
    "    #W2V:\n",
    "    mod_w2v = models.Word2Vec(txtClean, min_count=1)\n",
    "#     corpus_w2v = mod_w2v[txtClean]\n",
    "          \n",
    "#     return [mod_w2v,corpus_w2v,dicionario]\n",
    "    return mod_w2v"
   ]
  },
  {
   "cell_type": "code",
   "execution_count": 34,
   "metadata": {},
   "outputs": [],
   "source": [
    "vetor = W2V(corpus.content)"
   ]
  },
  {
   "cell_type": "code",
   "execution_count": 42,
   "metadata": {},
   "outputs": [
    {
     "name": "stdout",
     "output_type": "stream",
     "text": [
      "Comparação entre duas palavras do Vocabulário: 'band' e 'film'. Similaridade: 81.97%\n",
      "Comparação entre dois vetores do Vocabulário: ['band','star'] e ['film','star']. Similaridade: 66.67%\n"
     ]
    }
   ],
   "source": [
    "print(\"Comparação entre duas palavras do Vocabulário: 'band' e 'film'. Similaridade: \"+str(np.round(vetor.wv.n_similarity(\"band\", \"film\")*100,2))+\"%\")\n",
    "print(\"Comparação entre dois vetores do Vocabulário: ['band','star'] e ['film','star']. Similaridade: \"+str(np.round(vetor.wv.n_similarity([\"band\",\"star\"], [\"film\",\"star\"])*100,2))+\"%\")"
   ]
  },
  {
   "cell_type": "markdown",
   "metadata": {},
   "source": [
    "<p><b>Explicação</b>: Através do Gensim conseguimos treinar um modelo de Word2Vec para o corpus de escolha, de maneira que agora podemos comparar dois vetores de palavras e retornar um valor de similaridade entre eles. Entretanto não conseguimos fazer isso com palavras que estejam fora do vocabulário criado. Para que seja possível fazer isso precisamos utilizar o FastText, cujos links encontram-se no enunciado. Vamos então implementar este modelo.</p>"
   ]
  },
  {
   "cell_type": "code",
   "execution_count": 16,
   "metadata": {},
   "outputs": [],
   "source": [
    "ftvetor = FastText(corpus.content, min_count=1)"
   ]
  },
  {
   "cell_type": "markdown",
   "metadata": {},
   "source": [
    "</p>Comparando agora os valores de similaridade com as palavras anteriores:</p>"
   ]
  },
  {
   "cell_type": "code",
   "execution_count": 36,
   "metadata": {},
   "outputs": [
    {
     "name": "stdout",
     "output_type": "stream",
     "text": [
      "Comparação entre duas palavras do Vocabulário: 'band' e 'film'. Similaridade: 77.88%\n"
     ]
    }
   ],
   "source": [
    "print(\"Comparação entre duas palavras do Vocabulário: 'band' e 'film'. Similaridade: \"+str(np.round(ftvetor.wv.n_similarity(\"band\", \"film\")*100,2))+\"%\")"
   ]
  },
  {
   "cell_type": "code",
   "execution_count": 41,
   "metadata": {},
   "outputs": [
    {
     "name": "stdout",
     "output_type": "stream",
     "text": [
      "Comparação entre dois vetores do Vocabulário: ['band','star'] e ['film','star']. Similaridade: 33.85%\n"
     ]
    }
   ],
   "source": [
    "print(\"Comparação entre dois vetores do Vocabulário: ['band','star'] e ['film','star']. Similaridade: \"+str(np.round(ftvetor.wv.n_similarity([\"band\",\"star\"], [\"film\",\"star\"])*100,2))+\"%\")"
   ]
  },
  {
   "cell_type": "markdown",
   "metadata": {},
   "source": [
    "<p>Pegando uma palavra (\"movie\") que não está no vocabulário para comparar a similaridade dela com outras que estão lá:</p>"
   ]
  },
  {
   "cell_type": "code",
   "execution_count": 43,
   "metadata": {},
   "outputs": [
    {
     "name": "stdout",
     "output_type": "stream",
     "text": [
      "Comparação entre duas palavras do Vocabulário: 'movie' e 'film'. Similaridade: 90.68%\n"
     ]
    }
   ],
   "source": [
    "print(\"Comparação entre duas palavras do Vocabulário: 'movie' e 'film'. Similaridade: \"+str(np.round(ftvetor.wv.n_similarity(\"movie\", \"film\")*100,2))+\"%\")"
   ]
  },
  {
   "cell_type": "code",
   "execution_count": 44,
   "metadata": {},
   "outputs": [
    {
     "name": "stdout",
     "output_type": "stream",
     "text": [
      "Comparação entre dois vetores do Vocabulário: ['movie','star'] e ['film','star']. Similaridade: 56.68%\n"
     ]
    }
   ],
   "source": [
    "print(\"Comparação entre dois vetores do Vocabulário: ['movie','star'] e ['film','star']. Similaridade: \"+str(np.round(ftvetor.wv.n_similarity([\"movie\",\"star\"], [\"film\",\"star\"])*100,2))+\"%\")"
   ]
  },
  {
   "cell_type": "markdown",
   "metadata": {},
   "source": [
    "<p>Veja que os resultados obtidos com o FastText são parecidos com o Word2Vec, e percebe-se que em ambos os modelos a similaridade cai muito quando as mesmas palavras ficam inseridos em dois vetores. Porém, pelo fato da aplicação do Word2Vec ser restrito ao uso das palavras do Vocabulário construído, o segundo modelo utilizando o FastText parece ser melhor para usos mais genéricos. </p>"
   ]
  },
  {
   "cell_type": "markdown",
   "metadata": {},
   "source": [
    "<b>FIM</b>"
   ]
  }
 ],
 "metadata": {
  "kernelspec": {
   "display_name": "Python 3",
   "language": "python",
   "name": "python3"
  },
  "language_info": {
   "codemirror_mode": {
    "name": "ipython",
    "version": 3
   },
   "file_extension": ".py",
   "mimetype": "text/x-python",
   "name": "python",
   "nbconvert_exporter": "python",
   "pygments_lexer": "ipython3",
   "version": "3.7.3"
  }
 },
 "nbformat": 4,
 "nbformat_minor": 2
}
