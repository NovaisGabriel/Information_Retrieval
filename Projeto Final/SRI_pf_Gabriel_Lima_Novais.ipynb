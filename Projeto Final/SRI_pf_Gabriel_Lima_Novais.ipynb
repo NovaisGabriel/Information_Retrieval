{
 "cells": [
  {
   "cell_type": "markdown",
   "metadata": {},
   "source": [
    "<h1 align=\"center\">Projeto Final 2019</h1>\n",
    "\n",
    "<h3 align=\"center\">Gabriel Lima Novais</h3>\n",
    "\n",
    "<p align=\"center\"><b>Objetivo:</b> Neste projeto cada aluno deve eleger um corpus de documentos de tamanho médio (pelo menos milhares de documentos). Todas as tarefas a seguir serao realizadas sobre este corpus.</p>\n",
    "\n",
    "<p align=\"center\"><b>Corpus utililzado:</b> Base de artigos da Wikipedia (3.2GB). Para realizar o entendimento inicial de cada exercício (e até mesmo para a implementação), a estratégia utilizada por mim foi a de considerar um corpus de teste com número extramamente reduzido de artigos (10 artigos) e depois dessa etapa pegar a base de dados composta por 200.000 artigos.</p>"
   ]
  },
  {
   "cell_type": "markdown",
   "metadata": {},
   "source": [
    "#### Importando pacotes:"
   ]
  },
  {
   "cell_type": "code",
   "execution_count": 877,
   "metadata": {},
   "outputs": [],
   "source": [
    "import numpy as np\n",
    "import pandas as pd\n",
    "import os\n",
    "import re\n",
    "import whoosh\n",
    "import nltk\n",
    "import string\n",
    "import matplotlib.pyplot as plt\n",
    "import enchant\n",
    "import seaborn as sns\n",
    "import shutil\n",
    "import gensim\n",
    "import logging\n",
    "#------------------------------------------------------------------------------------\n",
    "from IPython.display import display, Markdown, Latex\n",
    "from collections import defaultdict,Counter,OrderedDict\n",
    "from math import log\n",
    "from sklearn.feature_extraction.text import TfidfVectorizer\n",
    "from numpy.linalg import norm\n",
    "from string import punctuation\n",
    "from tqdm import tqdm\n",
    "#____________________________________________________________________________________\n",
    "from gensim import corpora, models, similarities\n",
    "from gensim.utils import simple_preprocess\n",
    "from gensim.models import CoherenceModel,wrappers\n",
    "#____________________________________________________________________________________\n",
    "from nltk.corpus import machado, mac_morpho,stopwords\n",
    "from nltk.tokenize import WordPunctTokenizer\n",
    "from nltk.corpus import stopwords\n",
    "from nltk.stem.snowball import SnowballStemmer,PortugueseStemmer\n",
    "#____________________________________________________________________________________\n",
    "import pyLDAvis\n",
    "import pyLDAvis.gensim  # don't skip this\n",
    "import matplotlib.pyplot as plt\n",
    "%matplotlib inline\n",
    "#____________________________________________________________________________________\n",
    "from whoosh import sorting\n",
    "from whoosh.index import create_in, open_dir\n",
    "from whoosh.fields import *\n",
    "from whoosh import qparser\n",
    "from whoosh.qparser import QueryParser"
   ]
  },
  {
   "cell_type": "markdown",
   "metadata": {},
   "source": [
    "#### Configurações iniciais:"
   ]
  },
  {
   "cell_type": "code",
   "execution_count": 2,
   "metadata": {},
   "outputs": [
    {
     "name": "stderr",
     "output_type": "stream",
     "text": [
      "[nltk_data] Error loading stopwords: <urlopen error [Errno -2] Name or\n",
      "[nltk_data]     service not known>\n"
     ]
    }
   ],
   "source": [
    "#O corpus escolhido está em Inglês, então as devidas configurações são:\n",
    "nltk.download('stopwords')\n",
    "swu = stopwords.words('english')+ list(string.punctuation)\n",
    "stopwords.words('english')\n",
    "stemmer = SnowballStemmer('english')"
   ]
  },
  {
   "cell_type": "markdown",
   "metadata": {},
   "source": [
    "#### Preparando o Corpus"
   ]
  },
  {
   "cell_type": "code",
   "execution_count": 3,
   "metadata": {},
   "outputs": [],
   "source": [
    "def data(file,nr,sample):\n",
    "\n",
    "    #Importando os dados da Wikipedia em formato csv:\n",
    "    df = pd.read_table(file, sep=\",\", nrows=nr,header=None)\n",
    "\n",
    "    #Tratando a base de dados:\n",
    "    df.columns = ['id','content']\n",
    "    df.id = df.id.apply(lambda x: int(x[10:]))\n",
    "\n",
    "    #Retirando uma amostra pequena para realizar as questões da lista sem demorar muito...\n",
    "    #OBS: Toda vez que rodar essa linha abixo o Corpus vai mudar e assim as respostas devem mudar!!!\n",
    "    corpus =  df.sample(n=sample)\n",
    "    corpus = corpus.reset_index().drop(['index'], axis=1)\n",
    "\n",
    "    #Visualizando aas primeiras linhas do Corpus:\n",
    "    return corpus"
   ]
  },
  {
   "cell_type": "code",
   "execution_count": 351,
   "metadata": {},
   "outputs": [
    {
     "data": {
      "text/html": [
       "<div>\n",
       "<style scoped>\n",
       "    .dataframe tbody tr th:only-of-type {\n",
       "        vertical-align: middle;\n",
       "    }\n",
       "\n",
       "    .dataframe tbody tr th {\n",
       "        vertical-align: top;\n",
       "    }\n",
       "\n",
       "    .dataframe thead th {\n",
       "        text-align: right;\n",
       "    }\n",
       "</style>\n",
       "<table border=\"1\" class=\"dataframe\">\n",
       "  <thead>\n",
       "    <tr style=\"text-align: right;\">\n",
       "      <th></th>\n",
       "      <th>id</th>\n",
       "      <th>content</th>\n",
       "    </tr>\n",
       "  </thead>\n",
       "  <tbody>\n",
       "    <tr>\n",
       "      <th>0</th>\n",
       "      <td>13340545</td>\n",
       "      <td>Event of default  Event of default is a term ...</td>\n",
       "    </tr>\n",
       "    <tr>\n",
       "      <th>1</th>\n",
       "      <td>1199424</td>\n",
       "      <td>Hotter than July  Hotter than July is the nin...</td>\n",
       "    </tr>\n",
       "    <tr>\n",
       "      <th>2</th>\n",
       "      <td>2092024</td>\n",
       "      <td>HypoVereinsbank  UniCredit Bank Aktiengesells...</td>\n",
       "    </tr>\n",
       "    <tr>\n",
       "      <th>3</th>\n",
       "      <td>755408</td>\n",
       "      <td>Committee to Protect Journalists  The Committ...</td>\n",
       "    </tr>\n",
       "    <tr>\n",
       "      <th>4</th>\n",
       "      <td>1190581</td>\n",
       "      <td>Critical opalescence  Critical opalescence is...</td>\n",
       "    </tr>\n",
       "  </tbody>\n",
       "</table>\n",
       "</div>"
      ],
      "text/plain": [
       "         id                                            content\n",
       "0  13340545   Event of default  Event of default is a term ...\n",
       "1   1199424   Hotter than July  Hotter than July is the nin...\n",
       "2   2092024   HypoVereinsbank  UniCredit Bank Aktiengesells...\n",
       "3    755408   Committee to Protect Journalists  The Committ...\n",
       "4   1190581   Critical opalescence  Critical opalescence is..."
      ]
     },
     "execution_count": 351,
     "metadata": {},
     "output_type": "execute_result"
    }
   ],
   "source": [
    "corpus = data(\"corpusEx.csv\",10000,10)\n",
    "corpus.head()"
   ]
  },
  {
   "cell_type": "code",
   "execution_count": 868,
   "metadata": {},
   "outputs": [
    {
     "data": {
      "text/html": [
       "<div>\n",
       "<style scoped>\n",
       "    .dataframe tbody tr th:only-of-type {\n",
       "        vertical-align: middle;\n",
       "    }\n",
       "\n",
       "    .dataframe tbody tr th {\n",
       "        vertical-align: top;\n",
       "    }\n",
       "\n",
       "    .dataframe thead th {\n",
       "        text-align: right;\n",
       "    }\n",
       "</style>\n",
       "<table border=\"1\" class=\"dataframe\">\n",
       "  <thead>\n",
       "    <tr style=\"text-align: right;\">\n",
       "      <th></th>\n",
       "      <th>id</th>\n",
       "      <th>content</th>\n",
       "    </tr>\n",
       "  </thead>\n",
       "  <tbody>\n",
       "    <tr>\n",
       "      <th>0</th>\n",
       "      <td>13340545</td>\n",
       "      <td>Event of default  Event of default is a term ...</td>\n",
       "    </tr>\n",
       "    <tr>\n",
       "      <th>1</th>\n",
       "      <td>1199424</td>\n",
       "      <td>Hotter than July  Hotter than July is the nin...</td>\n",
       "    </tr>\n",
       "    <tr>\n",
       "      <th>2</th>\n",
       "      <td>2092024</td>\n",
       "      <td>HypoVereinsbank  UniCredit Bank Aktiengesells...</td>\n",
       "    </tr>\n",
       "    <tr>\n",
       "      <th>3</th>\n",
       "      <td>755408</td>\n",
       "      <td>Committee to Protect Journalists  The Committ...</td>\n",
       "    </tr>\n",
       "    <tr>\n",
       "      <th>4</th>\n",
       "      <td>1190581</td>\n",
       "      <td>Critical opalescence  Critical opalescence is...</td>\n",
       "    </tr>\n",
       "    <tr>\n",
       "      <th>5</th>\n",
       "      <td>291161</td>\n",
       "      <td>Communications of the ACM  Communications of ...</td>\n",
       "    </tr>\n",
       "    <tr>\n",
       "      <th>6</th>\n",
       "      <td>5670762</td>\n",
       "      <td>Alabama Thunderpussy  Alabama Thunderpussy, o...</td>\n",
       "    </tr>\n",
       "    <tr>\n",
       "      <th>7</th>\n",
       "      <td>982464</td>\n",
       "      <td>12 Stones  12 Stones is an American Christian...</td>\n",
       "    </tr>\n",
       "    <tr>\n",
       "      <th>8</th>\n",
       "      <td>230594</td>\n",
       "      <td>Bratz  Bratz is an American line of fashion d...</td>\n",
       "    </tr>\n",
       "    <tr>\n",
       "      <th>9</th>\n",
       "      <td>34510185</td>\n",
       "      <td>Monster Bug Wars  Monster Bug Wars is a natur...</td>\n",
       "    </tr>\n",
       "  </tbody>\n",
       "</table>\n",
       "</div>"
      ],
      "text/plain": [
       "         id                                            content\n",
       "0  13340545   Event of default  Event of default is a term ...\n",
       "1   1199424   Hotter than July  Hotter than July is the nin...\n",
       "2   2092024   HypoVereinsbank  UniCredit Bank Aktiengesells...\n",
       "3    755408   Committee to Protect Journalists  The Committ...\n",
       "4   1190581   Critical opalescence  Critical opalescence is...\n",
       "5    291161   Communications of the ACM  Communications of ...\n",
       "6   5670762   Alabama Thunderpussy  Alabama Thunderpussy, o...\n",
       "7    982464   12 Stones  12 Stones is an American Christian...\n",
       "8    230594   Bratz  Bratz is an American line of fashion d...\n",
       "9  34510185   Monster Bug Wars  Monster Bug Wars is a natur..."
      ]
     },
     "execution_count": 868,
     "metadata": {},
     "output_type": "execute_result"
    }
   ],
   "source": [
    "corpusteste = corpus.copy()\n",
    "corpusteste"
   ]
  },
  {
   "cell_type": "markdown",
   "metadata": {},
   "source": [
    "### (Questão 1) Indexação\n",
    "\n",
    "<ul>\n",
    "<li>Utilizando o Whoosh, indexar o seu corpus e implementar uma funçao que apresente para os top 10 documentos da resposta a uma consulta, trechos dos documentos contendo os termos da consulta.</li>\n",
    "<li>Contruir uma funçao de busca que aceite consultas frasais e facetaçao dos resultados.</li>\n",
    "</ul>"
   ]
  },
  {
   "cell_type": "code",
   "execution_count": 376,
   "metadata": {},
   "outputs": [],
   "source": [
    " def whooshSearcher(sentence, corpus):\n",
    "    #______________________________________________________________________________________________________   \n",
    "    #Definindo variáveis auxiliares\n",
    "    schema = Schema(cont=TEXT(phrase=True, stored=True))\n",
    "    \n",
    "    #Criando o indexidr:\n",
    "    if os.path.exists('indexdir'):\n",
    "        shutil.rmtree('/home/novais/Desktop/Mestrado/3_trim_2019/SRI/Trabalho Final/indexdir')\n",
    "        os.mkdir('indexdir')\n",
    "        ix = create_in(\"indexdir\", schema)\n",
    "        writer = ix.writer()\n",
    "        for txt in corpus:\n",
    "            writer.add_document(cont=txt)\n",
    "        writer.commit()\n",
    "    else:\n",
    "        os.mkdir('indexdir')\n",
    "        ix = create_in(\"indexdir\", schema)\n",
    "        writer = ix.writer()\n",
    "        for txt in corpus:\n",
    "            writer.add_document(cont=txt)\n",
    "        writer.commit()\n",
    "    #______________________________________________________________________________________________________\n",
    "    \n",
    "    aux=[]\n",
    "    positions=[]\n",
    "\n",
    "\n",
    "    query = QueryParser(\"cont\", schema=ix.schema,group=qparser.OrGroup).parse(sentence)\n",
    "    facets = sorting.Facets()\n",
    "    facets.add_field(\"cont\")\n",
    "    facets.add_field(\"cont\", allow_overlap=True)\n",
    "    answer = ix.searcher().search(query,limit=10, groupedby=facets)\n",
    "    for k in answer:\n",
    "        positions.append(corpus[corpus.isin([k.values()[0]])].index[0])\n",
    "    for hit in answer:\n",
    "        aux.append(re.split(\"\\.\\.\\.\", hit.highlights(\"cont\")))\n",
    "    print(\"Resultados em ordem de similaridade:\")\n",
    "    print(\" \")\n",
    "    for j in range(len(aux)):\n",
    "        print(\"Trechos do resultado \"+str(j+1)+\", linha \"+str(positions[j])+\" do Corpus\")\n",
    "        for i in range(len(aux[j])):\n",
    "            display(Markdown(\"Trecho \"+str(i)+\":  [...] \"+aux[j][i]+\" [...]\"))\n",
    "        print(\" \")\n",
    "\n",
    "\n",
    "    return positions"
   ]
  },
  {
   "cell_type": "code",
   "execution_count": 611,
   "metadata": {},
   "outputs": [
    {
     "name": "stdout",
     "output_type": "stream",
     "text": [
      "Resultados em ordem de similaridade:\n",
      " \n",
      "Trechos do resultado 1, linha 1 do Corpus\n"
     ]
    },
    {
     "data": {
      "text/markdown": [
       "Trecho 0:  [...] <b class=\"match term0\">Hotter</b> <b class=\"match term1\">than</b> <b class=\"match term2\">July</b>  <b class=\"match term0\">Hotter</b> <b class=\"match term1\">than</b> <b class=\"match term2\">July</b> is the nineteenth album [...]"
      ],
      "text/plain": [
       "<IPython.core.display.Markdown object>"
      ]
     },
     "metadata": {},
     "output_type": "display_data"
    },
    {
     "data": {
      "text/markdown": [
       "Trecho 1:  [...] four top ten singles. \"<b class=\"match term0\">Hotter</b> <b class=\"match term1\">than</b> <b class=\"match term2\">July</b>\" was nominated for Favorite [...]"
      ],
      "text/plain": [
       "<IPython.core.display.Markdown object>"
      ]
     },
     "metadata": {},
     "output_type": "display_data"
    },
    {
     "data": {
      "text/markdown": [
       "Trecho 2:  [...] was to be titled \"<b class=\"match term0\">Hotter</b> <b class=\"match term1\">than</b> <b class=\"match term2\">July</b>\". Inspired by his love [...]"
      ],
      "text/plain": [
       "<IPython.core.display.Markdown object>"
      ]
     },
     "metadata": {},
     "output_type": "display_data"
    },
    {
     "name": "stdout",
     "output_type": "stream",
     "text": [
      " \n",
      "Trechos do resultado 2, linha 3 do Corpus\n"
     ]
    },
    {
     "data": {
      "text/markdown": [
       "Trecho 0:  [...] are typically lower <b class=\"match term1\">than</b> similar ongoing counts [...]"
      ],
      "text/plain": [
       "<IPython.core.display.Markdown object>"
      ]
     },
     "metadata": {},
     "output_type": "display_data"
    },
    {
     "data": {
      "text/markdown": [
       "Trecho 1:  [...] network of more <b class=\"match term1\">than</b> seventy non-governmental [...]"
      ],
      "text/plain": [
       "<IPython.core.display.Markdown object>"
      ]
     },
     "metadata": {},
     "output_type": "display_data"
    },
    {
     "data": {
      "text/markdown": [
       "Trecho 2:  [...] 1998 to 2006. Since <b class=\"match term2\">July</b> 2006, journalist Joel [...]"
      ],
      "text/plain": [
       "<IPython.core.display.Markdown object>"
      ]
     },
     "metadata": {},
     "output_type": "display_data"
    },
    {
     "name": "stdout",
     "output_type": "stream",
     "text": [
      " \n",
      "Trechos do resultado 3, linha 9 do Corpus\n"
     ]
    },
    {
     "data": {
      "text/markdown": [
       "Trecho 0:  [...] less sound effects <b class=\"match term1\">than</b> season one. Further [...]"
      ],
      "text/plain": [
       "<IPython.core.display.Markdown object>"
      ]
     },
     "metadata": {},
     "output_type": "display_data"
    },
    {
     "data": {
      "text/markdown": [
       "Trecho 1:  [...] episode released in <b class=\"match term2\">July</b>, 2012. This episode included [...]"
      ],
      "text/plain": [
       "<IPython.core.display.Markdown object>"
      ]
     },
     "metadata": {},
     "output_type": "display_data"
    },
    {
     "name": "stdout",
     "output_type": "stream",
     "text": [
      " \n",
      "Trechos do resultado 4, linha 8 do Corpus\n"
     ]
    },
    {
     "data": {
      "text/markdown": [
       "Trecho 0:  [...] Bratz Babyz. Smaller <b class=\"match term1\">than</b> regular Bratz Babyz [...]"
      ],
      "text/plain": [
       "<IPython.core.display.Markdown object>"
      ]
     },
     "metadata": {},
     "output_type": "display_data"
    },
    {
     "data": {
      "text/markdown": [
       "Trecho 1:  [...] and thus, shorter <b class=\"match term1\">than</b> the regular Bratz. Bratz [...]"
      ],
      "text/plain": [
       "<IPython.core.display.Markdown object>"
      ]
     },
     "metadata": {},
     "output_type": "display_data"
    },
    {
     "data": {
      "text/markdown": [
       "Trecho 2:  [...] competition.” On <b class=\"match term2\">July</b> 22, 2010, the Ninth Circuit [...]"
      ],
      "text/plain": [
       "<IPython.core.display.Markdown object>"
      ]
     },
     "metadata": {},
     "output_type": "display_data"
    },
    {
     "name": "stdout",
     "output_type": "stream",
     "text": [
      " \n",
      "Trechos do resultado 5, linha 2 do Corpus\n"
     ]
    },
    {
     "data": {
      "text/markdown": [
       "Trecho 0:  [...] and has more <b class=\"match term1\">than</b> 8.5 million clients [...]"
      ],
      "text/plain": [
       "<IPython.core.display.Markdown object>"
      ]
     },
     "metadata": {},
     "output_type": "display_data"
    },
    {
     "data": {
      "text/markdown": [
       "Trecho 1:  [...] on 28 November. More <b class=\"match term1\">than</b> 60 prosecutors, tax [...]"
      ],
      "text/plain": [
       "<IPython.core.display.Markdown object>"
      ]
     },
     "metadata": {},
     "output_type": "display_data"
    },
    {
     "name": "stdout",
     "output_type": "stream",
     "text": [
      " \n",
      "Trechos do resultado 6, linha 6 do Corpus\n"
     ]
    },
    {
     "data": {
      "text/markdown": [
       "Trecho 0:  [...] being slated for <b class=\"match term2\">July</b> 25, 2006. Erik Larson [...]"
      ],
      "text/plain": [
       "<IPython.core.display.Markdown object>"
      ]
     },
     "metadata": {},
     "output_type": "display_data"
    },
    {
     "name": "stdout",
     "output_type": "stream",
     "text": [
      " \n",
      "Trechos do resultado 7, linha 7 do Corpus\n"
     ]
    },
    {
     "data": {
      "text/markdown": [
       "Trecho 0:  [...] They have sold more <b class=\"match term1\">than</b> 2 million records. History [...]"
      ],
      "text/plain": [
       "<IPython.core.display.Markdown object>"
      ]
     },
     "metadata": {},
     "output_type": "display_data"
    },
    {
     "name": "stdout",
     "output_type": "stream",
     "text": [
      " \n"
     ]
    },
    {
     "data": {
      "text/plain": [
       "[1, 3, 9, 8, 2, 6, 7]"
      ]
     },
     "execution_count": 611,
     "metadata": {},
     "output_type": "execute_result"
    }
   ],
   "source": [
    "whooshSearcher(\"July Hotter than\",corpusteste.content)"
   ]
  },
  {
   "cell_type": "markdown",
   "metadata": {},
   "source": [
    "### (Questão 2) Modelagem de Assuntos\n",
    "<ul>\n",
    "    <li>Usando a biblioteca Gensim, treine um modelo LSI e LDA para o seu corpus propondo uma metodologia para otimizaçao do numero de assuntos</li>\n",
    "    <li>Construa Uma matriz de similaridade entre os documentos do corpus a partir dos pesos</li>\n",
    "</ul>"
   ]
  },
  {
   "cell_type": "markdown",
   "metadata": {},
   "source": [
    "##### Algumas definições:\n",
    "<b>TF-IDF : </b>In information retrieval, tf–idf or TFIDF, short for term frequency–inverse document frequency, is a numerical statistic that is intended to reflect how important a word is to a document in a collection or corpus. It is often used as a weighting factor in searches of information retrieval, text mining, and user modeling. The tf–idf value increases proportionally to the number of times a word appears in the document and is offset by the number of documents in the corpus that contain the word, which helps to adjust for the fact that some words appear more frequently in general.\n",
    "\n",
    "<b>LSA (LSI) : </b> Latent semantic analysis (LSA) is a technique in natural language processing, in particular distributional semantics, of analyzing relationships between a set of documents and the terms they contain by producing a set of concepts related to the documents and terms. LSA assumes that words that are close in meaning will occur in similar pieces of text (the distributional hypothesis). A matrix containing word counts per document (rows represent unique words and columns represent each document) is constructed from a large piece of text and a mathematical technique called singular value decomposition (SVD) is used to reduce the number of rows while preserving the similarity structure among columns. Documents are then compared by taking the cosine of the angle between the two vectors (or the dot product between the normalizations of the two vectors) formed by any two columns. Values close to 1 represent very similar documents while values close to 0 represent very dissimilar documents."
   ]
  },
  {
   "cell_type": "markdown",
   "metadata": {},
   "source": [
    "<b>Interpretação:</b> Para o TF-IDF, a função abaixo retorna o \"peso\" que cada palavra do dicionário construído a partir de cada texto do Corpus (palavras únicas) possui para aquele texto. Já para o LSI e LDA temos que é retornado para cada texto do Corpus um vetor que fornece o quanto cada tema está relacionado com aquele texto. Além disso podemos verificar também como cada tema é construído, isto é, quais palavras do dicionário construído anteriormente para elaborar o TF-IDF são as mais importantes para aquele tema. Abaixo veja as explicações ilistradas:  "
   ]
  },
  {
   "cell_type": "code",
   "execution_count": 894,
   "metadata": {},
   "outputs": [],
   "source": [
    "def LS(txt,nthemes):\n",
    "    \n",
    "    try:\n",
    "        os.remove(\"corpusWiki.mm\")\n",
    "        os.remove(\"corpusWiki.mm.index\")\n",
    "        os.remove(\"vocabulario.dict\")\n",
    "    except:\n",
    "        print(\" \")\n",
    "    \n",
    "    #________________________________________________________________________________________________________\n",
    "    #Incializando vetores:\n",
    "    txtClean = []\n",
    "    c = Counter([])\n",
    "    \n",
    "    #Loop:\n",
    "    for texto in txt:\n",
    "        aux = [stemmer.stem(token.strip(punctuation).lower()) for token in WordPunctTokenizer().tokenize(texto) if token not in swu]\n",
    "        c.update(aux)\n",
    "        txtClean.append(aux)\n",
    "    txtClean = [[token for token in t if c[token]>1] for t in txtClean]\n",
    "    \n",
    "    #________________________________________________________________________________________________________\n",
    "\n",
    "    #Gerando dicionário:\n",
    "    dicionario = corpora.Dictionary(txtClean)\n",
    "    dicionario.save('vocabulario.dict')\n",
    "    \n",
    "    #________________________________________________________________________________________________________\n",
    "    #Gerando as frequências:\n",
    "    corpus = [dicionario.doc2bow(d) for d in txtClean]\n",
    "    corpora.MmCorpus.serialize('corpusWiki.mm', corpus)\n",
    "    \n",
    "    #________________________________________________________________________________________________________\n",
    "    #TF-IDF:\n",
    "    mod_tfidf = models.TfidfModel(corpus)\n",
    "    corpus_tfidf = mod_tfidf[corpus]\n",
    "    #LSI:\n",
    "    mod_lsi = models.LsiModel(corpus_tfidf, id2word=dicionario, num_topics=nthemes)\n",
    "    corpus_lsi = mod_lsi[corpus_tfidf]\n",
    "    #LDA:\n",
    "    mod_lda = models.LdaModel(corpus_tfidf, id2word=dicionario, num_topics=nthemes)\n",
    "    corpus_lda = mod_lda[corpus_tfidf]\n",
    "    #________________________________________________________________________________________________________\n",
    "    # Compute Perplexity\n",
    "    perplexity = mod_lda.log_perplexity(corpus)\n",
    "    #print('\\nPerplexity: ', mod_lda.log_perplexity(corpus))  # a measure of how good the model is. lower the better.\n",
    "\n",
    "    # Compute Coherence Score\n",
    "    coherence_model_lda = CoherenceModel(model=mod_lda, texts=txtClean, coherence='c_v')\n",
    "    coherence_lda = coherence_model_lda.get_coherence()\n",
    "    #print('\\nCoherence Score: ', coherence_lda)\n",
    "        \n",
    "    return [mod_lsi,mod_lda,corpus_lsi,corpus_lda,corpus_tfidf,perplexity,coherence_lda,dicionario,txtClean]"
   ]
  },
  {
   "cell_type": "markdown",
   "metadata": {},
   "source": [
    "<b>Caso para exemplificar o funcionamento: </b>O texto txt[0] abaixo retirado do Corpus de teste é relacionado a Economia/Finanças e resumidamente fala sobre default, ou seja, calote"
   ]
  },
  {
   "cell_type": "code",
   "execution_count": 653,
   "metadata": {},
   "outputs": [
    {
     "data": {
      "text/plain": [
       "' Event of default  Event of default is a term used in commercial loan documentation. It refers to the occurrence of an event which allows the lender to demand repayment of the loan in advance of its normal due date (also known as \"accelerating\" the loan). In a revolving credit facility, the occurrence of an event of default normally also allows the lender to cancel any obligations to make further loan advances. There are two types of event of default: '"
      ]
     },
     "execution_count": 653,
     "metadata": {},
     "output_type": "execute_result"
    }
   ],
   "source": [
    "txt = corpusteste.content\n",
    "txt[0]"
   ]
  },
  {
   "cell_type": "markdown",
   "metadata": {},
   "source": [
    "O resultado do TF-IDF para este texto é tal que as palavras, cujos indices estão em primeiro lugar nas tuplas abaixo, possuem um nível de importância determinado pelo segundo número da tupla:"
   ]
  },
  {
   "cell_type": "code",
   "execution_count": 670,
   "metadata": {},
   "outputs": [],
   "source": [
    "number_of_topics = 10\n",
    "model = LS(txt,number_of_topics)"
   ]
  },
  {
   "cell_type": "code",
   "execution_count": 658,
   "metadata": {},
   "outputs": [
    {
     "data": {
      "text/plain": [
       "[(0, 0.005819998754287493),\n",
       " (1, 0.13301226133193222),\n",
       " (2, 0.17780715265080874),\n",
       " (3, 0.011639997508574987),\n",
       " (4, 0.08890357632540437),\n",
       " (5, 0.08890357632540437),\n",
       " (6, 0.508769050310579),\n",
       " (7, 0.08890357632540437),\n",
       " (8, 0.06650613066596611),\n",
       " (9, 0.4445178816270218),\n",
       " (10, 0.01970233076829846),\n",
       " (11, 0.01970233076829846),\n",
       " (12, 0.06650613066596611),\n",
       " (13, 0.2543845251552895),\n",
       " (14, 0.508769050310579),\n",
       " (15, 0.050614890073164026),\n",
       " (16, 0.17780715265080874),\n",
       " (17, 0.2543845251552895),\n",
       " (18, 0.08890357632540437),\n",
       " (19, 0.08890357632540437),\n",
       " (20, 0.08890357632540437),\n",
       " (21, 0.08890357632540437),\n",
       " (22, 0.02821744441372576),\n",
       " (23, 0.06650613066596611),\n",
       " (24, 0.03828868625224035)]"
      ]
     },
     "execution_count": 658,
     "metadata": {},
     "output_type": "execute_result"
    }
   ],
   "source": [
    "model[4][0]"
   ]
  },
  {
   "cell_type": "markdown",
   "metadata": {},
   "source": [
    "Agora, os tópicos selecionados pelo modelo de LSI e LDA e determinados (cada um) por uma quantidade de 4 palavras estão descritos abaixo pelo seu índicie especificado no primeiro termo da tupla:"
   ]
  },
  {
   "cell_type": "code",
   "execution_count": 659,
   "metadata": {},
   "outputs": [
    {
     "data": {
      "text/plain": [
       "[(0, '-0.225*\"album\" + -0.224*\"record\" + -0.223*\"band\" + -0.197*\"song\"'),\n",
       " (1, '0.322*\"journalist\" + 0.293*\"cacm\" + 0.293*\"acm\" + 0.246*\"publish\"'),\n",
       " (2, '0.308*\"loan\" + 0.308*\"default\" + 0.286*\"event\" + 0.256*\"bug\"'),\n",
       " (3, '-0.367*\"opalesc\" + -0.306*\"fluctuat\" + 0.244*\"bratz\" + -0.201*\"bank\"'),\n",
       " (4, '-0.373*\"bratz\" + 0.271*\"default\" + 0.271*\"loan\" + 0.229*\"event\"'),\n",
       " (5, '0.290*\"opalesc\" + -0.251*\"loan\" + -0.251*\"default\" + -0.250*\"bank\"'),\n",
       " (6, '0.569*\"bratz\" + -0.298*\"bug\" + -0.271*\"vs\" + 0.214*\"doll\"'),\n",
       " (7, '-0.301*\"wonder\" + 0.210*\"alabama\" + -0.172*\"photo\" + 0.168*\"johnni\"'),\n",
       " (8, '-0.409*\"journalist\" + 0.349*\"acm\" + 0.349*\"cacm\" + -0.286*\"organ\"'),\n",
       " (9, '0.202*\"wwe\" + 0.202*\"stone\" + -0.192*\"wonder\" + 0.188*\"song\"')]"
      ]
     },
     "execution_count": 659,
     "metadata": {},
     "output_type": "execute_result"
    }
   ],
   "source": [
    "#LSI:\n",
    "model[0].print_topics(num_topics=10, num_words=4)"
   ]
  },
  {
   "cell_type": "code",
   "execution_count": 660,
   "metadata": {},
   "outputs": [
    {
     "data": {
      "text/plain": [
       "[(0, '0.001*\"bratz\" + 0.001*\"doll\" + 0.001*\"mga\" + 0.001*\"mattel\"'),\n",
       " (1, '0.001*\"loan\" + 0.001*\"event\" + 0.001*\"default\" + 0.001*\"bratz\"'),\n",
       " (2, '0.001*\"event\" + 0.001*\"default\" + 0.001*\"loan\" + 0.001*\"acm\"'),\n",
       " (3, '0.001*\"loan\" + 0.001*\"default\" + 0.001*\"opalesc\" + 0.001*\"acm\"'),\n",
       " (4, '0.001*\"bratz\" + 0.001*\"loan\" + 0.001*\"default\" + 0.001*\"acm\"'),\n",
       " (5,\n",
       "  '0.008*\"journalist\" + 0.007*\"opalesc\" + 0.006*\"fluctuat\" + 0.006*\"organ\"'),\n",
       " (6, '0.006*\"bank\" + 0.005*\"wonder\" + 0.004*\"charg\" + 0.004*\"hvb\"'),\n",
       " (7, '0.008*\"loan\" + 0.008*\"default\" + 0.007*\"event\" + 0.005*\"lender\"'),\n",
       " (8, '0.010*\"bratz\" + 0.006*\"acm\" + 0.006*\"cacm\" + 0.005*\"alabama\"'),\n",
       " (9, '0.006*\"bug\" + 0.006*\"vs\" + 0.004*\"song\" + 0.004*\"sound\"')]"
      ]
     },
     "execution_count": 660,
     "metadata": {},
     "output_type": "execute_result"
    }
   ],
   "source": [
    "#LDA:\n",
    "model[1].print_topics(num_topics=10, num_words=4)"
   ]
  },
  {
   "cell_type": "markdown",
   "metadata": {},
   "source": [
    "Então, como já sabemos como estão descritos cada um dos tópicos acima, podemos interpretar quem eles são. Por exemplo, o tópico 5 de LSI demonstra estar muito relacionado com Economia pois envolve as palavras \"bank\",\"loan\" e \"default\" com significativos coeficientes de importância. Por outro lado, para o modelo LDA temos que o tópico 5 também está relacionado com essa temática, pois é composto pelas seguintes palavras:\"default\" e \"loan\". Desta maneira, seria interessante que o resultado do modelo para o primeiro texto, que verificamos anteriormente, aponte uma grande relação destes tópico com o texto. Para verificar tal fato vamos ver o resultado:"
   ]
  },
  {
   "cell_type": "code",
   "execution_count": 661,
   "metadata": {},
   "outputs": [
    {
     "data": {
      "text/plain": [
       "[(0, -0.06999607605107416),\n",
       " (1, 0.11728457178068975),\n",
       " (2, 0.6180707607023815),\n",
       " (3, -0.046382879979242043),\n",
       " (4, 0.5280192131389174),\n",
       " (5, -0.4850898061393002),\n",
       " (6, 0.27845882828293617),\n",
       " (7, -0.03209682335195001),\n",
       " (8, -0.066872346959),\n",
       " (9, 0.004918983571883014)]"
      ]
     },
     "execution_count": 661,
     "metadata": {},
     "output_type": "execute_result"
    }
   ],
   "source": [
    "#LSI:\n",
    "model[2][0]"
   ]
  },
  {
   "cell_type": "code",
   "execution_count": 662,
   "metadata": {},
   "outputs": [
    {
     "data": {
      "text/plain": [
       "[(0, 0.022505669),\n",
       " (1, 0.022505669),\n",
       " (2, 0.022505669),\n",
       " (3, 0.022505669),\n",
       " (4, 0.022505669),\n",
       " (5, 0.022505866),\n",
       " (6, 0.022505984),\n",
       " (7, 0.7974464),\n",
       " (8, 0.02250598),\n",
       " (9, 0.022507375)]"
      ]
     },
     "execution_count": 662,
     "metadata": {},
     "output_type": "execute_result"
    }
   ],
   "source": [
    "#LDA:\n",
    "model[3][0]"
   ]
  },
  {
   "cell_type": "markdown",
   "metadata": {},
   "source": [
    "Verificamos que:\n",
    "<ul>\n",
    "    <li>LSI: 2,4,5 possuem valores absolutos altos.</li>\n",
    "    <li>LDA: 5 possui valor maior.</li>\n",
    "</ul>\n",
    "\n",
    "E verificando cada um deles vemos que de fato o tema está bem similar ao que é descrito no texto procurado. Precisamos agora saber qual a quantidade ideal de temas a serem feitos, e para isso devemos olhar para o modelo e verificar algumas métricas. Idealmente quanto menor a \"perplexity\" e maior o \"Coeherence score\" melhor é o modelo. Vejamos então para o modelo acima como estão essas métricas:"
   ]
  },
  {
   "cell_type": "code",
   "execution_count": 766,
   "metadata": {},
   "outputs": [
    {
     "name": "stdout",
     "output_type": "stream",
     "text": [
      "\n",
      "Perplexity:  -11.184841965824676\n",
      "\n",
      "Coeherence Score:  0.5226788256057822\n"
     ]
    }
   ],
   "source": [
    "number_of_topics = 10\n",
    "modelo = LS(txt,number_of_topics)\n",
    "print('\\nPerplexity: ', model[5])\n",
    "print('\\nCoeherence Score: ', model[6])"
   ]
  },
  {
   "cell_type": "code",
   "execution_count": 834,
   "metadata": {},
   "outputs": [
    {
     "name": "stderr",
     "output_type": "stream",
     "text": [
      "WARNING:gensim.models.ldamodel:too few updates, training might not converge; consider increasing the number of passes or iterations to improve accuracy\n",
      "WARNING:gensim.models.ldamodel:too few updates, training might not converge; consider increasing the number of passes or iterations to improve accuracy\n",
      "WARNING:gensim.models.ldamodel:too few updates, training might not converge; consider increasing the number of passes or iterations to improve accuracy\n",
      "WARNING:gensim.models.ldamodel:too few updates, training might not converge; consider increasing the number of passes or iterations to improve accuracy\n",
      "WARNING:gensim.models.ldamodel:too few updates, training might not converge; consider increasing the number of passes or iterations to improve accuracy\n",
      "WARNING:gensim.models.ldamodel:too few updates, training might not converge; consider increasing the number of passes or iterations to improve accuracy\n",
      "WARNING:gensim.models.ldamodel:too few updates, training might not converge; consider increasing the number of passes or iterations to improve accuracy\n",
      "WARNING:gensim.models.ldamodel:too few updates, training might not converge; consider increasing the number of passes or iterations to improve accuracy\n",
      "WARNING:gensim.models.ldamodel:too few updates, training might not converge; consider increasing the number of passes or iterations to improve accuracy\n",
      "WARNING:gensim.models.ldamodel:too few updates, training might not converge; consider increasing the number of passes or iterations to improve accuracy\n"
     ]
    }
   ],
   "source": [
    "def coherence_values(txt, limit, start, step):\n",
    "    coherence_values = []\n",
    "    for num_topics in range(start, limit, step):\n",
    "        modelo = LS(txt,num_topics)\n",
    "        coherence_values.append(modelo[6])\n",
    "\n",
    "    return coherence_values\n",
    "\n",
    "def perplexity_values(txt, limit, start, step):\n",
    "    perplexity_values = []\n",
    "    for num_topics in range(start, limit, step):\n",
    "        modelo = LS(txt,num_topics)\n",
    "        perplexity_values.append(modelo[5])\n",
    "\n",
    "    return perplexity_values\n",
    "\n",
    "start = 2\n",
    "step = 3\n",
    "limit=15\n",
    "\n",
    "coherence_values = coherence_values(txt,limit,start, step)\n",
    "perplexity_values = perplexity_values(txt,limit,start, step)\n",
    "perplexity_values_abs = [i/np.sum(perplexity_values) for i in perplexity_values]"
   ]
  },
  {
   "cell_type": "code",
   "execution_count": 876,
   "metadata": {},
   "outputs": [
    {
     "data": {
      "image/png": "[encoded data removed]",
      "text/plain": [
       "<Figure size 432x288 with 1 Axes>"
      ]
     },
     "metadata": {
      "needs_background": "light"
     },
     "output_type": "display_data"
    }
   ],
   "source": [
    "x = range(start, limit, step)\n",
    "plt.plot(x, coherence_values)\n",
    "plt.plot(x, perplexity_values_abs)\n",
    "plt.xlabel(\"Num Topics\")\n",
    "plt.ylabel(\"Coherence score and Perplexity\")\n",
    "plt.legend(['CS','PX'])\n",
    "plt.show()"
   ]
  },
  {
   "cell_type": "markdown",
   "metadata": {},
   "source": [
    "Veja que a quantidade de tópicos ótima nos parece ser a de valor 8, além disso conforme o tamanho do corpus vai aumentando temos que o limite máximo de assuntos intutitivamente deve ser o tamanho do própriro corpus. Então, dado o tamanho do corpus encontramos o que possui o maior \"CS\". Outro ponto importante seria analisar o \"perplexity\", cujo valor quanto menor melhor (no caso do gráfico seria o maior, devido a normalização e o valor absoluto)."
   ]
  },
  {
   "cell_type": "code",
   "execution_count": 815,
   "metadata": {},
   "outputs": [
    {
     "data": {
      "text/plain": [
       "[(0, '0.225*\"album\" + 0.224*\"record\" + 0.223*\"band\" + 0.197*\"song\"'),\n",
       " (1, '-0.322*\"journalist\" + -0.293*\"cacm\" + -0.293*\"acm\" + -0.246*\"publish\"'),\n",
       " (2, '-0.308*\"default\" + -0.308*\"loan\" + -0.286*\"event\" + -0.256*\"bug\"'),\n",
       " (3, '0.367*\"opalesc\" + 0.306*\"fluctuat\" + -0.244*\"bratz\" + 0.201*\"bank\"'),\n",
       " (4, '0.373*\"bratz\" + -0.271*\"loan\" + -0.271*\"default\" + -0.229*\"event\"'),\n",
       " (5, '-0.290*\"opalesc\" + 0.251*\"default\" + 0.251*\"loan\" + 0.250*\"bank\"'),\n",
       " (6, '-0.569*\"bratz\" + 0.298*\"bug\" + 0.271*\"vs\" + -0.214*\"doll\"'),\n",
       " (7, '-0.301*\"wonder\" + 0.210*\"alabama\" + -0.172*\"photo\" + 0.168*\"johnni\"')]"
      ]
     },
     "execution_count": 815,
     "metadata": {},
     "output_type": "execute_result"
    }
   ],
   "source": [
    "modelo[0].print_topics(num_topics=8, num_words=4)"
   ]
  },
  {
   "cell_type": "code",
   "execution_count": 816,
   "metadata": {},
   "outputs": [
    {
     "name": "stderr",
     "output_type": "stream",
     "text": [
      "/home/novais/anaconda3/lib/python3.7/site-packages/pyLDAvis/_prepare.py:257: FutureWarning: Sorting because non-concatenation axis is not aligned. A future version\n",
      "of pandas will change to not sort by default.\n",
      "\n",
      "To accept the future behavior, pass 'sort=False'.\n",
      "\n",
      "To retain the current behavior and silence the warning, pass 'sort=True'.\n",
      "\n",
      "  return pd.concat([default_term_info] + list(topic_dfs))\n"
     ]
    },
    {
     "data": {
      "text/html": [
       "\n",
       "<link rel=\"stylesheet\" type=\"text/css\" href=\"https://cdn.rawgit.com/bmabey/pyLDAvis/files/ldavis.v1.0.0.css\">\n",
       "\n",
       "\n",
       "<div id=\"ldavis_el38161398761834952085221853955\"></div>\n",
       "<script type=\"text/javascript\">\n",
       "\n",
       "var ldavis_el38161398761834952085221853955_data = {\"mdsDat\": {\"x\": [0.00017965037383471883, 0.002361212165733616, -0.007852261511252158, -0.0007812394178482095, -0.0053921581288695775, 0.01122261458349994, 0.00013107179947965475, 0.00013111013542201422], \"y\": [-0.0003213840140770985, -0.0015019369646882474, -0.008023658541556358, -0.0007539750679090837, 0.01078715307234281, -0.00016213530196232945, -1.2020290824242149e-05, -1.2042891325440982e-05], \"topics\": [1, 2, 3, 4, 5, 6, 7, 8], \"cluster\": [1, 1, 1, 1, 1, 1, 1, 1], \"Freq\": [46.039546966552734, 11.21619701385498, 11.18463134765625, 6.31343412399292, 6.312902450561523, 6.312178134918213, 6.310553073883057, 6.310553073883057]}, \"tinfo\": {\"Category\": [\"Default\", \"Default\", \"Default\", \"Default\", \"Default\", \"Default\", \"Default\", \"Default\", \"Default\", \"Default\", \"Default\", \"Default\", \"Default\", \"Default\", \"Default\", \"Default\", \"Default\", \"Default\", \"Default\", \"Default\", \"Default\", \"Default\", \"Default\", \"Default\", \"Default\", \"Default\", \"Default\", \"Default\", \"Default\", \"Default\", \"Topic1\", \"Topic1\", \"Topic1\", \"Topic1\", \"Topic1\", \"Topic1\", \"Topic1\", \"Topic1\", \"Topic1\", \"Topic1\", \"Topic1\", \"Topic1\", \"Topic1\", \"Topic1\", \"Topic1\", \"Topic1\", \"Topic1\", \"Topic1\", \"Topic1\", \"Topic1\", \"Topic1\", \"Topic1\", \"Topic1\", \"Topic1\", \"Topic1\", \"Topic1\", \"Topic1\", \"Topic1\", \"Topic1\", \"Topic1\", \"Topic1\", \"Topic1\", \"Topic1\", \"Topic1\", \"Topic1\", \"Topic1\", \"Topic1\", \"Topic1\", \"Topic1\", \"Topic1\", \"Topic2\", \"Topic2\", \"Topic2\", \"Topic2\", \"Topic2\", \"Topic2\", \"Topic2\", \"Topic2\", \"Topic2\", \"Topic2\", \"Topic2\", \"Topic2\", \"Topic2\", \"Topic2\", \"Topic2\", \"Topic2\", \"Topic2\", \"Topic2\", \"Topic2\", \"Topic2\", \"Topic2\", \"Topic2\", \"Topic2\", \"Topic2\", \"Topic2\", \"Topic2\", \"Topic2\", \"Topic2\", \"Topic2\", \"Topic2\", \"Topic2\", \"Topic2\", \"Topic2\", \"Topic3\", \"Topic3\", \"Topic3\", \"Topic3\", \"Topic3\", \"Topic3\", \"Topic3\", \"Topic3\", \"Topic3\", \"Topic3\", \"Topic3\", \"Topic3\", \"Topic3\", \"Topic3\", \"Topic3\", \"Topic3\", \"Topic3\", \"Topic3\", \"Topic3\", \"Topic3\", \"Topic3\", \"Topic3\", \"Topic3\", \"Topic3\", \"Topic3\", \"Topic3\", \"Topic3\", \"Topic3\", \"Topic3\", \"Topic3\", \"Topic4\", \"Topic4\", \"Topic4\", \"Topic4\", \"Topic4\", \"Topic4\", \"Topic4\", \"Topic4\", \"Topic4\", \"Topic4\", \"Topic4\", \"Topic4\", \"Topic4\", \"Topic4\", \"Topic4\", \"Topic4\", \"Topic4\", \"Topic4\", \"Topic4\", \"Topic4\", \"Topic4\", \"Topic4\", \"Topic4\", \"Topic4\", \"Topic4\", \"Topic4\", \"Topic4\", \"Topic4\", \"Topic4\", \"Topic4\", \"Topic4\", \"Topic5\", \"Topic5\", \"Topic5\", \"Topic5\", \"Topic5\", \"Topic5\", \"Topic5\", \"Topic5\", \"Topic5\", \"Topic5\", \"Topic5\", \"Topic5\", \"Topic5\", \"Topic5\", \"Topic5\", \"Topic5\", \"Topic5\", \"Topic5\", \"Topic5\", \"Topic5\", \"Topic5\", \"Topic5\", \"Topic5\", \"Topic5\", \"Topic5\", \"Topic5\", \"Topic5\", \"Topic5\", \"Topic5\", \"Topic5\", \"Topic5\", \"Topic5\", \"Topic6\", \"Topic6\", \"Topic6\", \"Topic6\", \"Topic6\", \"Topic6\", \"Topic6\", \"Topic6\", \"Topic6\", \"Topic6\", \"Topic6\", \"Topic6\", \"Topic6\", \"Topic6\", \"Topic6\", \"Topic6\", \"Topic6\", \"Topic6\", \"Topic6\", \"Topic6\", \"Topic6\", \"Topic6\", \"Topic6\", \"Topic6\", \"Topic6\", \"Topic6\", \"Topic6\", \"Topic6\", \"Topic6\", \"Topic6\", \"Topic7\", \"Topic7\", \"Topic7\", \"Topic7\", \"Topic7\", \"Topic7\", \"Topic7\", \"Topic7\", \"Topic7\", \"Topic7\", \"Topic7\", \"Topic7\", \"Topic7\", \"Topic7\", \"Topic7\", \"Topic7\", \"Topic7\", \"Topic7\", \"Topic7\", \"Topic7\", \"Topic7\", \"Topic7\", \"Topic7\", \"Topic7\", \"Topic7\", \"Topic7\", \"Topic7\", \"Topic7\", \"Topic7\", \"Topic7\", \"Topic7\", \"Topic7\", \"Topic7\", \"Topic7\", \"Topic7\", \"Topic7\", \"Topic7\", \"Topic7\", \"Topic7\", \"Topic7\", \"Topic7\", \"Topic7\", \"Topic7\", \"Topic7\", \"Topic7\", \"Topic7\", \"Topic7\", \"Topic7\", \"Topic7\", \"Topic7\", \"Topic7\", \"Topic7\", \"Topic7\", \"Topic7\", \"Topic7\", \"Topic7\", \"Topic7\", \"Topic7\", \"Topic7\", \"Topic7\", \"Topic7\", \"Topic7\", \"Topic7\", \"Topic7\", \"Topic7\", \"Topic7\", \"Topic7\", \"Topic7\", \"Topic7\", \"Topic7\", \"Topic7\", \"Topic7\", \"Topic7\", \"Topic7\", \"Topic7\", \"Topic8\", \"Topic8\", \"Topic8\", \"Topic8\", \"Topic8\", \"Topic8\", \"Topic8\", \"Topic8\", \"Topic8\", \"Topic8\", \"Topic8\", \"Topic8\", \"Topic8\", \"Topic8\", \"Topic8\", \"Topic8\", \"Topic8\", \"Topic8\", \"Topic8\", \"Topic8\", \"Topic8\", \"Topic8\", \"Topic8\", \"Topic8\", \"Topic8\", \"Topic8\", \"Topic8\", \"Topic8\", \"Topic8\", \"Topic8\", \"Topic8\", \"Topic8\", \"Topic8\", \"Topic8\", \"Topic8\", \"Topic8\", \"Topic8\", \"Topic8\", \"Topic8\", \"Topic8\", \"Topic8\", \"Topic8\", \"Topic8\", \"Topic8\", \"Topic8\", \"Topic8\", \"Topic8\", \"Topic8\", \"Topic8\", \"Topic8\", \"Topic8\", \"Topic8\", \"Topic8\", \"Topic8\", \"Topic8\", \"Topic8\", \"Topic8\", \"Topic8\", \"Topic8\", \"Topic8\", \"Topic8\", \"Topic8\", \"Topic8\", \"Topic8\", \"Topic8\", \"Topic8\", \"Topic8\", \"Topic8\", \"Topic8\", \"Topic8\", \"Topic8\", \"Topic8\", \"Topic8\", \"Topic8\"], \"Freq\": [0.0, 0.0, 0.0, 0.0, 0.0, 0.0, 0.0, 0.0, 0.0, 0.0, 0.0, 0.0, 0.0, 0.0, 0.0, 0.0, 0.0, 0.0, 0.0, 0.0, 0.0, 0.0, 0.0, 0.0, 0.0, 0.0, 0.0, 0.0, 0.0, 0.0, 0.029963428154587746, 0.029962224885821342, 0.026926320046186447, 0.017936712130904198, 0.01793587952852249, 0.014317799359560013, 0.014317604713141918, 0.012199808843433857, 0.010113952681422234, 0.01011519692838192, 0.010114725679159164, 0.010114626958966255, 0.010115779004991055, 0.010114891454577446, 0.010114443488419056, 0.009056312963366508, 0.009055514819920063, 0.009056380949914455, 0.008305161260068417, 0.007723198737949133, 0.007246645167469978, 0.0068443045020103455, 0.0064631360583007336, 0.006844136398285627, 0.005912854336202145, 0.005912850610911846, 0.005912842694669962, 0.00591284828260541, 0.005912845954298973, 0.005912847351282835, 0.005912844557315111, 0.006188197992742062, 0.0059128436259925365, 0.005912842694669962, 0.005912844557315111, 0.005914610810577869, 0.0059140888042747974, 0.005914036184549332, 0.005913912784308195, 0.005913877859711647, 0.009801678359508514, 0.006677919067442417, 0.006677085999399424, 0.004509040154516697, 0.004718780517578125, 0.004146136809140444, 0.0037185517139732838, 0.0035663919989019632, 0.0034625947009772062, 0.0034621432423591614, 0.003566502593457699, 0.0030761149246245623, 0.0029998794198036194, 0.0028678628150373697, 0.002817318541929126, 0.0022706182207912207, 0.0022200101520866156, 0.002188843907788396, 0.0021187355741858482, 0.0021187146194279194, 0.002118702046573162, 0.0021186789963394403, 0.0021186554804444313, 0.002118623349815607, 0.002068872330710292, 0.0020438735373318195, 0.0020789781119674444, 0.002068046946078539, 0.0020679712761193514, 0.0020680075976997614, 0.002067975467070937, 0.002079016761854291, 0.002068024594336748, 0.005972080398350954, 0.005544847343116999, 0.0041090939193964005, 0.003831255016848445, 0.0036817730870097876, 0.00368170696310699, 0.003656630404293537, 0.0034031413961201906, 0.0037926638033241034, 0.00366927869617939, 0.003669657278805971, 0.003076523309573531, 0.003057648427784443, 0.0029746945947408676, 0.0029746415093541145, 0.0029745735228061676, 0.002952988725155592, 0.0029527514707297087, 0.0029531281907111406, 0.002843184396624565, 0.0027898713015019894, 0.0027579946909099817, 0.0025463609490543604, 0.002546340227127075, 0.0025463057681918144, 0.0025462210178375244, 0.0025462082121521235, 0.002530202269554138, 0.0025302269496023655, 0.0025268888566643, 0.003154981881380081, 0.002124096965417266, 0.0019521823851391673, 0.0019504902884364128, 0.001780434395186603, 0.0017803421942517161, 0.0017802792135626078, 0.0016086278483271599, 0.0016085966490209103, 0.0016085782554000616, 0.001608530175872147, 0.0016085276147350669, 0.0016085184179246426, 0.0014700349420309067, 0.0014367956900969148, 0.0014367700787261128, 0.0013499556807801127, 0.0013499243650585413, 0.0016384118935093284, 0.001350009930320084, 0.0012649750569835305, 0.0012649728450924158, 0.0012649723794311285, 0.0012649648124352098, 0.0012649607378989458, 0.0012649588752537966, 0.0012649487471207976, 0.001264949794858694, 0.001264947815798223, 0.0012649398995563388, 0.0013784692855551839, 0.0037729740142822266, 0.003267893334850669, 0.002744876081123948, 0.0023452388122677803, 0.0023450911976397038, 0.002345041139051318, 0.0023449044674634933, 0.002259208355098963, 0.0022591918241232634, 0.002143068937584758, 0.0021508056670427322, 0.0019452042179182172, 0.0019451918778941035, 0.0019449918763712049, 0.0017547312891110778, 0.0017547275638207793, 0.0017546538729220629, 0.0017546556191518903, 0.0017545756418257952, 0.0017545667942613363, 0.0017545210430398583, 0.0017545006703585386, 0.0017544904258102179, 0.002018529688939452, 0.0015840198611840606, 0.0015818590763956308, 0.0015453697415068746, 0.0015453455271199346, 0.0015453309752047062, 0.0015453362138941884, 0.001545331790111959, 0.0015819648979231715, 0.003987874835729599, 0.0032106905709952116, 0.0030095987021923065, 0.0025106649845838547, 0.002510673366487026, 0.0023864784743636847, 0.002386318054050207, 0.002386196283623576, 0.002215202199295163, 0.0022151058074086905, 0.0021116146817803383, 0.0018368730088695884, 0.0018368081655353308, 0.0018367908196523786, 0.0018367314478382468, 0.0016240491531789303, 0.001653744257055223, 0.001562042161822319, 0.0015620376216247678, 0.0015620419289916754, 0.0015620222548022866, 0.0015620109625160694, 0.001561999786645174, 0.0015619754558429122, 0.001561950077302754, 0.0015058662975206971, 0.00148845836520195, 0.0014883457915857434, 0.0013572113821282983, 0.0013571018353104591, 0.0008402701932936907, 0.0008402696694247425, 0.0008402693783864379, 0.0008402685634791851, 0.0008402687963098288, 0.0008402688545174897, 0.0008402685052715242, 0.0008402687381021678, 0.0008402682142332196, 0.0008402682724408805, 0.0008402676321566105, 0.0008402680396102369, 0.0008402677485719323, 0.000840267981402576, 0.000840267981402576, 0.0008402676903642714, 0.000840267981402576, 0.000840267981402576, 0.0008402679231949151, 0.0008402677485719323, 0.0008402674575336277, 0.0008402677485719323, 0.0008402676321566105, 0.0008402669336646795, 0.0008402679231949151, 0.0008402671664953232, 0.0008402671664953232, 0.0008402671664953232, 0.0008402672247029841, 0.0008402676321566105, 0.0008402673993259668, 0.0008402672247029841, 0.0008402672247029841, 0.0008402673993259668, 0.0008402671082876623, 0.0008402671664953232, 0.0008402671664953232, 0.0008402672247029841, 0.0008402669336646795, 0.0008402672247029841, 0.0008402669336646795, 0.000840266584418714, 0.0008402668754570186, 0.0008402672247029841, 0.0008402669336646795, 0.0008405053522437811, 0.0008404897525906563, 0.0008404740365222096, 0.0008404586696997285, 0.0008404579130001366, 0.0008404548862017691, 0.0008404548279941082, 0.0008404407999478281, 0.0008404299733228981, 0.0008404200780205429, 0.0008404087275266647, 0.0008403972606174648, 0.0008403878309763968, 0.0008403856190852821, 0.0008403853280469775, 0.0008403740939684212, 0.0008403741521760821, 0.0008403662941418588, 0.0008403583196923137, 0.0008403563406318426, 0.000840354769024998, 0.0008403545361943543, 0.0008403531974181533, 0.0008403525571338832, 0.0008403498795814812, 0.0008403492975048721, 0.0008403472602367401, 0.0008403470274060965, 0.0008403461542911828, 0.00084034533938393, 0.0008402701932936907, 0.0008402687381021678, 0.0008402687963098288, 0.0008402685052715242, 0.0008402683306485415, 0.0008402682724408805, 0.0008402680396102369, 0.0008402679231949151, 0.0008402677485719323, 0.0008402674575336277, 0.0008402679231949151, 0.0008402680396102369, 0.0008402677485719323, 0.0008402679231949151, 0.000840267981402576, 0.0008402676903642714, 0.0008402680396102369, 0.0008402677485719323, 0.0008402677485719323, 0.0008402674575336277, 0.0008402673993259668, 0.0008402674575336277, 0.0008402679231949151, 0.0008402671664953232, 0.0008402673993259668, 0.0008402673993259668, 0.0008402673993259668, 0.0008402673993259668, 0.0008402676903642714, 0.0008402674575336277, 0.0008402673993259668, 0.0008402676321566105, 0.0008402673993259668, 0.0008402671664953232, 0.0008402673993259668, 0.0008402671082876623, 0.0008402671664953232, 0.0008402671082876623, 0.0008402669336646795, 0.0008402672247029841, 0.0008402671082876623, 0.0008402671664953232, 0.0008402669336646795, 0.0008402671664953232, 0.0008404978434555233, 0.0008404904510825872, 0.0008404888212680817, 0.0008404816035181284, 0.0008404714171774685, 0.0008404716500081122, 0.0008404699619859457, 0.0008404274703934789, 0.0008404104155488312, 0.000840409251395613, 0.0008404040127061307, 0.0008403889951296151, 0.0008403884130530059, 0.0008403861429542303, 0.0008403825922869146, 0.0008403793326579034, 0.0008403771789744496, 0.0008403715910390019, 0.0008403653046116233, 0.0008403574465774, 0.0008403576212003827, 0.0008403551182709634, 0.0008403517422266304, 0.0008403511601500213, 0.0008403503452427685, 0.0008403492975048721, 0.0008403490646742284, 0.0008403470274060965, 0.0008403448737226427, 0.0008403420215472579], \"Term\": [\"bratz\", \"journalist\", \"opalesc\", \"fluctuat\", \"bank\", \"wonder\", \"acm\", \"cacm\", \"organ\", \"alabama\", \"bug\", \"freedom\", \"press\", \"vs\", \"band\", \"charg\", \"hvb\", \"mollath\", \"johnni\", \"cox\", \"thunderpussi\", \"erik\", \"publish\", \"liquid\", \"phenomenon\", \"album\", \"record\", \"annual\", \"director\", \"critic\", \"default\", \"loan\", \"event\", \"lender\", \"occurr\", \"allow\", \"normal\", \"advanc\", \"revolv\", \"term\", \"there\", \"date\", \"demand\", \"commerci\", \"refer\", \"type\", \"due\", \"known\", \"make\", \"use\", \"two\", \"it\", \"also\", \"in\", \"see\", \"resembl\", \"mix\", \"newborn\", \"yasmin\", \"cite\", \"21\", \"\", \"youtub\", \"with\", \"sought\", \"cacm\", \"bratz\", \"acm\", \"opalesc\", \"journalist\", \"bratz\", \"acm\", \"cacm\", \"doll\", \"publish\", \"mga\", \"comput\", \"mattel\", \"communic\", \"research\", \"journal\", \"magazin\", \"articl\", \"inform\", \"scienc\", \"intend\", \"file\", \"entertain\", \"great\", \"system\", \"sent\", \"practic\", \"manag\", \"100\", \"number\", \"babyz\", \"court\", \"000\", \"count\", \"often\", \"relev\", \"product\", \"background\", \"bug\", \"vs\", \"song\", \"sound\", \"wwe\", \"stone\", \"episod\", \"spider\", \"record\", \"album\", \"band\", \"self\", \"program\", \"natur\", \"monster\", \"fight\", \"film\", \"2010\", \"12\", \"we\", \"season\", \"war\", \"ant\", \"narrat\", \"7\", \"green\", \"entomologist\", \"are\", \"announc\", \"titl\", \"wonder\", \"photo\", \"motown\", \"king\", \"luther\", \"white\", \"martin\", \"b\", \"stand\", \"love\", \"stevi\", \"birthday\", \"hotter\", \"i\", \"black\", \"sleev\", \"us\", \"imag\", \"album\", \"background\", \"track\", \"african\", \"text\", \"morri\", \"ain\", \"gonna\", \"marley\", \"1980\", \"dream\", \"helmet\", \"song\", \"opalesc\", \"fluctuat\", \"alabama\", \"johnni\", \"cox\", \"thunderpussi\", \"erik\", \"liquid\", \"phenomenon\", \"larson\", \"critic\", \"throckmorton\", \"weill\", \"atp\", \"densiti\", \"light\", \"einstein\", \"transit\", \"point\", \"gas\", \"size\", \"scatter\", \"link\", \"band\", \"former\", \"bryan\", \"25\", \"ruin\", \"relaps\", \"1996\", \"asechiah\", \"record\", \"journalist\", \"bank\", \"organ\", \"press\", \"freedom\", \"charg\", \"hvb\", \"mollath\", \"annual\", \"director\", \"ag\", \"unicredit\", \"bayerisch\", \"raid\", \"und\", \"cpj\", \"report\", \"launder\", \"munich\", \"money\", \"hypovereinsbank\", \"vereinsbank\", \"investig\", \"tagesschau\", \"accept\", \"wife\", \"news\", \"intern\", \"express\", \"committe\", \"see\", \"99\", \"mix\", \"angelz\", \"resembl\", \"su\", \"forc\", \"off\", \"old\", \"dollar\", \"ensur\", \"inc\", \"with\", \"requir\", \"idea\", \"mart\", \"pari\", \"newborn\", \"collect\", \"21\", \"carter\", \"0\", \"owner\", \"pend\", \"sought\", \"star\", \"rate\", \"sasha\", \"controversi\", \"cite\", \"portray\", \"china\", \"yasmin\", \"recal\", \"trade\", \"madden\", \"circuit\", \"receiv\", \"jade\", \"initi\", \"custom\", \"psycholog\", \"negat\", \"perman\", \"shoe\", \"loan\", \"default\", \"cacm\", \"event\", \"bug\", \"opalesc\", \"publish\", \"acm\", \"occurr\", \"fluctuat\", \"bratz\", \"journalist\", \"normal\", \"lender\", \"critic\", \"journal\", \"articl\", \"band\", \"phenomenon\", \"record\", \"advanc\", \"bank\", \"mollath\", \"organ\", \"album\", \"liquid\", \"alabama\", \"vs\", \"comput\", \"research\", \"resembl\", \"99\", \"see\", \"angelz\", \"ensur\", \"pend\", \"dollar\", \"forc\", \"old\", \"mix\", \"sasha\", \"yasmin\", \"mart\", \"british\", \"21\", \"rate\", \"negat\", \"inc\", \"could\", \"su\", \"with\", \"2001\", \"bbc\", \"star\", \"custom\", \"jade\", \"requir\", \"think\", \"sought\", \"collect\", \"steve\", \"cite\", \"whisper\", \"return\", \"youtub\", \"madden\", \"ninth\", \"off\", \"owner\", \"far\", \"controversi\", \"februari\", \"compet\", \"perman\", \"default\", \"fluctuat\", \"cacm\", \"event\", \"acm\", \"loan\", \"publish\", \"bug\", \"bratz\", \"journalist\", \"lender\", \"opalesc\", \"normal\", \"bank\", \"organ\", \"critic\", \"occurr\", \"album\", \"vs\", \"mollath\", \"alabama\", \"phenomenon\", \"press\", \"band\", \"allow\", \"mga\", \"research\", \"record\", \"revolv\", \"journal\"], \"Total\": [0.0, 0.0, 0.0, 0.0, 0.0, 0.0, 0.0, 0.0, 0.0, 0.0, 0.0, 0.0, 0.0, 0.0, 0.0, 0.0, 0.0, 0.0, 0.0, 0.0, 0.0, 0.0, 0.0, 0.0, 0.0, 0.0, 0.0, 0.0, 0.0, 0.0, 0.03645835071802139, 0.03645732253789902, 0.03372052684426308, 0.02443096414208412, 0.024430247023701668, 0.020862337201833725, 0.021164309233427048, 0.019344007596373558, 0.016658317297697067, 0.016710110008716583, 0.016709713265299797, 0.01670960523188114, 0.016729367896914482, 0.016728602349758148, 0.01680023781955242, 0.015811722725629807, 0.015848945826292038, 0.01607544720172882, 0.015221218578517437, 0.01557761337608099, 0.014722355641424656, 0.014188946224749088, 0.013434270396828651, 0.014236622489988804, 0.012551064603030682, 0.01255106832832098, 0.012551063671708107, 0.012551075778901577, 0.012551073916256428, 0.0125510785728693, 0.012551072984933853, 0.013710053637623787, 0.012551079504191875, 0.012551069259643555, 0.0125510785728693, 0.017767516896128654, 0.020891115069389343, 0.017767539247870445, 0.015435532666742802, 0.01565852016210556, 0.020891115069389343, 0.017767539247870445, 0.017767516896128654, 0.015596938319504261, 0.016426092013716698, 0.015234329737722874, 0.014806750230491161, 0.014654180966317654, 0.0145507687702775, 0.014550603926181793, 0.015067885629832745, 0.014318572357296944, 0.014386564493179321, 0.01395568996667862, 0.014204579405486584, 0.01335819996893406, 0.0133076636120677, 0.013276283629238605, 0.013206248171627522, 0.013206257484853268, 0.013206240721046925, 0.013206261210143566, 0.013206223957240582, 0.013206221163272858, 0.01324616651982069, 0.013131245970726013, 0.013358578085899353, 0.013347748667001724, 0.013362214900553226, 0.013455013744533062, 0.013508518226444721, 0.013765388168394566, 0.013756178319454193, 0.017118966206908226, 0.016690922901034355, 0.015921398997306824, 0.014976928010582924, 0.014827137812972069, 0.014827092178165913, 0.014954132959246635, 0.014548496343195438, 0.01622396521270275, 0.016239095479249954, 0.016272462904453278, 0.014221860095858574, 0.014253723435103893, 0.014120045118033886, 0.014119920320808887, 0.014119932428002357, 0.014199710451066494, 0.014402313157916069, 0.014482639729976654, 0.014206089079380035, 0.013973157852888107, 0.014023651368916035, 0.01369153056293726, 0.01369148027151823, 0.013691493310034275, 0.013691471889615059, 0.013691499829292297, 0.01379540003836155, 0.013827311806380749, 0.01387559249997139, 0.014812140725553036, 0.01378093846142292, 0.013609044253826141, 0.014030365273356438, 0.013437200337648392, 0.013437244109809399, 0.013437234796583652, 0.01326533779501915, 0.013265373185276985, 0.013265327550470829, 0.013265359215438366, 0.013265344314277172, 0.013265344314277172, 0.013177505694329739, 0.013093482702970505, 0.013093503192067146, 0.013108056038618088, 0.013108043000102043, 0.016239095479249954, 0.013756178319454193, 0.012921614572405815, 0.012921628542244434, 0.012921630404889584, 0.012921630404889584, 0.012921616435050964, 0.012921642512083054, 0.012921623885631561, 0.012921636924147606, 0.012921619229018688, 0.012921621091663837, 0.015921398997306824, 0.015435532666742802, 0.014930669218301773, 0.014406601898372173, 0.01400638185441494, 0.014006507582962513, 0.014006456360220909, 0.014006624929606915, 0.013920730911195278, 0.013920817524194717, 0.01405770517885685, 0.014206442050635815, 0.013606339693069458, 0.013606436550617218, 0.01360643096268177, 0.013415765017271042, 0.01341586746275425, 0.013415836729109287, 0.01341591589152813, 0.013415856286883354, 0.01341595035046339, 0.013415941968560219, 0.013415970839560032, 0.013415969908237457, 0.016272462904453278, 0.013437178917229176, 0.013504833914339542, 0.013206147588789463, 0.013206233270466328, 0.01320618111640215, 0.01320622581988573, 0.01320625003427267, 0.01622396521270275, 0.01565852016210556, 0.014880734495818615, 0.014730129390954971, 0.014180019497871399, 0.014180118218064308, 0.014055654406547546, 0.014055723324418068, 0.014055673032999039, 0.013884386047720909, 0.013884328305721283, 0.013780689798295498, 0.013505758717656136, 0.013505779206752777, 0.013505902141332626, 0.013505796901881695, 0.013293137773871422, 0.013754415325820446, 0.013230844400823116, 0.01323081087321043, 0.013230882585048676, 0.013230851851403713, 0.01323089562356472, 0.013230903074145317, 0.013230872340500355, 0.013230890966951847, 0.013294944539666176, 0.013233219273388386, 0.01347396057099104, 0.01307670772075653, 0.013076799921691418, 0.012551064603030682, 0.012551062740385532, 0.012551063671708107, 0.012551060877740383, 0.01255106832832098, 0.01255107019096613, 0.012551069259643555, 0.012551073916256428, 0.01255106646567583, 0.01255106832832098, 0.012551059015095234, 0.012551071122288704, 0.012551069259643555, 0.012551072984933853, 0.012551072984933853, 0.01255107019096613, 0.012551073916256428, 0.012551075778901577, 0.012551075778901577, 0.012551072984933853, 0.012551069259643555, 0.012551073916256428, 0.012551071122288704, 0.012551064603030682, 0.0125510785728693, 0.01255106832832098, 0.01255107019096613, 0.01255107019096613, 0.012551072053611279, 0.0125510785728693, 0.012551074847579002, 0.012551074847579002, 0.012551073916256428, 0.012551077641546726, 0.012551072984933853, 0.012551072984933853, 0.012551074847579002, 0.012551075778901577, 0.012551072984933853, 0.012551079504191875, 0.012551073916256428, 0.0125510785728693, 0.012551075778901577, 0.012551077641546726, 0.0125510785728693, 0.03645732253789902, 0.03645835071802139, 0.017767516896128654, 0.03372052684426308, 0.017118966206908226, 0.015435532666742802, 0.016426092013716698, 0.017767539247870445, 0.024430247023701668, 0.014930669218301773, 0.020891115069389343, 0.01565852016210556, 0.021164309233427048, 0.02443096414208412, 0.014206442050635815, 0.015067885629832745, 0.014386564493179321, 0.016272462904453278, 0.013920817524194717, 0.01622396521270275, 0.019344007596373558, 0.014880734495818615, 0.014055673032999039, 0.014730129390954971, 0.016239095479249954, 0.013920730911195278, 0.014406601898372173, 0.016690922901034355, 0.014806750230491161, 0.014550603926181793, 0.01255106832832098, 0.012551062740385532, 0.012551064603030682, 0.012551060877740383, 0.012551059015095234, 0.012551064603030682, 0.01255106832832098, 0.012551069259643555, 0.01255106646567583, 0.012551063671708107, 0.01255107019096613, 0.012551073916256428, 0.01255107019096613, 0.012551071122288704, 0.012551072984933853, 0.01255107019096613, 0.012551075778901577, 0.012551071122288704, 0.012551072984933853, 0.01255107019096613, 0.012551069259643555, 0.01255107019096613, 0.0125510785728693, 0.01255106832832098, 0.012551073916256428, 0.012551072984933853, 0.012551072984933853, 0.012551072984933853, 0.0125510785728693, 0.012551075778901577, 0.012551074847579002, 0.0125510785728693, 0.012551074847579002, 0.012551072984933853, 0.012551079504191875, 0.012551072984933853, 0.012551074847579002, 0.012551073916256428, 0.012551071122288704, 0.012551077641546726, 0.012551072053611279, 0.012551075778901577, 0.0125510822981596, 0.012551077641546726, 0.03645835071802139, 0.014930669218301773, 0.017767516896128654, 0.03372052684426308, 0.017767539247870445, 0.03645732253789902, 0.016426092013716698, 0.017118966206908226, 0.020891115069389343, 0.01565852016210556, 0.02443096414208412, 0.015435532666742802, 0.021164309233427048, 0.014880734495818615, 0.014730129390954971, 0.014206442050635815, 0.024430247023701668, 0.016239095479249954, 0.016690922901034355, 0.014055673032999039, 0.014406601898372173, 0.013920817524194717, 0.014180019497871399, 0.016272462904453278, 0.020862337201833725, 0.015234329737722874, 0.014550603926181793, 0.01622396521270275, 0.016658317297697067, 0.015067885629832745], \"loglift\": [30.0, 29.0, 28.0, 27.0, 26.0, 25.0, 24.0, 23.0, 22.0, 21.0, 20.0, 19.0, 18.0, 17.0, 16.0, 15.0, 14.0, 13.0, 12.0, 11.0, 10.0, 9.0, 8.0, 7.0, 6.0, 5.0, 4.0, 3.0, 2.0, 1.0, 0.5795000195503235, 0.5795000195503235, 0.5507000088691711, 0.4666999876499176, 0.4666999876499176, 0.3991999924182892, 0.384799987077713, 0.31470000743865967, 0.2766999900341034, 0.2736999988555908, 0.2736999988555908, 0.2736999988555908, 0.272599995136261, 0.272599995136261, 0.26820001006126404, 0.2184000015258789, 0.2159000039100647, 0.20180000364780426, 0.16990000009536743, 0.07410000264644623, 0.06679999828338623, 0.04659999907016754, 0.04399999976158142, 0.04320000112056732, 0.023000000044703484, 0.023000000044703484, 0.023000000044703484, 0.023000000044703484, 0.023000000044703484, 0.023000000044703484, 0.023000000044703484, -0.01979999989271164, 0.023000000044703484, 0.023000000044703484, 0.023000000044703484, -0.32429999113082886, -0.486299991607666, -0.32440000772476196, -0.18369999527931213, -0.1979999989271164, 1.430999994277954, 1.2092000246047974, 1.2091000080108643, 0.9467999935150146, 0.940500020980835, 0.8863999843597412, 0.8061000108718872, 0.7746000289916992, 0.7522000074386597, 0.7520999908447266, 0.7468000054359436, 0.6499000191688538, 0.6201000213623047, 0.6054999828338623, 0.5699999928474426, 0.4156999886035919, 0.3970000147819519, 0.38519999384880066, 0.3578999936580658, 0.3578999936580658, 0.3578999936580658, 0.3578999936580658, 0.3578999936580658, 0.3578999936580658, 0.3310999870300293, 0.3276999890804291, 0.32749998569488525, 0.3231000006198883, 0.32190001010894775, 0.3149999976158142, 0.3111000061035156, 0.29750001430511475, 0.2928999960422516, 1.1375000476837158, 1.0886000394821167, 0.8361999988555908, 0.8273000121116638, 0.7975999712944031, 0.7975000143051147, 0.7821999788284302, 0.7378000020980835, 0.7372000217437744, 0.7031999826431274, 0.7013000249862671, 0.659600019454956, 0.6513000130653381, 0.6331999897956848, 0.6331999897956848, 0.6330999732017517, 0.620199978351593, 0.6060000061988831, 0.6004999876022339, 0.5819000005722046, 0.5795000195503235, 0.5644000172615051, 0.5084999799728394, 0.5084999799728394, 0.5084999799728394, 0.5084999799728394, 0.5084999799728394, 0.49459999799728394, 0.49230000376701355, 0.48750001192092896, 1.215999960899353, 0.8925999999046326, 0.8206999897956848, 0.7893000245094299, 0.7412999868392944, 0.7412999868392944, 0.7411999702453613, 0.6527000069618225, 0.6527000069618225, 0.6527000069618225, 0.6527000069618225, 0.6527000069618225, 0.6525999903678894, 0.5692999958992004, 0.5527999997138977, 0.5527999997138977, 0.489300012588501, 0.489300012588501, 0.46880000829696655, 0.44110000133514404, 0.43860000371932983, 0.43860000371932983, 0.43860000371932983, 0.43860000371932983, 0.43860000371932983, 0.43860000371932983, 0.43860000371932983, 0.43860000371932983, 0.43860000371932983, 0.43860000371932983, 0.3158000111579895, 1.3538000583648682, 1.243299961090088, 1.104599952697754, 0.9753999710083008, 0.9753999710083008, 0.9753999710083008, 0.9753000140190125, 0.9441999793052673, 0.9441999793052673, 0.881600022315979, 0.8747000098228455, 0.8173999786376953, 0.8173999786376953, 0.817300021648407, 0.7285000085830688, 0.7285000085830688, 0.7283999919891357, 0.7283999919891357, 0.7283999919891357, 0.7283999919891357, 0.7282999753952026, 0.7282999753952026, 0.7282999753952026, 0.6754999756813049, 0.6244999766349792, 0.6180999875068665, 0.6172000169754028, 0.6171000003814697, 0.6171000003814697, 0.6171000003814697, 0.6171000003814697, 0.43479999899864197, 1.3948999643325806, 1.229099988937378, 1.1746000051498413, 1.0313999652862549, 1.0313999652862549, 0.9894999861717224, 0.9894000291824341, 0.9894000291824341, 0.927299976348877, 0.9272000193595886, 0.886900007724762, 0.7675999999046326, 0.7675999999046326, 0.7675999999046326, 0.7675999999046326, 0.6603999733924866, 0.6444000005722046, 0.6261000037193298, 0.6261000037193298, 0.6261000037193298, 0.6261000037193298, 0.6261000037193298, 0.6261000037193298, 0.6261000037193298, 0.6261000037193298, 0.5846999883651733, 0.5777000188827515, 0.5595999956130981, 0.49729999899864197, 0.49720001220703125, 0.05909999832510948, 0.05909999832510948, 0.05909999832510948, 0.05909999832510948, 0.05909999832510948, 0.05909999832510948, 0.05909999832510948, 0.05909999832510948, 0.05909999832510948, 0.05909999832510948, 0.05909999832510948, 0.05909999832510948, 0.05909999832510948, 0.05909999832510948, 0.05909999832510948, 0.05909999832510948, 0.05909999832510948, 0.05909999832510948, 0.05909999832510948, 0.05909999832510948, 0.05909999832510948, 0.05909999832510948, 0.05909999832510948, 0.05909999832510948, 0.05909999832510948, 0.05909999832510948, 0.05909999832510948, 0.05909999832510948, 0.05909999832510948, 0.05909999832510948, 0.05909999832510948, 0.05909999832510948, 0.05909999832510948, 0.05909999832510948, 0.05909999832510948, 0.05909999832510948, 0.05909999832510948, 0.05909999832510948, 0.05909999832510948, 0.05909999832510948, 0.05909999832510948, 0.05909999832510948, 0.05909999832510948, 0.05909999832510948, 0.05909999832510948, -1.0068999528884888, -1.0069999694824219, -0.2881999909877777, -0.9290000200271606, -0.25099998712539673, -0.14749999344348907, -0.20970000326633453, -0.2883000075817108, -0.6067000031471252, -0.11429999768733978, -0.45019999146461487, -0.16189999878406525, -0.4632999897003174, -0.6068000197410583, -0.06459999829530716, -0.12349999696016312, -0.07729999721050262, -0.2003999948501587, -0.04439999908208847, -0.19750000536441803, -0.3734000027179718, -0.11110000312328339, -0.05400000140070915, -0.10090000182390213, -0.19840000569820404, -0.04439999908208847, -0.0786999985575676, -0.22589999437332153, -0.10610000044107437, -0.08860000222921371, 0.05909999832510948, 0.05909999832510948, 0.05909999832510948, 0.05909999832510948, 0.05909999832510948, 0.05909999832510948, 0.05909999832510948, 0.05909999832510948, 0.05909999832510948, 0.05909999832510948, 0.05909999832510948, 0.05909999832510948, 0.05909999832510948, 0.05909999832510948, 0.05909999832510948, 0.05909999832510948, 0.05909999832510948, 0.05909999832510948, 0.05909999832510948, 0.05909999832510948, 0.05909999832510948, 0.05909999832510948, 0.05909999832510948, 0.05909999832510948, 0.05909999832510948, 0.05909999832510948, 0.05909999832510948, 0.05909999832510948, 0.05909999832510948, 0.05909999832510948, 0.05909999832510948, 0.05909999832510948, 0.05909999832510948, 0.05909999832510948, 0.05909999832510948, 0.05909999832510948, 0.05909999832510948, 0.05909999832510948, 0.05909999832510948, 0.05909999832510948, 0.05909999832510948, 0.05909999832510948, 0.05909999832510948, 0.05909999832510948, -1.0069999694824219, -0.11420000344514847, -0.2881999909877777, -0.9289000034332275, -0.2881999909877777, -1.0069999694824219, -0.20970000326633453, -0.25110000371932983, -0.45019999146461487, -0.16189999878406525, -0.6068000197410583, -0.147599995136261, -0.4632999897003174, -0.11100000143051147, -0.10080000013113022, -0.06469999998807907, -0.6068000197410583, -0.19840000569820404, -0.22579999268054962, -0.05400000140070915, -0.0786999985575676, -0.04439999908208847, -0.06279999762773514, -0.2004999965429306, -0.4489000141620636, -0.13449999690055847, -0.08860000222921371, -0.19750000536441803, -0.22390000522136688, -0.12359999865293503], \"logprob\": [30.0, 29.0, 28.0, 27.0, 26.0, 25.0, 24.0, 23.0, 22.0, 21.0, 20.0, 19.0, 18.0, 17.0, 16.0, 15.0, 14.0, 13.0, 12.0, 11.0, 10.0, 9.0, 8.0, 7.0, 6.0, 5.0, 4.0, 3.0, 2.0, 1.0, -5.0346999168396, -5.0346999168396, -5.141600131988525, -5.547800064086914, -5.547900199890137, -5.773200035095215, -5.773200035095215, -5.933300018310547, -6.120800018310547, -6.12060022354126, -6.120699882507324, -6.120699882507324, -6.12060022354126, -6.120699882507324, -6.120699882507324, -6.231200218200684, -6.231299877166748, -6.231200218200684, -6.317800045013428, -6.390399932861328, -6.454100131988525, -6.511300086975098, -6.568600177764893, -6.511300086975098, -6.65749979019165, -6.65749979019165, -6.65749979019165, -6.65749979019165, -6.65749979019165, -6.65749979019165, -6.65749979019165, -6.611999988555908, -6.65749979019165, -6.65749979019165, -6.65749979019165, -6.657199859619141, -6.657299995422363, -6.657299995422363, -6.657400131225586, -6.657400131225586, -4.739999771118164, -5.123700141906738, -5.123799800872803, -5.51639986038208, -5.4710001945495605, -5.600399971008301, -5.709199905395508, -5.750999927520752, -5.7804999351501465, -5.780600070953369, -5.750899791717529, -5.898900032043457, -5.923999786376953, -5.968999862670898, -5.986700057983398, -6.202499866485596, -6.224999904632568, -6.239200115203857, -6.271699905395508, -6.271699905395508, -6.271699905395508, -6.271699905395508, -6.271699905395508, -6.2718000411987305, -6.295499801635742, -6.307700157165527, -6.2906999588012695, -6.295899868011475, -6.296000003814697, -6.295899868011475, -6.296000003814697, -6.290599822998047, -6.295899868011475, -5.232600212097168, -5.30679988861084, -5.606500148773193, -5.676499843597412, -5.716300010681152, -5.716300010681152, -5.723199844360352, -5.795000076293945, -5.686600208282471, -5.719699859619141, -5.719600200653076, -5.895899772644043, -5.902100086212158, -5.929599761962891, -5.929599761962891, -5.929599761962891, -5.9369001388549805, -5.936999797821045, -5.936800003051758, -5.974800109863281, -5.99370002746582, -6.005199909210205, -6.085000038146973, -6.085100173950195, -6.085100173950195, -6.085100173950195, -6.085100173950195, -6.091400146484375, -6.091400146484375, -6.092700004577637, -5.298900127410889, -5.694499969482422, -5.778900146484375, -5.779799938201904, -5.870999813079834, -5.870999813079834, -5.871099948883057, -5.972499847412109, -5.972499847412109, -5.972499847412109, -5.972499847412109, -5.972499847412109, -5.972499847412109, -6.062600135803223, -6.085400104522705, -6.0854997634887695, -6.147799968719482, -6.147799968719482, -5.954100131988525, -6.14769983291626, -6.212800025939941, -6.212800025939941, -6.212800025939941, -6.212800025939941, -6.212800025939941, -6.212800025939941, -6.212800025939941, -6.212800025939941, -6.212800025939941, -6.212800025939941, -6.1269001960754395, -5.119900226593018, -5.263599872589111, -5.438000202178955, -5.595399856567383, -5.595399856567383, -5.5954999923706055, -5.5954999923706055, -5.632800102233887, -5.632800102233887, -5.685500144958496, -5.6819000244140625, -5.782400131225586, -5.782400131225586, -5.78249979019165, -5.88539981842041, -5.885499954223633, -5.885499954223633, -5.885499954223633, -5.885499954223633, -5.885499954223633, -5.8856000900268555, -5.8856000900268555, -5.8856000900268555, -5.7453999519348145, -5.987800121307373, -5.989200115203857, -6.012499809265137, -6.012499809265137, -6.012499809265137, -6.012499809265137, -6.012499809265137, -5.989099979400635, -5.0644001960754395, -5.281199932098389, -5.345799922943115, -5.527100086212158, -5.527100086212158, -5.5777997970581055, -5.577899932861328, -5.578000068664551, -5.652299880981445, -5.652400016784668, -5.700200080871582, -5.839600086212158, -5.839600086212158, -5.839600086212158, -5.839700222015381, -5.962699890136719, -5.9446001052856445, -6.001699924468994, -6.001699924468994, -6.001699924468994, -6.001699924468994, -6.001699924468994, -6.001699924468994, -6.001699924468994, -6.001699924468994, -6.038300037384033, -6.049900054931641, -6.050000190734863, -6.142199993133545, -6.142300128936768, -6.621399879455566, -6.621399879455566, -6.621399879455566, -6.621399879455566, -6.621399879455566, -6.621399879455566, -6.621399879455566, -6.621399879455566, -6.621399879455566, -6.621399879455566, -6.621399879455566, -6.621399879455566, -6.621399879455566, -6.621399879455566, -6.621399879455566, -6.621399879455566, -6.621399879455566, -6.621399879455566, -6.621399879455566, -6.621399879455566, -6.621399879455566, -6.621399879455566, -6.621399879455566, -6.621399879455566, -6.621399879455566, -6.621399879455566, -6.621399879455566, -6.621399879455566, -6.621399879455566, -6.621399879455566, -6.621399879455566, -6.621399879455566, -6.621399879455566, -6.621399879455566, -6.621399879455566, -6.621399879455566, -6.621399879455566, -6.621399879455566, -6.621399879455566, -6.621399879455566, -6.621399879455566, -6.621399879455566, -6.621399879455566, -6.621399879455566, -6.621399879455566, -6.621099948883057, -6.621200084686279, -6.621200084686279, -6.621200084686279, -6.621200084686279, -6.621200084686279, -6.621200084686279, -6.621200084686279, -6.621200084686279, -6.621200084686279, -6.621300220489502, -6.621300220489502, -6.621300220489502, -6.621300220489502, -6.621300220489502, -6.621300220489502, -6.621300220489502, -6.621300220489502, -6.621300220489502, -6.621300220489502, -6.621300220489502, -6.621300220489502, -6.621300220489502, -6.621300220489502, -6.621300220489502, -6.621300220489502, -6.621300220489502, -6.621300220489502, -6.621300220489502, -6.621300220489502, -6.621399879455566, -6.621399879455566, -6.621399879455566, -6.621399879455566, -6.621399879455566, -6.621399879455566, -6.621399879455566, -6.621399879455566, -6.621399879455566, -6.621399879455566, -6.621399879455566, -6.621399879455566, -6.621399879455566, -6.621399879455566, -6.621399879455566, -6.621399879455566, -6.621399879455566, -6.621399879455566, -6.621399879455566, -6.621399879455566, -6.621399879455566, -6.621399879455566, -6.621399879455566, -6.621399879455566, -6.621399879455566, -6.621399879455566, -6.621399879455566, -6.621399879455566, -6.621399879455566, -6.621399879455566, -6.621399879455566, -6.621399879455566, -6.621399879455566, -6.621399879455566, -6.621399879455566, -6.621399879455566, -6.621399879455566, -6.621399879455566, -6.621399879455566, -6.621399879455566, -6.621399879455566, -6.621399879455566, -6.621399879455566, -6.621399879455566, -6.621200084686279, -6.621200084686279, -6.621200084686279, -6.621200084686279, -6.621200084686279, -6.621200084686279, -6.621200084686279, -6.621200084686279, -6.621300220489502, -6.621300220489502, -6.621300220489502, -6.621300220489502, -6.621300220489502, -6.621300220489502, -6.621300220489502, -6.621300220489502, -6.621300220489502, -6.621300220489502, -6.621300220489502, -6.621300220489502, -6.621300220489502, -6.621300220489502, -6.621300220489502, -6.621300220489502, -6.621300220489502, -6.621300220489502, -6.621300220489502, -6.621300220489502, -6.621300220489502, -6.621300220489502]}, \"token.table\": {\"Topic\": [], \"Freq\": [], \"Term\": []}, \"R\": 30, \"lambda.step\": 0.01, \"plot.opts\": {\"xlab\": \"PC1\", \"ylab\": \"PC2\"}, \"topic.order\": [8, 3, 1, 5, 4, 7, 6, 2]};\n",
       "\n",
       "function LDAvis_load_lib(url, callback){\n",
       "  var s = document.createElement('script');\n",
       "  s.src = url;\n",
       "  s.async = true;\n",
       "  s.onreadystatechange = s.onload = callback;\n",
       "  s.onerror = function(){console.warn(\"failed to load library \" + url);};\n",
       "  document.getElementsByTagName(\"head\")[0].appendChild(s);\n",
       "}\n",
       "\n",
       "if(typeof(LDAvis) !== \"undefined\"){\n",
       "   // already loaded: just create the visualization\n",
       "   !function(LDAvis){\n",
       "       new LDAvis(\"#\" + \"ldavis_el38161398761834952085221853955\", ldavis_el38161398761834952085221853955_data);\n",
       "   }(LDAvis);\n",
       "}else if(typeof define === \"function\" && define.amd){\n",
       "   // require.js is available: use it to load d3/LDAvis\n",
       "   require.config({paths: {d3: \"https://cdnjs.cloudflare.com/ajax/libs/d3/3.5.5/d3.min\"}});\n",
       "   require([\"d3\"], function(d3){\n",
       "      window.d3 = d3;\n",
       "      LDAvis_load_lib(\"https://cdn.rawgit.com/bmabey/pyLDAvis/files/ldavis.v1.0.0.js\", function(){\n",
       "        new LDAvis(\"#\" + \"ldavis_el38161398761834952085221853955\", ldavis_el38161398761834952085221853955_data);\n",
       "      });\n",
       "    });\n",
       "}else{\n",
       "    // require.js not available: dynamically load d3 & LDAvis\n",
       "    LDAvis_load_lib(\"https://cdnjs.cloudflare.com/ajax/libs/d3/3.5.5/d3.min.js\", function(){\n",
       "         LDAvis_load_lib(\"https://cdn.rawgit.com/bmabey/pyLDAvis/files/ldavis.v1.0.0.js\", function(){\n",
       "                 new LDAvis(\"#\" + \"ldavis_el38161398761834952085221853955\", ldavis_el38161398761834952085221853955_data);\n",
       "            })\n",
       "         });\n",
       "}\n",
       "</script>"
      ],
      "text/plain": [
       "PreparedData(topic_coordinates=              x         y  topics  cluster       Freq\n",
       "topic                                                \n",
       "7      0.000180 -0.000321       1        1  46.039547\n",
       "2      0.002361 -0.001502       2        1  11.216197\n",
       "0     -0.007852 -0.008024       3        1  11.184631\n",
       "4     -0.000781 -0.000754       4        1   6.313434\n",
       "3     -0.005392  0.010787       5        1   6.312902\n",
       "6      0.011223 -0.000162       6        1   6.312178\n",
       "5      0.000131 -0.000012       7        1   6.310553\n",
       "1      0.000131 -0.000012       8        1   6.310553, topic_info=     Category     Freq          Term     Total  loglift  logprob\n",
       "term                                                            \n",
       "575   Default  0.00000         bratz  0.000000  30.0000  30.0000\n",
       "384   Default  0.00000    journalist  0.000000  29.0000  29.0000\n",
       "415   Default  0.00000       opalesc  0.000000  28.0000  28.0000\n",
       "406   Default  0.00000      fluctuat  0.000000  27.0000  27.0000\n",
       "293   Default  0.00000          bank  0.000000  26.0000  26.0000\n",
       "266   Default  0.00000        wonder  0.000000  25.0000  25.0000\n",
       "424   Default  0.00000           acm  0.000000  24.0000  24.0000\n",
       "425   Default  0.00000          cacm  0.000000  23.0000  23.0000\n",
       "388   Default  0.00000         organ  0.000000  22.0000  22.0000\n",
       "447   Default  0.00000       alabama  0.000000  21.0000  21.0000\n",
       "731   Default  0.00000           bug  0.000000  20.0000  20.0000\n",
       "381   Default  0.00000       freedom  0.000000  19.0000  19.0000\n",
       "389   Default  0.00000         press  0.000000  18.0000  18.0000\n",
       "750   Default  0.00000            vs  0.000000  17.0000  17.0000\n",
       "62    Default  0.00000          band  0.000000  16.0000  16.0000\n",
       "298   Default  0.00000         charg  0.000000  15.0000  15.0000\n",
       "316   Default  0.00000           hvb  0.000000  14.0000  14.0000\n",
       "328   Default  0.00000       mollath  0.000000  13.0000  13.0000\n",
       "461   Default  0.00000        johnni  0.000000  12.0000  12.0000\n",
       "454   Default  0.00000           cox  0.000000  11.0000  11.0000\n",
       "476   Default  0.00000  thunderpussi  0.000000  10.0000  10.0000\n",
       "457   Default  0.00000          erik  0.000000   9.0000   9.0000\n",
       "391   Default  0.00000       publish  0.000000   8.0000   8.0000\n",
       "413   Default  0.00000        liquid  0.000000   7.0000   7.0000\n",
       "416   Default  0.00000    phenomenon  0.000000   6.0000   6.0000\n",
       "41    Default  0.00000         album  0.000000   5.0000   5.0000\n",
       "204   Default  0.00000        record  0.000000   4.0000   4.0000\n",
       "357   Default  0.00000        annual  0.000000   3.0000   3.0000\n",
       "370   Default  0.00000      director  0.000000   2.0000   2.0000\n",
       "84    Default  0.00000        critic  0.000000   1.0000   1.0000\n",
       "...       ...      ...           ...       ...      ...      ...\n",
       "6      Topic8  0.00084       default  0.036458  -1.0070  -6.6212\n",
       "406    Topic8  0.00084      fluctuat  0.014931  -0.1142  -6.6212\n",
       "425    Topic8  0.00084          cacm  0.017768  -0.2882  -6.6212\n",
       "9      Topic8  0.00084         event  0.033721  -0.9289  -6.6212\n",
       "424    Topic8  0.00084           acm  0.017768  -0.2882  -6.6212\n",
       "14     Topic8  0.00084          loan  0.036457  -1.0070  -6.6212\n",
       "391    Topic8  0.00084       publish  0.016426  -0.2097  -6.6212\n",
       "731    Topic8  0.00084           bug  0.017119  -0.2511  -6.6212\n",
       "575    Topic8  0.00084         bratz  0.020891  -0.4502  -6.6213\n",
       "384    Topic8  0.00084    journalist  0.015659  -0.1619  -6.6213\n",
       "13     Topic8  0.00084        lender  0.024431  -0.6068  -6.6213\n",
       "415    Topic8  0.00084       opalesc  0.015436  -0.1476  -6.6213\n",
       "16     Topic8  0.00084        normal  0.021164  -0.4633  -6.6213\n",
       "293    Topic8  0.00084          bank  0.014881  -0.1110  -6.6213\n",
       "388    Topic8  0.00084         organ  0.014730  -0.1008  -6.6213\n",
       "84     Topic8  0.00084        critic  0.014206  -0.0647  -6.6213\n",
       "17     Topic8  0.00084        occurr  0.024430  -0.6068  -6.6213\n",
       "41     Topic8  0.00084         album  0.016239  -0.1984  -6.6213\n",
       "750    Topic8  0.00084            vs  0.016691  -0.2258  -6.6213\n",
       "328    Topic8  0.00084       mollath  0.014056  -0.0540  -6.6213\n",
       "447    Topic8  0.00084       alabama  0.014407  -0.0787  -6.6213\n",
       "416    Topic8  0.00084    phenomenon  0.013921  -0.0444  -6.6213\n",
       "389    Topic8  0.00084         press  0.014180  -0.0628  -6.6213\n",
       "62     Topic8  0.00084          band  0.016272  -0.2005  -6.6213\n",
       "2      Topic8  0.00084         allow  0.020862  -0.4489  -6.6213\n",
       "660    Topic8  0.00084           mga  0.015234  -0.1345  -6.6213\n",
       "437    Topic8  0.00084      research  0.014551  -0.0886  -6.6213\n",
       "204    Topic8  0.00084        record  0.016224  -0.1975  -6.6213\n",
       "19     Topic8  0.00084        revolv  0.016658  -0.2239  -6.6213\n",
       "383    Topic8  0.00084       journal  0.015068  -0.1236  -6.6213\n",
       "\n",
       "[375 rows x 6 columns], token_table=Empty DataFrame\n",
       "Columns: [Topic, Freq, Term]\n",
       "Index: [], R=30, lambda_step=0.01, plot_opts={'xlab': 'PC1', 'ylab': 'PC2'}, topic_order=[8, 3, 1, 5, 4, 7, 6, 2])"
      ]
     },
     "execution_count": 816,
     "metadata": {},
     "output_type": "execute_result"
    }
   ],
   "source": [
    "# Visualize the topics\n",
    "pyLDAvis.enable_notebook()\n",
    "vis = pyLDAvis.gensim.prepare(modelo[1], modelo[3],modelo[7])\n",
    "vis"
   ]
  },
  {
   "cell_type": "markdown",
   "metadata": {},
   "source": [
    "Finalmente fazendo a matriz de similaridade de acordo com o pacote Gensim, obtemos que:"
   ]
  },
  {
   "cell_type": "code",
   "execution_count": 872,
   "metadata": {},
   "outputs": [
    {
     "name": "stderr",
     "output_type": "stream",
     "text": [
      "WARNING:gensim.similarities.docsim:scanning corpus to determine the number of features (consider setting `num_features` explicitly)\n"
     ]
    },
    {
     "data": {
      "text/html": [
       "<div>\n",
       "<style scoped>\n",
       "    .dataframe tbody tr th:only-of-type {\n",
       "        vertical-align: middle;\n",
       "    }\n",
       "\n",
       "    .dataframe tbody tr th {\n",
       "        vertical-align: top;\n",
       "    }\n",
       "\n",
       "    .dataframe thead th {\n",
       "        text-align: right;\n",
       "    }\n",
       "</style>\n",
       "<table border=\"1\" class=\"dataframe\">\n",
       "  <thead>\n",
       "    <tr style=\"text-align: right;\">\n",
       "      <th></th>\n",
       "      <th>13340545</th>\n",
       "      <th>1199424</th>\n",
       "      <th>2092024</th>\n",
       "      <th>755408</th>\n",
       "      <th>1190581</th>\n",
       "      <th>291161</th>\n",
       "      <th>5670762</th>\n",
       "      <th>982464</th>\n",
       "      <th>230594</th>\n",
       "      <th>34510185</th>\n",
       "    </tr>\n",
       "  </thead>\n",
       "  <tbody>\n",
       "    <tr>\n",
       "      <th>13340545</th>\n",
       "      <td>1.000000</td>\n",
       "      <td>0.047941</td>\n",
       "      <td>0.055329</td>\n",
       "      <td>0.059935</td>\n",
       "      <td>0.063017</td>\n",
       "      <td>0.065685</td>\n",
       "      <td>0.056675</td>\n",
       "      <td>0.050433</td>\n",
       "      <td>0.054367</td>\n",
       "      <td>0.054821</td>\n",
       "    </tr>\n",
       "    <tr>\n",
       "      <th>1199424</th>\n",
       "      <td>0.047941</td>\n",
       "      <td>1.000000</td>\n",
       "      <td>0.029061</td>\n",
       "      <td>0.033144</td>\n",
       "      <td>0.035878</td>\n",
       "      <td>0.038239</td>\n",
       "      <td>0.030262</td>\n",
       "      <td>0.024734</td>\n",
       "      <td>0.028211</td>\n",
       "      <td>0.028595</td>\n",
       "    </tr>\n",
       "    <tr>\n",
       "      <th>2092024</th>\n",
       "      <td>0.055329</td>\n",
       "      <td>0.029061</td>\n",
       "      <td>1.000000</td>\n",
       "      <td>0.999948</td>\n",
       "      <td>0.042872</td>\n",
       "      <td>0.045311</td>\n",
       "      <td>0.037062</td>\n",
       "      <td>0.031339</td>\n",
       "      <td>0.034958</td>\n",
       "      <td>0.035332</td>\n",
       "    </tr>\n",
       "    <tr>\n",
       "      <th>755408</th>\n",
       "      <td>0.059935</td>\n",
       "      <td>0.033144</td>\n",
       "      <td>0.999948</td>\n",
       "      <td>1.000000</td>\n",
       "      <td>0.047231</td>\n",
       "      <td>0.049739</td>\n",
       "      <td>0.041305</td>\n",
       "      <td>0.035468</td>\n",
       "      <td>0.039179</td>\n",
       "      <td>0.039542</td>\n",
       "    </tr>\n",
       "    <tr>\n",
       "      <th>1190581</th>\n",
       "      <td>0.063017</td>\n",
       "      <td>0.035878</td>\n",
       "      <td>0.042872</td>\n",
       "      <td>0.047231</td>\n",
       "      <td>1.000000</td>\n",
       "      <td>0.052661</td>\n",
       "      <td>0.999902</td>\n",
       "      <td>0.038226</td>\n",
       "      <td>0.041968</td>\n",
       "      <td>0.042359</td>\n",
       "    </tr>\n",
       "    <tr>\n",
       "      <th>291161</th>\n",
       "      <td>0.065685</td>\n",
       "      <td>0.038239</td>\n",
       "      <td>0.045311</td>\n",
       "      <td>0.049739</td>\n",
       "      <td>0.052661</td>\n",
       "      <td>1.000000</td>\n",
       "      <td>0.046596</td>\n",
       "      <td>0.040616</td>\n",
       "      <td>0.999688</td>\n",
       "      <td>0.044794</td>\n",
       "    </tr>\n",
       "    <tr>\n",
       "      <th>5670762</th>\n",
       "      <td>0.056675</td>\n",
       "      <td>0.030262</td>\n",
       "      <td>0.037062</td>\n",
       "      <td>0.041305</td>\n",
       "      <td>0.999902</td>\n",
       "      <td>0.046596</td>\n",
       "      <td>1.000000</td>\n",
       "      <td>0.032555</td>\n",
       "      <td>0.036187</td>\n",
       "      <td>0.036577</td>\n",
       "    </tr>\n",
       "    <tr>\n",
       "      <th>982464</th>\n",
       "      <td>0.050433</td>\n",
       "      <td>0.024734</td>\n",
       "      <td>0.031339</td>\n",
       "      <td>0.035468</td>\n",
       "      <td>0.038226</td>\n",
       "      <td>0.040616</td>\n",
       "      <td>0.032555</td>\n",
       "      <td>1.000000</td>\n",
       "      <td>0.030518</td>\n",
       "      <td>0.999954</td>\n",
       "    </tr>\n",
       "    <tr>\n",
       "      <th>230594</th>\n",
       "      <td>0.054367</td>\n",
       "      <td>0.028211</td>\n",
       "      <td>0.034958</td>\n",
       "      <td>0.039179</td>\n",
       "      <td>0.041968</td>\n",
       "      <td>0.999688</td>\n",
       "      <td>0.036187</td>\n",
       "      <td>0.030518</td>\n",
       "      <td>1.000000</td>\n",
       "      <td>0.034498</td>\n",
       "    </tr>\n",
       "    <tr>\n",
       "      <th>34510185</th>\n",
       "      <td>0.054821</td>\n",
       "      <td>0.028595</td>\n",
       "      <td>0.035332</td>\n",
       "      <td>0.039542</td>\n",
       "      <td>0.042359</td>\n",
       "      <td>0.044794</td>\n",
       "      <td>0.036577</td>\n",
       "      <td>0.999954</td>\n",
       "      <td>0.034498</td>\n",
       "      <td>1.000000</td>\n",
       "    </tr>\n",
       "  </tbody>\n",
       "</table>\n",
       "</div>"
      ],
      "text/plain": [
       "          13340545  1199424   2092024   755408    1190581   291161    \\\n",
       "13340545  1.000000  0.047941  0.055329  0.059935  0.063017  0.065685   \n",
       "1199424   0.047941  1.000000  0.029061  0.033144  0.035878  0.038239   \n",
       "2092024   0.055329  0.029061  1.000000  0.999948  0.042872  0.045311   \n",
       "755408    0.059935  0.033144  0.999948  1.000000  0.047231  0.049739   \n",
       "1190581   0.063017  0.035878  0.042872  0.047231  1.000000  0.052661   \n",
       "291161    0.065685  0.038239  0.045311  0.049739  0.052661  1.000000   \n",
       "5670762   0.056675  0.030262  0.037062  0.041305  0.999902  0.046596   \n",
       "982464    0.050433  0.024734  0.031339  0.035468  0.038226  0.040616   \n",
       "230594    0.054367  0.028211  0.034958  0.039179  0.041968  0.999688   \n",
       "34510185  0.054821  0.028595  0.035332  0.039542  0.042359  0.044794   \n",
       "\n",
       "          5670762   982464    230594    34510185  \n",
       "13340545  0.056675  0.050433  0.054367  0.054821  \n",
       "1199424   0.030262  0.024734  0.028211  0.028595  \n",
       "2092024   0.037062  0.031339  0.034958  0.035332  \n",
       "755408    0.041305  0.035468  0.039179  0.039542  \n",
       "1190581   0.999902  0.038226  0.041968  0.042359  \n",
       "291161    0.046596  0.040616  0.999688  0.044794  \n",
       "5670762   1.000000  0.032555  0.036187  0.036577  \n",
       "982464    0.032555  1.000000  0.030518  0.999954  \n",
       "230594    0.036187  0.030518  1.000000  0.034498  \n",
       "34510185  0.036577  0.999954  0.034498  1.000000  "
      ]
     },
     "execution_count": 872,
     "metadata": {},
     "output_type": "execute_result"
    }
   ],
   "source": [
    "fonte = similarities.MatrixSimilarity(modelo[3])\n",
    "fonte = list(fonte)\n",
    "head = list(corpusteste.id)\n",
    "fonte.insert(0,np.array(head))\n",
    "\n",
    "\n",
    "pd.DataFrame(fonte[1:],index=np.array(head),columns=np.array(head))"
   ]
  },
  {
   "cell_type": "markdown",
   "metadata": {},
   "source": [
    "### (Questão 3) Word2vec\n",
    "\n",
    "<ul>\n",
    "    <li>Ainda usando a biblioteca Gensim, construa uma representaçao vetorial semântica (Word2vec) do seu corpus de escolha. Podem seguir este tutorial <a href=\"https://rare-technologies.com/word2vec-tutorial/\">https://rare-technologies.com/word2vec-tutorial/</a></li>\n",
    "    <li>Construa uma representaçao similar usando <a href=\"https://radimrehurek.com/gensim/models/fasttext.html#gensim.models.fasttext.FastText\">FastText</a>. Veja este <a href=\"https://github.com/RaRe-Technologies/gensim/blob/develop/docs/notebooks/FastText_Tutorial.ipynb\">Tutorial</a></li>\n",
    "</ul>"
   ]
  },
  {
   "cell_type": "markdown",
   "metadata": {},
   "source": [
    "Vamos inicialmente utilizar o exemplo do exercício anterior para analisar a interpretação do Word2vec."
   ]
  },
  {
   "cell_type": "code",
   "execution_count": 882,
   "metadata": {},
   "outputs": [
    {
     "data": {
      "text/plain": [
       "0     Event of default  Event of default is a term ...\n",
       "1     Hotter than July  Hotter than July is the nin...\n",
       "2     HypoVereinsbank  UniCredit Bank Aktiengesells...\n",
       "3     Committee to Protect Journalists  The Committ...\n",
       "4     Critical opalescence  Critical opalescence is...\n",
       "5     Communications of the ACM  Communications of ...\n",
       "6     Alabama Thunderpussy  Alabama Thunderpussy, o...\n",
       "7     12 Stones  12 Stones is an American Christian...\n",
       "8     Bratz  Bratz is an American line of fashion d...\n",
       "9     Monster Bug Wars  Monster Bug Wars is a natur...\n",
       "Name: content, dtype: object"
      ]
     },
     "execution_count": 882,
     "metadata": {},
     "output_type": "execute_result"
    }
   ],
   "source": [
    "txt"
   ]
  },
  {
   "cell_type": "code",
   "execution_count": 902,
   "metadata": {},
   "outputs": [],
   "source": [
    "def W2V(txt):\n",
    "    \n",
    "    try:\n",
    "        os.remove(\"corpusWikiW2V.mm\")\n",
    "        os.remove(\"corpusWikiW2V.mm.index\")\n",
    "        os.remove(\"vocabularioW2V.dict\")\n",
    "    except:\n",
    "        print(\" \")\n",
    "    \n",
    "    logging.basicConfig(format='%(asctime)s : %(levelname)s : %(message)s', level=logging.INFO)\n",
    "    #________________________________________________________________________________________________________\n",
    "    #Incializando vetores:\n",
    "    txtClean = []\n",
    "    c = Counter([])\n",
    "    \n",
    "    #Loop:\n",
    "    for texto in txt:\n",
    "        aux = [stemmer.stem(token.strip(punctuation).lower()) for token in WordPunctTokenizer().tokenize(texto) if token not in swu]\n",
    "        c.update(aux)\n",
    "        txtClean.append(aux)\n",
    "    txtClean = [[token for token in t if c[token]>1] for t in txtClean]\n",
    "    \n",
    "    #________________________________________________________________________________________________________\n",
    "\n",
    "    #Gerando dicionário:\n",
    "    dicionario = corpora.Dictionary(txtClean)\n",
    "    dicionario.save('vocabularioW2V.dict')\n",
    "    \n",
    "    #________________________________________________________________________________________________________\n",
    "    #Gerando as frequências:\n",
    "    corpus = [dicionario.doc2bow(d) for d in txtClean]\n",
    "    corpora.MmCorpus.serialize('corpusWikiW2V.mm', corpus)\n",
    "    \n",
    "    #________________________________________________________________________________________________________\n",
    "    #TF-IDF:\n",
    "    mod_tfidf = models.TfidfModel(corpus)\n",
    "    corpus_tfidf = mod_tfidf[corpus]\n",
    "    #W2V:\n",
    "    mod_w2v = models.Word2Vec(txtClean, min_count=1)\n",
    "#     corpus_w2v = mod_w2v[txtClean]\n",
    "          \n",
    "#     return [mod_w2v,corpus_w2v,dicionario]\n",
    "    return mod_w2v"
   ]
  },
  {
   "cell_type": "code",
   "execution_count": 913,
   "metadata": {},
   "outputs": [
    {
     "name": "stderr",
     "output_type": "stream",
     "text": [
      "WARNING:gensim.models.base_any2vec:under 10 jobs per worker: consider setting a smaller `batch_words' for smoother alpha decay\n"
     ]
    },
    {
     "name": "stdout",
     "output_type": "stream",
     "text": [
      "Word2Vec(vocab=751, size=100, alpha=0.025)\n"
     ]
    }
   ],
   "source": [
    "vetor = W2V(txt)\n",
    "print(vetor)"
   ]
  },
  {
   "cell_type": "code",
   "execution_count": 919,
   "metadata": {},
   "outputs": [
    {
     "name": "stderr",
     "output_type": "stream",
     "text": [
      "/home/novais/anaconda3/lib/python3.7/site-packages/ipykernel_launcher.py:1: DeprecationWarning: Call to deprecated `n_similarity` (Method will be removed in 4.0.0, use self.wv.n_similarity() instead).\n",
      "  \"\"\"Entry point for launching an IPython kernel.\n"
     ]
    },
    {
     "data": {
      "text/plain": [
       "0.03702873"
      ]
     },
     "execution_count": 919,
     "metadata": {},
     "output_type": "execute_result"
    }
   ],
   "source": [
    "vetor.n_similarity([\"bank\",\"loan\"], [\"default\"])"
   ]
  },
  {
   "cell_type": "code",
   "execution_count": null,
   "metadata": {},
   "outputs": [],
   "source": []
  }
 ],
 "metadata": {
  "kernelspec": {
   "display_name": "Python 3",
   "language": "python",
   "name": "python3"
  },
  "language_info": {
   "codemirror_mode": {
    "name": "ipython",
    "version": 3
   },
   "file_extension": ".py",
   "mimetype": "text/x-python",
   "name": "python",
   "nbconvert_exporter": "python",
   "pygments_lexer": "ipython3",
   "version": "3.7.3"
  }
 },
 "nbformat": 4,
 "nbformat_minor": 2
}
