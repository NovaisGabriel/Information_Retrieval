{
 "cells": [
  {
   "cell_type": "markdown",
   "metadata": {},
   "source": [
    "<h1 align=\"center\">Sistema de Recuperação de Informações</h1>\n",
    "\n",
    "<h2 align=\"center\"> Lista de Exercícios 2 </h2>\n",
    "\n",
    "<h3 align=\"center\"> Gabriel Lima Novais</h3>\n",
    "\n",
    "___"
   ]
  },
  {
   "cell_type": "markdown",
   "metadata": {},
   "source": [
    "Todos os exercícios requerem uma implementação funcional do problema, no corpo do notebook. Para cada exercício consultas de teste devem ser propostas para demonstrar que a implementação atende aos requisitos do exercício.\n",
    "As resposta devem ser enviadas como um notebook (.ipynb) para o professor."
   ]
  },
  {
   "cell_type": "markdown",
   "metadata": {},
   "source": [
    "### 1. Importando pacotes"
   ]
  },
  {
   "cell_type": "code",
   "execution_count": 88,
   "metadata": {},
   "outputs": [],
   "source": [
    "import numpy as np\n",
    "import pandas as pd\n",
    "import os\n",
    "import re\n",
    "import whoosh\n",
    "import nltk\n",
    "import string\n",
    "import matplotlib.pyplot as plt\n",
    "import enchant\n",
    "\n",
    "from nltk.corpus import machado, mac_morpho,stopwords\n",
    "from nltk.tokenize import WordPunctTokenizer\n",
    "from nltk.corpus import stopwords\n",
    "from nltk.stem.snowball import SnowballStemmer,PortugueseStemmer\n",
    "from whoosh.index import create_in, open_dir\n",
    "from whoosh.fields import *\n",
    "from whoosh import qparser\n",
    "from whoosh.qparser import QueryParser\n",
    "from collections import defaultdict,Counter\n",
    "from math import log\n",
    "from sklearn.feature_extraction.text import TfidfVectorizer\n",
    "from gensim import corpora, models, similarities\n",
    "from numpy.linalg import norm\n",
    "from gensim import corpora, models, similarities\n",
    "from string import punctuation\n",
    "\n",
    "\n",
    "%matplotlib inline"
   ]
  },
  {
   "cell_type": "markdown",
   "metadata": {},
   "source": [
    "### 2. Configurando Corpus"
   ]
  },
  {
   "cell_type": "code",
   "execution_count": 2,
   "metadata": {},
   "outputs": [
    {
     "name": "stderr",
     "output_type": "stream",
     "text": [
      "[nltk_data] Downloading package stopwords to /home/novais/nltk_data...\n",
      "[nltk_data]   Package stopwords is already up-to-date!\n",
      "[nltk_data] Downloading package machado to /home/novais/nltk_data...\n",
      "[nltk_data]   Package machado is already up-to-date!\n"
     ]
    },
    {
     "name": "stdout",
     "output_type": "stream",
     "text": [
      "246 textos na coleção\n",
      "66169 palavras únicas na coleção\n"
     ]
    }
   ],
   "source": [
    "nltk.download('stopwords')\n",
    "nltk.download('machado')\n",
    "#Organizando os textos do Machado\n",
    "textos = [machado.raw(id) for id in machado.fileids()]\n",
    "tok_textos = [WordPunctTokenizer().tokenize(t.lower()) for t in textos]\n",
    "len(set(tok_textos[0]))\n",
    "# Gerando vocabulário de palavras únicas de todos os textos\n",
    "vocab = set([])\n",
    "for t in tok_textos:\n",
    "    vocab = vocab.union(set(t))\n",
    "vocab = map(lambda x:x.lower(),vocab)\n",
    "vocab = list(set(vocab))\n",
    "vocab[:3]\n",
    "# Gerando coleção de textos\n",
    "T = nltk.TextCollection(tok_textos)\n",
    "print(str(len(tok_textos)) + ' textos na coleção')\n",
    "print(str(len(vocab)) + ' palavras únicas na coleção')"
   ]
  },
  {
   "cell_type": "markdown",
   "metadata": {},
   "source": [
    "### Exercício 1: Similaridade por Cosseno.\n",
    "\n",
    "Com base na metodologia apresentada na Prática 2, usando o corpus de Machado, Construa vetorizações, binárias, por frequência e por tf-idf. Compare a ordenação dos resultados para uma consulta qualquer, com pelo menos 3 palavras. Para a ordenação dos resultados, use o cosseno entre os vetores da consulta e dos documentos."
   ]
  },
  {
   "cell_type": "code",
   "execution_count": 32,
   "metadata": {},
   "outputs": [],
   "source": [
    "def freq(tok_textos,queryt):\n",
    "    #Valores de sequência sobre a consulta:\n",
    "    binary_matrix = np.zeros((len(tok_textos),len(queryt))) # Frequência binária\n",
    "    tf_matrix = np.zeros((len(tok_textos),len(queryt))) # Frequência no texto\n",
    "    tfidf_matrix = np.zeros((len(tok_textos),len(queryt))) # Frequência por tf_idf\n",
    "    #Matrizes:\n",
    "    for j, termo in enumerate(queryt):\n",
    "        for i, texto in enumerate(tok_textos):\n",
    "            tfidf_matrix[i,j] = T.tf_idf(termo,texto)\n",
    "            tf_matrix[i,j] = T.tf(termo,texto)\n",
    "            if tf_matrix[i,j] > 0:\n",
    "                binary_matrix[i,j] = 1\n",
    "    tfidfM = tfidf_matrix\n",
    "    tfM = tf_matrix\n",
    "    bM = binary_matrix\n",
    "    return [bM,tfM,tfidfM]"
   ]
  },
  {
   "cell_type": "code",
   "execution_count": 6,
   "metadata": {},
   "outputs": [],
   "source": [
    "def ordem(q,MN):\n",
    "    return [np.dot(q,r) for r in MN]"
   ]
  },
  {
   "cell_type": "code",
   "execution_count": 7,
   "metadata": {},
   "outputs": [],
   "source": [
    "def normalizaMatriz(matrix):\n",
    "    aux = []\n",
    "    for r in matrix:\n",
    "        if np.linalg.norm(r) !=0:\n",
    "            aux.append(r/np.linalg.norm(r))\n",
    "        else:\n",
    "            aux.append(np.zeros(len(r)))\n",
    "    return np.array(aux)"
   ]
  },
  {
   "cell_type": "code",
   "execution_count": 8,
   "metadata": {},
   "outputs": [],
   "source": [
    "def construct(qt,matrix):\n",
    "    vet = np.array([T.tf_idf(w,qt) for w in qt])\n",
    "    vet = vet/np.linalg.norm(vet)\n",
    "    ans = ordem(vet,matrix)\n",
    "    return ans"
   ]
  },
  {
   "cell_type": "code",
   "execution_count": 9,
   "metadata": {},
   "outputs": [],
   "source": [
    "def filtering(v,tok):\n",
    "    aux = filter(lambda x : x[0]!=0.0, zip(v,range(len(tok))))\n",
    "    aux = sorted(aux, reverse=True)\n",
    "    return aux "
   ]
  },
  {
   "cell_type": "code",
   "execution_count": 74,
   "metadata": {},
   "outputs": [],
   "source": [
    "def plotVector(tk,qt,matrix,h,w,docs):\n",
    "    #Transformações:\n",
    "    m = normalizaMatriz(matrix)\n",
    "    vetor1 = construct(qt,m)\n",
    "    vetor2 = filtering(vetor1,tk)\n",
    "    #Configurações Iniciais:\n",
    "    fig = plt.figure(figsize=(h,w))\n",
    "    ax = plt.gca()\n",
    "    vecs = [vetor1[:2]]\n",
    "    #loop:\n",
    "    for d in vetor2[:docs]:\n",
    "        vecs.append(m[d[1]][:2])\n",
    "        x,y = m[d[1]][:2]\n",
    "        plt.text(x,y,'{}'.format(d[1]))\n",
    "    U, V = zip(*vecs)\n",
    "    x,y = np.zeros(docs+1), np.zeros(docs+1)\n",
    "    plt.text(U[0],V[0],'consulta')\n",
    "    #Configurações Finais:\n",
    "    plt.grid()\n",
    "    ax.set_xlim(0,1)\n",
    "    ax.set_ylim(0,1)\n",
    "    ax.set_xlabel('lamartine')\n",
    "    ax.set_ylabel('elixir')\n",
    "    ax.quiver(x,y,U,V,angles='xy',scale_units='xy', scale=1.0);\n",
    "    return plt.show()"
   ]
  },
  {
   "cell_type": "code",
   "execution_count": 83,
   "metadata": {},
   "outputs": [],
   "source": [
    "#Query:\n",
    "query = \"lamartine elixir harpa\"\n",
    "queryt = WordPunctTokenizer().tokenize(query.lower())"
   ]
  },
  {
   "cell_type": "code",
   "execution_count": 84,
   "metadata": {},
   "outputs": [],
   "source": [
    "#Matrizes:\n",
    "M = freq(tok_textos,queryt)"
   ]
  },
  {
   "cell_type": "code",
   "execution_count": 85,
   "metadata": {},
   "outputs": [
    {
     "name": "stdout",
     "output_type": "stream",
     "text": [
      "Binary: \n",
      "\n",
      "[[1. 1. 1.]\n",
      " [0. 0. 0.]\n",
      " [0. 0. 0.]\n",
      " [0. 0. 0.]\n",
      " [1. 0. 1.]\n",
      " [0. 0. 0.]\n",
      " [0. 0. 0.]\n",
      " [0. 0. 0.]\n",
      " [0. 0. 0.]\n",
      " [0. 0. 0.]]\n",
      "\n",
      "TF: \n",
      "\n",
      "[[1.43837291e-05 2.87674583e-05 1.43837291e-05]\n",
      " [0.00000000e+00 0.00000000e+00 0.00000000e+00]\n",
      " [0.00000000e+00 0.00000000e+00 0.00000000e+00]\n",
      " [0.00000000e+00 0.00000000e+00 0.00000000e+00]\n",
      " [1.78846085e-05 0.00000000e+00 1.78846085e-05]\n",
      " [0.00000000e+00 0.00000000e+00 0.00000000e+00]\n",
      " [0.00000000e+00 0.00000000e+00 0.00000000e+00]\n",
      " [0.00000000e+00 0.00000000e+00 0.00000000e+00]\n",
      " [0.00000000e+00 0.00000000e+00 0.00000000e+00]\n",
      " [0.00000000e+00 0.00000000e+00 0.00000000e+00]]\n",
      "\n",
      "TFIDF: \n",
      "\n",
      "[[4.34449734e-05 9.51658288e-05 4.12277118e-05]\n",
      " [0.00000000e+00 0.00000000e+00 0.00000000e+00]\n",
      " [0.00000000e+00 0.00000000e+00 0.00000000e+00]\n",
      " [0.00000000e+00 0.00000000e+00 0.00000000e+00]\n",
      " [5.40191166e-05 0.00000000e+00 5.12621921e-05]\n",
      " [0.00000000e+00 0.00000000e+00 0.00000000e+00]\n",
      " [0.00000000e+00 0.00000000e+00 0.00000000e+00]\n",
      " [0.00000000e+00 0.00000000e+00 0.00000000e+00]\n",
      " [0.00000000e+00 0.00000000e+00 0.00000000e+00]\n",
      " [0.00000000e+00 0.00000000e+00 0.00000000e+00]]\n"
     ]
    }
   ],
   "source": [
    "print(\"Binary: \\n\\n\"+str(M[0][0:10]))\n",
    "print('')\n",
    "print(\"TF: \\n\\n\"+str(M[1][0:10]))\n",
    "print('')\n",
    "print(\"TFIDF: \\n\\n\"+str(M[2][0:10]))"
   ]
  },
  {
   "cell_type": "code",
   "execution_count": 86,
   "metadata": {},
   "outputs": [
    {
     "name": "stdout",
     "output_type": "stream",
     "text": [
      "(0.9435141616147088, 0.72549778131188, 0.38636877110285245, 0.7253746092876421) (0.0, 0.5959486701225939, 0.8463373654036943, 0.0)\n"
     ]
    },
    {
     "data": {
      "image/png": "[encoded data removed]",
      "text/plain": [
       "<Figure size 288x216 with 1 Axes>"
      ]
     },
     "metadata": {
      "needs_background": "light"
     },
     "output_type": "display_data"
    }
   ],
   "source": [
    "# Vetorização Binária\n",
    "##plotVector(tok_textos,queryt,M[0],4,3,3)\n",
    "# Vetorização tf\n",
    "##plotVector(tok_textos,queryt,M[1],4,3,3)\n",
    "# Vetorização tf_idf\n",
    "plotVector(tok_textos,queryt,M[2],4,3,3)"
   ]
  },
  {
   "cell_type": "markdown",
   "metadata": {},
   "source": [
    "### Exercício 2: Explorando o conceito de similaridade\n",
    "Construa uma matriz de similaridade (cossenos entre vetores de frequência) entre todos os textos de machado. Construa um histograma com os valores de similaridade, excluindo os 0s e 1s. Interprete."
   ]
  },
  {
   "cell_type": "code",
   "execution_count": 49,
   "metadata": {},
   "outputs": [],
   "source": [
    "def palavrasUnicas(txt):\n",
    "    vetor = TfidfVectorizer(min_df=1)\n",
    "    tfidf = vetor.fit_transform(txt)\n",
    "    matriz = (tfidf * tfidf.T).A\n",
    "    plt.hist(matriz)          \n",
    "    plt.title(\"Similaridade\")\n",
    "    plt.xlabel(\"Cos\")\n",
    "    plt.ylabel(\"Frequência\")\n",
    "    return plt.show"
   ]
  },
  {
   "cell_type": "code",
   "execution_count": 50,
   "metadata": {},
   "outputs": [
    {
     "data": {
      "text/plain": [
       "<function matplotlib.pyplot.show(*args, **kw)>"
      ]
     },
     "execution_count": 50,
     "metadata": {},
     "output_type": "execute_result"
    },
    {
     "data": {
      "image/png": "[encoded data removed]",
      "text/plain": [
       "<Figure size 432x288 with 1 Axes>"
      ]
     },
     "metadata": {
      "needs_background": "light"
     },
     "output_type": "display_data"
    }
   ],
   "source": [
    "palavrasUnicas(textos)"
   ]
  },
  {
   "cell_type": "markdown",
   "metadata": {},
   "source": [
    "###  Exercício 3: Usando o Gensim\n",
    "Instale o Gensim, se ainda não o tiver. Seguindo o início deste tutorial: https://radimrehurek.com/gensim/tut2.html, construa um corpus usando as classes do Gensim, mas com os textos de Machado."
   ]
  },
  {
   "cell_type": "code",
   "execution_count": 107,
   "metadata": {},
   "outputs": [],
   "source": [
    "def frequenciaDict(txt):\n",
    "    #Configurações iniciais:\n",
    "    sw = stopwords.words('portuguese')+ list(punctuation)\n",
    "    stemmer = PortugueseStemmer()\n",
    "    #Incializando vetores:\n",
    "    txtClean = []\n",
    "    c = Counter([])\n",
    "    #Loop:\n",
    "    for texto in txt:\n",
    "        aux = [stemmer.stem(token.strip(punctuation).lower()) for token in WordPunctTokenizer().tokenize(texto) if token not in sw]\n",
    "        c.update(aux)\n",
    "        txtClean.append(aux)\n",
    "    txtClean = [[token for token in t if c[token]>1] for t in txtClean]\n",
    "    #Gerando dicionário:\n",
    "    dicionario = corpora.Dictionary(txtClean)\n",
    "    dicionario.save('vocabulario.dict')\n",
    "    #Gerando as frequências:\n",
    "    corpus = [dicionario.doc2bow(d) for d in txtClean]\n",
    "    corpora.MmCorpus.serialize('machado.mm', corpus)\n",
    "    return [txtClean,corpus,dicionario]"
   ]
  },
  {
   "cell_type": "code",
   "execution_count": 108,
   "metadata": {},
   "outputs": [
    {
     "name": "stdout",
     "output_type": "stream",
     "text": [
      "[(0, 423), (1, 1), (2, 1), (3, 1), (4, 2)]\n"
     ]
    }
   ],
   "source": [
    "corpus = frequenciaDict(textos)[1]\n",
    "corpus = corpus[0]\n",
    "print(corpus[0:5])"
   ]
  },
  {
   "cell_type": "markdown",
   "metadata": {},
   "source": [
    "###  Exercício 4: Indexação Semântica Latente.\n",
    "Ainda seguindo o tutorial citado no exercício anterior, ajuste um modelo LSI para os documentos de machado. Interprete os resultados."
   ]
  },
  {
   "cell_type": "code",
   "execution_count": 119,
   "metadata": {},
   "outputs": [],
   "source": [
    "def modelos(txt):\n",
    "     # Construção do modelo TF-IDF\n",
    "    mod_tfidf = models.TfidfModel(frequenciaDict(txt)[1])\n",
    "    corpus_tfidf = mod_tfidf[frequenciaDict(txt)[1]]\n",
    "    d = frequenciaDict(txt)[2]\n",
    "    mod_lsi = models.LsiModel(corpus_tfidf, id2word=d, num_topics=300)\n",
    "    corpus_lsi = mod_lsi[corpus_tfidf]\n",
    "    return [corpus_lsi,mod_lsi]"
   ]
  },
  {
   "cell_type": "code",
   "execution_count": 120,
   "metadata": {},
   "outputs": [],
   "source": [
    "model = modelos(textos)"
   ]
  },
  {
   "cell_type": "code",
   "execution_count": 122,
   "metadata": {},
   "outputs": [
    {
     "data": {
      "text/plain": [
       "[(0, 0.35961137847669294),\n",
       " (1, 0.23767862088702985),\n",
       " (2, 0.19475060305226297),\n",
       " (3, -0.009978592385489857),\n",
       " (4, 0.07295461286426617),\n",
       " (5, -0.15044692856725775),\n",
       " (6, 0.01710345347874277),\n",
       " (7, -0.238324001847356),\n",
       " (8, 0.16466105825324204),\n",
       " (9, -0.06661538679213616)]"
      ]
     },
     "execution_count": 122,
     "metadata": {},
     "output_type": "execute_result"
    }
   ],
   "source": [
    "model[0][0][:10]"
   ]
  },
  {
   "cell_type": "code",
   "execution_count": 127,
   "metadata": {},
   "outputs": [
    {
     "data": {
      "text/plain": [
       "[(0,\n",
       "  '0.302*\"\\x97\" + 0.109*\"sr\" + 0.094*\"poet\" + 0.085*\"luís\" + 0.065*\"crític\" + 0.065*\"camil\" + 0.064*\"\\x93\" + 0.062*\"vers\" + 0.059*\"d\" + 0.059*\"jos\"'),\n",
       " (1,\n",
       "  '0.385*\"\\x97\" + -0.154*\"sr\" + -0.150*\"crític\" + 0.144*\"luís\" + -0.137*\"poet\" + -0.131*\"dramát\" + -0.120*\"alenc\" + 0.103*\"camil\" + -0.101*\"autor\" + -0.100*\"poes\"'),\n",
       " (2,\n",
       "  '0.307*\"luís\" + -0.241*\"henriquet\" + 0.142*\"daniel\" + 0.138*\"jorg\" + 0.137*\"marcelin\" + 0.132*\"tit\" + 0.130*\"carlot\" + 0.129*\"poet\" + 0.128*\"cecíl\" + 0.127*\"alves\"'),\n",
       " (3,\n",
       "  '0.797*\"henriquet\" + 0.308*\"juliã\" + 0.155*\"renan\" + 0.090*\"fernandinh\" + 0.081*\"elis\" + 0.081*\"pimentel\" + 0.081*\"veig\" + 0.069*\"jorg\" + 0.060*\"dramát\" + 0.058*\"crític\"'),\n",
       " (4,\n",
       "  '0.566*\"cecíl\" + -0.434*\"luís\" + -0.185*\"alves\" + -0.145*\"camil\" + 0.121*\"venânci\" + -0.117*\"albert\" + 0.113*\"carlot\" + 0.111*\"magalhã\" + -0.110*\"major\" + 0.106*\"tibúrci\"'),\n",
       " (5,\n",
       "  '0.388*\"cecíl\" + -0.291*\"tit\" + -0.203*\"daniel\" + -0.157*\"poet\" + -0.127*\"emíl\" + 0.120*\"jorg\" + 0.101*\"dramát\" + -0.095*\"vers\" + -0.095*\"henriquet\" + -0.094*\"poes\"'),\n",
       " (6,\n",
       "  '0.526*\"daniel\" + 0.315*\"elis\" + -0.230*\"cecíl\" + -0.184*\"luís\" + 0.173*\"valad\" + -0.138*\"tit\" + 0.126*\"valentim\" + 0.124*\"august\" + 0.111*\"carlot\" + 0.108*\"jorg\"'),\n",
       " (7,\n",
       "  '0.426*\"daniel\" + -0.366*\"tit\" + -0.282*\"emíl\" + -0.228*\"carlot\" + -0.226*\"valentim\" + 0.166*\"luís\" + -0.139*\"romuald\" + -0.138*\"vicent\" + 0.125*\"valad\" + 0.110*\"cecíl\"'),\n",
       " (8,\n",
       "  '-0.390*\"carlot\" + 0.380*\"tit\" + -0.289*\"romuald\" + 0.226*\"cecíl\" + 0.201*\"daniel\" + 0.154*\"emíl\" + -0.148*\"venânci\" + -0.138*\"oliveir\" + 0.131*\"luís\" + -0.121*\"fernand\"'),\n",
       " (9,\n",
       "  '-0.329*\"camil\" + 0.298*\"carlot\" + -0.259*\"jorg\" + 0.231*\"luís\" + 0.198*\"marcelin\" + 0.197*\"romuald\" + 0.145*\"alves\" + 0.143*\"venânci\" + 0.137*\"cecíl\" + -0.135*\"clarinh\"')]"
      ]
     },
     "execution_count": 127,
     "metadata": {},
     "output_type": "execute_result"
    }
   ],
   "source": [
    "model[1].print_topics(10)"
   ]
  },
  {
   "cell_type": "markdown",
   "metadata": {},
   "source": [
    "<p align=\"center\">Podemos observar que para cada tupla apresentada acima cada palavra possui um nível de correlação com outras palavras do corpus. Ou seja, para a palvra de índice 9 , temos que os termos \"camil\" e \"carlot\" apresentam em módulo uma relação forte, mas em termos absolutos tais relações são em sentidos contrários. A existência de símbolos e outros caracteres que não representam radicais de palavras ou sentido na língua podem mostrar a necessidade de uma limpeza melhor no corpus.</p>"
   ]
  },
  {
   "cell_type": "markdown",
   "metadata": {},
   "source": [
    "#### FIM"
   ]
  }
 ],
 "metadata": {
  "kernelspec": {
   "display_name": "Python 3",
   "language": "python",
   "name": "python3"
  },
  "language_info": {
   "codemirror_mode": {
    "name": "ipython",
    "version": 3
   },
   "file_extension": ".py",
   "mimetype": "text/x-python",
   "name": "python",
   "nbconvert_exporter": "python",
   "pygments_lexer": "ipython3",
   "version": "3.7.3"
  }
 },
 "nbformat": 4,
 "nbformat_minor": 2
}
